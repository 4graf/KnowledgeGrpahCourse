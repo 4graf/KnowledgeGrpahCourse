{
  "nbformat": 4,
  "nbformat_minor": 0,
  "metadata": {
    "colab": {
      "name": "DistanceToLoc.ipynb",
      "provenance": [],
      "collapsed_sections": [],
      "authorship_tag": "ABX9TyPpKI5KyQNv4zFqQhsK0NsE",
      "include_colab_link": true
    },
    "kernelspec": {
      "name": "python3",
      "display_name": "Python 3"
    },
    "language_info": {
      "name": "python"
    }
  },
  "cells": [
    {
      "cell_type": "markdown",
      "metadata": {
        "id": "view-in-github",
        "colab_type": "text"
      },
      "source": [
        "<a href=\"https://colab.research.google.com/github/eshchkate/KnowledgeGrpahCourse/blob/master/DistanceToLoc.ipynb\" target=\"_parent\"><img src=\"https://colab.research.google.com/assets/colab-badge.svg\" alt=\"Open In Colab\"/></a>"
      ]
    },
    {
      "cell_type": "code",
      "metadata": {
        "id": "WRsGuMSapRGV"
      },
      "source": [
        "import pandas as pd"
      ],
      "execution_count": null,
      "outputs": []
    },
    {
      "cell_type": "markdown",
      "metadata": {
        "id": "ut-wx4t3UQ6t"
      },
      "source": [
        "Загружаем сформированный файлик .csv"
      ]
    },
    {
      "cell_type": "code",
      "metadata": {
        "id": "qa6D1R9QTy9_"
      },
      "source": [
        "df = pd.DataFrame(pd.read_csv(\"offers.csv\"))\n",
        "df.drop(['Unnamed: 0'], axis='columns', inplace=True)"
      ],
      "execution_count": null,
      "outputs": []
    },
    {
      "cell_type": "markdown",
      "metadata": {
        "id": "YvGbTUK9LuMh"
      },
      "source": [
        "Вытаскиваем адреса"
      ]
    },
    {
      "cell_type": "code",
      "metadata": {
        "colab": {
          "base_uri": "https://localhost:8080/"
        },
        "id": "B7FCBx6IT4gh",
        "outputId": "29ee0047-7c67-4d1b-dfb0-23ac1f7f8683"
      },
      "source": [
        "addres = df['Адрес'] \n",
        "addres "
      ],
      "execution_count": null,
      "outputs": [
        {
          "output_type": "execute_result",
          "data": {
            "text/plain": [
              "0             Санкт-Петербург, Социалистическая улица, 21\n",
              "1                       Санкт-Петербург, улица Салова, 61\n",
              "2                       Санкт-Петербург, улица Салова, 61\n",
              "3                       Санкт-Петербург, улица Салова, 61\n",
              "4                       Санкт-Петербург, улица Салова, 61\n",
              "                              ...                        \n",
              "1080    Санкт-Петербург, пос. Парголово, улица Тихооке...\n",
              "1081       Санкт-Петербург, Каменноостровский проспект, 6\n",
              "1082           Санкт-Петербург, Малая Конюшенная улица, 5\n",
              "1083                   Санкт-Петербург, Кемская улица, 14\n",
              "1084         Санкт-Петербург, набережная Воскресенская, 4\n",
              "Name: Адрес, Length: 1085, dtype: object"
            ]
          },
          "metadata": {
            "tags": []
          },
          "execution_count": 5
        }
      ]
    },
    {
      "cell_type": "markdown",
      "metadata": {
        "id": "7z5WPiztaCfe"
      },
      "source": [
        "Находим координаты квартир по адресам"
      ]
    },
    {
      "cell_type": "code",
      "metadata": {
        "id": "WORVsipgYAN3"
      },
      "source": [
        "from geopy.geocoders import Nominatim # вытащить координаты\n",
        "from geopy.distance import geodesic # посчитать расстояние между двумя геолокациями"
      ],
      "execution_count": null,
      "outputs": []
    },
    {
      "cell_type": "code",
      "metadata": {
        "id": "YRV_Gx65YBjg"
      },
      "source": [
        "geolocator = Nominatim()"
      ],
      "execution_count": null,
      "outputs": []
    },
    {
      "cell_type": "code",
      "metadata": {
        "id": "9EFFHW-3Sfkq"
      },
      "source": [
        "df.insert(10, \"Широта\", '', True)\n",
        "df.insert(11, \"Долгота\", '', True)\n",
        "df"
      ],
      "execution_count": null,
      "outputs": []
    },
    {
      "cell_type": "markdown",
      "metadata": {
        "id": "GxSu4HQOjxXE"
      },
      "source": [
        "Определяем координаты для адресов (не для всех определяет, поэтому блок try)"
      ]
    },
    {
      "cell_type": "code",
      "metadata": {
        "id": "E3BG_S1wPGZv"
      },
      "source": [
        "lat = []\n",
        "lon = []\n",
        "for a in df['Адрес']:\n",
        "    location = geolocator.geocode(a)\n",
        "    try:\n",
        "        lat.append(location.latitude)\n",
        "        lon.append(location.longitude)\n",
        "    except AttributeError:\n",
        "        lat.append(\"\")\n",
        "        lon.append(\"\")"
      ],
      "execution_count": null,
      "outputs": []
    },
    {
      "cell_type": "code",
      "metadata": {
        "colab": {
          "base_uri": "https://localhost:8080/"
        },
        "id": "s3VTptVdd26w",
        "outputId": "486ff490-9051-461a-ccc1-b29482cae23d"
      },
      "source": [
        "len(lat)"
      ],
      "execution_count": null,
      "outputs": [
        {
          "output_type": "execute_result",
          "data": {
            "text/plain": [
              "1085"
            ]
          },
          "metadata": {
            "tags": []
          },
          "execution_count": 95
        }
      ]
    },
    {
      "cell_type": "code",
      "metadata": {
        "id": "4LAzoBAgkWdB"
      },
      "source": [
        "#df['Широта'] = lat\n",
        "#df['Долгота'] = lon\n",
        "df"
      ],
      "execution_count": null,
      "outputs": []
    },
    {
      "cell_type": "markdown",
      "metadata": {
        "id": "gP7IUeYmkaOQ"
      },
      "source": [
        "Сзданим новый DataFrame для удобства"
      ]
    },
    {
      "cell_type": "code",
      "metadata": {
        "id": "kc7x2DnZ2XdM"
      },
      "source": [
        "dfs = pd.DataFrame()"
      ],
      "execution_count": null,
      "outputs": []
    },
    {
      "cell_type": "markdown",
      "metadata": {
        "id": "FERLl138mDWN"
      },
      "source": [
        "Несколько адресов в разных районах, до которы расчитаем расстояние"
      ]
    },
    {
      "cell_type": "code",
      "metadata": {
        "id": "NKd9kBdNkd_n"
      },
      "source": [
        "a1 = \"Кронверкский проспект, 49, Санкт-Петербург\" # Горькоская\n",
        "a2 = \"Приморский проспект, 70/1, Санкт-Петербург\" # Беговая\n",
        "a3 = \"Заставская улица, 22/2, Санкт-Петербург\" # Московские ворота\n",
        "a4 = \"Пискарёвский проспект, 2/2Щ, Санкт-Петербург\" # Площадь Ленина\n",
        "a5 = \"Московское шoссе 3/3, Санкт-Петербург\" # Звездная\n",
        "a6 = \"Киришская улица, 2А, Санкт-Петербург\" # Гражданский проспект\n",
        "a7 = \"Проспект Просвещения 15, Санкт-Петербург\" # Проспект Просвещения\n",
        "a8 = \"Проспект Обуховской Обороны, 295А, Санкт-Петербург\" # Обухово\n",
        "a9 = \"Улица Оптиков, 4/2, Санкт-Петербург\" # Старая деревня\n",
        "a10 = \"Невский проспект, 55, Санкт-Петербург\" # Маяковская\n"
      ],
      "execution_count": null,
      "outputs": []
    },
    {
      "cell_type": "code",
      "metadata": {
        "id": "qZNNE6pC2bMk"
      },
      "source": [
        "dfs.insert(0, \"ID  объявления\", df['ID  объявления'], True)\n",
        "dfs.insert(1, \"Адрес квартиры\", df['Адрес'], True)\n",
        "dfs.insert(2, \"Широта\", lat, True)\n",
        "dfs.insert(3, \"Долгота\", lon, True)\n",
        "dfs.insert(4, \"Расстояние до a1\", '', True)\n",
        "dfs.insert(5, \"Расстояние до a2\", '', True)\n",
        "dfs.insert(6, \"Расстояние до a3\", '', True)\n",
        "dfs.insert(7, \"Расстояние до a4\", '', True)\n",
        "dfs.insert(8, \"Расстояние до a5\", '', True)\n",
        "dfs.insert(9, \"Расстояние до a6\", '', True)\n",
        "dfs.insert(10, \"Расстояние до a7\", '', True)\n",
        "dfs.insert(11, \"Расстояние до a8\", '', True)\n",
        "dfs.insert(12, \"Расстояние до a9\", '', True)\n",
        "dfs.insert(13, \"Расстояние до a10\", '', True)"
      ],
      "execution_count": null,
      "outputs": []
    },
    {
      "cell_type": "code",
      "metadata": {
        "colab": {
          "base_uri": "https://localhost:8080/",
          "height": 728
        },
        "id": "uuiufn2N5J8Y",
        "outputId": "07b16e72-482e-40b1-b05d-9498ea8bc9e0"
      },
      "source": [
        "d = []\n",
        "locationA = geolocator.geocode(a10)\n",
        "pointA = (locationA.latitude, locationA.longitude)\n",
        "for row in dfs['Адрес квартиры']:\n",
        "    locationB = geolocator.geocode(row)\n",
        "    try:\n",
        "        pointB = (locationB.latitude, locationB.longitude)\n",
        "        d.append(geodesic(pointA, pointB).km)\n",
        "    except AttributeError:\n",
        "        d.append(\"\")\n",
        "dfs['Расстояние до a10'] = d # не забывать менять\n",
        "dfs"
      ],
      "execution_count": null,
      "outputs": [
        {
          "output_type": "execute_result",
          "data": {
            "text/html": [
              "<div>\n",
              "<style scoped>\n",
              "    .dataframe tbody tr th:only-of-type {\n",
              "        vertical-align: middle;\n",
              "    }\n",
              "\n",
              "    .dataframe tbody tr th {\n",
              "        vertical-align: top;\n",
              "    }\n",
              "\n",
              "    .dataframe thead th {\n",
              "        text-align: right;\n",
              "    }\n",
              "</style>\n",
              "<table border=\"1\" class=\"dataframe\">\n",
              "  <thead>\n",
              "    <tr style=\"text-align: right;\">\n",
              "      <th></th>\n",
              "      <th>ID  объявления</th>\n",
              "      <th>Адрес квартиры</th>\n",
              "      <th>Широта</th>\n",
              "      <th>Долгота</th>\n",
              "      <th>Расстояние до a1</th>\n",
              "      <th>Расстояние до a2</th>\n",
              "      <th>Расстояние до a3</th>\n",
              "      <th>Расстояние до a4</th>\n",
              "      <th>Расстояние до a5</th>\n",
              "      <th>Расстояние до a6</th>\n",
              "      <th>Расстояние до a7</th>\n",
              "      <th>Расстояние до a8</th>\n",
              "      <th>Расстояние до a9</th>\n",
              "      <th>Расстояние до a10</th>\n",
              "    </tr>\n",
              "  </thead>\n",
              "  <tbody>\n",
              "    <tr>\n",
              "      <th>0</th>\n",
              "      <td>245898592</td>\n",
              "      <td>Санкт-Петербург, Социалистическая улица, 21</td>\n",
              "      <td>59.9201</td>\n",
              "      <td>30.3463</td>\n",
              "      <td>4.52094</td>\n",
              "      <td>7.86444</td>\n",
              "      <td>3.65984</td>\n",
              "      <td>5.50123</td>\n",
              "      <td>11.4951</td>\n",
              "      <td>13.3084</td>\n",
              "      <td>14.9349</td>\n",
              "      <td>11.5483</td>\n",
              "      <td>10.7825</td>\n",
              "      <td>1.32163</td>\n",
              "    </tr>\n",
              "    <tr>\n",
              "      <th>1</th>\n",
              "      <td>251716893</td>\n",
              "      <td>Санкт-Петербург, улица Салова, 61</td>\n",
              "      <td>59.885</td>\n",
              "      <td>30.3682</td>\n",
              "      <td>8.59503</td>\n",
              "      <td>11.938</td>\n",
              "      <td>1.36173</td>\n",
              "      <td>8.52393</td>\n",
              "      <td>7.5088</td>\n",
              "      <td>16.786</td>\n",
              "      <td>18.9487</td>\n",
              "      <td>8.01058</td>\n",
              "      <td>14.7272</td>\n",
              "      <td>5.31602</td>\n",
              "    </tr>\n",
              "    <tr>\n",
              "      <th>2</th>\n",
              "      <td>254788472</td>\n",
              "      <td>Санкт-Петербург, улица Салова, 61</td>\n",
              "      <td>59.885</td>\n",
              "      <td>30.3682</td>\n",
              "      <td>8.59503</td>\n",
              "      <td>11.938</td>\n",
              "      <td>1.36173</td>\n",
              "      <td>8.52393</td>\n",
              "      <td>7.5088</td>\n",
              "      <td>16.786</td>\n",
              "      <td>18.9487</td>\n",
              "      <td>8.01058</td>\n",
              "      <td>14.7272</td>\n",
              "      <td>5.31602</td>\n",
              "    </tr>\n",
              "    <tr>\n",
              "      <th>3</th>\n",
              "      <td>229664813</td>\n",
              "      <td>Санкт-Петербург, улица Салова, 61</td>\n",
              "      <td>59.885</td>\n",
              "      <td>30.3682</td>\n",
              "      <td>8.59503</td>\n",
              "      <td>11.938</td>\n",
              "      <td>1.36173</td>\n",
              "      <td>8.52393</td>\n",
              "      <td>7.5088</td>\n",
              "      <td>16.786</td>\n",
              "      <td>18.9487</td>\n",
              "      <td>8.01058</td>\n",
              "      <td>14.7272</td>\n",
              "      <td>5.31602</td>\n",
              "    </tr>\n",
              "    <tr>\n",
              "      <th>4</th>\n",
              "      <td>251716895</td>\n",
              "      <td>Санкт-Петербург, улица Салова, 61</td>\n",
              "      <td>59.885</td>\n",
              "      <td>30.3682</td>\n",
              "      <td>8.59503</td>\n",
              "      <td>11.938</td>\n",
              "      <td>1.36173</td>\n",
              "      <td>8.52393</td>\n",
              "      <td>7.5088</td>\n",
              "      <td>16.786</td>\n",
              "      <td>18.9487</td>\n",
              "      <td>8.01058</td>\n",
              "      <td>14.7272</td>\n",
              "      <td>5.31602</td>\n",
              "    </tr>\n",
              "    <tr>\n",
              "      <th>...</th>\n",
              "      <td>...</td>\n",
              "      <td>...</td>\n",
              "      <td>...</td>\n",
              "      <td>...</td>\n",
              "      <td>...</td>\n",
              "      <td>...</td>\n",
              "      <td>...</td>\n",
              "      <td>...</td>\n",
              "      <td>...</td>\n",
              "      <td>...</td>\n",
              "      <td>...</td>\n",
              "      <td>...</td>\n",
              "      <td>...</td>\n",
              "      <td>...</td>\n",
              "    </tr>\n",
              "    <tr>\n",
              "      <th>1080</th>\n",
              "      <td>252108909</td>\n",
              "      <td>Санкт-Петербург, пос. Парголово, улица Тихооке...</td>\n",
              "      <td></td>\n",
              "      <td></td>\n",
              "      <td></td>\n",
              "      <td></td>\n",
              "      <td></td>\n",
              "      <td></td>\n",
              "      <td></td>\n",
              "      <td></td>\n",
              "      <td></td>\n",
              "      <td></td>\n",
              "      <td></td>\n",
              "      <td></td>\n",
              "    </tr>\n",
              "    <tr>\n",
              "      <th>1081</th>\n",
              "      <td>249902575</td>\n",
              "      <td>Санкт-Петербург, Каменноостровский проспект, 6</td>\n",
              "      <td>59.9577</td>\n",
              "      <td>30.319</td>\n",
              "      <td>0.514917</td>\n",
              "      <td>3.45445</td>\n",
              "      <td>7.97422</td>\n",
              "      <td>4.92402</td>\n",
              "      <td>15.864</td>\n",
              "      <td>10.2404</td>\n",
              "      <td>10.7207</td>\n",
              "      <td>15.7688</td>\n",
              "      <td>6.61142</td>\n",
              "      <td>3.36931</td>\n",
              "    </tr>\n",
              "    <tr>\n",
              "      <th>1082</th>\n",
              "      <td>250301252</td>\n",
              "      <td>Санкт-Петербург, Малая Конюшенная улица, 5</td>\n",
              "      <td>59.9371</td>\n",
              "      <td>30.3249</td>\n",
              "      <td>2.30344</td>\n",
              "      <td>5.64589</td>\n",
              "      <td>5.65681</td>\n",
              "      <td>5.19415</td>\n",
              "      <td>13.5462</td>\n",
              "      <td>12.0349</td>\n",
              "      <td>13.0056</td>\n",
              "      <td>13.7591</td>\n",
              "      <td>8.54977</td>\n",
              "      <td>1.52513</td>\n",
              "    </tr>\n",
              "    <tr>\n",
              "      <th>1083</th>\n",
              "      <td>251569788</td>\n",
              "      <td>Санкт-Петербург, Кемская улица, 14</td>\n",
              "      <td>59.9734</td>\n",
              "      <td>30.2631</td>\n",
              "      <td>3.23876</td>\n",
              "      <td>1.69212</td>\n",
              "      <td>10.6155</td>\n",
              "      <td>8.20149</td>\n",
              "      <td>18.3488</td>\n",
              "      <td>11.177</td>\n",
              "      <td>9.65943</td>\n",
              "      <td>19.0782</td>\n",
              "      <td>3.256</td>\n",
              "      <td>6.71619</td>\n",
              "    </tr>\n",
              "    <tr>\n",
              "      <th>1084</th>\n",
              "      <td>210367969</td>\n",
              "      <td>Санкт-Петербург, набережная Воскресенская, 4</td>\n",
              "      <td>59.9507</td>\n",
              "      <td>30.3737</td>\n",
              "      <td>3.60927</td>\n",
              "      <td>6.15963</td>\n",
              "      <td>7.25087</td>\n",
              "      <td>2.08065</td>\n",
              "      <td>14.829</td>\n",
              "      <td>9.59689</td>\n",
              "      <td>11.7778</td>\n",
              "      <td>13.4852</td>\n",
              "      <td>9.5</td>\n",
              "      <td>2.47916</td>\n",
              "    </tr>\n",
              "  </tbody>\n",
              "</table>\n",
              "<p>1085 rows × 14 columns</p>\n",
              "</div>"
            ],
            "text/plain": [
              "      ID  объявления  ... Расстояние до a10\n",
              "0          245898592  ...           1.32163\n",
              "1          251716893  ...           5.31602\n",
              "2          254788472  ...           5.31602\n",
              "3          229664813  ...           5.31602\n",
              "4          251716895  ...           5.31602\n",
              "...              ...  ...               ...\n",
              "1080       252108909  ...                  \n",
              "1081       249902575  ...           3.36931\n",
              "1082       250301252  ...           1.52513\n",
              "1083       251569788  ...           6.71619\n",
              "1084       210367969  ...           2.47916\n",
              "\n",
              "[1085 rows x 14 columns]"
            ]
          },
          "metadata": {
            "tags": []
          },
          "execution_count": 157
        }
      ]
    },
    {
      "cell_type": "code",
      "metadata": {
        "id": "ODQOrBP9ZNr2"
      },
      "source": [
        "dfs.to_csv('apart.csv')"
      ],
      "execution_count": null,
      "outputs": []
    },
    {
      "cell_type": "code",
      "metadata": {
        "id": "gzb6sBeEt3zn",
        "colab": {
          "base_uri": "https://localhost:8080/",
          "height": 728
        },
        "outputId": "50c8e769-6caa-4aae-f545-3a79e85fc4fa"
      },
      "source": [
        "pd.read_csv('apart.csv', delimiter=',')"
      ],
      "execution_count": null,
      "outputs": [
        {
          "output_type": "execute_result",
          "data": {
            "text/html": [
              "<div>\n",
              "<style scoped>\n",
              "    .dataframe tbody tr th:only-of-type {\n",
              "        vertical-align: middle;\n",
              "    }\n",
              "\n",
              "    .dataframe tbody tr th {\n",
              "        vertical-align: top;\n",
              "    }\n",
              "\n",
              "    .dataframe thead th {\n",
              "        text-align: right;\n",
              "    }\n",
              "</style>\n",
              "<table border=\"1\" class=\"dataframe\">\n",
              "  <thead>\n",
              "    <tr style=\"text-align: right;\">\n",
              "      <th></th>\n",
              "      <th>Unnamed: 0</th>\n",
              "      <th>ID  объявления</th>\n",
              "      <th>Адрес квартиры</th>\n",
              "      <th>Широта</th>\n",
              "      <th>Долгота</th>\n",
              "      <th>Расстояние до a1</th>\n",
              "      <th>Расстояние до a2</th>\n",
              "      <th>Расстояние до a3</th>\n",
              "      <th>Расстояние до a4</th>\n",
              "      <th>Расстояние до a5</th>\n",
              "      <th>Расстояние до a6</th>\n",
              "      <th>Расстояние до a7</th>\n",
              "      <th>Расстояние до a8</th>\n",
              "      <th>Расстояние до a9</th>\n",
              "      <th>Расстояние до a10</th>\n",
              "    </tr>\n",
              "  </thead>\n",
              "  <tbody>\n",
              "    <tr>\n",
              "      <th>0</th>\n",
              "      <td>0</td>\n",
              "      <td>245898592</td>\n",
              "      <td>Санкт-Петербург, Социалистическая улица, 21</td>\n",
              "      <td>59.920116</td>\n",
              "      <td>30.346286</td>\n",
              "      <td>4.520941</td>\n",
              "      <td>7.864442</td>\n",
              "      <td>3.659838</td>\n",
              "      <td>5.501235</td>\n",
              "      <td>11.495133</td>\n",
              "      <td>13.308423</td>\n",
              "      <td>14.934903</td>\n",
              "      <td>11.548253</td>\n",
              "      <td>10.782480</td>\n",
              "      <td>1.321629</td>\n",
              "    </tr>\n",
              "    <tr>\n",
              "      <th>1</th>\n",
              "      <td>1</td>\n",
              "      <td>251716893</td>\n",
              "      <td>Санкт-Петербург, улица Салова, 61</td>\n",
              "      <td>59.884979</td>\n",
              "      <td>30.368163</td>\n",
              "      <td>8.595025</td>\n",
              "      <td>11.937999</td>\n",
              "      <td>1.361725</td>\n",
              "      <td>8.523932</td>\n",
              "      <td>7.508798</td>\n",
              "      <td>16.786040</td>\n",
              "      <td>18.948659</td>\n",
              "      <td>8.010579</td>\n",
              "      <td>14.727228</td>\n",
              "      <td>5.316017</td>\n",
              "    </tr>\n",
              "    <tr>\n",
              "      <th>2</th>\n",
              "      <td>2</td>\n",
              "      <td>254788472</td>\n",
              "      <td>Санкт-Петербург, улица Салова, 61</td>\n",
              "      <td>59.884979</td>\n",
              "      <td>30.368163</td>\n",
              "      <td>8.595025</td>\n",
              "      <td>11.937999</td>\n",
              "      <td>1.361725</td>\n",
              "      <td>8.523932</td>\n",
              "      <td>7.508798</td>\n",
              "      <td>16.786040</td>\n",
              "      <td>18.948659</td>\n",
              "      <td>8.010579</td>\n",
              "      <td>14.727228</td>\n",
              "      <td>5.316017</td>\n",
              "    </tr>\n",
              "    <tr>\n",
              "      <th>3</th>\n",
              "      <td>3</td>\n",
              "      <td>229664813</td>\n",
              "      <td>Санкт-Петербург, улица Салова, 61</td>\n",
              "      <td>59.884979</td>\n",
              "      <td>30.368163</td>\n",
              "      <td>8.595025</td>\n",
              "      <td>11.937999</td>\n",
              "      <td>1.361725</td>\n",
              "      <td>8.523932</td>\n",
              "      <td>7.508798</td>\n",
              "      <td>16.786040</td>\n",
              "      <td>18.948659</td>\n",
              "      <td>8.010579</td>\n",
              "      <td>14.727228</td>\n",
              "      <td>5.316017</td>\n",
              "    </tr>\n",
              "    <tr>\n",
              "      <th>4</th>\n",
              "      <td>4</td>\n",
              "      <td>251716895</td>\n",
              "      <td>Санкт-Петербург, улица Салова, 61</td>\n",
              "      <td>59.884979</td>\n",
              "      <td>30.368163</td>\n",
              "      <td>8.595025</td>\n",
              "      <td>11.937999</td>\n",
              "      <td>1.361725</td>\n",
              "      <td>8.523932</td>\n",
              "      <td>7.508798</td>\n",
              "      <td>16.786040</td>\n",
              "      <td>18.948659</td>\n",
              "      <td>8.010579</td>\n",
              "      <td>14.727228</td>\n",
              "      <td>5.316017</td>\n",
              "    </tr>\n",
              "    <tr>\n",
              "      <th>...</th>\n",
              "      <td>...</td>\n",
              "      <td>...</td>\n",
              "      <td>...</td>\n",
              "      <td>...</td>\n",
              "      <td>...</td>\n",
              "      <td>...</td>\n",
              "      <td>...</td>\n",
              "      <td>...</td>\n",
              "      <td>...</td>\n",
              "      <td>...</td>\n",
              "      <td>...</td>\n",
              "      <td>...</td>\n",
              "      <td>...</td>\n",
              "      <td>...</td>\n",
              "      <td>...</td>\n",
              "    </tr>\n",
              "    <tr>\n",
              "      <th>1080</th>\n",
              "      <td>1080</td>\n",
              "      <td>252108909</td>\n",
              "      <td>Санкт-Петербург, пос. Парголово, улица Тихооке...</td>\n",
              "      <td>NaN</td>\n",
              "      <td>NaN</td>\n",
              "      <td>NaN</td>\n",
              "      <td>NaN</td>\n",
              "      <td>NaN</td>\n",
              "      <td>NaN</td>\n",
              "      <td>NaN</td>\n",
              "      <td>NaN</td>\n",
              "      <td>NaN</td>\n",
              "      <td>NaN</td>\n",
              "      <td>NaN</td>\n",
              "      <td>NaN</td>\n",
              "    </tr>\n",
              "    <tr>\n",
              "      <th>1081</th>\n",
              "      <td>1081</td>\n",
              "      <td>249902575</td>\n",
              "      <td>Санкт-Петербург, Каменноостровский проспект, 6</td>\n",
              "      <td>59.957718</td>\n",
              "      <td>30.318956</td>\n",
              "      <td>0.514917</td>\n",
              "      <td>3.454451</td>\n",
              "      <td>7.974220</td>\n",
              "      <td>4.924015</td>\n",
              "      <td>15.863982</td>\n",
              "      <td>10.240423</td>\n",
              "      <td>10.720734</td>\n",
              "      <td>15.768824</td>\n",
              "      <td>6.611418</td>\n",
              "      <td>3.369307</td>\n",
              "    </tr>\n",
              "    <tr>\n",
              "      <th>1082</th>\n",
              "      <td>1082</td>\n",
              "      <td>250301252</td>\n",
              "      <td>Санкт-Петербург, Малая Конюшенная улица, 5</td>\n",
              "      <td>59.937119</td>\n",
              "      <td>30.324940</td>\n",
              "      <td>2.303445</td>\n",
              "      <td>5.645894</td>\n",
              "      <td>5.656808</td>\n",
              "      <td>5.194147</td>\n",
              "      <td>13.546242</td>\n",
              "      <td>12.034861</td>\n",
              "      <td>13.005566</td>\n",
              "      <td>13.759059</td>\n",
              "      <td>8.549767</td>\n",
              "      <td>1.525131</td>\n",
              "    </tr>\n",
              "    <tr>\n",
              "      <th>1083</th>\n",
              "      <td>1083</td>\n",
              "      <td>251569788</td>\n",
              "      <td>Санкт-Петербург, Кемская улица, 14</td>\n",
              "      <td>59.973410</td>\n",
              "      <td>30.263083</td>\n",
              "      <td>3.238760</td>\n",
              "      <td>1.692118</td>\n",
              "      <td>10.615536</td>\n",
              "      <td>8.201487</td>\n",
              "      <td>18.348838</td>\n",
              "      <td>11.176954</td>\n",
              "      <td>9.659432</td>\n",
              "      <td>19.078237</td>\n",
              "      <td>3.256000</td>\n",
              "      <td>6.716189</td>\n",
              "    </tr>\n",
              "    <tr>\n",
              "      <th>1084</th>\n",
              "      <td>1084</td>\n",
              "      <td>210367969</td>\n",
              "      <td>Санкт-Петербург, набережная Воскресенская, 4</td>\n",
              "      <td>59.950667</td>\n",
              "      <td>30.373686</td>\n",
              "      <td>3.609270</td>\n",
              "      <td>6.159627</td>\n",
              "      <td>7.250866</td>\n",
              "      <td>2.080645</td>\n",
              "      <td>14.829050</td>\n",
              "      <td>9.596893</td>\n",
              "      <td>11.777821</td>\n",
              "      <td>13.485238</td>\n",
              "      <td>9.499998</td>\n",
              "      <td>2.479161</td>\n",
              "    </tr>\n",
              "  </tbody>\n",
              "</table>\n",
              "<p>1085 rows × 15 columns</p>\n",
              "</div>"
            ],
            "text/plain": [
              "      Unnamed: 0  ID  объявления  ... Расстояние до a9  Расстояние до a10\n",
              "0              0       245898592  ...        10.782480           1.321629\n",
              "1              1       251716893  ...        14.727228           5.316017\n",
              "2              2       254788472  ...        14.727228           5.316017\n",
              "3              3       229664813  ...        14.727228           5.316017\n",
              "4              4       251716895  ...        14.727228           5.316017\n",
              "...          ...             ...  ...              ...                ...\n",
              "1080        1080       252108909  ...              NaN                NaN\n",
              "1081        1081       249902575  ...         6.611418           3.369307\n",
              "1082        1082       250301252  ...         8.549767           1.525131\n",
              "1083        1083       251569788  ...         3.256000           6.716189\n",
              "1084        1084       210367969  ...         9.499998           2.479161\n",
              "\n",
              "[1085 rows x 15 columns]"
            ]
          },
          "metadata": {
            "tags": []
          },
          "execution_count": 161
        }
      ]
    }
  ]
}