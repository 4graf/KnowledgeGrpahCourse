{
 "cells": [
  {
   "cell_type": "code",
   "execution_count": 127,
   "metadata": {},
   "outputs": [
    {
     "name": "stdout",
     "output_type": "stream",
     "text": [
      "> Players with average healing more than 10000:\n",
      "Custa\n",
      "Lastro\n",
      "> Top paid coach, their team and salary\n",
      "Miro Houston_Outlaws 120000\n",
      "> Team with most wins\n",
      "Houston_Outlaws leads with 2 wins\n"
     ]
    }
   ],
   "source": [
    "from rdflib import Graph, Literal, RDF, URIRef\n",
    "import requests\n",
    "\n",
    "# create a Graph\n",
    "g = Graph()\n",
    "g.parse(\"OWL_OUT_v2.ttl\", format='turtle')\n",
    "\n",
    "\n",
    "res = g.query(\n",
    "    \"\"\"PREFIX : <http://www.semanticweb.org/nikita/ontologies/2020/4/OWL_Ontology#>\n",
    "    SELECT ?player\n",
    "    WHERE {\n",
    "        ?player a :SupportPlayer;\n",
    "                :AVGHealing ?heal .\n",
    "        FILTER(?heal > 10000)\n",
    "    }\"\"\")\n",
    "\n",
    "print('> Players with average healing more than 10000:')\n",
    "for row in res:\n",
    "    print(row[0].split('#')[1])\n",
    "\n",
    "    \n",
    "    \n",
    "res = g.query(\n",
    "    \"\"\"PREFIX : <http://www.semanticweb.org/nikita/ontologies/2020/4/OWL_Ontology#>\n",
    "    SELECT ?coach ?team ?salary\n",
    "    WHERE {\n",
    "        ?coach a :Coach ;\n",
    "        :coaches ?team ;\n",
    "        :salary ?salary\n",
    "    }\n",
    "    ORDER BY DESC(?salary)\n",
    "    LIMIT 1\n",
    "    \"\"\")\n",
    "\n",
    "\n",
    "print('> Top paid coach, their team and salary')\n",
    "\n",
    "for row in res:\n",
    "    print(row[0].split('#')[1] + ' ' + row[1].split('#')[1] + ' ' +  row[2])\n",
    "\n",
    "    \n",
    "\n",
    "res = g.query(\n",
    "    \"\"\"PREFIX : <http://www.semanticweb.org/nikita/ontologies/2020/4/OWL_Ontology#>\n",
    "    SELECT ?team (count(distinct ?game) as ?game)\n",
    "    WHERE {\n",
    "        ?team a :Team ;\n",
    "        :winner_of ?game ;\n",
    "    }\n",
    "    GROUP BY ?team\n",
    "    ORDER BY DESC(?game)\n",
    "    LIMIT 1\n",
    "    \"\"\")\n",
    "\n",
    "\n",
    "print('> Team with most wins')\n",
    "\n",
    "for row in res:\n",
    "    print(row[0].split('#')[1] + ' leads with ' + row[1] + ' wins')\n"
   ]
  },
  {
   "cell_type": "code",
   "execution_count": null,
   "metadata": {},
   "outputs": [],
   "source": []
  },
  {
   "cell_type": "code",
   "execution_count": null,
   "metadata": {},
   "outputs": [],
   "source": []
  },
  {
   "cell_type": "code",
   "execution_count": null,
   "metadata": {},
   "outputs": [],
   "source": []
  }
 ],
 "metadata": {
  "kernelspec": {
   "display_name": "Python 3",
   "language": "python",
   "name": "python3"
  },
  "language_info": {
   "codemirror_mode": {
    "name": "ipython",
    "version": 3
   },
   "file_extension": ".py",
   "mimetype": "text/x-python",
   "name": "python",
   "nbconvert_exporter": "python",
   "pygments_lexer": "ipython3",
   "version": "3.7.7"
  }
 },
 "nbformat": 4,
 "nbformat_minor": 4
}
