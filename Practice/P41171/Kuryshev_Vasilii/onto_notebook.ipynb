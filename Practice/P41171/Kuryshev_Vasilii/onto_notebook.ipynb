{
  "nbformat": 4,
  "nbformat_minor": 0,
  "metadata": {
    "colab": {
      "name": "Untitled1.ipynb",
      "provenance": [],
      "collapsed_sections": [
        "o3SEIPLfwJZB"
      ],
      "toc_visible": true
    },
    "kernelspec": {
      "name": "python3",
      "display_name": "Python 3"
    },
    "language_info": {
      "name": "python"
    }
  },
  "cells": [
    {
      "cell_type": "markdown",
      "metadata": {
        "id": "o3SEIPLfwJZB"
      },
      "source": [
        "# Install library"
      ]
    },
    {
      "cell_type": "code",
      "metadata": {
        "colab": {
          "base_uri": "https://localhost:8080/"
        },
        "id": "xShgIasCwAsc",
        "outputId": "25bc2653-30bc-4260-ae42-798c24e4cfaf"
      },
      "source": [
        "!pip install rdflib\n",
        "!pip install PyDrive"
      ],
      "execution_count": 1,
      "outputs": [
        {
          "output_type": "stream",
          "text": [
            "Collecting rdflib\n",
            "\u001b[?25l  Downloading https://files.pythonhosted.org/packages/d0/6b/6454aa1db753c0f8bc265a5bd5c10b5721a4bb24160fb4faf758cf6be8a1/rdflib-5.0.0-py3-none-any.whl (231kB)\n",
            "\u001b[K     |████████████████████████████████| 235kB 6.6MB/s \n",
            "\u001b[?25hCollecting isodate\n",
            "\u001b[?25l  Downloading https://files.pythonhosted.org/packages/9b/9f/b36f7774ff5ea8e428fdcfc4bb332c39ee5b9362ddd3d40d9516a55221b2/isodate-0.6.0-py2.py3-none-any.whl (45kB)\n",
            "\u001b[K     |████████████████████████████████| 51kB 3.9MB/s \n",
            "\u001b[?25hRequirement already satisfied: pyparsing in /usr/local/lib/python3.7/dist-packages (from rdflib) (2.4.7)\n",
            "Requirement already satisfied: six in /usr/local/lib/python3.7/dist-packages (from rdflib) (1.15.0)\n",
            "Installing collected packages: isodate, rdflib\n",
            "Successfully installed isodate-0.6.0 rdflib-5.0.0\n",
            "Requirement already satisfied: PyDrive in /usr/local/lib/python3.7/dist-packages (1.3.1)\n",
            "Requirement already satisfied: oauth2client>=4.0.0 in /usr/local/lib/python3.7/dist-packages (from PyDrive) (4.1.3)\n",
            "Requirement already satisfied: google-api-python-client>=1.2 in /usr/local/lib/python3.7/dist-packages (from PyDrive) (1.12.8)\n",
            "Requirement already satisfied: PyYAML>=3.0 in /usr/local/lib/python3.7/dist-packages (from PyDrive) (3.13)\n",
            "Requirement already satisfied: httplib2>=0.9.1 in /usr/local/lib/python3.7/dist-packages (from oauth2client>=4.0.0->PyDrive) (0.17.4)\n",
            "Requirement already satisfied: pyasn1>=0.1.7 in /usr/local/lib/python3.7/dist-packages (from oauth2client>=4.0.0->PyDrive) (0.4.8)\n",
            "Requirement already satisfied: six>=1.6.1 in /usr/local/lib/python3.7/dist-packages (from oauth2client>=4.0.0->PyDrive) (1.15.0)\n",
            "Requirement already satisfied: rsa>=3.1.4 in /usr/local/lib/python3.7/dist-packages (from oauth2client>=4.0.0->PyDrive) (4.7.2)\n",
            "Requirement already satisfied: pyasn1-modules>=0.0.5 in /usr/local/lib/python3.7/dist-packages (from oauth2client>=4.0.0->PyDrive) (0.2.8)\n",
            "Requirement already satisfied: google-api-core<2dev,>=1.21.0 in /usr/local/lib/python3.7/dist-packages (from google-api-python-client>=1.2->PyDrive) (1.26.3)\n",
            "Requirement already satisfied: uritemplate<4dev,>=3.0.0 in /usr/local/lib/python3.7/dist-packages (from google-api-python-client>=1.2->PyDrive) (3.0.1)\n",
            "Requirement already satisfied: google-auth-httplib2>=0.0.3 in /usr/local/lib/python3.7/dist-packages (from google-api-python-client>=1.2->PyDrive) (0.0.4)\n",
            "Requirement already satisfied: google-auth>=1.16.0 in /usr/local/lib/python3.7/dist-packages (from google-api-python-client>=1.2->PyDrive) (1.30.0)\n",
            "Requirement already satisfied: googleapis-common-protos<2.0dev,>=1.6.0 in /usr/local/lib/python3.7/dist-packages (from google-api-core<2dev,>=1.21.0->google-api-python-client>=1.2->PyDrive) (1.53.0)\n",
            "Requirement already satisfied: setuptools>=40.3.0 in /usr/local/lib/python3.7/dist-packages (from google-api-core<2dev,>=1.21.0->google-api-python-client>=1.2->PyDrive) (56.1.0)\n",
            "Requirement already satisfied: requests<3.0.0dev,>=2.18.0 in /usr/local/lib/python3.7/dist-packages (from google-api-core<2dev,>=1.21.0->google-api-python-client>=1.2->PyDrive) (2.23.0)\n",
            "Requirement already satisfied: protobuf>=3.12.0 in /usr/local/lib/python3.7/dist-packages (from google-api-core<2dev,>=1.21.0->google-api-python-client>=1.2->PyDrive) (3.12.4)\n",
            "Requirement already satisfied: pytz in /usr/local/lib/python3.7/dist-packages (from google-api-core<2dev,>=1.21.0->google-api-python-client>=1.2->PyDrive) (2018.9)\n",
            "Requirement already satisfied: packaging>=14.3 in /usr/local/lib/python3.7/dist-packages (from google-api-core<2dev,>=1.21.0->google-api-python-client>=1.2->PyDrive) (20.9)\n",
            "Requirement already satisfied: cachetools<5.0,>=2.0.0 in /usr/local/lib/python3.7/dist-packages (from google-auth>=1.16.0->google-api-python-client>=1.2->PyDrive) (4.2.2)\n",
            "Requirement already satisfied: certifi>=2017.4.17 in /usr/local/lib/python3.7/dist-packages (from requests<3.0.0dev,>=2.18.0->google-api-core<2dev,>=1.21.0->google-api-python-client>=1.2->PyDrive) (2020.12.5)\n",
            "Requirement already satisfied: urllib3!=1.25.0,!=1.25.1,<1.26,>=1.21.1 in /usr/local/lib/python3.7/dist-packages (from requests<3.0.0dev,>=2.18.0->google-api-core<2dev,>=1.21.0->google-api-python-client>=1.2->PyDrive) (1.24.3)\n",
            "Requirement already satisfied: idna<3,>=2.5 in /usr/local/lib/python3.7/dist-packages (from requests<3.0.0dev,>=2.18.0->google-api-core<2dev,>=1.21.0->google-api-python-client>=1.2->PyDrive) (2.10)\n",
            "Requirement already satisfied: chardet<4,>=3.0.2 in /usr/local/lib/python3.7/dist-packages (from requests<3.0.0dev,>=2.18.0->google-api-core<2dev,>=1.21.0->google-api-python-client>=1.2->PyDrive) (3.0.4)\n",
            "Requirement already satisfied: pyparsing>=2.0.2 in /usr/local/lib/python3.7/dist-packages (from packaging>=14.3->google-api-core<2dev,>=1.21.0->google-api-python-client>=1.2->PyDrive) (2.4.7)\n"
          ],
          "name": "stdout"
        }
      ]
    },
    {
      "cell_type": "markdown",
      "metadata": {
        "id": "_qiovL1uwPZs"
      },
      "source": [
        "# Import library\n"
      ]
    },
    {
      "cell_type": "code",
      "metadata": {
        "id": "NiCJcAFxwHD5"
      },
      "source": [
        "from rdflib import URIRef, BNode, Literal, Namespace, Graph\n",
        "from rdflib.namespace import Namespace, NamespaceManager\n",
        "from rdflib.plugins import sparql\n",
        "from rdflib.namespace import RDF, RDFS\n",
        "from rdflib.serializer import Serializer"
      ],
      "execution_count": 2,
      "outputs": []
    },
    {
      "cell_type": "code",
      "metadata": {
        "colab": {
          "base_uri": "https://localhost:8080/"
        },
        "id": "_Oa4sDdvwZNY",
        "outputId": "b9aebb1d-c06c-4aa8-eca3-e37556a55205"
      },
      "source": [
        "graph = Graph()\n",
        "graph.parse(\"onto_xml.owl\", format=\"application/rdf+xml\")\n",
        "graph.serialize(format='n3')"
      ],
      "execution_count": 32,
      "outputs": [
        {
          "output_type": "execute_result",
          "data": {
            "text/plain": [
              "b'@prefix : <http://www.semanticweb.org/vasilii/ontologies/2021/3/book_onto#> .\\n@prefix owl: <http://www.w3.org/2002/07/owl#> .\\n@prefix rdfs: <http://www.w3.org/2000/01/rdf-schema#> .\\n@prefix xsd: <http://www.w3.org/2001/XMLSchema#> .\\n\\n:Bad a owl:Class ;\\n    rdfs:subClassOf :Status .\\n\\n:Boevik a owl:Class ;\\n    rdfs:subClassOf :Genre .\\n\\n:Detektivy a owl:Class ;\\n    rdfs:subClassOf :Genre .\\n\\n:Fanfik a owl:Class ;\\n    rdfs:subClassOf :Genre .\\n\\n:Fantastika a owl:Class ;\\n    rdfs:subClassOf :Genre .\\n\\n:Fentezi a owl:Class ;\\n    rdfs:subClassOf :Genre .\\n\\n:Good a owl:Class ;\\n    rdfs:subClassOf :Status .\\n\\n:Istoricheskiy_roman a owl:Class ;\\n    rdfs:subClassOf :Genre .\\n\\n:Jenskaya_proza a owl:Class ;\\n    rdfs:subClassOf :Genre .\\n\\n:Litrpg a owl:Class ;\\n    rdfs:subClassOf :Genre .\\n\\n:Lyubovnye_romany a owl:Class ;\\n    rdfs:subClassOf :Genre .\\n\\n:Mistikaujasy a owl:Class ;\\n    rdfs:subClassOf :Genre .\\n\\n:Molodejnaya_proza a owl:Class ;\\n    rdfs:subClassOf :Genre .\\n\\n:Popadancy a owl:Class ;\\n    rdfs:subClassOf :Genre .\\n\\n:Proza a owl:Class ;\\n    rdfs:subClassOf :Genre .\\n\\n:Raznoe a owl:Class ;\\n    rdfs:subClassOf :Genre .\\n\\n:Satisfactory a owl:Class ;\\n    rdfs:subClassOf :Status .\\n\\n:Trillery a owl:Class ;\\n    rdfs:subClassOf :Genre .\\n\\n:hasAuthor a owl:InverseFunctionalProperty,\\n        owl:ObjectProperty ;\\n    rdfs:domain :Educational_book,\\n        :Entertainment_book ;\\n    rdfs:range :Author ;\\n    rdfs:subPropertyOf owl:topObjectProperty .\\n\\n:hasDescription a owl:DatatypeProperty ;\\n    rdfs:domain :Educational_book,\\n        :Entertainment_book ;\\n    rdfs:range xsd:string ;\\n    rdfs:subPropertyOf owl:topDataProperty .\\n\\n:hasFavorites a owl:DatatypeProperty ;\\n    rdfs:domain :Educational_book,\\n        :Entertainment_book ;\\n    rdfs:range xsd:int ;\\n    rdfs:subPropertyOf owl:topDataProperty .\\n\\n:hasGenre a owl:ObjectProperty ;\\n    rdfs:domain :Educational_book,\\n        :Entertainment_book ;\\n    rdfs:range :Genre ;\\n    rdfs:subPropertyOf owl:topObjectProperty .\\n\\n:hasName a owl:DatatypeProperty ;\\n    rdfs:domain :Author,\\n        :Educational_book,\\n        :Entertainment_book,\\n        :Genre,\\n        :Tags ;\\n    rdfs:range xsd:string ;\\n    rdfs:subPropertyOf owl:topDataProperty .\\n\\n:hasNumberOfPages a owl:DatatypeProperty ;\\n    rdfs:domain :Educational_book,\\n        :Entertainment_book ;\\n    rdfs:range xsd:int ;\\n    rdfs:subPropertyOf owl:topDataProperty .\\n\\n:hasRate a owl:DatatypeProperty ;\\n    rdfs:domain :Educational_book,\\n        :Entertainment_book ;\\n    rdfs:range xsd:int ;\\n    rdfs:subPropertyOf owl:topDataProperty .\\n\\n:hasStatus a owl:InverseFunctionalProperty,\\n        owl:ObjectProperty ;\\n    rdfs:domain :Educational_book,\\n        :Entertainment_book ;\\n    rdfs:range :Status ;\\n    rdfs:subPropertyOf owl:topObjectProperty .\\n\\n:hasTags a owl:ObjectProperty ;\\n    rdfs:domain :Educational_book,\\n        :Entertainment_book ;\\n    rdfs:range :Tags ;\\n    rdfs:subPropertyOf owl:topObjectProperty .\\n\\n:hasURL a owl:DatatypeProperty ;\\n    rdfs:domain :Author,\\n        :Educational_book,\\n        :Entertainment_book ;\\n    rdfs:range xsd:string ;\\n    rdfs:subPropertyOf owl:topDataProperty .\\n\\n:hasViews a owl:DatatypeProperty ;\\n    rdfs:domain :Educational_book,\\n        :Entertainment_book ;\\n    rdfs:range xsd:int ;\\n    rdfs:subPropertyOf owl:topDataProperty .\\n\\n<http://www.semanticweb.org/vasilii/ontologies/2021/3/book_onto.owl> a owl:Ontology .\\n\\n:Book a owl:Class ;\\n    rdfs:label \"Book\"@en ;\\n    rdfs:comment \"Class describe books\"@en .\\n\\n:Tags a owl:Class ;\\n    rdfs:label \"Tags\"@en ;\\n    rdfs:comment \"Class describe tags books\"@en .\\n\\n:Author a owl:Class ;\\n    rdfs:label \"Author\"@en ;\\n    rdfs:comment \"Class description author\"@en .\\n\\n:Status a owl:Class .\\n\\nowl:topObjectProperty rdfs:range :Genre .\\n\\n:Educational_book a owl:Class ;\\n    rdfs:label \"Education book\"@en ;\\n    rdfs:comment \"Class describe education book\"@en ;\\n    rdfs:subClassOf :Book .\\n\\n:Entertainment_book a owl:Class ;\\n    rdfs:label \"Entertaiment book\"@en ;\\n    rdfs:comment \"Class describe entertaiment books\"@en ;\\n    rdfs:subClassOf :Book .\\n\\n:Genre a owl:Class ;\\n    rdfs:label \"Genre\"@en ;\\n    rdfs:comment \"Class describe Genre book\"@en .\\n\\n'"
            ]
          },
          "metadata": {
            "tags": []
          },
          "execution_count": 32
        }
      ]
    },
    {
      "cell_type": "markdown",
      "metadata": {
        "id": "cJX2tHjCwdbC"
      },
      "source": [
        "# Class"
      ]
    },
    {
      "cell_type": "code",
      "metadata": {
        "id": "1J8l6v5fwfHy"
      },
      "source": [
        "path = 'http://www.semanticweb.org/vasilii/ontologies/2021/3/book_onto#'\n",
        "\n",
        "# Class\n",
        "TAGS = URIRef(path + 'Tags')\n",
        "BOOK = URIRef(path + 'Book')\n",
        "\n",
        "STATUS_BAD = URIRef(path + 'Bad')\n",
        "STATUS_GOOD = URIRef(path + 'Good')\n",
        "STATUS_SATISFACTORY = URIRef(path + 'Satisfactory')\n",
        "GENRE = URIRef(path + 'Genre')\n",
        "AUTHOR = URIRef(path + 'Author')\n",
        "EDUCATIONAL_BOOK = URIRef(path + 'Educational_book')\n",
        "ENTERTAIMENT_BOOK = URIRef(path + 'Entertainment_book')\n",
        "\n",
        "NAME_GENRES = {\n",
        "    'Фэнтези': URIRef(path + 'Fentezi'),\n",
        "    'ЛитРПГ': URIRef(path + 'Litrpg'),\n",
        "    'Любовные романы': URIRef(path + 'Lyubovnye_romany'),\n",
        "    'Фантастика': URIRef(path + 'Fantastika'),\n",
        "    'Исторический роман': URIRef(path + 'Istoricheskiy_roman'),\n",
        "    'Молодежная проза': URIRef(path + 'Molodejnaya_proza'),\n",
        "    'Попаданцы': URIRef(path + 'Popadancy'),\n",
        "    'Женский роман': URIRef(path + 'Jenskaya_proza'),\n",
        "    'Фанфик': URIRef(path + 'Fanfik'),\n",
        "    'Детективы': URIRef(path + 'Detektivy'),\n",
        "    'Проза': URIRef(path + 'Proza'),\n",
        "    'Боевик': URIRef(path + 'Boevik'),\n",
        "    'Триллеры': URIRef(path + 'Trillery'),\n",
        "    'Мистика/Ужасы': URIRef(path + 'Mistikaujasy'),\n",
        "    'Разное': URIRef(path + 'Raznoe'),\n",
        "}"
      ],
      "execution_count": 33,
      "outputs": []
    },
    {
      "cell_type": "markdown",
      "metadata": {
        "id": "73N0LPqTwhZT"
      },
      "source": [
        "# Object Property"
      ]
    },
    {
      "cell_type": "code",
      "metadata": {
        "id": "gWdP1vGewkL2"
      },
      "source": [
        "# Object Property\n",
        "HAS_STATUS = URIRef(path + 'hasStatus')\n",
        "HAS_AUTHOR = URIRef(path + 'hasAuthor')\n",
        "HAS_GENRE = URIRef(path + 'hasGenre')\n",
        "HAS_TAGS = URIRef(path + 'hasTags')"
      ],
      "execution_count": 34,
      "outputs": []
    },
    {
      "cell_type": "markdown",
      "metadata": {
        "id": "IWBnB2-Jwosm"
      },
      "source": [
        "# Data Property"
      ]
    },
    {
      "cell_type": "code",
      "metadata": {
        "id": "60a5-aFbwkld"
      },
      "source": [
        "# Data Property\n",
        "HAS_RATE = URIRef(path + 'hasRate')\n",
        "HAS_FAVORITES = URIRef(path + 'hasFavorites')\n",
        "HAS_VIEWS = URIRef(path + 'hasViews')\n",
        "HAS_NAME = URIRef(path + 'hasName')\n",
        "HAS_URL = URIRef(path + 'hasURL')\n",
        "HAS_NUMBER_OF_PAGES = URIRef(path + 'hasNumberOfPages')\n",
        "HAS_DESCRIPTION = URIRef(path + 'hasDescription')\n",
        "HAS_DATE_OF_PUBLICATION = URIRef(path + 'hasDateOfPublication')"
      ],
      "execution_count": 35,
      "outputs": []
    },
    {
      "cell_type": "markdown",
      "metadata": {
        "id": "oEXx5Am5wvQq"
      },
      "source": [
        "# Loads data"
      ]
    },
    {
      "cell_type": "markdown",
      "metadata": {
        "id": "nV6A8A4Iwyy6"
      },
      "source": [
        "## Get data from JSON file\n"
      ]
    },
    {
      "cell_type": "code",
      "metadata": {
        "colab": {
          "base_uri": "https://localhost:8080/"
        },
        "id": "v7kUABBHwtZ4",
        "outputId": "2f014f16-f1fb-4842-d6d0-73e21c421c9c"
      },
      "source": [
        "import json\n",
        "\n",
        "def get_data_json(path: str):\n",
        "  with open(path, 'r') as f:\n",
        "    data = json.load(f)\n",
        "    return data\n",
        "\n",
        "data = get_data_json('data.json')\n",
        "data[0]"
      ],
      "execution_count": 36,
      "outputs": [
        {
          "output_type": "execute_result",
          "data": {
            "text/plain": [
              "{'author': [{'author_name': 'Лира Алая',\n",
              "   'author_page': 'https://litnet.com/ru/lira-alaya-u530349'}],\n",
              " 'book_tags': ['бытовое фэнтези',\n",
              "  'неунывающая героиня',\n",
              "  'говорящая таблеточная машина'],\n",
              " 'book_url': 'https://litnet.com/ru/book/tabletochku-vashe-temneishestvo-b333552',\n",
              " 'description': '\\nТаблеточку, Ваше Темнейшество?\\nЛира Алая\\n                Прислонилась к таблеточной машине и попала в другой мир? Не теряйся! Провизор ты или кто? Зря латынь учила, что ли? Сойдёшь за ведьму! Аптеку откроешь.\\r\\nСветлые тут, ко... подробнее\\nВ тексте есть:  бытовое фэнтези, неунывающая героиня, говорящая таблеточная машина\\n\\n\\n\\ue86a\\n                        В процессе: 15 Мая\\n                        55 стр\\n\\n\\n278441\\n19292\\n\\n\\n',\n",
              " 'favourites': 19292,\n",
              " 'genre': 'Фэнтези',\n",
              " 'number_pages': 55,\n",
              " 'rating': 2330,\n",
              " 'title': 'Таблеточку, Ваше Темнейшество?',\n",
              " 'type_book': 'Entertainment_book',\n",
              " 'views': 278441}"
            ]
          },
          "metadata": {
            "tags": []
          },
          "execution_count": 36
        }
      ]
    },
    {
      "cell_type": "markdown",
      "metadata": {
        "id": "Xl7Ad_Vew9OO"
      },
      "source": [
        "## Add data in graph"
      ]
    },
    {
      "cell_type": "code",
      "metadata": {
        "id": "gsofKuJaw29b"
      },
      "source": [
        "from rdflib import Literal, XSD, DCTERMS\n",
        "import re\n",
        "\n",
        "def replace_space(text):\n",
        "  text = re.findall(r'[\\w]+', text)\n",
        "  return '_'.join(text).rstrip()\n",
        "\n",
        "\n",
        "def add_author(authors: list, book_uri):\n",
        "  for author in authors:\n",
        "    author_name = URIRef(path + replace_space(author['author_name']))\n",
        "\n",
        "    graph.add((author_name, RDF.type, AUTHOR))\n",
        "    graph.add((author_name, HAS_URL, Literal(author['author_page'])))\n",
        "    graph.add((author_name, HAS_AUTHOR, book_uri))\n",
        "\n",
        "\n",
        "def add_genre(genre: str, book_uri):\n",
        "  graph.add((book_uri, RDF.type, NAME_GENRES[genre]))\n",
        "  graph.add((book_uri, HAS_GENRE, NAME_GENRES[genre]))\n",
        "  graph.add((NAME_GENRES[genre], HAS_NAME, Literal(genre, datatype=XSD.string)))\n",
        "\n",
        "\n",
        "def add_views(views: int, book_uri):\n",
        "  graph.add((book_uri, HAS_VIEWS, Literal(views, datatype=XSD.integer)))\n",
        "\n",
        "\n",
        "def add_number_pages(cnt_page: int, book_uri):\n",
        "  graph.add((book_uri, HAS_NUMBER_OF_PAGES, Literal(cnt_page, datatype=XSD.integer)))\n",
        "\n",
        "\n",
        "def add_favorites(favorites: int, book_uri):\n",
        "  graph.add((book_uri, HAS_FAVORITES, Literal(favorites, datatype=XSD.integer)))\n",
        "\n",
        "\n",
        "def add_description(desc: str, book_uri):\n",
        "  graph.add((book_uri, HAS_DESCRIPTION, Literal(desc, datatype=XSD.string)))\n",
        "\n",
        "\n",
        "def add_status(rate: int, book_uri):\n",
        "  if rate > 5000:\n",
        "    graph.add((book_uri, HAS_RATE, Literal(rate, datatype=XSD.integer)))\n",
        "    graph.add((book_uri, RDF.type, STATUS_GOOD))\n",
        "    graph.add((STATUS_GOOD, HAS_STATUS, book_uri))\n",
        "\n",
        "  elif rate > 1000 and rate <= 5000:\n",
        "    graph.add((book_uri, HAS_RATE, Literal(rate, datatype=XSD.integer)))\n",
        "    graph.add((book_uri, RDF.type, STATUS_SATISFACTORY))\n",
        "    graph.add((STATUS_SATISFACTORY, HAS_STATUS, book_uri))\n",
        "  else:\n",
        "    graph.add((book_uri, HAS_RATE, Literal(rate, datatype=XSD.integer)))\n",
        "    graph.add((book_uri, RDF.type, STATUS_BAD))\n",
        "    graph.add((STATUS_BAD, HAS_STATUS, book_uri))\n",
        "\n",
        "\n",
        "\n",
        "def add_book_tags(tags: list, book_uri):\n",
        "  for tag in tags:\n",
        "    tag = URIRef(path + replace_space(tag))\n",
        "    graph.add((tag, RDF.type, TAGS))\n",
        "    graph.add((tag, HAS_NAME, Literal(tag, datatype=XSD.string)))\n",
        "    graph.add((tag, HAS_TAGS, book_uri))\n",
        "\n",
        "\n",
        "def add_book(book: dict):\n",
        "  book_uri = URIRef(path + replace_space(book['title']))\n",
        "\n",
        "  if book['type_book'] == 'Entertainment_book':\n",
        "    graph.add((book_uri, RDF.type, ENTERTAIMENT_BOOK))\n",
        "  else:\n",
        "    graph.add((book_uri, RDF.type, EDUCATIONAL_BOOK))\n",
        "\n",
        "  graph.add((book_uri, HAS_NAME, Literal(book['title'], datatype=XSD.string)))\n",
        "  graph.add((book_uri, HAS_URL, Literal(book['book_url'], datatype=XSD.string)))\n",
        "\n",
        "  add_status(book['rating'], book_uri)\n",
        "  add_number_pages(book['number_pages'], book_uri)\n",
        "  add_author(book['author'], book_uri)\n",
        "  add_book_tags(book['book_tags'], book_uri)\n",
        "  add_genre(book['genre'], book_uri)\n",
        "  add_views(book['views'], book_uri)\n",
        "  add_favorites(book['favourites'], book_uri)\n",
        "  add_description(book['description'], book_uri)\n"
      ],
      "execution_count": 37,
      "outputs": []
    },
    {
      "cell_type": "code",
      "metadata": {
        "id": "7xBWtpePxB-B"
      },
      "source": [
        "for el in data:\n",
        "  add_book(el)"
      ],
      "execution_count": 38,
      "outputs": []
    },
    {
      "cell_type": "markdown",
      "metadata": {
        "id": "MP1r0etE7nL3"
      },
      "source": [
        "## Save data in .owl file"
      ]
    },
    {
      "cell_type": "code",
      "metadata": {
        "id": "6K8qfRP6xESD"
      },
      "source": [
        "graph.serialize(\"book_ontology.rdf\", format=\"application/rdf+xml\")"
      ],
      "execution_count": 46,
      "outputs": []
    },
    {
      "cell_type": "markdown",
      "metadata": {
        "id": "zCZQKad0hTVZ"
      },
      "source": [
        "# Query in ontology"
      ]
    },
    {
      "cell_type": "code",
      "metadata": {
        "colab": {
          "base_uri": "https://localhost:8080/"
        },
        "id": "hTjUTqn7XGvz",
        "outputId": "2fb66ca9-23ac-4447-a00e-b21d8abd887a"
      },
      "source": [
        "# Топ 10 популярных книг \n",
        "qv1= graph.query(\"\"\"\n",
        "  PREFIX rdf: <http://www.w3.org/1999/02/22-rdf-syntax-ns#>\n",
        "  PREFIX owl: <http://www.w3.org/2002/07/owl#>\n",
        "  PREFIX rdfs: <http://www.w3.org/2000/01/rdf-schema#>\n",
        "  PREFIX xsd: <http://www.w3.org/2001/XMLSchema#>\n",
        "  PREFIX path: <http://www.semanticweb.org/vasilii/ontologies/2021/3/book_onto#>\n",
        "  SELECT ?y ?r\n",
        "    WHERE {\n",
        "      ?b rdf:type path:Entertainment_book .\n",
        "      ?b path:hasRate ?r .\n",
        "      ?b path:hasName ?y\n",
        "      FILTER (?r > 20000)\n",
        "    } LIMIT 10\n",
        "\"\"\")\n",
        "for row in qv1:\n",
        "    print(\"%s %s\" % row)"
      ],
      "execution_count": 40,
      "outputs": [
        {
          "output_type": "stream",
          "text": [
            "Смертельный способ выйти замуж 24211\n",
            "Искажающие реальность-2 20534\n",
            "Попаданка в Академии драконов 20825\n",
            "Я - Стрела. Отбор в академию Стражей 20054\n",
            "Селфи на балконе 23621\n",
            "Невеста на неделю, или Моя навеки 22353\n",
            "Маленькое чудо для злодея 28704\n",
            "Мой (не)любимый дракон. Книга 2 20130\n",
            "Невеста из другого мира 2. Свет Полуночи 27945\n",
            "Зачем я ему? 27010\n"
          ],
          "name": "stdout"
        }
      ]
    },
    {
      "cell_type": "code",
      "metadata": {
        "colab": {
          "base_uri": "https://localhost:8080/"
        },
        "id": "HE8BVzJyYZzg",
        "outputId": "a23e921f-fd72-4459-8010-a162d0554b0f"
      },
      "source": [
        "# У каких книг жанра X количество просмотров превышает Y?\n",
        "qv2= graph.query(\"\"\"\n",
        "  PREFIX rdf: <http://www.w3.org/1999/02/22-rdf-syntax-ns#>\n",
        "  PREFIX owl: <http://www.w3.org/2002/07/owl#>\n",
        "  PREFIX rdfs: <http://www.w3.org/2000/01/rdf-schema#>\n",
        "  PREFIX xsd: <http://www.w3.org/2001/XMLSchema#>\n",
        "  PREFIX path: <http://www.semanticweb.org/vasilii/ontologies/2021/3/book_onto#>\n",
        "  SELECT ?y ?v\n",
        "  WHERE {\n",
        "    ?b rdf:type path:Entertainment_book .\n",
        "    ?b path:hasGenre path:Boevik .\n",
        "    ?b path:hasViews ?v . \n",
        "    ?b path:hasName ?y\n",
        "    FILTER (?v > 500000)\n",
        "  }\"\"\")\n",
        "for row in qv2:\n",
        "    print(\"%s %s\" % row)"
      ],
      "execution_count": 41,
      "outputs": [
        {
          "output_type": "stream",
          "text": [
            "Задача выжить 725034\n",
            "Новое Начало. Книга Первая 792966\n",
            "Серый кукловод. Часть 1 712620\n",
            "Новое Начало. Книга Вторая 502248\n"
          ],
          "name": "stdout"
        }
      ]
    },
    {
      "cell_type": "code",
      "metadata": {
        "colab": {
          "base_uri": "https://localhost:8080/"
        },
        "id": "JJc-Ef7X1r2C",
        "outputId": "f57fd3e9-706d-4c9e-e8a9-275c195ada05"
      },
      "source": [
        "# Наиболее часто добавляемые книги в библиотеку жанра боевик?\n",
        "qv3= graph.query(\"\"\"\n",
        "  PREFIX rdf: <http://www.w3.org/1999/02/22-rdf-syntax-ns#>\n",
        "  PREFIX owl: <http://www.w3.org/2002/07/owl#>\n",
        "  PREFIX rdfs: <http://www.w3.org/2000/01/rdf-schema#>\n",
        "  PREFIX xsd: <http://www.w3.org/2001/XMLSchema#>\n",
        "  PREFIX path: <http://www.semanticweb.org/vasilii/ontologies/2021/3/book_onto#>\n",
        "  SELECT ?y ?f\n",
        "  WHERE {\n",
        "    ?b rdf:type path:Entertainment_book .\n",
        "    ?b path:hasGenre path:Boevik .\n",
        "    ?b path:hasFavorites ?f . \n",
        "    ?b path:hasName ?y\n",
        "  }\n",
        "  ORDER BY DESC(?f)\n",
        "  LIMIT 10\n",
        "  \"\"\")\n",
        "for row in qv3:\n",
        "    print(\"%s %s\" % row)"
      ],
      "execution_count": 42,
      "outputs": [
        {
          "output_type": "stream",
          "text": [
            "Поварёшка 13040\n",
            "Новое Начало. Книга Первая 11300\n",
            "Серый кукловод. Часть 1 9534\n",
            "Новое Начало. Книга Вторая 8835\n",
            "Новое Начало. Книга Третья 7507\n",
            "Колонизация 6469\n",
            "Механист 5622\n",
            "Задача выжить 4462\n",
            "Арсанты. Дети богов. 4067\n",
            "Падший 3629\n"
          ],
          "name": "stdout"
        }
      ]
    },
    {
      "cell_type": "code",
      "metadata": {
        "colab": {
          "base_uri": "https://localhost:8080/"
        },
        "id": "J52DNmWhxDmU",
        "outputId": "cd9c0daa-aa9e-4e0d-8d4f-fdb85d61f401"
      },
      "source": [
        "# Какие книги статуса X чаще все добавляют в свою коллекцию?\n",
        "qv4= graph.query(\"\"\"\n",
        "  PREFIX rdf: <http://www.w3.org/1999/02/22-rdf-syntax-ns#>\n",
        "  PREFIX owl: <http://www.w3.org/2002/07/owl#>\n",
        "  PREFIX rdfs: <http://www.w3.org/2000/01/rdf-schema#>\n",
        "  PREFIX xsd: <http://www.w3.org/2001/XMLSchema#>\n",
        "  PREFIX path: <http://www.semanticweb.org/vasilii/ontologies/2021/3/book_onto#>\n",
        "  SELECT ?y ?f\n",
        "  WHERE {\n",
        "    ?b rdf:type path:Entertainment_book .\n",
        "    ?b rdf:type path:Good .\n",
        "    ?b path:hasFavorites ?f . \n",
        "    ?b path:hasName ?y\n",
        "  } \n",
        "  ORDER BY DESC(?f)\n",
        "  LIMIT 10\n",
        "  \"\"\")\n",
        "\n",
        "for row in qv4:\n",
        "    print(\"%s %s\" % row)"
      ],
      "execution_count": 43,
      "outputs": [
        {
          "output_type": "stream",
          "text": [
            "Опасный босс 80126\n",
            "Мой лунный эльф, или Как не влюбиться по уши 59539\n",
            "Взрывная смесь  58884\n",
            "Меняю на нового ... или обмен по-русски 58524\n",
            "Драконий подарок. Королевская академия Драко 57307\n",
            "Попаданка в Академии драконов 49651\n",
            "Невеста из другого мира 49081\n",
            "Пленница лунного эльфа 45390\n",
            "Смертельный способ выйти замуж 42686\n",
            "Маленькое чудо для злодея 42621\n"
          ],
          "name": "stdout"
        }
      ]
    },
    {
      "cell_type": "markdown",
      "metadata": {
        "id": "84s5J5TvxrGE"
      },
      "source": [
        "# Generate documentation"
      ]
    },
    {
      "cell_type": "code",
      "metadata": {
        "colab": {
          "base_uri": "https://localhost:8080/"
        },
        "id": "WBUop3k4uAr_",
        "outputId": "f27e93e9-7a17-4151-d2f7-a2b0a78df4aa"
      },
      "source": [
        "!pip install pylode"
      ],
      "execution_count": 18,
      "outputs": [
        {
          "output_type": "stream",
          "text": [
            "Collecting pylode\n",
            "\u001b[?25l  Downloading https://files.pythonhosted.org/packages/4e/df/97be1bb7693bab6505004fe9fde0cabfaf9b38ec89f1eb60187cd34d88ff/pyLODE-2.9.2-py2.py3-none-any.whl (134kB)\n",
            "\u001b[K     |████████████████████████████████| 143kB 6.6MB/s \n",
            "\u001b[?25hCollecting rdflib-jsonld>=0.5.0\n",
            "\u001b[?25l  Downloading https://files.pythonhosted.org/packages/f5/17/45e137be0d93b70827fe5529c0400731344a978bc792193d7d9152e6dbe4/rdflib-jsonld-0.5.0.tar.gz (55kB)\n",
            "\u001b[K     |████████████████████████████████| 61kB 5.2MB/s \n",
            "\u001b[?25hRequirement already satisfied: markdown in /usr/local/lib/python3.7/dist-packages (from pylode) (3.3.4)\n",
            "Requirement already satisfied: jinja2 in /usr/local/lib/python3.7/dist-packages (from pylode) (2.11.3)\n",
            "Requirement already satisfied: requests in /usr/local/lib/python3.7/dist-packages (from pylode) (2.23.0)\n",
            "Requirement already satisfied: rdflib>=5.0.0 in /usr/local/lib/python3.7/dist-packages (from pylode) (5.0.0)\n",
            "Requirement already satisfied: importlib-metadata; python_version < \"3.8\" in /usr/local/lib/python3.7/dist-packages (from markdown->pylode) (4.0.1)\n",
            "Requirement already satisfied: MarkupSafe>=0.23 in /usr/local/lib/python3.7/dist-packages (from jinja2->pylode) (2.0.0)\n",
            "Requirement already satisfied: idna<3,>=2.5 in /usr/local/lib/python3.7/dist-packages (from requests->pylode) (2.10)\n",
            "Requirement already satisfied: urllib3!=1.25.0,!=1.25.1,<1.26,>=1.21.1 in /usr/local/lib/python3.7/dist-packages (from requests->pylode) (1.24.3)\n",
            "Requirement already satisfied: chardet<4,>=3.0.2 in /usr/local/lib/python3.7/dist-packages (from requests->pylode) (3.0.4)\n",
            "Requirement already satisfied: certifi>=2017.4.17 in /usr/local/lib/python3.7/dist-packages (from requests->pylode) (2020.12.5)\n",
            "Requirement already satisfied: isodate in /usr/local/lib/python3.7/dist-packages (from rdflib>=5.0.0->pylode) (0.6.0)\n",
            "Requirement already satisfied: six in /usr/local/lib/python3.7/dist-packages (from rdflib>=5.0.0->pylode) (1.15.0)\n",
            "Requirement already satisfied: pyparsing in /usr/local/lib/python3.7/dist-packages (from rdflib>=5.0.0->pylode) (2.4.7)\n",
            "Requirement already satisfied: typing-extensions>=3.6.4; python_version < \"3.8\" in /usr/local/lib/python3.7/dist-packages (from importlib-metadata; python_version < \"3.8\"->markdown->pylode) (3.7.4.3)\n",
            "Requirement already satisfied: zipp>=0.5 in /usr/local/lib/python3.7/dist-packages (from importlib-metadata; python_version < \"3.8\"->markdown->pylode) (3.4.1)\n",
            "Building wheels for collected packages: rdflib-jsonld\n",
            "  Building wheel for rdflib-jsonld (setup.py) ... \u001b[?25l\u001b[?25hdone\n",
            "  Created wheel for rdflib-jsonld: filename=rdflib_jsonld-0.5.0-py2.py3-none-any.whl size=15348 sha256=8cd8bb18537239d789fc3976303ba5f37829a719eeaf12f0d3ce40884f98e3a6\n",
            "  Stored in directory: /root/.cache/pip/wheels/8d/e4/7f/9ebcb3e400c694e645c3adba40ef3e9bda78384ac3b9b0d13d\n",
            "Successfully built rdflib-jsonld\n",
            "Installing collected packages: rdflib-jsonld, pylode\n",
            "Successfully installed pylode-2.9.2 rdflib-jsonld-0.5.0\n"
          ],
          "name": "stdout"
        }
      ]
    },
    {
      "cell_type": "code",
      "metadata": {
        "id": "TMF7y4biNBs8"
      },
      "source": [
        "import pylode\n",
        "\n",
        "html = pylode.MakeDocco(input_data_file='book_onto3.owl', outputformat=\"html\").document()\n",
        "\n",
        "f = open('doc.html', 'w')\n",
        "f.write(html)\n",
        "f.close()"
      ],
      "execution_count": 19,
      "outputs": []
    },
    {
      "cell_type": "markdown",
      "metadata": {
        "id": "3SrivQ7wZv38"
      },
      "source": [
        "# VOID"
      ]
    },
    {
      "cell_type": "code",
      "metadata": {
        "colab": {
          "base_uri": "https://localhost:8080/"
        },
        "id": "Z2C9xsHtu4GR",
        "outputId": "c84a481c-07f9-4e7e-c8d3-8969de99c038"
      },
      "source": [
        "from rdflib.void import generateVoID\n",
        "\n",
        "prefix = dict(graph.namespaces())['']\n",
        "\n",
        "graph.add((prefix, DCTERMS.title, Literal('Selection of books')))\n",
        "graph.add((prefix, DCTERMS.publisher, Literal('Kuryshev Vasilii')))\n",
        "\n",
        "void_graph, _ = generateVoID(graph)\n",
        "print(void_graph.serialize(format='turtle').decode('utf-8'))"
      ],
      "execution_count": 44,
      "outputs": [
        {
          "output_type": "stream",
          "text": [
            "@prefix ns1: <http://rdfs.org/ns/void#> .\n",
            "@prefix rdfs: <http://www.w3.org/2000/01/rdf-schema#> .\n",
            "@prefix xsd: <http://www.w3.org/2001/XMLSchema#> .\n",
            "\n",
            "<http://example.org/Dataset> a ns1:Dataset ;\n",
            "    ns1:classPartition <http://example.org/Dataset_class0>,\n",
            "        <http://example.org/Dataset_class1>,\n",
            "        <http://example.org/Dataset_class10>,\n",
            "        <http://example.org/Dataset_class11>,\n",
            "        <http://example.org/Dataset_class12>,\n",
            "        <http://example.org/Dataset_class13>,\n",
            "        <http://example.org/Dataset_class14>,\n",
            "        <http://example.org/Dataset_class15>,\n",
            "        <http://example.org/Dataset_class16>,\n",
            "        <http://example.org/Dataset_class17>,\n",
            "        <http://example.org/Dataset_class18>,\n",
            "        <http://example.org/Dataset_class19>,\n",
            "        <http://example.org/Dataset_class2>,\n",
            "        <http://example.org/Dataset_class20>,\n",
            "        <http://example.org/Dataset_class21>,\n",
            "        <http://example.org/Dataset_class22>,\n",
            "        <http://example.org/Dataset_class23>,\n",
            "        <http://example.org/Dataset_class24>,\n",
            "        <http://example.org/Dataset_class25>,\n",
            "        <http://example.org/Dataset_class3>,\n",
            "        <http://example.org/Dataset_class4>,\n",
            "        <http://example.org/Dataset_class5>,\n",
            "        <http://example.org/Dataset_class6>,\n",
            "        <http://example.org/Dataset_class7>,\n",
            "        <http://example.org/Dataset_class8>,\n",
            "        <http://example.org/Dataset_class9> ;\n",
            "    ns1:classes 26 ;\n",
            "    ns1:distinctObjects 17362 ;\n",
            "    ns1:distinctSubjects 5621 ;\n",
            "    ns1:properties 20 ;\n",
            "    ns1:propertyPartition <http://example.org/Dataset_property0>,\n",
            "        <http://example.org/Dataset_property1>,\n",
            "        <http://example.org/Dataset_property10>,\n",
            "        <http://example.org/Dataset_property11>,\n",
            "        <http://example.org/Dataset_property12>,\n",
            "        <http://example.org/Dataset_property13>,\n",
            "        <http://example.org/Dataset_property14>,\n",
            "        <http://example.org/Dataset_property15>,\n",
            "        <http://example.org/Dataset_property16>,\n",
            "        <http://example.org/Dataset_property17>,\n",
            "        <http://example.org/Dataset_property18>,\n",
            "        <http://example.org/Dataset_property19>,\n",
            "        <http://example.org/Dataset_property2>,\n",
            "        <http://example.org/Dataset_property3>,\n",
            "        <http://example.org/Dataset_property4>,\n",
            "        <http://example.org/Dataset_property5>,\n",
            "        <http://example.org/Dataset_property6>,\n",
            "        <http://example.org/Dataset_property7>,\n",
            "        <http://example.org/Dataset_property8>,\n",
            "        <http://example.org/Dataset_property9> ;\n",
            "    ns1:triples 43613 .\n",
            "\n",
            "<http://example.org/Dataset_class0> a ns1:Dataset ;\n",
            "    ns1:class <http://www.semanticweb.org/vasilii/ontologies/2021/3/book_onto#Tags> ;\n",
            "    ns1:classes 1 ;\n",
            "    ns1:distinctObjects 4359 ;\n",
            "    ns1:distinctSubjects 2151 ;\n",
            "    ns1:entities 2151 ;\n",
            "    ns1:properties 3 ;\n",
            "    ns1:triples 10732 .\n",
            "\n",
            "<http://example.org/Dataset_class1> a ns1:Dataset ;\n",
            "    ns1:class <http://www.semanticweb.org/vasilii/ontologies/2021/3/book_onto#Bad> ;\n",
            "    ns1:classes 1 ;\n",
            "    ns1:distinctObjects 6494 ;\n",
            "    ns1:distinctSubjects 1337 ;\n",
            "    ns1:entities 1337 ;\n",
            "    ns1:properties 9 ;\n",
            "    ns1:triples 15285 .\n",
            "\n",
            "<http://example.org/Dataset_class10> a ns1:Dataset ;\n",
            "    ns1:class <http://www.semanticweb.org/vasilii/ontologies/2021/3/book_onto#Author> ;\n",
            "    ns1:classes 1 ;\n",
            "    ns1:distinctObjects 3432 ;\n",
            "    ns1:distinctSubjects 1224 ;\n",
            "    ns1:entities 1224 ;\n",
            "    ns1:properties 3 ;\n",
            "    ns1:triples 4738 .\n",
            "\n",
            "<http://example.org/Dataset_class11> a ns1:Dataset ;\n",
            "    ns1:class <http://www.semanticweb.org/vasilii/ontologies/2021/3/book_onto#Lyubovnye_romany> ;\n",
            "    ns1:classes 1 ;\n",
            "    ns1:distinctObjects 1426 ;\n",
            "    ns1:distinctSubjects 180 ;\n",
            "    ns1:entities 180 ;\n",
            "    ns1:properties 9 ;\n",
            "    ns1:triples 2443 .\n",
            "\n",
            "<http://example.org/Dataset_class12> a ns1:Dataset ;\n",
            "    ns1:class <http://www.semanticweb.org/vasilii/ontologies/2021/3/book_onto#Boevik> ;\n",
            "    ns1:classes 1 ;\n",
            "    ns1:distinctObjects 980 ;\n",
            "    ns1:distinctSubjects 174 ;\n",
            "    ns1:entities 174 ;\n",
            "    ns1:properties 9 ;\n",
            "    ns1:triples 1993 .\n",
            "\n",
            "<http://example.org/Dataset_class13> a ns1:Dataset ;\n",
            "    ns1:class <http://www.semanticweb.org/vasilii/ontologies/2021/3/book_onto#Fanfik> ;\n",
            "    ns1:classes 1 ;\n",
            "    ns1:distinctObjects 1083 ;\n",
            "    ns1:distinctSubjects 179 ;\n",
            "    ns1:entities 179 ;\n",
            "    ns1:properties 9 ;\n",
            "    ns1:triples 1979 .\n",
            "\n",
            "<http://example.org/Dataset_class14> a ns1:Dataset ;\n",
            "    ns1:class <http://www.semanticweb.org/vasilii/ontologies/2021/3/book_onto#Popadancy> ;\n",
            "    ns1:classes 1 ;\n",
            "    ns1:distinctObjects 1336 ;\n",
            "    ns1:distinctSubjects 180 ;\n",
            "    ns1:entities 180 ;\n",
            "    ns1:properties 9 ;\n",
            "    ns1:triples 2241 .\n",
            "\n",
            "<http://example.org/Dataset_class15> a ns1:Dataset ;\n",
            "    ns1:class <http://www.semanticweb.org/vasilii/ontologies/2021/3/book_onto#Fentezi> ;\n",
            "    ns1:classes 1 ;\n",
            "    ns1:distinctObjects 1348 ;\n",
            "    ns1:distinctSubjects 180 ;\n",
            "    ns1:entities 180 ;\n",
            "    ns1:properties 9 ;\n",
            "    ns1:triples 2291 .\n",
            "\n",
            "<http://example.org/Dataset_class16> a ns1:Dataset ;\n",
            "    ns1:class <http://www.semanticweb.org/vasilii/ontologies/2021/3/book_onto#Trillery> ;\n",
            "    ns1:classes 1 ;\n",
            "    ns1:distinctObjects 850 ;\n",
            "    ns1:distinctSubjects 180 ;\n",
            "    ns1:entities 180 ;\n",
            "    ns1:properties 9 ;\n",
            "    ns1:triples 2017 .\n",
            "\n",
            "<http://example.org/Dataset_class17> a ns1:Dataset ;\n",
            "    ns1:class <http://www.semanticweb.org/vasilii/ontologies/2021/3/book_onto#Raznoe> ;\n",
            "    ns1:classes 1 ;\n",
            "    ns1:distinctObjects 1238 ;\n",
            "    ns1:distinctSubjects 180 ;\n",
            "    ns1:entities 180 ;\n",
            "    ns1:properties 9 ;\n",
            "    ns1:triples 2077 .\n",
            "\n",
            "<http://example.org/Dataset_class18> a ns1:Dataset ;\n",
            "    ns1:class <http://www.semanticweb.org/vasilii/ontologies/2021/3/book_onto#Istoricheskiy_roman> ;\n",
            "    ns1:classes 1 ;\n",
            "    ns1:distinctObjects 1090 ;\n",
            "    ns1:distinctSubjects 178 ;\n",
            "    ns1:entities 178 ;\n",
            "    ns1:properties 9 ;\n",
            "    ns1:triples 2012 .\n",
            "\n",
            "<http://example.org/Dataset_class19> a ns1:Dataset ;\n",
            "    ns1:class <http://www.semanticweb.org/vasilii/ontologies/2021/3/book_onto#Jenskaya_proza> ;\n",
            "    ns1:classes 1 ;\n",
            "    ns1:distinctObjects 1411 ;\n",
            "    ns1:distinctSubjects 180 ;\n",
            "    ns1:entities 180 ;\n",
            "    ns1:properties 9 ;\n",
            "    ns1:triples 2549 .\n",
            "\n",
            "<http://example.org/Dataset_class2> a ns1:Dataset ;\n",
            "    ns1:class <http://www.semanticweb.org/vasilii/ontologies/2021/3/book_onto#Entertainment_book> ;\n",
            "    ns1:classes 1 ;\n",
            "    ns1:distinctObjects 11736 ;\n",
            "    ns1:distinctSubjects 2207 ;\n",
            "    ns1:entities 2207 ;\n",
            "    ns1:properties 9 ;\n",
            "    ns1:triples 25794 .\n",
            "\n",
            "<http://example.org/Dataset_class20> a ns1:Dataset ;\n",
            "    ns1:class <http://www.semanticweb.org/vasilii/ontologies/2021/3/book_onto#Fantastika> ;\n",
            "    ns1:classes 1 ;\n",
            "    ns1:distinctObjects 1261 ;\n",
            "    ns1:distinctSubjects 180 ;\n",
            "    ns1:entities 180 ;\n",
            "    ns1:properties 9 ;\n",
            "    ns1:triples 2274 .\n",
            "\n",
            "<http://example.org/Dataset_class21> a ns1:Dataset ;\n",
            "    ns1:class <http://www.w3.org/2002/07/owl#Class> ;\n",
            "    ns1:classes 1 ;\n",
            "    ns1:distinctObjects 2238 ;\n",
            "    ns1:distinctSubjects 25 ;\n",
            "    ns1:entities 25 ;\n",
            "    ns1:properties 6 ;\n",
            "    ns1:triples 2284 .\n",
            "\n",
            "<http://example.org/Dataset_class22> a ns1:Dataset ;\n",
            "    ns1:class <http://www.w3.org/2002/07/owl#InverseFunctionalProperty> ;\n",
            "    ns1:classes 1 ;\n",
            "    ns1:distinctObjects 7 ;\n",
            "    ns1:distinctSubjects 2 ;\n",
            "    ns1:entities 2 ;\n",
            "    ns1:properties 4 ;\n",
            "    ns1:triples 12 .\n",
            "\n",
            "<http://example.org/Dataset_class23> a ns1:Dataset ;\n",
            "    ns1:class <http://www.w3.org/2002/07/owl#Ontology> ;\n",
            "    ns1:classes 1 ;\n",
            "    ns1:distinctObjects 1 ;\n",
            "    ns1:distinctSubjects 1 ;\n",
            "    ns1:entities 1 ;\n",
            "    ns1:properties 1 ;\n",
            "    ns1:triples 1 .\n",
            "\n",
            "<http://example.org/Dataset_class24> a ns1:Dataset ;\n",
            "    ns1:class <http://www.w3.org/2002/07/owl#ObjectProperty> ;\n",
            "    ns1:classes 1 ;\n",
            "    ns1:distinctObjects 9 ;\n",
            "    ns1:distinctSubjects 4 ;\n",
            "    ns1:entities 4 ;\n",
            "    ns1:properties 4 ;\n",
            "    ns1:triples 22 .\n",
            "\n",
            "<http://example.org/Dataset_class25> a ns1:Dataset ;\n",
            "    ns1:class <http://www.w3.org/2002/07/owl#DatatypeProperty> ;\n",
            "    ns1:classes 1 ;\n",
            "    ns1:distinctObjects 9 ;\n",
            "    ns1:distinctSubjects 7 ;\n",
            "    ns1:entities 7 ;\n",
            "    ns1:properties 4 ;\n",
            "    ns1:triples 39 .\n",
            "\n",
            "<http://example.org/Dataset_class3> a ns1:Dataset ;\n",
            "    ns1:class <http://www.semanticweb.org/vasilii/ontologies/2021/3/book_onto#Satisfactory> ;\n",
            "    ns1:classes 1 ;\n",
            "    ns1:distinctObjects 4191 ;\n",
            "    ns1:distinctSubjects 620 ;\n",
            "    ns1:entities 620 ;\n",
            "    ns1:properties 9 ;\n",
            "    ns1:triples 7543 .\n",
            "\n",
            "<http://example.org/Dataset_class4> a ns1:Dataset ;\n",
            "    ns1:class <http://www.semanticweb.org/vasilii/ontologies/2021/3/book_onto#Good> ;\n",
            "    ns1:classes 1 ;\n",
            "    ns1:distinctObjects 1819 ;\n",
            "    ns1:distinctSubjects 255 ;\n",
            "    ns1:entities 255 ;\n",
            "    ns1:properties 9 ;\n",
            "    ns1:triples 3071 .\n",
            "\n",
            "<http://example.org/Dataset_class5> a ns1:Dataset ;\n",
            "    ns1:class <http://www.semanticweb.org/vasilii/ontologies/2021/3/book_onto#Molodejnaya_proza> ;\n",
            "    ns1:classes 1 ;\n",
            "    ns1:distinctObjects 1327 ;\n",
            "    ns1:distinctSubjects 180 ;\n",
            "    ns1:entities 180 ;\n",
            "    ns1:properties 9 ;\n",
            "    ns1:triples 2256 .\n",
            "\n",
            "<http://example.org/Dataset_class6> a ns1:Dataset ;\n",
            "    ns1:class <http://www.semanticweb.org/vasilii/ontologies/2021/3/book_onto#Proza> ;\n",
            "    ns1:classes 1 ;\n",
            "    ns1:distinctObjects 1431 ;\n",
            "    ns1:distinctSubjects 180 ;\n",
            "    ns1:entities 180 ;\n",
            "    ns1:properties 9 ;\n",
            "    ns1:triples 2594 .\n",
            "\n",
            "<http://example.org/Dataset_class7> a ns1:Dataset ;\n",
            "    ns1:class <http://www.semanticweb.org/vasilii/ontologies/2021/3/book_onto#Mistikaujasy> ;\n",
            "    ns1:classes 1 ;\n",
            "    ns1:distinctObjects 1067 ;\n",
            "    ns1:distinctSubjects 177 ;\n",
            "    ns1:entities 177 ;\n",
            "    ns1:properties 9 ;\n",
            "    ns1:triples 1969 .\n",
            "\n",
            "<http://example.org/Dataset_class8> a ns1:Dataset ;\n",
            "    ns1:class <http://www.semanticweb.org/vasilii/ontologies/2021/3/book_onto#Litrpg> ;\n",
            "    ns1:classes 1 ;\n",
            "    ns1:distinctObjects 1237 ;\n",
            "    ns1:distinctSubjects 180 ;\n",
            "    ns1:entities 180 ;\n",
            "    ns1:properties 9 ;\n",
            "    ns1:triples 2211 .\n",
            "\n",
            "<http://example.org/Dataset_class9> a ns1:Dataset ;\n",
            "    ns1:class <http://www.semanticweb.org/vasilii/ontologies/2021/3/book_onto#Detektivy> ;\n",
            "    ns1:classes 1 ;\n",
            "    ns1:distinctObjects 1237 ;\n",
            "    ns1:distinctSubjects 180 ;\n",
            "    ns1:entities 180 ;\n",
            "    ns1:properties 9 ;\n",
            "    ns1:triples 2041 .\n",
            "\n",
            "<http://example.org/Dataset_property0> a ns1:Dataset ;\n",
            "    ns1:classes 3 ;\n",
            "    ns1:distinctObjects 6 ;\n",
            "    ns1:distinctSubjects 12 ;\n",
            "    ns1:entities 11 ;\n",
            "    ns1:properties 1 ;\n",
            "    ns1:property rdfs:range ;\n",
            "    ns1:triples 12 .\n",
            "\n",
            "<http://example.org/Dataset_property1> a ns1:Dataset ;\n",
            "    ns1:classes 20 ;\n",
            "    ns1:distinctObjects 3444 ;\n",
            "    ns1:distinctSubjects 3431 ;\n",
            "    ns1:entities 3431 ;\n",
            "    ns1:properties 1 ;\n",
            "    ns1:property <http://www.semanticweb.org/vasilii/ontologies/2021/3/book_onto#hasURL> ;\n",
            "    ns1:triples 3444 .\n",
            "\n",
            "<http://example.org/Dataset_property10> a ns1:Dataset ;\n",
            "    ns1:classes 19 ;\n",
            "    ns1:distinctObjects 2398 ;\n",
            "    ns1:distinctSubjects 2207 ;\n",
            "    ns1:entities 2207 ;\n",
            "    ns1:properties 1 ;\n",
            "    ns1:property <http://www.semanticweb.org/vasilii/ontologies/2021/3/book_onto#hasViews> ;\n",
            "    ns1:triples 2447 .\n",
            "\n",
            "<http://example.org/Dataset_property11> a ns1:Dataset ;\n",
            "    ns1:classes 1 ;\n",
            "    ns1:distinctObjects 2207 ;\n",
            "    ns1:distinctSubjects 2151 ;\n",
            "    ns1:entities 2151 ;\n",
            "    ns1:properties 1 ;\n",
            "    ns1:property <http://www.semanticweb.org/vasilii/ontologies/2021/3/book_onto#hasTags> ;\n",
            "    ns1:triples 6430 .\n",
            "\n",
            "<http://example.org/Dataset_property12> a ns1:Dataset ;\n",
            "    ns1:classes 1 ;\n",
            "    ns1:distinctObjects 2207 ;\n",
            "    ns1:distinctSubjects 3 ;\n",
            "    ns1:entities 3 ;\n",
            "    ns1:properties 1 ;\n",
            "    ns1:property <http://www.semanticweb.org/vasilii/ontologies/2021/3/book_onto#hasStatus> ;\n",
            "    ns1:triples 2212 .\n",
            "\n",
            "<http://example.org/Dataset_property13> a ns1:Dataset ;\n",
            "    ns1:classes 19 ;\n",
            "    ns1:distinctObjects 15 ;\n",
            "    ns1:distinctSubjects 2207 ;\n",
            "    ns1:entities 2207 ;\n",
            "    ns1:properties 1 ;\n",
            "    ns1:property <http://www.semanticweb.org/vasilii/ontologies/2021/3/book_onto#hasGenre> ;\n",
            "    ns1:triples 2688 .\n",
            "\n",
            "<http://example.org/Dataset_property14> a ns1:Dataset ;\n",
            "    ns1:classes 3 ;\n",
            "    ns1:distinctObjects 5 ;\n",
            "    ns1:distinctSubjects 11 ;\n",
            "    ns1:entities 11 ;\n",
            "    ns1:properties 1 ;\n",
            "    ns1:property rdfs:domain ;\n",
            "    ns1:triples 26 .\n",
            "\n",
            "<http://example.org/Dataset_property15> a ns1:Dataset ;\n",
            "    ns1:classes 1 ;\n",
            "    ns1:distinctObjects 6 ;\n",
            "    ns1:distinctSubjects 6 ;\n",
            "    ns1:entities 6 ;\n",
            "    ns1:properties 1 ;\n",
            "    ns1:property rdfs:comment ;\n",
            "    ns1:triples 6 .\n",
            "\n",
            "<http://example.org/Dataset_property16> a ns1:Dataset ;\n",
            "    ns1:classes 1 ;\n",
            "    ns1:distinctObjects 3 ;\n",
            "    ns1:distinctSubjects 20 ;\n",
            "    ns1:entities 20 ;\n",
            "    ns1:properties 1 ;\n",
            "    ns1:property rdfs:subClassOf ;\n",
            "    ns1:triples 20 .\n",
            "\n",
            "<http://example.org/Dataset_property17> a ns1:Dataset ;\n",
            "    ns1:classes 1 ;\n",
            "    ns1:distinctObjects 2207 ;\n",
            "    ns1:distinctSubjects 1224 ;\n",
            "    ns1:entities 1224 ;\n",
            "    ns1:properties 1 ;\n",
            "    ns1:property <http://www.semanticweb.org/vasilii/ontologies/2021/3/book_onto#hasAuthor> ;\n",
            "    ns1:triples 2290 .\n",
            "\n",
            "<http://example.org/Dataset_property18> a ns1:Dataset ;\n",
            "    ns1:classes 19 ;\n",
            "    ns1:distinctObjects 494 ;\n",
            "    ns1:distinctSubjects 2207 ;\n",
            "    ns1:entities 2207 ;\n",
            "    ns1:properties 1 ;\n",
            "    ns1:property <http://www.semanticweb.org/vasilii/ontologies/2021/3/book_onto#hasNumberOfPages> ;\n",
            "    ns1:triples 2220 .\n",
            "\n",
            "<http://example.org/Dataset_property19> a ns1:Dataset ;\n",
            "    ns1:classes 1 ;\n",
            "    ns1:distinctObjects 6 ;\n",
            "    ns1:distinctSubjects 6 ;\n",
            "    ns1:entities 6 ;\n",
            "    ns1:properties 1 ;\n",
            "    ns1:property rdfs:label ;\n",
            "    ns1:triples 6 .\n",
            "\n",
            "<http://example.org/Dataset_property2> a ns1:Dataset ;\n",
            "    ns1:classes 0 ;\n",
            "    ns1:distinctObjects 1 ;\n",
            "    ns1:distinctSubjects 1 ;\n",
            "    ns1:entities 0 ;\n",
            "    ns1:properties 1 ;\n",
            "    ns1:property <http://purl.org/dc/terms/publisher> ;\n",
            "    ns1:triples 1 .\n",
            "\n",
            "<http://example.org/Dataset_property3> a ns1:Dataset ;\n",
            "    ns1:classes 3 ;\n",
            "    ns1:distinctObjects 2 ;\n",
            "    ns1:distinctSubjects 11 ;\n",
            "    ns1:entities 11 ;\n",
            "    ns1:properties 1 ;\n",
            "    ns1:property rdfs:subPropertyOf ;\n",
            "    ns1:triples 11 .\n",
            "\n",
            "<http://example.org/Dataset_property4> a ns1:Dataset ;\n",
            "    ns1:classes 26 ;\n",
            "    ns1:distinctObjects 26 ;\n",
            "    ns1:distinctSubjects 5619 ;\n",
            "    ns1:entities 5619 ;\n",
            "    ns1:properties 1 ;\n",
            "    ns1:property rdf:type ;\n",
            "    ns1:triples 10521 .\n",
            "\n",
            "<http://example.org/Dataset_property5> a ns1:Dataset ;\n",
            "    ns1:classes 0 ;\n",
            "    ns1:distinctObjects 1 ;\n",
            "    ns1:distinctSubjects 1 ;\n",
            "    ns1:entities 1 ;\n",
            "    ns1:properties 1 ;\n",
            "    ns1:property <http://purl.org/dc/terms/title> ;\n",
            "    ns1:triples 1 .\n",
            "\n",
            "<http://example.org/Dataset_property6> a ns1:Dataset ;\n",
            "    ns1:classes 19 ;\n",
            "    ns1:distinctObjects 1440 ;\n",
            "    ns1:distinctSubjects 2207 ;\n",
            "    ns1:entities 2207 ;\n",
            "    ns1:properties 1 ;\n",
            "    ns1:property <http://www.semanticweb.org/vasilii/ontologies/2021/3/book_onto#hasRate> ;\n",
            "    ns1:triples 2225 .\n",
            "\n",
            "<http://example.org/Dataset_property7> a ns1:Dataset ;\n",
            "    ns1:classes 19 ;\n",
            "    ns1:distinctObjects 1685 ;\n",
            "    ns1:distinctSubjects 2207 ;\n",
            "    ns1:entities 2207 ;\n",
            "    ns1:properties 1 ;\n",
            "    ns1:property <http://www.semanticweb.org/vasilii/ontologies/2021/3/book_onto#hasFavorites> ;\n",
            "    ns1:triples 2229 .\n",
            "\n",
            "<http://example.org/Dataset_property8> a ns1:Dataset ;\n",
            "    ns1:classes 21 ;\n",
            "    ns1:distinctObjects 4374 ;\n",
            "    ns1:distinctSubjects 4373 ;\n",
            "    ns1:entities 4373 ;\n",
            "    ns1:properties 1 ;\n",
            "    ns1:property <http://www.semanticweb.org/vasilii/ontologies/2021/3/book_onto#hasName> ;\n",
            "    ns1:triples 4374 .\n",
            "\n",
            "<http://example.org/Dataset_property9> a ns1:Dataset ;\n",
            "    ns1:classes 19 ;\n",
            "    ns1:distinctObjects 2450 ;\n",
            "    ns1:distinctSubjects 2207 ;\n",
            "    ns1:entities 2207 ;\n",
            "    ns1:properties 1 ;\n",
            "    ns1:property <http://www.semanticweb.org/vasilii/ontologies/2021/3/book_onto#hasDescription> ;\n",
            "    ns1:triples 2450 .\n",
            "\n",
            "\n"
          ],
          "name": "stdout"
        }
      ]
    },
    {
      "cell_type": "markdown",
      "metadata": {
        "id": "k7DdSO0FbukG"
      },
      "source": [
        "# Reasoner"
      ]
    },
    {
      "cell_type": "code",
      "metadata": {
        "colab": {
          "base_uri": "https://localhost:8080/"
        },
        "id": "RXLWEdGZgznJ",
        "outputId": "5353780e-33a8-4b9c-8de1-2a301c3e3b49"
      },
      "source": [
        "!pip install owlready2"
      ],
      "execution_count": 48,
      "outputs": [
        {
          "output_type": "stream",
          "text": [
            "Collecting owlready2\n",
            "\u001b[?25l  Downloading https://files.pythonhosted.org/packages/a5/be/8202aa87b939a758acb997ab74a37951e5ca23adf44e68faa6386479e002/Owlready2-0.31.tar.gz (23.7MB)\n",
            "\u001b[K     |████████████████████████████████| 23.7MB 146kB/s \n",
            "\u001b[?25hBuilding wheels for collected packages: owlready2\n",
            "  Building wheel for owlready2 (setup.py) ... \u001b[?25l\u001b[?25hdone\n",
            "  Created wheel for owlready2: filename=Owlready2-0.31-cp37-cp37m-linux_x86_64.whl size=20409719 sha256=0f225bafd009c1c25dfc19db6a701ef75c95cd243f6107d24c754572df8f11a0\n",
            "  Stored in directory: /root/.cache/pip/wheels/9d/17/e4/54fb8381c51746a0d686b06ef3e3f607789defd8e1580bcb1b\n",
            "Successfully built owlready2\n",
            "Installing collected packages: owlready2\n",
            "Successfully installed owlready2-0.31\n"
          ],
          "name": "stdout"
        }
      ]
    },
    {
      "cell_type": "code",
      "metadata": {
        "colab": {
          "base_uri": "https://localhost:8080/"
        },
        "id": "OdYT2TClbqLw",
        "outputId": "06de9a77-c185-4f98-f8b3-402fdd404198"
      },
      "source": [
        "from owlready2 import *\n",
        "\n",
        "onto = get_ontology('book_ontology.rdf')\n",
        "with onto:\n",
        "  sync_reasoner()\n"
      ],
      "execution_count": 49,
      "outputs": [
        {
          "output_type": "stream",
          "text": [
            "* Owlready2 * Running HermiT...\n",
            "    java -Xmx2000M -cp /usr/local/lib/python3.7/dist-packages/owlready2/hermit:/usr/local/lib/python3.7/dist-packages/owlready2/hermit/HermiT.jar org.semanticweb.HermiT.cli.CommandLine -c -O -D -I file:////tmp/tmpsoruzl22\n",
            "* Owlready2 * HermiT took 1.5090694427490234 seconds\n",
            "* Owlready * (NB: only changes on entities loaded in Python are shown, other changes are done but not listed)\n"
          ],
          "name": "stderr"
        }
      ]
    },
    {
      "cell_type": "code",
      "metadata": {
        "id": "GB5WWf-D1yEO"
      },
      "source": [
        ""
      ],
      "execution_count": null,
      "outputs": []
    }
  ]
}