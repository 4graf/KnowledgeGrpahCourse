{
  "nbformat": 4,
  "nbformat_minor": 0,
  "metadata": {
    "colab": {
      "name": "Ontology.ipynb",
      "provenance": [],
      "collapsed_sections": [
        "hjJlCVLu500g",
        "i5YoPltValjI",
        "V6eDt2f3arv6"
      ],
      "toc_visible": true
    },
    "kernelspec": {
      "name": "python3",
      "display_name": "Python 3"
    },
    "language_info": {
      "name": "python"
    }
  },
  "cells": [
    {
      "cell_type": "markdown",
      "metadata": {
        "id": "NYkkrFC0ya9q"
      },
      "source": [
        "# **Наполнение графа знаний значениями:**"
      ]
    },
    {
      "cell_type": "markdown",
      "metadata": {
        "id": "3n1hJMUfywGX"
      },
      "source": [
        "Подключение (установка) нужных библиотек:"
      ]
    },
    {
      "cell_type": "code",
      "metadata": {
        "id": "3OcAetEsyUuk"
      },
      "source": [
        "from re import T\n",
        "import subprocess\n",
        "import sys\n",
        "import ssl\n",
        "import io\n",
        "import os\n",
        "try:\n",
        "    import steamspypi\n",
        "except:\n",
        "    subprocess.check_call([sys.executable, \"-m\", \"pip\", \"install\", \"steamspypi\"])\n",
        "finally:\n",
        "    import steamspypi\n",
        "try:\n",
        "    import requests\n",
        "except:\n",
        "    subprocess.check_call([sys.executable, \"-m\", \"pip\", \"install\", \"requests\"])\n",
        "finally:\n",
        "    import requests\n",
        "try:\n",
        "    from howlongtobeatpy import HowLongToBeat as hltb\n",
        "except:\n",
        "    subprocess.check_call([sys.executable, \"-m\", \"pip\", \"install\", \"howlongtobeatpy\"])\n",
        "finally:\n",
        "    from howlongtobeatpy import HowLongToBeat as hltb\n",
        "try:\n",
        "    import rdflib\n",
        "    from rdflib import Graph, Literal, RDF, URIRef\n",
        "    from rdflib.namespace import FOAF , XSD\n",
        "except:\n",
        "    subprocess.check_call([sys.executable, \"-m\", \"pip\", \"install\", \"rdflib\"])\n",
        "finally:\n",
        "    import rdflib\n",
        "    from rdflib import Graph, Literal, RDF, URIRef, Namespace\n",
        "    from rdflib.namespace import FOAF , XSD\n"
      ],
      "execution_count": 109,
      "outputs": []
    },
    {
      "cell_type": "markdown",
      "metadata": {
        "id": "qXwS4w20y6xk"
      },
      "source": [
        "Инициализация графа:"
      ]
    },
    {
      "cell_type": "code",
      "metadata": {
        "id": "WHABI67hzCZx",
        "colab": {
          "base_uri": "https://localhost:8080/"
        },
        "outputId": "60ff30d0-0923-416a-ddc1-7e296225dcb7"
      },
      "source": [
        "gr = Graph()\n",
        "gr.parse(\"SteamKB.owl\", format=\"xml\")"
      ],
      "execution_count": 110,
      "outputs": [
        {
          "output_type": "execute_result",
          "data": {
            "text/plain": [
              "<Graph identifier=N4137f5a9c65d4c2e867ef49dd1a17b06 (<class 'rdflib.graph.Graph'>)>"
            ]
          },
          "metadata": {
            "tags": []
          },
          "execution_count": 110
        }
      ]
    },
    {
      "cell_type": "markdown",
      "metadata": {
        "id": "eqD8MKwqzGIf"
      },
      "source": [
        "Для удобства добавления значения создаём класс \"Игра\":"
      ]
    },
    {
      "cell_type": "code",
      "metadata": {
        "id": "Ymtwn-lazSTP"
      },
      "source": [
        "class Game:\n",
        "    appid = 0\n",
        "    tag = []\n",
        "    name = \"\"\n",
        "    peak_activity = \"\"\n",
        "    avg_players = 0\n",
        "    owners = 0\n",
        "    rating = 0.0\n",
        "    price = 0\n",
        "    genre = []\n",
        "    playtime = 0"
      ],
      "execution_count": 111,
      "outputs": []
    },
    {
      "cell_type": "markdown",
      "metadata": {
        "id": "Nobuw2pBzVmS"
      },
      "source": [
        "Функция парсинга SteamDB (нужна для определения времени суток, в которых активность пиковая):"
      ]
    },
    {
      "cell_type": "code",
      "metadata": {
        "id": "TyStTkqBzoTj"
      },
      "source": [
        "def parseSteamDBTime(srch):\n",
        "    cut = srch.split(\"<h2>Peak daily concurrent players:</h2>\")[1].split(\"<svg>\")[1]\n",
        "    \n",
        "    night = int(cut.split(\"[\")[3].split(\", \")[1])\n",
        "    morn = int(cut.split(\"[\")[4].split(\", \")[1])\n",
        "    day = int(cut.split(\"[\")[5].split(\", \")[1])\n",
        "    even = int(cut.split(\"[\")[6].split(\", \")[1])\n",
        "    m = max(night, morn, day, even)\n",
        "    s = \"\"\n",
        "    if m == night:\n",
        "        s = (\"Night\")\n",
        "    if m == morn:\n",
        "        s = (\"Morning\")\n",
        "    if m == day:\n",
        "        s = (\"Day\")\n",
        "    if m == even:\n",
        "        s = (\"Evening\")\n",
        "    return s"
      ],
      "execution_count": 112,
      "outputs": []
    },
    {
      "cell_type": "markdown",
      "metadata": {
        "id": "-1jWkB4yztee"
      },
      "source": [
        "Функция поиска всех необходимых данных. Принимает AppID приложения, возвращает объект класса \"Игра\":"
      ]
    },
    {
      "cell_type": "code",
      "metadata": {
        "id": "-E4W_Zfp0K_f"
      },
      "source": [
        "def search(i):\n",
        "    g = Game\n",
        "    data_request = dict()\n",
        "    data_request['request'] = 'appdetails'\n",
        "    data_request['appid'] = str(i)\n",
        "    try:\n",
        "        try:\n",
        "            d = steamspypi.download(data_request)\n",
        "            result = hltb().search(d['name'])\n",
        "            try:\n",
        "                if d['name'] != None and d['median_forever'] > 0 and result != None:\n",
        "                    steamspy = requests.get('https://steamspy.com/app/'+str(d['appid']))\n",
        "                    g.appid = i\n",
        "                    g.name = d['name']\n",
        "                    try:\n",
        "                        g.peak_activity = parseSteamDBTime(steamspy.text)\n",
        "                    except:\n",
        "                        g.peak_activity = \"Evening\"\n",
        "                    g.avg_players = int(d['median_forever'])\n",
        "                    g.owners = int(d['owners'].replace(\",\", \"\").split(\" \")[0])\n",
        "                    if float(d['negative']) > 0.0:\n",
        "                        g.rating = float(d['positive']) / float(d['negative'])\n",
        "                    else:\n",
        "                        g.rating = 1000000.0\n",
        "                    g.price = int(d['price'])\n",
        "                    g.genre = d['genre'].split(\", \")\n",
        "                    g.tag = d['tags']\n",
        "                    try:\n",
        "                        g.playtime = int(str(result[0].gameplay_main).replace('½', ''))\n",
        "                        if g.playtime == -1:\n",
        "                            g.playtime = 9999\n",
        "                    except:\n",
        "                        g.playtime = 9999\n",
        "                        print(\"HLTB parsing error!\")\n",
        "                    return g\n",
        "            except KeyError:\n",
        "                print(str(i)+\":\\t\"+'KeyError!')\n",
        "\n",
        "        except ssl.SSLError:\n",
        "            print(str(i)+\":\\t\"+'SSLError!')\n",
        "    except requests.exceptions.ConnectionError:\n",
        "        print(str(i)+\":\\t\"+'ConnectionError!')\n",
        "    return g\n"
      ],
      "execution_count": 113,
      "outputs": []
    },
    {
      "cell_type": "markdown",
      "metadata": {
        "id": "7YAE_TCw0N9N"
      },
      "source": [
        "Функция добавления в граф новой игры. Принимает объект класса \"Игра\":\n",
        "\n"
      ]
    },
    {
      "cell_type": "code",
      "metadata": {
        "id": "IEANaOtv0hVF"
      },
      "source": [
        "def rdfAdd(gm):\n",
        "    ns = ('http://www.semanticweb.org/svg/ontologies/2021/4/untitled-ontology-3#')\n",
        "    g = gr\n",
        "    ref = URIRef(Namespace(ns+str(gm.appid)))\n",
        "    g.add((ref, RDF.type, URIRef(ns+\"Game\")))\n",
        "    for t in gm.tag:\n",
        "        g.add((URIRef(ns+t), RDF.type, URIRef(ns+\"Tag\")))\n",
        "        g.add((ref, URIRef(ns+\"hasTag\"), URIRef(ns+t)))\n",
        "    for t in gm.genre:\n",
        "        g.add((URIRef(ns+t), RDF.type, URIRef(ns+\"Genre\")))\n",
        "        g.add((ref, URIRef(ns+\"hasGenre\"), URIRef(ns+t)))\n",
        "    \n",
        "    #g.add((URIRef(ns+gm.name), RDF.type, URIRef(ns+\"name\")))\n",
        "    #g.add(ref, URIRef(ns+\"name\"),Literal(gm.name, datatype=XSD.string))\n",
        "\n",
        "    g.add((ref, URIRef(ns+\"appid\"), Literal(gm.appid, datatype=XSD.int)))\n",
        "    g.add((ref, URIRef(ns+\"name\"), Literal(gm.name, datatype=XSD.string)))\n",
        "    g.add((ref, URIRef(ns+\"owners\"), Literal(gm.owners, datatype=XSD.int)))\n",
        "    g.add((ref, URIRef(ns+\"peak_activity\"), Literal(gm.peak_activity, datatype=XSD.string)))\n",
        "    g.add((ref, URIRef(ns+\"players_amt\"), Literal(gm.avg_players, datatype=XSD.int)))\n",
        "    g.add((ref, URIRef(ns+\"playtime\"), Literal(gm.playtime, datatype=XSD.int)))\n",
        "    g.add((ref, URIRef(ns+\"price\"), Literal(gm.price, datatype=XSD.int)))\n",
        "    g.add((ref, URIRef(ns+\"rating\"), Literal(gm.rating, datatype=XSD.float)))\n",
        "    g.serialize(destination='output2.owl', format='xml')\n"
      ],
      "execution_count": 114,
      "outputs": []
    },
    {
      "cell_type": "markdown",
      "metadata": {
        "id": "_pbCcuhJ0lpu"
      },
      "source": [
        "Цикл ввода данных в граф:"
      ]
    },
    {
      "cell_type": "code",
      "metadata": {
        "id": "kOzkKW3-0q_p",
        "colab": {
          "base_uri": "https://localhost:8080/"
        },
        "outputId": "186299a1-b90e-49a4-b480-29a5605cadbb"
      },
      "source": [
        "opType = 'load'\n",
        "start = 0\n",
        "f = open('dataset2.csv', 'wb' )\n",
        "s = \"\"\n",
        "s+='\\n\\r'\n",
        "f.write(s[:-1].encode())\n",
        "fn = open('2000Games.csv', 'r')\n",
        "lns = fn.readlines()\n",
        "for i in range(1,10):\n",
        "    try:\n",
        "        id=int(lns[i].split(\",\")[0])\n",
        "        g = search(id)\n",
        "        rdfAdd(g)\n",
        "        print(str(i+1)+\": \"+g.name)\n",
        "    except:\n",
        "        print(\"Error!\")\n",
        "gr.serialize(destination='output2.owl', format='xml')"
      ],
      "execution_count": 115,
      "outputs": [
        {
          "output_type": "stream",
          "text": [
            "http://www.semanticweb.org/svg/ontologies/2021/4/untitled-ontology-3#Battle Royale does not look like a valid URI, trying to serialize this will break.\n",
            "http://www.semanticweb.org/svg/ontologies/2021/4/untitled-ontology-3#Battle Royale does not look like a valid URI, trying to serialize this will break.\n",
            "http://www.semanticweb.org/svg/ontologies/2021/4/untitled-ontology-3#Third-Person Shooter does not look like a valid URI, trying to serialize this will break.\n",
            "http://www.semanticweb.org/svg/ontologies/2021/4/untitled-ontology-3#Third-Person Shooter does not look like a valid URI, trying to serialize this will break.\n",
            "http://www.semanticweb.org/svg/ontologies/2021/4/untitled-ontology-3#Online Co-Op does not look like a valid URI, trying to serialize this will break.\n",
            "http://www.semanticweb.org/svg/ontologies/2021/4/untitled-ontology-3#Online Co-Op does not look like a valid URI, trying to serialize this will break.\n",
            "http://www.semanticweb.org/svg/ontologies/2021/4/untitled-ontology-3#Early Access does not look like a valid URI, trying to serialize this will break.\n",
            "http://www.semanticweb.org/svg/ontologies/2021/4/untitled-ontology-3#Early Access does not look like a valid URI, trying to serialize this will break.\n",
            "http://www.semanticweb.org/svg/ontologies/2021/4/untitled-ontology-3#Third Person does not look like a valid URI, trying to serialize this will break.\n",
            "http://www.semanticweb.org/svg/ontologies/2021/4/untitled-ontology-3#Third Person does not look like a valid URI, trying to serialize this will break.\n",
            "http://www.semanticweb.org/svg/ontologies/2021/4/untitled-ontology-3#Massively Multiplayer does not look like a valid URI, trying to serialize this will break.\n",
            "http://www.semanticweb.org/svg/ontologies/2021/4/untitled-ontology-3#Massively Multiplayer does not look like a valid URI, trying to serialize this will break.\n"
          ],
          "name": "stderr"
        },
        {
          "output_type": "stream",
          "text": [
            "HLTB parsing error!\n",
            "2: PLAYERUNKNOWN'S BATTLEGROUNDS\n"
          ],
          "name": "stdout"
        },
        {
          "output_type": "stream",
          "text": [
            "http://www.semanticweb.org/svg/ontologies/2021/4/untitled-ontology-3#Free to Play does not look like a valid URI, trying to serialize this will break.\n",
            "http://www.semanticweb.org/svg/ontologies/2021/4/untitled-ontology-3#Free to Play does not look like a valid URI, trying to serialize this will break.\n",
            "http://www.semanticweb.org/svg/ontologies/2021/4/untitled-ontology-3#Online Co-Op does not look like a valid URI, trying to serialize this will break.\n",
            "http://www.semanticweb.org/svg/ontologies/2021/4/untitled-ontology-3#Online Co-Op does not look like a valid URI, trying to serialize this will break.\n",
            "http://www.semanticweb.org/svg/ontologies/2021/4/untitled-ontology-3#Tower Defense does not look like a valid URI, trying to serialize this will break.\n",
            "http://www.semanticweb.org/svg/ontologies/2021/4/untitled-ontology-3#Tower Defense does not look like a valid URI, trying to serialize this will break.\n",
            "http://www.semanticweb.org/svg/ontologies/2021/4/untitled-ontology-3#Character Customization does not look like a valid URI, trying to serialize this will break.\n",
            "http://www.semanticweb.org/svg/ontologies/2021/4/untitled-ontology-3#Character Customization does not look like a valid URI, trying to serialize this will break.\n",
            "http://www.semanticweb.org/svg/ontologies/2021/4/untitled-ontology-3#Replay Value does not look like a valid URI, trying to serialize this will break.\n",
            "http://www.semanticweb.org/svg/ontologies/2021/4/untitled-ontology-3#Replay Value does not look like a valid URI, trying to serialize this will break.\n",
            "http://www.semanticweb.org/svg/ontologies/2021/4/untitled-ontology-3#Action RPG does not look like a valid URI, trying to serialize this will break.\n",
            "http://www.semanticweb.org/svg/ontologies/2021/4/untitled-ontology-3#Action RPG does not look like a valid URI, trying to serialize this will break.\n",
            "http://www.semanticweb.org/svg/ontologies/2021/4/untitled-ontology-3#Free to Play does not look like a valid URI, trying to serialize this will break.\n",
            "http://www.semanticweb.org/svg/ontologies/2021/4/untitled-ontology-3#Free to Play does not look like a valid URI, trying to serialize this will break.\n"
          ],
          "name": "stderr"
        },
        {
          "output_type": "stream",
          "text": [
            "3: Dota 2\n"
          ],
          "name": "stdout"
        },
        {
          "output_type": "stream",
          "text": [
            "http://www.semanticweb.org/svg/ontologies/2021/4/untitled-ontology-3#Online Co-Op does not look like a valid URI, trying to serialize this will break.\n",
            "http://www.semanticweb.org/svg/ontologies/2021/4/untitled-ontology-3#Online Co-Op does not look like a valid URI, trying to serialize this will break.\n",
            "http://www.semanticweb.org/svg/ontologies/2021/4/untitled-ontology-3#Free to Play does not look like a valid URI, trying to serialize this will break.\n",
            "http://www.semanticweb.org/svg/ontologies/2021/4/untitled-ontology-3#Free to Play does not look like a valid URI, trying to serialize this will break.\n",
            "http://www.semanticweb.org/svg/ontologies/2021/4/untitled-ontology-3#Online Co-Op does not look like a valid URI, trying to serialize this will break.\n",
            "http://www.semanticweb.org/svg/ontologies/2021/4/untitled-ontology-3#Online Co-Op does not look like a valid URI, trying to serialize this will break.\n",
            "http://www.semanticweb.org/svg/ontologies/2021/4/untitled-ontology-3#Free to Play does not look like a valid URI, trying to serialize this will break.\n",
            "http://www.semanticweb.org/svg/ontologies/2021/4/untitled-ontology-3#Free to Play does not look like a valid URI, trying to serialize this will break.\n"
          ],
          "name": "stderr"
        },
        {
          "output_type": "stream",
          "text": [
            "4: Counter-Strike: Global Offensive\n",
            "5: Counter-Strike: Global Offensive\n"
          ],
          "name": "stdout"
        },
        {
          "output_type": "stream",
          "text": [
            "http://www.semanticweb.org/svg/ontologies/2021/4/untitled-ontology-3#Hero Shooter does not look like a valid URI, trying to serialize this will break.\n",
            "http://www.semanticweb.org/svg/ontologies/2021/4/untitled-ontology-3#Hero Shooter does not look like a valid URI, trying to serialize this will break.\n",
            "http://www.semanticweb.org/svg/ontologies/2021/4/untitled-ontology-3#Online Co-Op does not look like a valid URI, trying to serialize this will break.\n",
            "http://www.semanticweb.org/svg/ontologies/2021/4/untitled-ontology-3#Online Co-Op does not look like a valid URI, trying to serialize this will break.\n",
            "http://www.semanticweb.org/svg/ontologies/2021/4/untitled-ontology-3#Psychological Horror does not look like a valid URI, trying to serialize this will break.\n",
            "http://www.semanticweb.org/svg/ontologies/2021/4/untitled-ontology-3#Psychological Horror does not look like a valid URI, trying to serialize this will break.\n",
            "http://www.semanticweb.org/svg/ontologies/2021/4/untitled-ontology-3#Massively Multiplayer does not look like a valid URI, trying to serialize this will break.\n",
            "http://www.semanticweb.org/svg/ontologies/2021/4/untitled-ontology-3#Massively Multiplayer does not look like a valid URI, trying to serialize this will break.\n"
          ],
          "name": "stderr"
        },
        {
          "output_type": "stream",
          "text": [
            "6: Tom Clancy's Rainbow Six Siege\n"
          ],
          "name": "stdout"
        },
        {
          "output_type": "stream",
          "text": [
            "http://www.semanticweb.org/svg/ontologies/2021/4/untitled-ontology-3#Open World does not look like a valid URI, trying to serialize this will break.\n",
            "http://www.semanticweb.org/svg/ontologies/2021/4/untitled-ontology-3#Open World does not look like a valid URI, trying to serialize this will break.\n",
            "http://www.semanticweb.org/svg/ontologies/2021/4/untitled-ontology-3#Automobile Sim does not look like a valid URI, trying to serialize this will break.\n",
            "http://www.semanticweb.org/svg/ontologies/2021/4/untitled-ontology-3#Automobile Sim does not look like a valid URI, trying to serialize this will break.\n",
            "http://www.semanticweb.org/svg/ontologies/2021/4/untitled-ontology-3#Third Person does not look like a valid URI, trying to serialize this will break.\n",
            "http://www.semanticweb.org/svg/ontologies/2021/4/untitled-ontology-3#Third Person does not look like a valid URI, trying to serialize this will break.\n",
            "http://www.semanticweb.org/svg/ontologies/2021/4/untitled-ontology-3#Third-Person Shooter does not look like a valid URI, trying to serialize this will break.\n",
            "http://www.semanticweb.org/svg/ontologies/2021/4/untitled-ontology-3#Third-Person Shooter does not look like a valid URI, trying to serialize this will break.\n",
            "http://www.semanticweb.org/svg/ontologies/2021/4/untitled-ontology-3#Great Soundtrack does not look like a valid URI, trying to serialize this will break.\n",
            "http://www.semanticweb.org/svg/ontologies/2021/4/untitled-ontology-3#Great Soundtrack does not look like a valid URI, trying to serialize this will break.\n"
          ],
          "name": "stderr"
        },
        {
          "output_type": "stream",
          "text": [
            "7: Grand Theft Auto V\n"
          ],
          "name": "stdout"
        },
        {
          "output_type": "stream",
          "text": [
            "http://www.semanticweb.org/svg/ontologies/2021/4/untitled-ontology-3#Free to Play does not look like a valid URI, trying to serialize this will break.\n",
            "http://www.semanticweb.org/svg/ontologies/2021/4/untitled-ontology-3#Free to Play does not look like a valid URI, trying to serialize this will break.\n",
            "http://www.semanticweb.org/svg/ontologies/2021/4/untitled-ontology-3#Action RPG does not look like a valid URI, trying to serialize this will break.\n",
            "http://www.semanticweb.org/svg/ontologies/2021/4/untitled-ontology-3#Action RPG does not look like a valid URI, trying to serialize this will break.\n",
            "http://www.semanticweb.org/svg/ontologies/2021/4/untitled-ontology-3#Hack and Slash does not look like a valid URI, trying to serialize this will break.\n",
            "http://www.semanticweb.org/svg/ontologies/2021/4/untitled-ontology-3#Hack and Slash does not look like a valid URI, trying to serialize this will break.\n",
            "http://www.semanticweb.org/svg/ontologies/2021/4/untitled-ontology-3#Massively Multiplayer does not look like a valid URI, trying to serialize this will break.\n",
            "http://www.semanticweb.org/svg/ontologies/2021/4/untitled-ontology-3#Massively Multiplayer does not look like a valid URI, trying to serialize this will break.\n",
            "http://www.semanticweb.org/svg/ontologies/2021/4/untitled-ontology-3#Dungeon Crawler does not look like a valid URI, trying to serialize this will break.\n",
            "http://www.semanticweb.org/svg/ontologies/2021/4/untitled-ontology-3#Dungeon Crawler does not look like a valid URI, trying to serialize this will break.\n",
            "http://www.semanticweb.org/svg/ontologies/2021/4/untitled-ontology-3#Character Customization does not look like a valid URI, trying to serialize this will break.\n",
            "http://www.semanticweb.org/svg/ontologies/2021/4/untitled-ontology-3#Character Customization does not look like a valid URI, trying to serialize this will break.\n",
            "http://www.semanticweb.org/svg/ontologies/2021/4/untitled-ontology-3#Inventory Management does not look like a valid URI, trying to serialize this will break.\n",
            "http://www.semanticweb.org/svg/ontologies/2021/4/untitled-ontology-3#Inventory Management does not look like a valid URI, trying to serialize this will break.\n",
            "http://www.semanticweb.org/svg/ontologies/2021/4/untitled-ontology-3#Online Co-Op does not look like a valid URI, trying to serialize this will break.\n",
            "http://www.semanticweb.org/svg/ontologies/2021/4/untitled-ontology-3#Online Co-Op does not look like a valid URI, trying to serialize this will break.\n",
            "http://www.semanticweb.org/svg/ontologies/2021/4/untitled-ontology-3#Point & Click does not look like a valid URI, trying to serialize this will break.\n",
            "http://www.semanticweb.org/svg/ontologies/2021/4/untitled-ontology-3#Point & Click does not look like a valid URI, trying to serialize this will break.\n",
            "http://www.semanticweb.org/svg/ontologies/2021/4/untitled-ontology-3#Free to Play does not look like a valid URI, trying to serialize this will break.\n",
            "http://www.semanticweb.org/svg/ontologies/2021/4/untitled-ontology-3#Free to Play does not look like a valid URI, trying to serialize this will break.\n",
            "http://www.semanticweb.org/svg/ontologies/2021/4/untitled-ontology-3#Massively Multiplayer does not look like a valid URI, trying to serialize this will break.\n",
            "http://www.semanticweb.org/svg/ontologies/2021/4/untitled-ontology-3#Massively Multiplayer does not look like a valid URI, trying to serialize this will break.\n"
          ],
          "name": "stderr"
        },
        {
          "output_type": "stream",
          "text": [
            "8: Path of Exile\n"
          ],
          "name": "stdout"
        },
        {
          "output_type": "stream",
          "text": [
            "http://www.semanticweb.org/svg/ontologies/2021/4/untitled-ontology-3#Free to Play does not look like a valid URI, trying to serialize this will break.\n",
            "http://www.semanticweb.org/svg/ontologies/2021/4/untitled-ontology-3#Free to Play does not look like a valid URI, trying to serialize this will break.\n",
            "http://www.semanticweb.org/svg/ontologies/2021/4/untitled-ontology-3#Looter Shooter does not look like a valid URI, trying to serialize this will break.\n",
            "http://www.semanticweb.org/svg/ontologies/2021/4/untitled-ontology-3#Looter Shooter does not look like a valid URI, trying to serialize this will break.\n",
            "http://www.semanticweb.org/svg/ontologies/2021/4/untitled-ontology-3#Third-Person Shooter does not look like a valid URI, trying to serialize this will break.\n",
            "http://www.semanticweb.org/svg/ontologies/2021/4/untitled-ontology-3#Third-Person Shooter does not look like a valid URI, trying to serialize this will break.\n",
            "http://www.semanticweb.org/svg/ontologies/2021/4/untitled-ontology-3#Online Co-Op does not look like a valid URI, trying to serialize this will break.\n",
            "http://www.semanticweb.org/svg/ontologies/2021/4/untitled-ontology-3#Online Co-Op does not look like a valid URI, trying to serialize this will break.\n",
            "http://www.semanticweb.org/svg/ontologies/2021/4/untitled-ontology-3#Third Person does not look like a valid URI, trying to serialize this will break.\n",
            "http://www.semanticweb.org/svg/ontologies/2021/4/untitled-ontology-3#Third Person does not look like a valid URI, trying to serialize this will break.\n",
            "http://www.semanticweb.org/svg/ontologies/2021/4/untitled-ontology-3#Massively Multiplayer does not look like a valid URI, trying to serialize this will break.\n",
            "http://www.semanticweb.org/svg/ontologies/2021/4/untitled-ontology-3#Massively Multiplayer does not look like a valid URI, trying to serialize this will break.\n",
            "http://www.semanticweb.org/svg/ontologies/2021/4/untitled-ontology-3#Hack and Slash does not look like a valid URI, trying to serialize this will break.\n",
            "http://www.semanticweb.org/svg/ontologies/2021/4/untitled-ontology-3#Hack and Slash does not look like a valid URI, trying to serialize this will break.\n",
            "http://www.semanticweb.org/svg/ontologies/2021/4/untitled-ontology-3#Free to Play does not look like a valid URI, trying to serialize this will break.\n",
            "http://www.semanticweb.org/svg/ontologies/2021/4/untitled-ontology-3#Free to Play does not look like a valid URI, trying to serialize this will break.\n"
          ],
          "name": "stderr"
        },
        {
          "output_type": "stream",
          "text": [
            "9: Warframe\n"
          ],
          "name": "stdout"
        },
        {
          "output_type": "stream",
          "text": [
            "http://www.semanticweb.org/svg/ontologies/2021/4/untitled-ontology-3#Free to Play does not look like a valid URI, trying to serialize this will break.\n",
            "http://www.semanticweb.org/svg/ontologies/2021/4/untitled-ontology-3#Free to Play does not look like a valid URI, trying to serialize this will break.\n",
            "http://www.semanticweb.org/svg/ontologies/2021/4/untitled-ontology-3#Hero Shooter does not look like a valid URI, trying to serialize this will break.\n",
            "http://www.semanticweb.org/svg/ontologies/2021/4/untitled-ontology-3#Hero Shooter does not look like a valid URI, trying to serialize this will break.\n",
            "http://www.semanticweb.org/svg/ontologies/2021/4/untitled-ontology-3#Online Co-Op does not look like a valid URI, trying to serialize this will break.\n",
            "http://www.semanticweb.org/svg/ontologies/2021/4/untitled-ontology-3#Online Co-Op does not look like a valid URI, trying to serialize this will break.\n",
            "http://www.semanticweb.org/svg/ontologies/2021/4/untitled-ontology-3#Free to Play does not look like a valid URI, trying to serialize this will break.\n",
            "http://www.semanticweb.org/svg/ontologies/2021/4/untitled-ontology-3#Free to Play does not look like a valid URI, trying to serialize this will break.\n"
          ],
          "name": "stderr"
        },
        {
          "output_type": "stream",
          "text": [
            "10: Team Fortress 2\n"
          ],
          "name": "stdout"
        }
      ]
    },
    {
      "cell_type": "markdown",
      "metadata": {
        "id": "Dj_LuGDF0_si"
      },
      "source": [
        "# **SPARQL-запросы:**"
      ]
    },
    {
      "cell_type": "markdown",
      "metadata": {
        "id": "G2lKpTKy1FJV"
      },
      "source": [
        "Самые недооценённые игры:"
      ]
    },
    {
      "cell_type": "code",
      "metadata": {
        "id": "KChcsuOc0-Tl",
        "colab": {
          "base_uri": "https://localhost:8080/"
        },
        "outputId": "1db39d9b-5fdb-4450-d20a-0ce9847ac031"
      },
      "source": [
        "result = gr.query(\n",
        "    \"\"\"\n",
        "PREFIX rdf: <http://www.w3.org/1999/02/22-rdf-syntax-ns#>\n",
        "PREFIX owl: <http://www.w3.org/2002/07/owl#>\n",
        "PREFIX rdfs: <http://www.w3.org/2000/01/rdf-schema#>\n",
        "PREFIX xsd: <http://www.w3.org/2001/XMLSchema#>\n",
        "PREFIX kg: <http://www.semanticweb.org/svg/ontologies/2021/4/untitled-ontology-3#>\n",
        "SELECT $id $name $players_amt $rating WHERE\n",
        "{\n",
        "\t?id kg:name ?name.\n",
        "\t?id kg:players_amt ?players_amt.\n",
        "\t?id kg:rating ?rating\n",
        "\tFILTER (?players_amt >= 5000 && ?rating <2)\n",
        "}ORDER BY DESC(?players_amt) LIMIT 10\"\"\")\n",
        "\n",
        "for row in result:\n",
        "    print(row['name']+\":\\t\"+row[\"rating\"])"
      ],
      "execution_count": null,
      "outputs": [
        {
          "output_type": "stream",
          "text": [
            "PLAYERUNKNOWN'S BATTLEGROUNDS:\t1.1837943057985774\n"
          ],
          "name": "stdout"
        }
      ]
    },
    {
      "cell_type": "markdown",
      "metadata": {
        "id": "DJa138l52Adt"
      },
      "source": [
        "Самые переоценённые игры:"
      ]
    },
    {
      "cell_type": "code",
      "metadata": {
        "id": "qAnYHsMR2GLs",
        "colab": {
          "base_uri": "https://localhost:8080/"
        },
        "outputId": "89dbb5dd-6a73-48a7-acd5-a23714e6648c"
      },
      "source": [
        "result = gr.query(\n",
        "    \"\"\"\n",
        "PREFIX rdf: <http://www.w3.org/1999/02/22-rdf-syntax-ns#>\n",
        "PREFIX owl: <http://www.w3.org/2002/07/owl#>\n",
        "PREFIX rdfs: <http://www.w3.org/2000/01/rdf-schema#>\n",
        "PREFIX xsd: <http://www.w3.org/2001/XMLSchema#>\n",
        "PREFIX kg: <http://www.semanticweb.org/svg/ontologies/2021/4/untitled-ontology-3#>\n",
        "SELECT $id $name $players_amt $rating WHERE\n",
        "{\n",
        "\t?id kg:name ?name.\n",
        "\t?id kg:players_amt ?players_amt.\n",
        "\t?id kg:rating ?rating\n",
        "\tFILTER (?players_amt < 5000 && ?rating >= 2)\n",
        "}ORDER BY ASC(?players_amt) LIMIT 10\"\"\")\n",
        "for row in result:\n",
        "    print(row['name']+\":\\t\"+row[\"rating\"])"
      ],
      "execution_count": null,
      "outputs": [
        {
          "output_type": "stream",
          "text": [
            "Team Fortress 2:\t15.44155624947253\n",
            "Warframe:\t9.77119242011894\n",
            "Path of Exile:\t12.753925812749342\n",
            "Dota 2:\t5.320749468999696\n",
            "Tom Clancy's Rainbow Six Siege:\t7.386901596963752\n"
          ],
          "name": "stdout"
        }
      ]
    },
    {
      "cell_type": "markdown",
      "metadata": {
        "id": "itEP1N-I2aq8"
      },
      "source": [
        "Во что стоит играть утром:"
      ]
    },
    {
      "cell_type": "code",
      "metadata": {
        "id": "xwTOJYNr2fS8"
      },
      "source": [
        "result = gr.query(\n",
        "    \"\"\"\n",
        "PREFIX rdf: <http://www.w3.org/1999/02/22-rdf-syntax-ns#>\n",
        "PREFIX owl: <http://www.w3.org/2002/07/owl#>\n",
        "PREFIX rdfs: <http://www.w3.org/2000/01/rdf-schema#>\n",
        "PREFIX xsd: <http://www.w3.org/2001/XMLSchema#>\n",
        "PREFIX kg: <http://www.semanticweb.org/svg/ontologies/2021/4/untitled-ontology-3#>\n",
        "SELECT $id $name WHERE\n",
        "{\n",
        "\t?genre rdf:type kg:Genre.\n",
        "\t?id rdf:type kg:Game.\n",
        "\n",
        "\t?id kg:name ?name.\n",
        "\t?id kg:peak_activity ?peak_activity.\n",
        "\tFILTER regex(str(?peak_activity), \"Morning\")\n",
        "\tFILTER regex(str(?genre), \"Massively%20Multiplayer\")\n",
        "}LIMIT 10\n",
        "\"\"\")\n",
        "for row in result:\n",
        "    print(row['name'])"
      ],
      "execution_count": null,
      "outputs": []
    },
    {
      "cell_type": "markdown",
      "metadata": {
        "id": "8f8tam6S2yen"
      },
      "source": [
        "Топ-10 наиболее выгодных игр в жанре \"Стратегия\":"
      ]
    },
    {
      "cell_type": "code",
      "metadata": {
        "id": "ldT8dAhq25mY",
        "colab": {
          "base_uri": "https://localhost:8080/"
        },
        "outputId": "583a48d1-dd5e-42f7-a691-95d1c6687872"
      },
      "source": [
        "result = gr.query(\n",
        "    \"\"\"\n",
        "PREFIX rdf: <http://www.w3.org/1999/02/22-rdf-syntax-ns#>\n",
        "PREFIX owl: <http://www.w3.org/2002/07/owl#>\n",
        "PREFIX rdfs: <http://www.w3.org/2000/01/rdf-schema#>\n",
        "PREFIX xsd: <http://www.w3.org/2001/XMLSchema#>\n",
        "PREFIX kg: <http://www.semanticweb.org/svg/ontologies/2021/4/untitled-ontology-3#>\n",
        "SELECT $id $name $price $rating WHERE\n",
        "{\n",
        "\t?genre rdf:type kg:Genre.\n",
        "\t?id rdf:type kg:Game.\n",
        "\t?id kg:price ?price.\n",
        "\t?id kg:rating ?rating.\n",
        "\t?id kg:name ?name\n",
        "\tFILTER regex(str(?genre), \"Strategy\")\n",
        "\tFILTER (?price > 0)\n",
        "}ORDER BY DESC(?rating / ?price)\n",
        "LIMIT 10\n",
        "\"\"\")\n",
        "for row in result:\n",
        "    print(row['name']+\", \"+row['price']+\" RUR. Rating: \"+row['rating'])"
      ],
      "execution_count": null,
      "outputs": [
        {
          "output_type": "stream",
          "text": [
            "Tom Clancy's Rainbow Six Siege, 1999 RUR. Rating: 7.386901596963752\n",
            "Grand Theft Auto V, 2998 RUR. Rating: 4.717808818246659\n",
            "PLAYERUNKNOWN'S BATTLEGROUNDS, 2999 RUR. Rating: 1.1837943057985774\n"
          ],
          "name": "stdout"
        }
      ]
    },
    {
      "cell_type": "markdown",
      "metadata": {
        "id": "r7so2nKdTmKq"
      },
      "source": [
        "# **Reasoner**"
      ]
    },
    {
      "cell_type": "code",
      "metadata": {
        "colab": {
          "base_uri": "https://localhost:8080/"
        },
        "id": "Bck4iAh1TvEa",
        "outputId": "ed84c376-fbc8-4dce-d27a-b3ddf2a92dc0"
      },
      "source": [
        "try:\n",
        "    from owlready2 import *\n",
        "except:\n",
        "    subprocess.check_call([sys.executable, \"-m\", \"pip\", \"install\", \"owlready2\"])\n",
        "finally:\n",
        "    from owlready2 import *\n",
        "\n",
        "onto = get_ontology(\"output2.owl\").load()\n",
        "with onto:\n",
        "  sync_reasoner()\n",
        "  print(str(onto.different_individuals()))"
      ],
      "execution_count": 116,
      "outputs": [
        {
          "output_type": "stream",
          "text": [
            "* Owlready2 * Running HermiT...\n",
            "    java -Xmx2000M -cp /usr/local/lib/python3.7/dist-packages/owlready2/hermit:/usr/local/lib/python3.7/dist-packages/owlready2/hermit/HermiT.jar org.semanticweb.HermiT.cli.CommandLine -c -O -D -I file:////tmp/tmps2lliq2_\n"
          ],
          "name": "stderr"
        },
        {
          "output_type": "stream",
          "text": [
            "<generator object _GraphManager.different_individuals at 0x7f8413316050>\n"
          ],
          "name": "stdout"
        },
        {
          "output_type": "stream",
          "text": [
            "* Owlready2 * HermiT took 0.8975827693939209 seconds\n",
            "* Owlready * (NB: only changes on entities loaded in Python are shown, other changes are done but not listed)\n"
          ],
          "name": "stderr"
        }
      ]
    },
    {
      "cell_type": "markdown",
      "metadata": {
        "id": "hjJlCVLu500g"
      },
      "source": [
        "# **SHACL**"
      ]
    },
    {
      "cell_type": "markdown",
      "metadata": {
        "id": "LO0enp6e6Dk1"
      },
      "source": [
        "Генерация шейпов:"
      ]
    },
    {
      "cell_type": "code",
      "metadata": {
        "id": "vRLrIGxT6Axn",
        "colab": {
          "base_uri": "https://localhost:8080/"
        },
        "outputId": "c491b685-7809-4ede-ffd4-e5363fb7910b"
      },
      "source": [
        "try:\n",
        "    import shaclgen\n",
        "except:\n",
        "    subprocess.check_call([sys.executable, \"-m\", \"pip\", \"install\", \"shaclgen\"])\n",
        "finally:\n",
        "    import shaclgen\n",
        "stream = os.popen('shaclgen output2.owl')\n",
        "output = stream.read()\n",
        "print (output)"
      ],
      "execution_count": null,
      "outputs": [
        {
          "output_type": "stream",
          "text": [
            "## shape file generated by SHACLGEN\n",
            "@prefix ex: <http://www.example.org/> .\n",
            "@prefix ns1: <http://www.semanticweb.org/svg/ontologies/2021/4/untitled-ontology-3#> .\n",
            "@prefix owl: <http://www.w3.org/2002/07/owl#> .\n",
            "@prefix rdf: <http://www.w3.org/1999/02/22-rdf-syntax-ns#> .\n",
            "@prefix rdfs: <http://www.w3.org/2000/01/rdf-schema#> .\n",
            "@prefix sh: <http://www.w3.org/ns/shacl#> .\n",
            "\n",
            "ex:ns1_Game a sh:NodeShape ;\n",
            "    sh:nodeKind sh:BlankNodeOrIRI ;\n",
            "    sh:property ex:ns1_appid,\n",
            "        ex:ns1_hasTag,\n",
            "        ex:ns1_name,\n",
            "        ex:ns1_owners,\n",
            "        ex:ns1_peak_activity,\n",
            "        ex:ns1_players_amt,\n",
            "        ex:ns1_playtime,\n",
            "        ex:ns1_price,\n",
            "        ex:ns1_rating ;\n",
            "    sh:targetClass ns1:Game .\n",
            "\n",
            "ex:ns1_Genre a sh:NodeShape ;\n",
            "    sh:nodeKind sh:BlankNodeOrIRI ;\n",
            "    sh:targetClass ns1:Genre .\n",
            "\n",
            "ex:ns1_Tag a sh:NodeShape ;\n",
            "    sh:nodeKind sh:BlankNodeOrIRI ;\n",
            "    sh:targetClass ns1:Tag .\n",
            "\n",
            "ex:owl_AllDisjointClasses a sh:NodeShape ;\n",
            "    sh:nodeKind sh:BlankNodeOrIRI ;\n",
            "    sh:property ex:owl_members ;\n",
            "    sh:targetClass owl:AllDisjointClasses .\n",
            "\n",
            "ex:owl_Class a sh:NodeShape ;\n",
            "    sh:nodeKind sh:BlankNodeOrIRI ;\n",
            "    sh:property ex:rdfs_subClassOf ;\n",
            "    sh:targetClass owl:Class .\n",
            "\n",
            "ex:owl_DatatypeProperty a sh:NodeShape ;\n",
            "    sh:nodeKind sh:BlankNodeOrIRI ;\n",
            "    sh:property ex:rdfs_domain,\n",
            "        ex:rdfs_range ;\n",
            "    sh:targetClass owl:DatatypeProperty .\n",
            "\n",
            "ex:owl_ObjectProperty a sh:NodeShape ;\n",
            "    sh:nodeKind sh:BlankNodeOrIRI ;\n",
            "    sh:property ex:rdfs_domain,\n",
            "        ex:rdfs_range ;\n",
            "    sh:targetClass owl:ObjectProperty .\n",
            "\n",
            "ex:owl_Ontology a sh:NodeShape ;\n",
            "    sh:nodeKind sh:BlankNodeOrIRI ;\n",
            "    sh:targetClass owl:Ontology .\n",
            "\n",
            "ex:rdf_first a sh:PropertyShape ;\n",
            "    sh:nodeKind sh:IRI ;\n",
            "    sh:path rdf:first .\n",
            "\n",
            "ex:rdf_rest a sh:PropertyShape ;\n",
            "    sh:path rdf:rest .\n",
            "\n",
            "ex:ns1_appid a sh:PropertyShape ;\n",
            "    sh:nodeKind sh:Literal ;\n",
            "    sh:path ns1:appid .\n",
            "\n",
            "ex:ns1_hasTag a sh:PropertyShape ;\n",
            "    sh:nodeKind sh:IRI ;\n",
            "    sh:path ns1:hasTag .\n",
            "\n",
            "ex:ns1_name a sh:PropertyShape ;\n",
            "    sh:nodeKind sh:Literal ;\n",
            "    sh:path ns1:name .\n",
            "\n",
            "ex:ns1_owners a sh:PropertyShape ;\n",
            "    sh:nodeKind sh:Literal ;\n",
            "    sh:path ns1:owners .\n",
            "\n",
            "ex:ns1_peak_activity a sh:PropertyShape ;\n",
            "    sh:nodeKind sh:Literal ;\n",
            "    sh:path ns1:peak_activity .\n",
            "\n",
            "ex:ns1_players_amt a sh:PropertyShape ;\n",
            "    sh:nodeKind sh:Literal ;\n",
            "    sh:path ns1:players_amt .\n",
            "\n",
            "ex:ns1_playtime a sh:PropertyShape ;\n",
            "    sh:nodeKind sh:Literal ;\n",
            "    sh:path ns1:playtime .\n",
            "\n",
            "ex:ns1_price a sh:PropertyShape ;\n",
            "    sh:nodeKind sh:Literal ;\n",
            "    sh:path ns1:price .\n",
            "\n",
            "ex:ns1_rating a sh:PropertyShape ;\n",
            "    sh:nodeKind sh:Literal ;\n",
            "    sh:path ns1:rating .\n",
            "\n",
            "ex:owl_members a sh:PropertyShape ;\n",
            "    sh:nodeKind sh:BlankNode ;\n",
            "    sh:path owl:members .\n",
            "\n",
            "ex:rdfs_subClassOf a sh:PropertyShape ;\n",
            "    sh:nodeKind sh:IRI ;\n",
            "    sh:path rdfs:subClassOf .\n",
            "\n",
            "ex:rdfs_domain a sh:PropertyShape ;\n",
            "    sh:nodeKind sh:IRI ;\n",
            "    sh:path rdfs:domain .\n",
            "\n",
            "ex:rdfs_range a sh:PropertyShape ;\n",
            "    sh:nodeKind sh:IRI ;\n",
            "    sh:path rdfs:range .\n",
            "\n",
            "\n",
            "\n"
          ],
          "name": "stdout"
        }
      ]
    },
    {
      "cell_type": "markdown",
      "metadata": {
        "id": "RCQdTtavHARu"
      },
      "source": [
        "Валидация:"
      ]
    },
    {
      "cell_type": "code",
      "metadata": {
        "colab": {
          "base_uri": "https://localhost:8080/"
        },
        "id": "ybz9HxIYCVjt",
        "outputId": "394ac086-f3b9-4f91-900c-74149a203ece"
      },
      "source": [
        "try:\n",
        "    from pyshacl import validate\n",
        "except:\n",
        "    subprocess.check_call([sys.executable, \"-m\", \"pip\", \"install\", \"pyshacl\"])\n",
        "finally:\n",
        "    from pyshacl import validate\n",
        "targ_g = gr\n",
        "shacl_g = output\n",
        "\n",
        "validation = validate(targ_g, shacl_g, inference='rdfs', abort_on_error=False)\n",
        "conforms, report_graph, report_text = validation\n",
        "report_graph.serialize(destination='after_validation.owl', format='xml')\n",
        "print(report_text)"
      ],
      "execution_count": null,
      "outputs": [
        {
          "output_type": "stream",
          "text": [
            "Validation Report\n",
            "Conforms: True\n",
            "\n"
          ],
          "name": "stdout"
        }
      ]
    },
    {
      "cell_type": "markdown",
      "metadata": {
        "id": "iNu_-3zlHLKu"
      },
      "source": [
        ""
      ]
    },
    {
      "cell_type": "markdown",
      "metadata": {
        "id": "i5YoPltValjI"
      },
      "source": [
        "# **Документация**"
      ]
    },
    {
      "cell_type": "code",
      "metadata": {
        "colab": {
          "base_uri": "https://localhost:8080/"
        },
        "id": "vqFpiF2saqYS",
        "outputId": "a6d58651-2955-4cff-d0cf-cf84bc7924f5"
      },
      "source": [
        "try:\n",
        "    import pylode\n",
        "except:\n",
        "    subprocess.check_call([sys.executable, \"-m\", \"pip\", \"install\", \"pylode\"])\n",
        "finally:\n",
        "    import pylode\n",
        "\n",
        "html = pylode.MakeDocco(input_data_file='output2.owl', outputformat=\"html\").document()\n",
        "f=open(\"doc.html\", \"w\")\n",
        "f.write(html)\n",
        "f.close()"
      ],
      "execution_count": null,
      "outputs": [
        {
          "output_type": "stream",
          "text": [
            "http://www.semanticweb.org/svg/ontologies/2021/4/untitled-ontology-3#Battle Royale does not look like a valid URI, trying to serialize this will break.\n",
            "http://www.semanticweb.org/svg/ontologies/2021/4/untitled-ontology-3#Third-Person Shooter does not look like a valid URI, trying to serialize this will break.\n",
            "http://www.semanticweb.org/svg/ontologies/2021/4/untitled-ontology-3#Online Co-Op does not look like a valid URI, trying to serialize this will break.\n",
            "http://www.semanticweb.org/svg/ontologies/2021/4/untitled-ontology-3#Early Access does not look like a valid URI, trying to serialize this will break.\n",
            "http://www.semanticweb.org/svg/ontologies/2021/4/untitled-ontology-3#Third Person does not look like a valid URI, trying to serialize this will break.\n",
            "http://www.semanticweb.org/svg/ontologies/2021/4/untitled-ontology-3#Massively Multiplayer does not look like a valid URI, trying to serialize this will break.\n",
            "http://www.semanticweb.org/svg/ontologies/2021/4/untitled-ontology-3#Free to Play does not look like a valid URI, trying to serialize this will break.\n",
            "http://www.semanticweb.org/svg/ontologies/2021/4/untitled-ontology-3#Action RPG does not look like a valid URI, trying to serialize this will break.\n",
            "http://www.semanticweb.org/svg/ontologies/2021/4/untitled-ontology-3#Hack and Slash does not look like a valid URI, trying to serialize this will break.\n",
            "http://www.semanticweb.org/svg/ontologies/2021/4/untitled-ontology-3#Massively Multiplayer does not look like a valid URI, trying to serialize this will break.\n",
            "http://www.semanticweb.org/svg/ontologies/2021/4/untitled-ontology-3#Dungeon Crawler does not look like a valid URI, trying to serialize this will break.\n",
            "http://www.semanticweb.org/svg/ontologies/2021/4/untitled-ontology-3#Character Customization does not look like a valid URI, trying to serialize this will break.\n",
            "http://www.semanticweb.org/svg/ontologies/2021/4/untitled-ontology-3#Inventory Management does not look like a valid URI, trying to serialize this will break.\n",
            "http://www.semanticweb.org/svg/ontologies/2021/4/untitled-ontology-3#Online Co-Op does not look like a valid URI, trying to serialize this will break.\n",
            "http://www.semanticweb.org/svg/ontologies/2021/4/untitled-ontology-3#Point & Click does not look like a valid URI, trying to serialize this will break.\n",
            "http://www.semanticweb.org/svg/ontologies/2021/4/untitled-ontology-3#Free to Play does not look like a valid URI, trying to serialize this will break.\n",
            "http://www.semanticweb.org/svg/ontologies/2021/4/untitled-ontology-3#Online Co-Op does not look like a valid URI, trying to serialize this will break.\n",
            "http://www.semanticweb.org/svg/ontologies/2021/4/untitled-ontology-3#Tower Defense does not look like a valid URI, trying to serialize this will break.\n",
            "http://www.semanticweb.org/svg/ontologies/2021/4/untitled-ontology-3#Character Customization does not look like a valid URI, trying to serialize this will break.\n",
            "http://www.semanticweb.org/svg/ontologies/2021/4/untitled-ontology-3#Replay Value does not look like a valid URI, trying to serialize this will break.\n",
            "http://www.semanticweb.org/svg/ontologies/2021/4/untitled-ontology-3#Action RPG does not look like a valid URI, trying to serialize this will break.\n",
            "http://www.semanticweb.org/svg/ontologies/2021/4/untitled-ontology-3#Open World does not look like a valid URI, trying to serialize this will break.\n",
            "http://www.semanticweb.org/svg/ontologies/2021/4/untitled-ontology-3#Automobile Sim does not look like a valid URI, trying to serialize this will break.\n",
            "http://www.semanticweb.org/svg/ontologies/2021/4/untitled-ontology-3#Third Person does not look like a valid URI, trying to serialize this will break.\n",
            "http://www.semanticweb.org/svg/ontologies/2021/4/untitled-ontology-3#Third-Person Shooter does not look like a valid URI, trying to serialize this will break.\n",
            "http://www.semanticweb.org/svg/ontologies/2021/4/untitled-ontology-3#Great Soundtrack does not look like a valid URI, trying to serialize this will break.\n",
            "http://www.semanticweb.org/svg/ontologies/2021/4/untitled-ontology-3#Online Co-Op does not look like a valid URI, trying to serialize this will break.\n",
            "http://www.semanticweb.org/svg/ontologies/2021/4/untitled-ontology-3#Free to Play does not look like a valid URI, trying to serialize this will break.\n",
            "http://www.semanticweb.org/svg/ontologies/2021/4/untitled-ontology-3#Free to Play does not look like a valid URI, trying to serialize this will break.\n",
            "http://www.semanticweb.org/svg/ontologies/2021/4/untitled-ontology-3#Looter Shooter does not look like a valid URI, trying to serialize this will break.\n",
            "http://www.semanticweb.org/svg/ontologies/2021/4/untitled-ontology-3#Third-Person Shooter does not look like a valid URI, trying to serialize this will break.\n",
            "http://www.semanticweb.org/svg/ontologies/2021/4/untitled-ontology-3#Online Co-Op does not look like a valid URI, trying to serialize this will break.\n",
            "http://www.semanticweb.org/svg/ontologies/2021/4/untitled-ontology-3#Third Person does not look like a valid URI, trying to serialize this will break.\n",
            "http://www.semanticweb.org/svg/ontologies/2021/4/untitled-ontology-3#Massively Multiplayer does not look like a valid URI, trying to serialize this will break.\n",
            "http://www.semanticweb.org/svg/ontologies/2021/4/untitled-ontology-3#Hack and Slash does not look like a valid URI, trying to serialize this will break.\n",
            "http://www.semanticweb.org/svg/ontologies/2021/4/untitled-ontology-3#Hero Shooter does not look like a valid URI, trying to serialize this will break.\n",
            "http://www.semanticweb.org/svg/ontologies/2021/4/untitled-ontology-3#Online Co-Op does not look like a valid URI, trying to serialize this will break.\n",
            "http://www.semanticweb.org/svg/ontologies/2021/4/untitled-ontology-3#Psychological Horror does not look like a valid URI, trying to serialize this will break.\n",
            "http://www.semanticweb.org/svg/ontologies/2021/4/untitled-ontology-3#Massively Multiplayer does not look like a valid URI, trying to serialize this will break.\n",
            "http://www.semanticweb.org/svg/ontologies/2021/4/untitled-ontology-3#Free to Play does not look like a valid URI, trying to serialize this will break.\n",
            "http://www.semanticweb.org/svg/ontologies/2021/4/untitled-ontology-3#Hero Shooter does not look like a valid URI, trying to serialize this will break.\n",
            "http://www.semanticweb.org/svg/ontologies/2021/4/untitled-ontology-3#Online Co-Op does not look like a valid URI, trying to serialize this will break.\n",
            "http://www.semanticweb.org/svg/ontologies/2021/4/untitled-ontology-3#Online Co-Op does not look like a valid URI, trying to serialize this will break.\n",
            "http://www.semanticweb.org/svg/ontologies/2021/4/untitled-ontology-3#Massively Multiplayer does not look like a valid URI, trying to serialize this will break.\n",
            "http://www.semanticweb.org/svg/ontologies/2021/4/untitled-ontology-3#Tower Defense does not look like a valid URI, trying to serialize this will break.\n",
            "http://www.semanticweb.org/svg/ontologies/2021/4/untitled-ontology-3#Action RPG does not look like a valid URI, trying to serialize this will break.\n",
            "http://www.semanticweb.org/svg/ontologies/2021/4/untitled-ontology-3#Automobile Sim does not look like a valid URI, trying to serialize this will break.\n",
            "http://www.semanticweb.org/svg/ontologies/2021/4/untitled-ontology-3#Early Access does not look like a valid URI, trying to serialize this will break.\n",
            "http://www.semanticweb.org/svg/ontologies/2021/4/untitled-ontology-3#Psychological Horror does not look like a valid URI, trying to serialize this will break.\n",
            "http://www.semanticweb.org/svg/ontologies/2021/4/untitled-ontology-3#Battle Royale does not look like a valid URI, trying to serialize this will break.\n",
            "http://www.semanticweb.org/svg/ontologies/2021/4/untitled-ontology-3#Third-Person Shooter does not look like a valid URI, trying to serialize this will break.\n",
            "http://www.semanticweb.org/svg/ontologies/2021/4/untitled-ontology-3#Looter Shooter does not look like a valid URI, trying to serialize this will break.\n",
            "http://www.semanticweb.org/svg/ontologies/2021/4/untitled-ontology-3#Dungeon Crawler does not look like a valid URI, trying to serialize this will break.\n",
            "http://www.semanticweb.org/svg/ontologies/2021/4/untitled-ontology-3#Point & Click does not look like a valid URI, trying to serialize this will break.\n",
            "http://www.semanticweb.org/svg/ontologies/2021/4/untitled-ontology-3#Free to Play does not look like a valid URI, trying to serialize this will break.\n",
            "http://www.semanticweb.org/svg/ontologies/2021/4/untitled-ontology-3#Hack and Slash does not look like a valid URI, trying to serialize this will break.\n",
            "http://www.semanticweb.org/svg/ontologies/2021/4/untitled-ontology-3#Third Person does not look like a valid URI, trying to serialize this will break.\n",
            "http://www.semanticweb.org/svg/ontologies/2021/4/untitled-ontology-3#Hero Shooter does not look like a valid URI, trying to serialize this will break.\n",
            "http://www.semanticweb.org/svg/ontologies/2021/4/untitled-ontology-3#Open World does not look like a valid URI, trying to serialize this will break.\n",
            "http://www.semanticweb.org/svg/ontologies/2021/4/untitled-ontology-3#Character Customization does not look like a valid URI, trying to serialize this will break.\n",
            "http://www.semanticweb.org/svg/ontologies/2021/4/untitled-ontology-3#Great Soundtrack does not look like a valid URI, trying to serialize this will break.\n",
            "http://www.semanticweb.org/svg/ontologies/2021/4/untitled-ontology-3#Inventory Management does not look like a valid URI, trying to serialize this will break.\n",
            "http://www.semanticweb.org/svg/ontologies/2021/4/untitled-ontology-3#Replay Value does not look like a valid URI, trying to serialize this will break.\n"
          ],
          "name": "stderr"
        }
      ]
    },
    {
      "cell_type": "markdown",
      "metadata": {
        "id": "V6eDt2f3arv6"
      },
      "source": [
        "# **VoID**"
      ]
    },
    {
      "cell_type": "code",
      "metadata": {
        "colab": {
          "base_uri": "https://localhost:8080/"
        },
        "id": "6vG-2s1dawo4",
        "outputId": "6bff2efd-f089-4002-abca-e390265c0db5"
      },
      "source": [
        "from rdflib.void import generateVoID\n",
        "prefix=dict(gr.namespaces())['']\n",
        "gr.add((prefix, rdflib.namespace.DCTERMS.title, Literal('Steam knowledge base')))\n",
        "gr.add((prefix, rdflib.namespace.DCTERMS.publisher, Literal('Vsevolod Sergeev')))\n",
        "void_gr, _ = generateVoID(gr)\n",
        "print(void_gr.serialize().decode('utf-8'))"
      ],
      "execution_count": null,
      "outputs": [
        {
          "output_type": "stream",
          "text": [
            "<?xml version=\"1.0\" encoding=\"UTF-8\"?>\n",
            "<rdf:RDF\n",
            "   xmlns:ns1=\"http://rdfs.org/ns/void#\"\n",
            "   xmlns:rdf=\"http://www.w3.org/1999/02/22-rdf-syntax-ns#\"\n",
            ">\n",
            "  <rdf:Description rdf:about=\"http://example.org/Dataset_property7\">\n",
            "    <rdf:type rdf:resource=\"http://rdfs.org/ns/void#Dataset\"/>\n",
            "    <ns1:triples rdf:datatype=\"http://www.w3.org/2001/XMLSchema#integer\">8</ns1:triples>\n",
            "    <ns1:properties rdf:datatype=\"http://www.w3.org/2001/XMLSchema#integer\">1</ns1:properties>\n",
            "    <ns1:property rdf:resource=\"http://www.semanticweb.org/svg/ontologies/2021/4/untitled-ontology-3#peak_activity\"/>\n",
            "    <ns1:entities rdf:datatype=\"http://www.w3.org/2001/XMLSchema#integer\">8</ns1:entities>\n",
            "    <ns1:classes rdf:datatype=\"http://www.w3.org/2001/XMLSchema#integer\">1</ns1:classes>\n",
            "    <ns1:distinctSubjects rdf:datatype=\"http://www.w3.org/2001/XMLSchema#integer\">8</ns1:distinctSubjects>\n",
            "    <ns1:distinctObjects rdf:datatype=\"http://www.w3.org/2001/XMLSchema#integer\">3</ns1:distinctObjects>\n",
            "  </rdf:Description>\n",
            "  <rdf:Description rdf:about=\"http://example.org/Dataset_property2\">\n",
            "    <rdf:type rdf:resource=\"http://rdfs.org/ns/void#Dataset\"/>\n",
            "    <ns1:triples rdf:datatype=\"http://www.w3.org/2001/XMLSchema#integer\">8</ns1:triples>\n",
            "    <ns1:properties rdf:datatype=\"http://www.w3.org/2001/XMLSchema#integer\">1</ns1:properties>\n",
            "    <ns1:property rdf:resource=\"http://www.semanticweb.org/svg/ontologies/2021/4/untitled-ontology-3#name\"/>\n",
            "    <ns1:entities rdf:datatype=\"http://www.w3.org/2001/XMLSchema#integer\">8</ns1:entities>\n",
            "    <ns1:classes rdf:datatype=\"http://www.w3.org/2001/XMLSchema#integer\">1</ns1:classes>\n",
            "    <ns1:distinctSubjects rdf:datatype=\"http://www.w3.org/2001/XMLSchema#integer\">8</ns1:distinctSubjects>\n",
            "    <ns1:distinctObjects rdf:datatype=\"http://www.w3.org/2001/XMLSchema#integer\">8</ns1:distinctObjects>\n",
            "  </rdf:Description>\n",
            "  <rdf:Description rdf:about=\"http://example.org/Dataset_class2\">\n",
            "    <rdf:type rdf:resource=\"http://rdfs.org/ns/void#Dataset\"/>\n",
            "    <ns1:triples rdf:datatype=\"http://www.w3.org/2001/XMLSchema#integer\">30</ns1:triples>\n",
            "    <ns1:classes rdf:datatype=\"http://www.w3.org/2001/XMLSchema#integer\">1</ns1:classes>\n",
            "    <ns1:class rdf:resource=\"http://www.w3.org/2002/07/owl#DatatypeProperty\"/>\n",
            "    <ns1:entities rdf:datatype=\"http://www.w3.org/2001/XMLSchema#integer\">10</ns1:entities>\n",
            "    <ns1:distinctSubjects rdf:datatype=\"http://www.w3.org/2001/XMLSchema#integer\">10</ns1:distinctSubjects>\n",
            "    <ns1:properties rdf:datatype=\"http://www.w3.org/2001/XMLSchema#integer\">3</ns1:properties>\n",
            "    <ns1:distinctObjects rdf:datatype=\"http://www.w3.org/2001/XMLSchema#integer\">7</ns1:distinctObjects>\n",
            "  </rdf:Description>\n",
            "  <rdf:Description rdf:about=\"http://example.org/Dataset_property8\">\n",
            "    <rdf:type rdf:resource=\"http://rdfs.org/ns/void#Dataset\"/>\n",
            "    <ns1:triples rdf:datatype=\"http://www.w3.org/2001/XMLSchema#integer\">164</ns1:triples>\n",
            "    <ns1:properties rdf:datatype=\"http://www.w3.org/2001/XMLSchema#integer\">1</ns1:properties>\n",
            "    <ns1:property rdf:resource=\"http://www.semanticweb.org/svg/ontologies/2021/4/untitled-ontology-3#hasTag\"/>\n",
            "    <ns1:entities rdf:datatype=\"http://www.w3.org/2001/XMLSchema#integer\">8</ns1:entities>\n",
            "    <ns1:classes rdf:datatype=\"http://www.w3.org/2001/XMLSchema#integer\">1</ns1:classes>\n",
            "    <ns1:distinctSubjects rdf:datatype=\"http://www.w3.org/2001/XMLSchema#integer\">8</ns1:distinctSubjects>\n",
            "    <ns1:distinctObjects rdf:datatype=\"http://www.w3.org/2001/XMLSchema#integer\">75</ns1:distinctObjects>\n",
            "  </rdf:Description>\n",
            "  <rdf:Description rdf:about=\"http://example.org/Dataset\">\n",
            "    <rdf:type rdf:resource=\"http://rdfs.org/ns/void#Dataset\"/>\n",
            "    <ns1:triples rdf:datatype=\"http://www.w3.org/2001/XMLSchema#integer\">371</ns1:triples>\n",
            "    <ns1:classes rdf:datatype=\"http://www.w3.org/2001/XMLSchema#integer\">8</ns1:classes>\n",
            "    <ns1:distinctObjects rdf:datatype=\"http://www.w3.org/2001/XMLSchema#integer\">140</ns1:distinctObjects>\n",
            "    <ns1:distinctSubjects rdf:datatype=\"http://www.w3.org/2001/XMLSchema#integer\">105</ns1:distinctSubjects>\n",
            "    <ns1:properties rdf:datatype=\"http://www.w3.org/2001/XMLSchema#integer\">18</ns1:properties>\n",
            "    <ns1:classPartition rdf:resource=\"http://example.org/Dataset_class0\"/>\n",
            "    <ns1:classPartition rdf:resource=\"http://example.org/Dataset_class1\"/>\n",
            "    <ns1:classPartition rdf:resource=\"http://example.org/Dataset_class2\"/>\n",
            "    <ns1:classPartition rdf:resource=\"http://example.org/Dataset_class3\"/>\n",
            "    <ns1:classPartition rdf:resource=\"http://example.org/Dataset_class4\"/>\n",
            "    <ns1:classPartition rdf:resource=\"http://example.org/Dataset_class5\"/>\n",
            "    <ns1:classPartition rdf:resource=\"http://example.org/Dataset_class6\"/>\n",
            "    <ns1:classPartition rdf:resource=\"http://example.org/Dataset_class7\"/>\n",
            "    <ns1:propertyPartition rdf:resource=\"http://example.org/Dataset_property0\"/>\n",
            "    <ns1:propertyPartition rdf:resource=\"http://example.org/Dataset_property1\"/>\n",
            "    <ns1:propertyPartition rdf:resource=\"http://example.org/Dataset_property2\"/>\n",
            "    <ns1:propertyPartition rdf:resource=\"http://example.org/Dataset_property3\"/>\n",
            "    <ns1:propertyPartition rdf:resource=\"http://example.org/Dataset_property4\"/>\n",
            "    <ns1:propertyPartition rdf:resource=\"http://example.org/Dataset_property5\"/>\n",
            "    <ns1:propertyPartition rdf:resource=\"http://example.org/Dataset_property6\"/>\n",
            "    <ns1:propertyPartition rdf:resource=\"http://example.org/Dataset_property7\"/>\n",
            "    <ns1:propertyPartition rdf:resource=\"http://example.org/Dataset_property8\"/>\n",
            "    <ns1:propertyPartition rdf:resource=\"http://example.org/Dataset_property9\"/>\n",
            "    <ns1:propertyPartition rdf:resource=\"http://example.org/Dataset_property10\"/>\n",
            "    <ns1:propertyPartition rdf:resource=\"http://example.org/Dataset_property11\"/>\n",
            "    <ns1:propertyPartition rdf:resource=\"http://example.org/Dataset_property12\"/>\n",
            "    <ns1:propertyPartition rdf:resource=\"http://example.org/Dataset_property13\"/>\n",
            "    <ns1:propertyPartition rdf:resource=\"http://example.org/Dataset_property14\"/>\n",
            "    <ns1:propertyPartition rdf:resource=\"http://example.org/Dataset_property15\"/>\n",
            "    <ns1:propertyPartition rdf:resource=\"http://example.org/Dataset_property16\"/>\n",
            "    <ns1:propertyPartition rdf:resource=\"http://example.org/Dataset_property17\"/>\n",
            "  </rdf:Description>\n",
            "  <rdf:Description rdf:about=\"http://example.org/Dataset_property16\">\n",
            "    <rdf:type rdf:resource=\"http://rdfs.org/ns/void#Dataset\"/>\n",
            "    <ns1:triples rdf:datatype=\"http://www.w3.org/2001/XMLSchema#integer\">3</ns1:triples>\n",
            "    <ns1:properties rdf:datatype=\"http://www.w3.org/2001/XMLSchema#integer\">1</ns1:properties>\n",
            "    <ns1:property rdf:resource=\"http://www.w3.org/1999/02/22-rdf-syntax-ns#first\"/>\n",
            "    <ns1:entities rdf:datatype=\"http://www.w3.org/2001/XMLSchema#integer\">3</ns1:entities>\n",
            "    <ns1:classes rdf:datatype=\"http://www.w3.org/2001/XMLSchema#integer\">0</ns1:classes>\n",
            "    <ns1:distinctSubjects rdf:datatype=\"http://www.w3.org/2001/XMLSchema#integer\">3</ns1:distinctSubjects>\n",
            "    <ns1:distinctObjects rdf:datatype=\"http://www.w3.org/2001/XMLSchema#integer\">3</ns1:distinctObjects>\n",
            "  </rdf:Description>\n",
            "  <rdf:Description rdf:about=\"http://example.org/Dataset_property11\">\n",
            "    <rdf:type rdf:resource=\"http://rdfs.org/ns/void#Dataset\"/>\n",
            "    <ns1:triples rdf:datatype=\"http://www.w3.org/2001/XMLSchema#integer\">1</ns1:triples>\n",
            "    <ns1:properties rdf:datatype=\"http://www.w3.org/2001/XMLSchema#integer\">1</ns1:properties>\n",
            "    <ns1:property rdf:resource=\"http://purl.org/dc/terms/publisher\"/>\n",
            "    <ns1:entities rdf:datatype=\"http://www.w3.org/2001/XMLSchema#integer\">0</ns1:entities>\n",
            "    <ns1:classes rdf:datatype=\"http://www.w3.org/2001/XMLSchema#integer\">0</ns1:classes>\n",
            "    <ns1:distinctSubjects rdf:datatype=\"http://www.w3.org/2001/XMLSchema#integer\">1</ns1:distinctSubjects>\n",
            "    <ns1:distinctObjects rdf:datatype=\"http://www.w3.org/2001/XMLSchema#integer\">1</ns1:distinctObjects>\n",
            "  </rdf:Description>\n",
            "  <rdf:Description rdf:about=\"http://example.org/Dataset_property17\">\n",
            "    <rdf:type rdf:resource=\"http://rdfs.org/ns/void#Dataset\"/>\n",
            "    <ns1:triples rdf:datatype=\"http://www.w3.org/2001/XMLSchema#integer\">12</ns1:triples>\n",
            "    <ns1:properties rdf:datatype=\"http://www.w3.org/2001/XMLSchema#integer\">1</ns1:properties>\n",
            "    <ns1:property rdf:resource=\"http://www.w3.org/2000/01/rdf-schema#range\"/>\n",
            "    <ns1:entities rdf:datatype=\"http://www.w3.org/2001/XMLSchema#integer\">12</ns1:entities>\n",
            "    <ns1:classes rdf:datatype=\"http://www.w3.org/2001/XMLSchema#integer\">2</ns1:classes>\n",
            "    <ns1:distinctSubjects rdf:datatype=\"http://www.w3.org/2001/XMLSchema#integer\">12</ns1:distinctSubjects>\n",
            "    <ns1:distinctObjects rdf:datatype=\"http://www.w3.org/2001/XMLSchema#integer\">5</ns1:distinctObjects>\n",
            "  </rdf:Description>\n",
            "  <rdf:Description rdf:about=\"http://example.org/Dataset_property14\">\n",
            "    <rdf:type rdf:resource=\"http://rdfs.org/ns/void#Dataset\"/>\n",
            "    <ns1:triples rdf:datatype=\"http://www.w3.org/2001/XMLSchema#integer\">1</ns1:triples>\n",
            "    <ns1:properties rdf:datatype=\"http://www.w3.org/2001/XMLSchema#integer\">1</ns1:properties>\n",
            "    <ns1:property rdf:resource=\"http://purl.org/dc/terms/title\"/>\n",
            "    <ns1:entities rdf:datatype=\"http://www.w3.org/2001/XMLSchema#integer\">1</ns1:entities>\n",
            "    <ns1:classes rdf:datatype=\"http://www.w3.org/2001/XMLSchema#integer\">0</ns1:classes>\n",
            "    <ns1:distinctSubjects rdf:datatype=\"http://www.w3.org/2001/XMLSchema#integer\">1</ns1:distinctSubjects>\n",
            "    <ns1:distinctObjects rdf:datatype=\"http://www.w3.org/2001/XMLSchema#integer\">1</ns1:distinctObjects>\n",
            "  </rdf:Description>\n",
            "  <rdf:Description rdf:about=\"http://example.org/Dataset_class0\">\n",
            "    <rdf:type rdf:resource=\"http://rdfs.org/ns/void#Dataset\"/>\n",
            "    <ns1:triples rdf:datatype=\"http://www.w3.org/2001/XMLSchema#integer\">1</ns1:triples>\n",
            "    <ns1:classes rdf:datatype=\"http://www.w3.org/2001/XMLSchema#integer\">1</ns1:classes>\n",
            "    <ns1:class rdf:resource=\"http://www.w3.org/2002/07/owl#Ontology\"/>\n",
            "    <ns1:entities rdf:datatype=\"http://www.w3.org/2001/XMLSchema#integer\">1</ns1:entities>\n",
            "    <ns1:distinctSubjects rdf:datatype=\"http://www.w3.org/2001/XMLSchema#integer\">1</ns1:distinctSubjects>\n",
            "    <ns1:properties rdf:datatype=\"http://www.w3.org/2001/XMLSchema#integer\">1</ns1:properties>\n",
            "    <ns1:distinctObjects rdf:datatype=\"http://www.w3.org/2001/XMLSchema#integer\">1</ns1:distinctObjects>\n",
            "  </rdf:Description>\n",
            "  <rdf:Description rdf:about=\"http://example.org/Dataset_class6\">\n",
            "    <rdf:type rdf:resource=\"http://rdfs.org/ns/void#Dataset\"/>\n",
            "    <ns1:triples rdf:datatype=\"http://www.w3.org/2001/XMLSchema#integer\">80</ns1:triples>\n",
            "    <ns1:classes rdf:datatype=\"http://www.w3.org/2001/XMLSchema#integer\">1</ns1:classes>\n",
            "    <ns1:class rdf:resource=\"http://www.semanticweb.org/svg/ontologies/2021/4/untitled-ontology-3#Tag\"/>\n",
            "    <ns1:entities rdf:datatype=\"http://www.w3.org/2001/XMLSchema#integer\">74</ns1:entities>\n",
            "    <ns1:distinctSubjects rdf:datatype=\"http://www.w3.org/2001/XMLSchema#integer\">74</ns1:distinctSubjects>\n",
            "    <ns1:properties rdf:datatype=\"http://www.w3.org/2001/XMLSchema#integer\">1</ns1:properties>\n",
            "    <ns1:distinctObjects rdf:datatype=\"http://www.w3.org/2001/XMLSchema#integer\">2</ns1:distinctObjects>\n",
            "  </rdf:Description>\n",
            "  <rdf:Description rdf:about=\"http://example.org/Dataset_property15\">\n",
            "    <rdf:type rdf:resource=\"http://rdfs.org/ns/void#Dataset\"/>\n",
            "    <ns1:triples rdf:datatype=\"http://www.w3.org/2001/XMLSchema#integer\">8</ns1:triples>\n",
            "    <ns1:properties rdf:datatype=\"http://www.w3.org/2001/XMLSchema#integer\">1</ns1:properties>\n",
            "    <ns1:property rdf:resource=\"http://www.semanticweb.org/svg/ontologies/2021/4/untitled-ontology-3#players_amt\"/>\n",
            "    <ns1:entities rdf:datatype=\"http://www.w3.org/2001/XMLSchema#integer\">8</ns1:entities>\n",
            "    <ns1:classes rdf:datatype=\"http://www.w3.org/2001/XMLSchema#integer\">1</ns1:classes>\n",
            "    <ns1:distinctSubjects rdf:datatype=\"http://www.w3.org/2001/XMLSchema#integer\">8</ns1:distinctSubjects>\n",
            "    <ns1:distinctObjects rdf:datatype=\"http://www.w3.org/2001/XMLSchema#integer\">8</ns1:distinctObjects>\n",
            "  </rdf:Description>\n",
            "  <rdf:Description rdf:about=\"http://example.org/Dataset_property1\">\n",
            "    <rdf:type rdf:resource=\"http://rdfs.org/ns/void#Dataset\"/>\n",
            "    <ns1:triples rdf:datatype=\"http://www.w3.org/2001/XMLSchema#integer\">106</ns1:triples>\n",
            "    <ns1:properties rdf:datatype=\"http://www.w3.org/2001/XMLSchema#integer\">1</ns1:properties>\n",
            "    <ns1:property rdf:resource=\"http://www.w3.org/1999/02/22-rdf-syntax-ns#type\"/>\n",
            "    <ns1:entities rdf:datatype=\"http://www.w3.org/2001/XMLSchema#integer\">100</ns1:entities>\n",
            "    <ns1:classes rdf:datatype=\"http://www.w3.org/2001/XMLSchema#integer\">8</ns1:classes>\n",
            "    <ns1:distinctSubjects rdf:datatype=\"http://www.w3.org/2001/XMLSchema#integer\">100</ns1:distinctSubjects>\n",
            "    <ns1:distinctObjects rdf:datatype=\"http://www.w3.org/2001/XMLSchema#integer\">8</ns1:distinctObjects>\n",
            "  </rdf:Description>\n",
            "  <rdf:Description rdf:about=\"http://example.org/Dataset_property4\">\n",
            "    <rdf:type rdf:resource=\"http://rdfs.org/ns/void#Dataset\"/>\n",
            "    <ns1:triples rdf:datatype=\"http://www.w3.org/2001/XMLSchema#integer\">13</ns1:triples>\n",
            "    <ns1:properties rdf:datatype=\"http://www.w3.org/2001/XMLSchema#integer\">1</ns1:properties>\n",
            "    <ns1:property rdf:resource=\"http://www.w3.org/2000/01/rdf-schema#domain\"/>\n",
            "    <ns1:entities rdf:datatype=\"http://www.w3.org/2001/XMLSchema#integer\">12</ns1:entities>\n",
            "    <ns1:classes rdf:datatype=\"http://www.w3.org/2001/XMLSchema#integer\">2</ns1:classes>\n",
            "    <ns1:distinctSubjects rdf:datatype=\"http://www.w3.org/2001/XMLSchema#integer\">13</ns1:distinctSubjects>\n",
            "    <ns1:distinctObjects rdf:datatype=\"http://www.w3.org/2001/XMLSchema#integer\">3</ns1:distinctObjects>\n",
            "  </rdf:Description>\n",
            "  <rdf:Description rdf:about=\"http://example.org/Dataset_property3\">\n",
            "    <rdf:type rdf:resource=\"http://rdfs.org/ns/void#Dataset\"/>\n",
            "    <ns1:triples rdf:datatype=\"http://www.w3.org/2001/XMLSchema#integer\">3</ns1:triples>\n",
            "    <ns1:properties rdf:datatype=\"http://www.w3.org/2001/XMLSchema#integer\">1</ns1:properties>\n",
            "    <ns1:property rdf:resource=\"http://www.w3.org/2000/01/rdf-schema#subClassOf\"/>\n",
            "    <ns1:entities rdf:datatype=\"http://www.w3.org/2001/XMLSchema#integer\">3</ns1:entities>\n",
            "    <ns1:classes rdf:datatype=\"http://www.w3.org/2001/XMLSchema#integer\">1</ns1:classes>\n",
            "    <ns1:distinctSubjects rdf:datatype=\"http://www.w3.org/2001/XMLSchema#integer\">3</ns1:distinctSubjects>\n",
            "    <ns1:distinctObjects rdf:datatype=\"http://www.w3.org/2001/XMLSchema#integer\">1</ns1:distinctObjects>\n",
            "  </rdf:Description>\n",
            "  <rdf:Description rdf:about=\"http://example.org/Dataset_property10\">\n",
            "    <rdf:type rdf:resource=\"http://rdfs.org/ns/void#Dataset\"/>\n",
            "    <ns1:triples rdf:datatype=\"http://www.w3.org/2001/XMLSchema#integer\">8</ns1:triples>\n",
            "    <ns1:properties rdf:datatype=\"http://www.w3.org/2001/XMLSchema#integer\">1</ns1:properties>\n",
            "    <ns1:property rdf:resource=\"http://www.semanticweb.org/svg/ontologies/2021/4/untitled-ontology-3#price\"/>\n",
            "    <ns1:entities rdf:datatype=\"http://www.w3.org/2001/XMLSchema#integer\">8</ns1:entities>\n",
            "    <ns1:classes rdf:datatype=\"http://www.w3.org/2001/XMLSchema#integer\">1</ns1:classes>\n",
            "    <ns1:distinctSubjects rdf:datatype=\"http://www.w3.org/2001/XMLSchema#integer\">8</ns1:distinctSubjects>\n",
            "    <ns1:distinctObjects rdf:datatype=\"http://www.w3.org/2001/XMLSchema#integer\">4</ns1:distinctObjects>\n",
            "  </rdf:Description>\n",
            "  <rdf:Description rdf:about=\"http://example.org/Dataset_class7\">\n",
            "    <rdf:type rdf:resource=\"http://rdfs.org/ns/void#Dataset\"/>\n",
            "    <ns1:triples rdf:datatype=\"http://www.w3.org/2001/XMLSchema#integer\">13</ns1:triples>\n",
            "    <ns1:classes rdf:datatype=\"http://www.w3.org/2001/XMLSchema#integer\">1</ns1:classes>\n",
            "    <ns1:class rdf:resource=\"http://www.semanticweb.org/svg/ontologies/2021/4/untitled-ontology-3#Genre\"/>\n",
            "    <ns1:entities rdf:datatype=\"http://www.w3.org/2001/XMLSchema#integer\">7</ns1:entities>\n",
            "    <ns1:distinctSubjects rdf:datatype=\"http://www.w3.org/2001/XMLSchema#integer\">7</ns1:distinctSubjects>\n",
            "    <ns1:properties rdf:datatype=\"http://www.w3.org/2001/XMLSchema#integer\">1</ns1:properties>\n",
            "    <ns1:distinctObjects rdf:datatype=\"http://www.w3.org/2001/XMLSchema#integer\">2</ns1:distinctObjects>\n",
            "  </rdf:Description>\n",
            "  <rdf:Description rdf:about=\"http://example.org/Dataset_property13\">\n",
            "    <rdf:type rdf:resource=\"http://rdfs.org/ns/void#Dataset\"/>\n",
            "    <ns1:triples rdf:datatype=\"http://www.w3.org/2001/XMLSchema#integer\">8</ns1:triples>\n",
            "    <ns1:properties rdf:datatype=\"http://www.w3.org/2001/XMLSchema#integer\">1</ns1:properties>\n",
            "    <ns1:property rdf:resource=\"http://www.semanticweb.org/svg/ontologies/2021/4/untitled-ontology-3#owners\"/>\n",
            "    <ns1:entities rdf:datatype=\"http://www.w3.org/2001/XMLSchema#integer\">8</ns1:entities>\n",
            "    <ns1:classes rdf:datatype=\"http://www.w3.org/2001/XMLSchema#integer\">1</ns1:classes>\n",
            "    <ns1:distinctSubjects rdf:datatype=\"http://www.w3.org/2001/XMLSchema#integer\">8</ns1:distinctSubjects>\n",
            "    <ns1:distinctObjects rdf:datatype=\"http://www.w3.org/2001/XMLSchema#integer\">4</ns1:distinctObjects>\n",
            "  </rdf:Description>\n",
            "  <rdf:Description rdf:about=\"http://example.org/Dataset_property0\">\n",
            "    <rdf:type rdf:resource=\"http://rdfs.org/ns/void#Dataset\"/>\n",
            "    <ns1:triples rdf:datatype=\"http://www.w3.org/2001/XMLSchema#integer\">8</ns1:triples>\n",
            "    <ns1:properties rdf:datatype=\"http://www.w3.org/2001/XMLSchema#integer\">1</ns1:properties>\n",
            "    <ns1:property rdf:resource=\"http://www.semanticweb.org/svg/ontologies/2021/4/untitled-ontology-3#appid\"/>\n",
            "    <ns1:entities rdf:datatype=\"http://www.w3.org/2001/XMLSchema#integer\">8</ns1:entities>\n",
            "    <ns1:classes rdf:datatype=\"http://www.w3.org/2001/XMLSchema#integer\">1</ns1:classes>\n",
            "    <ns1:distinctSubjects rdf:datatype=\"http://www.w3.org/2001/XMLSchema#integer\">8</ns1:distinctSubjects>\n",
            "    <ns1:distinctObjects rdf:datatype=\"http://www.w3.org/2001/XMLSchema#integer\">8</ns1:distinctObjects>\n",
            "  </rdf:Description>\n",
            "  <rdf:Description rdf:about=\"http://example.org/Dataset_class3\">\n",
            "    <rdf:type rdf:resource=\"http://rdfs.org/ns/void#Dataset\"/>\n",
            "    <ns1:triples rdf:datatype=\"http://www.w3.org/2001/XMLSchema#integer\">6</ns1:triples>\n",
            "    <ns1:classes rdf:datatype=\"http://www.w3.org/2001/XMLSchema#integer\">1</ns1:classes>\n",
            "    <ns1:class rdf:resource=\"http://www.w3.org/2002/07/owl#Class\"/>\n",
            "    <ns1:entities rdf:datatype=\"http://www.w3.org/2001/XMLSchema#integer\">3</ns1:entities>\n",
            "    <ns1:distinctSubjects rdf:datatype=\"http://www.w3.org/2001/XMLSchema#integer\">3</ns1:distinctSubjects>\n",
            "    <ns1:properties rdf:datatype=\"http://www.w3.org/2001/XMLSchema#integer\">2</ns1:properties>\n",
            "    <ns1:distinctObjects rdf:datatype=\"http://www.w3.org/2001/XMLSchema#integer\">2</ns1:distinctObjects>\n",
            "  </rdf:Description>\n",
            "  <rdf:Description rdf:about=\"http://example.org/Dataset_class1\">\n",
            "    <rdf:type rdf:resource=\"http://rdfs.org/ns/void#Dataset\"/>\n",
            "    <ns1:triples rdf:datatype=\"http://www.w3.org/2001/XMLSchema#integer\">6</ns1:triples>\n",
            "    <ns1:classes rdf:datatype=\"http://www.w3.org/2001/XMLSchema#integer\">1</ns1:classes>\n",
            "    <ns1:class rdf:resource=\"http://www.w3.org/2002/07/owl#ObjectProperty\"/>\n",
            "    <ns1:entities rdf:datatype=\"http://www.w3.org/2001/XMLSchema#integer\">2</ns1:entities>\n",
            "    <ns1:distinctSubjects rdf:datatype=\"http://www.w3.org/2001/XMLSchema#integer\">2</ns1:distinctSubjects>\n",
            "    <ns1:properties rdf:datatype=\"http://www.w3.org/2001/XMLSchema#integer\">3</ns1:properties>\n",
            "    <ns1:distinctObjects rdf:datatype=\"http://www.w3.org/2001/XMLSchema#integer\">4</ns1:distinctObjects>\n",
            "  </rdf:Description>\n",
            "  <rdf:Description rdf:about=\"http://example.org/Dataset_class5\">\n",
            "    <rdf:type rdf:resource=\"http://rdfs.org/ns/void#Dataset\"/>\n",
            "    <ns1:triples rdf:datatype=\"http://www.w3.org/2001/XMLSchema#integer\">236</ns1:triples>\n",
            "    <ns1:classes rdf:datatype=\"http://www.w3.org/2001/XMLSchema#integer\">1</ns1:classes>\n",
            "    <ns1:class rdf:resource=\"http://www.semanticweb.org/svg/ontologies/2021/4/untitled-ontology-3#Game\"/>\n",
            "    <ns1:entities rdf:datatype=\"http://www.w3.org/2001/XMLSchema#integer\">8</ns1:entities>\n",
            "    <ns1:distinctSubjects rdf:datatype=\"http://www.w3.org/2001/XMLSchema#integer\">8</ns1:distinctSubjects>\n",
            "    <ns1:properties rdf:datatype=\"http://www.w3.org/2001/XMLSchema#integer\">10</ns1:properties>\n",
            "    <ns1:distinctObjects rdf:datatype=\"http://www.w3.org/2001/XMLSchema#integer\">123</ns1:distinctObjects>\n",
            "  </rdf:Description>\n",
            "  <rdf:Description rdf:about=\"http://example.org/Dataset_property6\">\n",
            "    <rdf:type rdf:resource=\"http://rdfs.org/ns/void#Dataset\"/>\n",
            "    <ns1:triples rdf:datatype=\"http://www.w3.org/2001/XMLSchema#integer\">8</ns1:triples>\n",
            "    <ns1:properties rdf:datatype=\"http://www.w3.org/2001/XMLSchema#integer\">1</ns1:properties>\n",
            "    <ns1:property rdf:resource=\"http://www.semanticweb.org/svg/ontologies/2021/4/untitled-ontology-3#rating\"/>\n",
            "    <ns1:entities rdf:datatype=\"http://www.w3.org/2001/XMLSchema#integer\">8</ns1:entities>\n",
            "    <ns1:classes rdf:datatype=\"http://www.w3.org/2001/XMLSchema#integer\">1</ns1:classes>\n",
            "    <ns1:distinctSubjects rdf:datatype=\"http://www.w3.org/2001/XMLSchema#integer\">8</ns1:distinctSubjects>\n",
            "    <ns1:distinctObjects rdf:datatype=\"http://www.w3.org/2001/XMLSchema#integer\">8</ns1:distinctObjects>\n",
            "  </rdf:Description>\n",
            "  <rdf:Description rdf:about=\"http://example.org/Dataset_property5\">\n",
            "    <rdf:type rdf:resource=\"http://rdfs.org/ns/void#Dataset\"/>\n",
            "    <ns1:triples rdf:datatype=\"http://www.w3.org/2001/XMLSchema#integer\">1</ns1:triples>\n",
            "    <ns1:properties rdf:datatype=\"http://www.w3.org/2001/XMLSchema#integer\">1</ns1:properties>\n",
            "    <ns1:property rdf:resource=\"http://www.w3.org/2002/07/owl#members\"/>\n",
            "    <ns1:entities rdf:datatype=\"http://www.w3.org/2001/XMLSchema#integer\">1</ns1:entities>\n",
            "    <ns1:classes rdf:datatype=\"http://www.w3.org/2001/XMLSchema#integer\">1</ns1:classes>\n",
            "    <ns1:distinctSubjects rdf:datatype=\"http://www.w3.org/2001/XMLSchema#integer\">1</ns1:distinctSubjects>\n",
            "    <ns1:distinctObjects rdf:datatype=\"http://www.w3.org/2001/XMLSchema#integer\">1</ns1:distinctObjects>\n",
            "  </rdf:Description>\n",
            "  <rdf:Description rdf:about=\"http://example.org/Dataset_property12\">\n",
            "    <rdf:type rdf:resource=\"http://rdfs.org/ns/void#Dataset\"/>\n",
            "    <ns1:triples rdf:datatype=\"http://www.w3.org/2001/XMLSchema#integer\">3</ns1:triples>\n",
            "    <ns1:properties rdf:datatype=\"http://www.w3.org/2001/XMLSchema#integer\">1</ns1:properties>\n",
            "    <ns1:property rdf:resource=\"http://www.w3.org/1999/02/22-rdf-syntax-ns#rest\"/>\n",
            "    <ns1:entities rdf:datatype=\"http://www.w3.org/2001/XMLSchema#integer\">0</ns1:entities>\n",
            "    <ns1:classes rdf:datatype=\"http://www.w3.org/2001/XMLSchema#integer\">0</ns1:classes>\n",
            "    <ns1:distinctSubjects rdf:datatype=\"http://www.w3.org/2001/XMLSchema#integer\">3</ns1:distinctSubjects>\n",
            "    <ns1:distinctObjects rdf:datatype=\"http://www.w3.org/2001/XMLSchema#integer\">3</ns1:distinctObjects>\n",
            "  </rdf:Description>\n",
            "  <rdf:Description rdf:about=\"http://example.org/Dataset_property9\">\n",
            "    <rdf:type rdf:resource=\"http://rdfs.org/ns/void#Dataset\"/>\n",
            "    <ns1:triples rdf:datatype=\"http://www.w3.org/2001/XMLSchema#integer\">8</ns1:triples>\n",
            "    <ns1:properties rdf:datatype=\"http://www.w3.org/2001/XMLSchema#integer\">1</ns1:properties>\n",
            "    <ns1:property rdf:resource=\"http://www.semanticweb.org/svg/ontologies/2021/4/untitled-ontology-3#playtime\"/>\n",
            "    <ns1:entities rdf:datatype=\"http://www.w3.org/2001/XMLSchema#integer\">8</ns1:entities>\n",
            "    <ns1:classes rdf:datatype=\"http://www.w3.org/2001/XMLSchema#integer\">1</ns1:classes>\n",
            "    <ns1:distinctSubjects rdf:datatype=\"http://www.w3.org/2001/XMLSchema#integer\">8</ns1:distinctSubjects>\n",
            "    <ns1:distinctObjects rdf:datatype=\"http://www.w3.org/2001/XMLSchema#integer\">4</ns1:distinctObjects>\n",
            "  </rdf:Description>\n",
            "  <rdf:Description rdf:about=\"http://example.org/Dataset_class4\">\n",
            "    <rdf:type rdf:resource=\"http://rdfs.org/ns/void#Dataset\"/>\n",
            "    <ns1:triples rdf:datatype=\"http://www.w3.org/2001/XMLSchema#integer\">2</ns1:triples>\n",
            "    <ns1:classes rdf:datatype=\"http://www.w3.org/2001/XMLSchema#integer\">1</ns1:classes>\n",
            "    <ns1:class rdf:resource=\"http://www.w3.org/2002/07/owl#AllDisjointClasses\"/>\n",
            "    <ns1:entities rdf:datatype=\"http://www.w3.org/2001/XMLSchema#integer\">1</ns1:entities>\n",
            "    <ns1:distinctSubjects rdf:datatype=\"http://www.w3.org/2001/XMLSchema#integer\">1</ns1:distinctSubjects>\n",
            "    <ns1:properties rdf:datatype=\"http://www.w3.org/2001/XMLSchema#integer\">2</ns1:properties>\n",
            "    <ns1:distinctObjects rdf:datatype=\"http://www.w3.org/2001/XMLSchema#integer\">2</ns1:distinctObjects>\n",
            "  </rdf:Description>\n",
            "</rdf:RDF>\n",
            "\n"
          ],
          "name": "stdout"
        }
      ]
    }
  ]
}