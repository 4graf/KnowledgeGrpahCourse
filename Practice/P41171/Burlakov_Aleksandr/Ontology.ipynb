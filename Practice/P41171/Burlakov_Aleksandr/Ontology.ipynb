{
  "nbformat": 4,
  "nbformat_minor": 0,
  "metadata": {
    "colab": {
      "name": "Ontology.ipynb",
      "provenance": [],
      "collapsed_sections": [],
      "toc_visible": true
    },
    "kernelspec": {
      "display_name": "Python 3",
      "name": "python3"
    },
    "language_info": {
      "name": "python"
    }
  },
  "cells": [
    {
      "cell_type": "markdown",
      "metadata": {
        "id": "dZspywFJwCeh"
      },
      "source": [
        "# Start"
      ]
    },
    {
      "cell_type": "code",
      "metadata": {
        "id": "SKoQFwVJRpJQ",
        "colab": {
          "base_uri": "https://localhost:8080/"
        },
        "outputId": "83a92643-ab3f-4f74-e769-fb7d4608ee68"
      },
      "source": [
        "try:\n",
        "    import rdflib\n",
        "except:\n",
        "    !pip install rdflib\n",
        "    import rdflib\n"
      ],
      "execution_count": null,
      "outputs": [
        {
          "output_type": "stream",
          "text": [
            "Collecting rdflib\n",
            "\u001b[?25l  Downloading https://files.pythonhosted.org/packages/d0/6b/6454aa1db753c0f8bc265a5bd5c10b5721a4bb24160fb4faf758cf6be8a1/rdflib-5.0.0-py3-none-any.whl (231kB)\n",
            "\u001b[K     |████████████████████████████████| 235kB 3.7MB/s \n",
            "\u001b[?25hCollecting isodate\n",
            "\u001b[?25l  Downloading https://files.pythonhosted.org/packages/9b/9f/b36f7774ff5ea8e428fdcfc4bb332c39ee5b9362ddd3d40d9516a55221b2/isodate-0.6.0-py2.py3-none-any.whl (45kB)\n",
            "\u001b[K     |████████████████████████████████| 51kB 3.7MB/s \n",
            "\u001b[?25hRequirement already satisfied: pyparsing in /usr/local/lib/python3.7/dist-packages (from rdflib) (2.4.7)\n",
            "Requirement already satisfied: six in /usr/local/lib/python3.7/dist-packages (from rdflib) (1.15.0)\n",
            "Installing collected packages: isodate, rdflib\n",
            "Successfully installed isodate-0.6.0 rdflib-5.0.0\n"
          ],
          "name": "stdout"
        }
      ]
    },
    {
      "cell_type": "code",
      "metadata": {
        "id": "PXcGfK3-R1qt"
      },
      "source": [
        "#from google.colab import files\n",
        "#uploaded = files.upload()"
      ],
      "execution_count": null,
      "outputs": []
    },
    {
      "cell_type": "code",
      "metadata": {
        "id": "zd3H2NXXTqw4"
      },
      "source": [
        "from rdflib import Graph, Literal, RDF, URIRef"
      ],
      "execution_count": null,
      "outputs": []
    },
    {
      "cell_type": "code",
      "metadata": {
        "id": "oHVeQ1P_R1xA"
      },
      "source": [
        "graph = Graph()\n",
        "graph = graph.parse('Mag.owl')"
      ],
      "execution_count": null,
      "outputs": []
    },
    {
      "cell_type": "markdown",
      "metadata": {
        "id": "BLonX6ABZ3xj"
      },
      "source": [
        "# Добавление классов"
      ]
    },
    {
      "cell_type": "code",
      "metadata": {
        "id": "Zvv2yUX9R10B"
      },
      "source": [
        "# ALL is subclass of BookConcept\n",
        "#   subclass GenreConcept\n",
        "genres = URIRef('http://www.semanticweb.org/samit/ontologies/2021/4/authortoday#Genre')\n",
        "tags = URIRef('http://www.semanticweb.org/samit/ontologies/2021/4/authortoday#Tags')\n",
        "#   subclass PeopleConcept\n",
        "readers = URIRef('http://www.semanticweb.org/samit/ontologies/2021/4/authortoday#Reader')\n",
        "#     subclass Authors\n",
        "authors = URIRef('http://www.semanticweb.org/samit/ontologies/2021/4/authortoday#Author')\n",
        "#   subclass BookConcept\n",
        "books = URIRef('http://www.semanticweb.org/samit/ontologies/2021/4/authortoday#Book')\n",
        "bookcycles = URIRef('http://www.semanticweb.org/samit/ontologies/2021/4/authortoday#BookCycles')\n",
        "reviews = URIRef('http://www.semanticweb.org/samit/ontologies/2021/4/authortoday#Review')"
      ],
      "execution_count": null,
      "outputs": []
    },
    {
      "cell_type": "code",
      "metadata": {
        "id": "bpiTmHIe8T5y"
      },
      "source": [
        ""
      ],
      "execution_count": null,
      "outputs": []
    },
    {
      "cell_type": "markdown",
      "metadata": {
        "id": "Bu22MMVNuyH1"
      },
      "source": [
        "# Добавление свойств"
      ]
    },
    {
      "cell_type": "markdown",
      "metadata": {
        "id": "xAamSc3LuiPV"
      },
      "source": [
        "Data property"
      ]
    },
    {
      "cell_type": "code",
      "metadata": {
        "id": "jXWDHv7budBI"
      },
      "source": [
        "hasName = URIRef('http://www.semanticweb.org/samit/ontologies/2021/4/authortoday#hasName')\n",
        "cycleDescription = URIRef('http://www.semanticweb.org/samit/ontologies/2021/4/authortoday#cycleDescription')\n",
        "isEnded = URIRef('http://www.semanticweb.org/samit/ontologies/2021/4/authortoday#isEnded')\n",
        "publicationDate = URIRef('http://www.semanticweb.org/samit/ontologies/2021/4/authortoday#publicationDate')\n",
        "recensyText = URIRef('http://www.semanticweb.org/samit/ontologies/2021/4/authortoday#recensyText')\n",
        "registrationDate = URIRef('http://www.semanticweb.org/samit/ontologies/2021/4/authortoday#registrationDate')\n",
        "personReputation = URIRef('http://www.semanticweb.org/samit/ontologies/2021/4/authortoday#personReputation')"
      ],
      "execution_count": null,
      "outputs": []
    },
    {
      "cell_type": "markdown",
      "metadata": {
        "id": "Hbfd_2g5vTV3"
      },
      "source": [
        "DataAuthor property"
      ]
    },
    {
      "cell_type": "code",
      "metadata": {
        "id": "YONzuw8xvQ3m"
      },
      "source": [
        "authorRating = URIRef('http://www.semanticweb.org/samit/ontologies/2021/4/authortoday#authorRating')\n",
        "authorRewards = URIRef('http://www.semanticweb.org/samit/ontologies/2021/4/authortoday#authorRewards')"
      ],
      "execution_count": null,
      "outputs": []
    },
    {
      "cell_type": "markdown",
      "metadata": {
        "id": "zRUvCutKvedp"
      },
      "source": [
        "Data bookProperty"
      ]
    },
    {
      "cell_type": "code",
      "metadata": {
        "id": "7ee7UDbWvg27"
      },
      "source": [
        "addedToLibrary = URIRef('http://www.semanticweb.org/samit/ontologies/2021/4/authortoday#addedToLibrary')\n",
        "bookCharacters = URIRef('http://www.semanticweb.org/samit/ontologies/2021/4/authortoday#bookCharacters')\n",
        "firstPublicationDate = URIRef('http://www.semanticweb.org/samit/ontologies/2021/4/authortoday#firstPublicationDate')\n",
        "hasComments = URIRef('http://www.semanticweb.org/samit/ontologies/2021/4/authortoday#hasComments')\n",
        "hasCost = URIRef('http://www.semanticweb.org/samit/ontologies/2021/4/authortoday#hasCost')\n",
        "hasLikes = URIRef('http://www.semanticweb.org/samit/ontologies/2021/4/authortoday#hasLikes')\n",
        "hasRewards = URIRef('http://www.semanticweb.org/samit/ontologies/2021/4/authortoday#hasRewards')\n",
        "hasViews = URIRef('http://www.semanticweb.org/samit/ontologies/2021/4/authortoday#hasViews')\n",
        "numberInCycle = URIRef('http://www.semanticweb.org/samit/ontologies/2021/4/authortoday#numberInCycle')"
      ],
      "execution_count": null,
      "outputs": []
    },
    {
      "cell_type": "markdown",
      "metadata": {
        "id": "Ltd56Rfuv6at"
      },
      "source": [
        "Object property"
      ]
    },
    {
      "cell_type": "code",
      "metadata": {
        "id": "rQtU8t-CxPJ2"
      },
      "source": [
        "hasAuthor = URIRef('http://www.semanticweb.org/samit/ontologies/2021/4/authortoday#hasAuthor')\n",
        "hasBooksInCycle = URIRef('http://www.semanticweb.org/samit/ontologies/2021/4/authortoday#hasBooksInCycle')\n",
        "hasCycles = URIRef('http://www.semanticweb.org/samit/ontologies/2021/4/authortoday#hasCycles')\n",
        "hasGenre = URIRef('http://www.semanticweb.org/samit/ontologies/2021/4/authortoday#hasGenre')\n",
        "hasReadedBooks = URIRef('http://www.semanticweb.org/samit/ontologies/2021/4/authortoday#hasReadedBooks')\n",
        "hasReview = URIRef('http://www.semanticweb.org/samit/ontologies/2021/4/authortoday#hasReview')\n",
        "hasReviewBook = URIRef('http://www.semanticweb.org/samit/ontologies/2021/4/authortoday#hasReviewBook')\n",
        "hasTags = URIRef('http://www.semanticweb.org/samit/ontologies/2021/4/authortoday#hasTags')\n",
        "hasWrittenCycles = URIRef('http://www.semanticweb.org/samit/ontologies/2021/4/authortoday#hasWrittenCycles')\n",
        "haveWrittenBooks = URIRef('http://www.semanticweb.org/samit/ontologies/2021/4/authortoday#haveWrittenBooks')"
      ],
      "execution_count": null,
      "outputs": []
    },
    {
      "cell_type": "markdown",
      "metadata": {
        "id": "DJKMqd4Oxx_c"
      },
      "source": [
        "# Добавление данных"
      ]
    },
    {
      "cell_type": "code",
      "metadata": {
        "id": "YqpFIPU83oFe"
      },
      "source": [
        "from rdflib.namespace import RDF, XSD"
      ],
      "execution_count": null,
      "outputs": []
    },
    {
      "cell_type": "code",
      "metadata": {
        "id": "11hfeaUa1bNs"
      },
      "source": [
        "base_uri = 'http://www.semanticweb.org/samit/ontologies/2021/4/authortoday'"
      ],
      "execution_count": null,
      "outputs": []
    },
    {
      "cell_type": "markdown",
      "metadata": {
        "id": "5TgZ3bZf6VCw"
      },
      "source": [
        "add_to_graph - для добавления rdf-триплета\n",
        "\n",
        "add_to_graph_def - для добавления id сущности (к примеру, 183 книга)"
      ]
    },
    {
      "cell_type": "code",
      "metadata": {
        "id": "VqXdDxsBR13S"
      },
      "source": [
        "def add_to_graph(id_name: str, entity_type: URIRef, entity: URIRef):\n",
        "    item = URIRef(f'{base_uri}#{id_name}')\n",
        "    graph.add((item, entity_type, entity))\n",
        "    \n",
        "def add_to_graph_def(id_name: str, type: URIRef):\n",
        "    item = URIRef(f'{base_uri}#{id_name}')\n",
        "    graph.add((item, RDF.type, type))\n",
        "\n",
        "def add_to_graph_relation(id_name: str, entity_type: URIRef, second_id: str):\n",
        "    item = URIRef(f'{base_uri}#{id_name}')\n",
        "    second = URIRef(f'{base_uri}#{second_id}')\n",
        "    graph.add((item, entity_type, second))"
      ],
      "execution_count": null,
      "outputs": []
    },
    {
      "cell_type": "markdown",
      "metadata": {
        "id": "WXbDdKI8JYiE"
      },
      "source": [
        "Некоторые полезные функции\n",
        "get_ints - получает из строки только числа\n",
        "strToId - добавляет нули в начало числовой строки"
      ]
    },
    {
      "cell_type": "code",
      "metadata": {
        "id": "clk6ABcP7rzy"
      },
      "source": [
        "def get_ints(string):\n",
        "    result = ''\n",
        "    string = str(string)\n",
        "    for char in string:\n",
        "        if char.isdigit():\n",
        "            result += char\n",
        "    if result == '':\n",
        "        return '0'\n",
        "    return result\n",
        "    \n",
        "def strToId(str_id, count):\n",
        "    return (count - len(str_id)) * '0' + str_id"
      ],
      "execution_count": null,
      "outputs": []
    },
    {
      "cell_type": "markdown",
      "metadata": {
        "id": "EN0TkhsjpWVF"
      },
      "source": [
        "# Описание функций для добавления данных"
      ]
    },
    {
      "cell_type": "markdown",
      "metadata": {
        "id": "0TLiy1sOqoe8"
      },
      "source": [
        "Добавление книги"
      ]
    },
    {
      "cell_type": "code",
      "metadata": {
        "id": "eyJDEZD7Ryev"
      },
      "source": [
        "def book_redact(book):\n",
        "    new_book = book.copy()\n",
        "    new_book['Id'] = 'Book' + strToId(get_ints(book['Link']), 6)\n",
        "    bookIsEnded = True\n",
        "    try:\n",
        "      if (book['Status'] != 'весь текст'):\n",
        "          bookIsEnded = False\n",
        "      new_book['Status'] = bookIsEnded\n",
        "      new_book['AddedToLibrary'] = int(get_ints(book['AddedToLibrary']))\n",
        "      new_book['Number_of_characters'] = int(get_ints(book['Number_of_characters']))\n",
        "      if book['price'] != 'Free':\n",
        "        new_book['price'] = int(get_ints(book['price']))\n",
        "      else:\n",
        "        new_book['price'] = 0\n",
        "    except:\n",
        "        None\n",
        "    return new_book"
      ],
      "execution_count": null,
      "outputs": []
    },
    {
      "cell_type": "code",
      "metadata": {
        "id": "p-YZJAT3R3sn"
      },
      "source": [
        "def get_tags_from_book_list(books):\n",
        "    booktags = {}\n",
        "    bookgenres = {}\n",
        "    tag_id = 1\n",
        "    genre_id = 1\n",
        "    for book in books:\n",
        "        if book != None:\n",
        "          if len(book) > 1:\n",
        "              for tag in book['Tags']:\n",
        "                  if tag not in booktags:\n",
        "                      booktags[tag] = 'Tag' + strToId(str(tag_id), 5)\n",
        "                      tag_id += 1\n",
        "              try:\n",
        "                  for genre in book['Genres'][1:]:\n",
        "                      if genre not in bookgenres:\n",
        "                          bookgenres[genre] = 'Genre' + strToId(str(genre_id), 2)\n",
        "                          genre_id += 1\n",
        "              except:\n",
        "                  None\n",
        "    return booktags, bookgenres"
      ],
      "execution_count": null,
      "outputs": []
    },
    {
      "cell_type": "code",
      "metadata": {
        "id": "ebZkDTou2set"
      },
      "source": [
        "def add_book(book, all_tags, all_genres):\n",
        "    book = book_redact(book)\n",
        "    add_to_graph_def(book['Id'], books)\n",
        "    add_to_graph(book['Id'], hasName, Literal(book['Title'], datatype=XSD.string))\n",
        "    add_to_graph(book['Id'], isEnded, Literal(book['Status'], datatype=XSD.boolean))\n",
        "    add_to_graph(book['Id'], addedToLibrary, Literal(book['AddedToLibrary'], datatype=XSD.int))\n",
        "    add_to_graph(book['Id'], bookCharacters, Literal(book['Number_of_characters'], datatype=XSD.int))\n",
        "    add_to_graph(book['Id'], hasCost, Literal(book['price'], datatype=XSD.int))\n",
        "    add_to_graph(book['Id'], hasLikes, Literal(get_ints(book['likes']), datatype=XSD.int))\n",
        "    add_to_graph(book['Id'], hasRewards, Literal(get_ints(book['nagrady']), datatype=XSD.int))\n",
        "    add_to_graph(book['Id'], hasViews, Literal(get_ints(book['looking']), datatype=XSD.int))\n",
        "    add_to_graph(book['Id'], numberInCycle, Literal(get_ints(book['Cycle_num']), datatype=XSD.int))\n",
        "    add_to_graph(book['Id'], publicationDate, Literal(book['Publication_date'][:19], datatype=XSD.dateTime))\n",
        "    for genre in book['Genres'][1:]:\n",
        "        add_to_graph_relation(book['Id'], hasGenre, all_genres[genre])\n",
        "    for tag in book['Tags'][1:]:\n",
        "        add_to_graph_relation(book['Id'], hasTags, all_tags[tag])\n"
      ],
      "execution_count": null,
      "outputs": []
    },
    {
      "cell_type": "code",
      "metadata": {
        "id": "D_xmKoOcR6iS"
      },
      "source": [
        "def addAuthor(author):\n",
        "    id = author['Link'][23:]\n",
        "    add_to_graph_def(id, authors)\n",
        "    add_to_graph(id, hasName, Literal(author['Name'], datatype=XSD.string))\n",
        "    add_to_graph(id, authorRating,  Literal(get_ints(author['Author_rating']), datatype=XSD.int))\n",
        "    add_to_graph(id, authorRewards, Literal(get_ints(author['Rewards']), datatype=XSD.int))\n",
        "    add_to_graph(id, personReputation, Literal(get_ints(author['Reputation']), datatype=XSD.int))\n",
        "    add_to_graph(id, registrationDate, Literal(author['Registration_date'][:19], datatype=XSD.dateTime))"
      ],
      "execution_count": null,
      "outputs": []
    },
    {
      "cell_type": "code",
      "metadata": {
        "colab": {
          "base_uri": "https://localhost:8080/"
        },
        "id": "AaxaFTAbcuQz",
        "outputId": "29a2b3e4-cdf1-4f0e-f1e9-1456b4761f1e"
      },
      "source": [
        "a = 'https://author.today/work/series/215'\n",
        "a[33:]\n",
        "\n",
        "a.find('1')"
      ],
      "execution_count": null,
      "outputs": [
        {
          "output_type": "execute_result",
          "data": {
            "text/plain": [
              "34"
            ]
          },
          "metadata": {
            "tags": []
          },
          "execution_count": 20
        }
      ]
    },
    {
      "cell_type": "code",
      "metadata": {
        "id": "B8P4JUMgclPH"
      },
      "source": [
        "def addCycle(cycle):\n",
        "    id = 'Cycle' + strToId(cycle['Link'][33:], 5)\n",
        "    add_to_graph_def(id, bookcycles)\n",
        "    add_to_graph(id, hasName, Literal(cycle['Name'], datatype=XSD.string))\n",
        "    add_to_graph(id, cycleDescription, Literal(cycle['Description'], datatype=XSD.string))\n",
        "    add_to_graph(id, publicationDate, Literal(cycle['Last_Publicated'][:19], datatype=XSD.dateTime))\n",
        "    add_to_graph(id, firstPublicationDate, Literal(cycle['First_Publicated'][:19], datatype=XSD.dateTime))\n",
        "    add_to_graph(id, isEnded, Literal(cycle['Stasus'] == 'завершен', datatype=XSD.boolean))\n",
        "    for author in cycle['Authors']:\n",
        "        if (author.find('=') == -1):\n",
        "          add_to_graph_relation(id, hasAuthor, author)\n",
        "    for book in cycle['Books']:\n",
        "        add_to_graph_relation(id, hasBooksInCycle, 'Book' + strToId(book, 6))\n"
      ],
      "execution_count": null,
      "outputs": []
    },
    {
      "cell_type": "code",
      "metadata": {
        "id": "50UDTfg-ghCX"
      },
      "source": [
        ""
      ],
      "execution_count": null,
      "outputs": []
    },
    {
      "cell_type": "code",
      "metadata": {
        "id": "ARsmT5H4R7ya"
      },
      "source": [
        "def addTag(booktags, tag):\n",
        "    add_to_graph_def(booktags[tag], tags)\n",
        "    add_to_graph(booktags[tag], hasName, Literal(tag, datatype=XSD.string))\n",
        "\n",
        "def addGenre(bookgenres, genre):\n",
        "    add_to_graph_def(bookgenres[genre], genres)\n",
        "    add_to_graph(bookgenres[genre], hasName, Literal(genre, datatype=XSD.string))"
      ],
      "execution_count": null,
      "outputs": []
    },
    {
      "cell_type": "code",
      "metadata": {
        "id": "Eoln-XaFVU1S"
      },
      "source": [
        "def add_author_object_property(all_authors, all_books):\n",
        "    book_tr = all_books\n",
        "    book_ids = []\n",
        "    for i in range(len(book_tr)):\n",
        "        book_tr[i] = book_redact(book_tr[i])\n",
        "        book_ids.append(book_tr[i]['Id'])\n",
        "    for author in all_authors:\n",
        "        for book in author['Readed_book_ids']:\n",
        "            if ('Book' + strToId(book, 6)) in book_ids:\n",
        "              add_to_graph_relation(author['Link'][23:], hasReadedBooks, 'Book' + strToId(book, 6))\n",
        "    for book in book_tr:\n",
        "        if book['Cycle_id'] != 'None':\n",
        "          add_to_graph_relation(book['Id'], hasCycles, 'Cycle' + strToId(book['Cycle_id'], 5))\n",
        "\n",
        "    for book in book_tr:\n",
        "        for author in book['Author_link']:\n",
        "          add_to_graph_relation(book['Id'], hasAuthor, author[23:-6])"
      ],
      "execution_count": null,
      "outputs": []
    },
    {
      "cell_type": "markdown",
      "metadata": {
        "id": "sQ86NotSVapT"
      },
      "source": [
        "# Использование функций для добавления"
      ]
    },
    {
      "cell_type": "markdown",
      "metadata": {
        "id": "N9q8_SiT9wKL"
      },
      "source": [
        ""
      ]
    },
    {
      "cell_type": "code",
      "metadata": {
        "id": "V5tUPge-6wTM"
      },
      "source": [
        "import json"
      ],
      "execution_count": null,
      "outputs": []
    },
    {
      "cell_type": "code",
      "metadata": {
        "id": "qC0VcVsU6wV9",
        "colab": {
          "base_uri": "https://localhost:8080/"
        },
        "outputId": "8e0f30ae-124c-48b8-f647-e487a105975e"
      },
      "source": [
        "from google.colab import drive\n",
        "drive.mount('/content/drive', force_remount=True)"
      ],
      "execution_count": null,
      "outputs": [
        {
          "output_type": "stream",
          "text": [
            "Mounted at /content/drive\n"
          ],
          "name": "stdout"
        }
      ]
    },
    {
      "cell_type": "code",
      "metadata": {
        "id": "Qlgnlom47H7e"
      },
      "source": [
        "data = {}\n",
        "with open('drive/MyDrive/Ontology/new_books_list_v3.json') as json_file:\n",
        "    data = json.load(json_file)\n",
        "\n",
        "author_data = {}\n",
        "with open('drive/MyDrive/Ontology/author_out.json') as json_file:\n",
        "    author_data = json.load(json_file)\n",
        "\n",
        "cycle_data = {}\n",
        "with open('drive/MyDrive/Ontology/cycles_data_choosed.json') as json_file:\n",
        "    cycle_data = json.load(json_file)"
      ],
      "execution_count": null,
      "outputs": []
    },
    {
      "cell_type": "code",
      "metadata": {
        "colab": {
          "base_uri": "https://localhost:8080/"
        },
        "id": "xk2lM3czB7-n",
        "outputId": "6275c7b6-8e89-4624-ce18-51a36ae7d05a"
      },
      "source": [
        "data['books'][1]"
      ],
      "execution_count": null,
      "outputs": [
        {
          "output_type": "execute_result",
          "data": {
            "text/plain": [
              "{'AddedToLibrary': '4\\xa0928',\n",
              " 'Annotation': 'Мечтал о других мирах? Получи и распишись. Но кем ты будешь здесь, в этом странном но таком интересном мире? Останешься скромным егерем Фальком - охотником на нежить. Или попытаешься пробиться на вершину, встать в один ряд с родовой аристократией. Тебе решать. К твоим услугам магия и огнестрельное оружие, базы данных и Камни Души дарующие невероятные возможности. Возьми своё! Лети Сокол!',\n",
              " 'Author': ['Широков Алексей'],\n",
              " 'Author_link': ['https://author.today/u/alleksh/works'],\n",
              " 'Cycle': 'Полёт сокола',\n",
              " 'Cycle_id': '77',\n",
              " 'Cycle_num': '1',\n",
              " 'FirstPublication': '2016-08-13T03:18:42.1470000Z',\n",
              " 'Genres': ['Роман', 'Боевик'],\n",
              " 'Link': 'https://author.today/work/872',\n",
              " 'Number_of_characters': '669\\xa0873 зн.',\n",
              " 'Publication_date': '2016-08-31T10:11:02.2300000Z',\n",
              " 'Status': 'весь текст',\n",
              " 'Tags': ['боевик',\n",
              "  'бояръаниме',\n",
              "  'война с нежитью',\n",
              "  'магический мир',\n",
              "  'приключения',\n",
              "  'технофентези'],\n",
              " 'Title': 'Полёт сокола',\n",
              " 'likes': '427',\n",
              " 'looking': '243030',\n",
              " 'nagrady': '197',\n",
              " 'price': '100'}"
            ]
          },
          "metadata": {
            "tags": []
          },
          "execution_count": 27
        }
      ]
    },
    {
      "cell_type": "code",
      "metadata": {
        "id": "vbQsqNzk2ZSl"
      },
      "source": [
        "a = []\n",
        "for book in data['books']:\n",
        "  if book != None:\n",
        "    a.append(book)\n",
        "data['books'] = a"
      ],
      "execution_count": null,
      "outputs": []
    },
    {
      "cell_type": "code",
      "metadata": {
        "id": "P7YFtU01JjGi"
      },
      "source": [
        "booktags, bookgenres = get_tags_from_book_list(data['books'])"
      ],
      "execution_count": null,
      "outputs": []
    },
    {
      "cell_type": "code",
      "metadata": {
        "id": "NzZeKSrGShI4"
      },
      "source": [
        "for id, tag in enumerate(booktags):\n",
        "    addTag(booktags, tag)\n",
        "\n",
        "for id, genre in enumerate(bookgenres):\n",
        "    addGenre(bookgenres, genre)"
      ],
      "execution_count": null,
      "outputs": []
    },
    {
      "cell_type": "code",
      "metadata": {
        "id": "hhoW18aX7dLW"
      },
      "source": [
        "for book in data['books']:\n",
        "    if (book != None) and (len(book) > 1):\n",
        "      add_book(book, booktags, bookgenres)\n",
        "\n",
        "for author in author_data['author']:\n",
        "    try:\n",
        "      addAuthor(author)\n",
        "    except:\n",
        "      print(author)\n",
        "\n",
        "for cycle in cycle_data['cycles']:\n",
        "    addCycle(cycle)\n"
      ],
      "execution_count": null,
      "outputs": []
    },
    {
      "cell_type": "code",
      "metadata": {
        "id": "XNWcBqhBqGTZ"
      },
      "source": [
        "add_author_object_property(author_data['author'], data['books'])"
      ],
      "execution_count": null,
      "outputs": []
    },
    {
      "cell_type": "markdown",
      "metadata": {
        "id": "KMuvP1O7wG0E"
      },
      "source": [
        "# Load rdf"
      ]
    },
    {
      "cell_type": "code",
      "metadata": {
        "id": "VFNFqC7na72E"
      },
      "source": [
        "graph.serialize(destination='Mag_with_data.rdf')"
      ],
      "execution_count": null,
      "outputs": []
    },
    {
      "cell_type": "markdown",
      "metadata": {
        "id": "tSAP70aHSEVk"
      },
      "source": [
        "#VOID"
      ]
    },
    {
      "cell_type": "code",
      "metadata": {
        "id": "_MnUOg_LPC8x"
      },
      "source": [
        "from rdflib.void import generateVoID\n",
        "a = generateVoID(graph)"
      ],
      "execution_count": null,
      "outputs": []
    },
    {
      "cell_type": "code",
      "metadata": {
        "id": "_6RwQBA0RLiF"
      },
      "source": [
        "a[0].serialize(destination='Test.rdf')"
      ],
      "execution_count": null,
      "outputs": []
    },
    {
      "cell_type": "code",
      "metadata": {
        "id": "QbcrEqSWCI1c"
      },
      "source": [
        ""
      ],
      "execution_count": null,
      "outputs": []
    },
    {
      "cell_type": "markdown",
      "metadata": {
        "id": "Nk6BWOpUCJIb"
      },
      "source": [
        "#Reasoning\n"
      ]
    },
    {
      "cell_type": "code",
      "metadata": {
        "id": "3pCPSviyL9-A"
      },
      "source": [
        "from owlready2 import *\n",
        "onto = get_ontology('./Mag_with_data.rdf')\n",
        "#onto.load()"
      ],
      "execution_count": 175,
      "outputs": []
    },
    {
      "cell_type": "code",
      "metadata": {
        "colab": {
          "base_uri": "https://localhost:8080/"
        },
        "id": "v0E-MqdmnzcU",
        "outputId": "1e1e7670-6072-45f6-a024-b02982e3c92d"
      },
      "source": [
        "with onto:\n",
        "  sync_reasoner(infer_property_values = True)"
      ],
      "execution_count": 176,
      "outputs": [
        {
          "output_type": "stream",
          "text": [
            "* Owlready2 * Running HermiT...\n",
            "    java -Xmx2000M -cp /usr/local/lib/python3.7/dist-packages/owlready2/hermit:/usr/local/lib/python3.7/dist-packages/owlready2/hermit/HermiT.jar org.semanticweb.HermiT.cli.CommandLine -c -O -D -I file:////tmp/tmpql6uhmd5 -Y\n",
            "* Owlready2 * HermiT took 13.77860951423645 seconds\n",
            "* Owlready * (NB: only changes on entities loaded in Python are shown, other changes are done but not listed)\n"
          ],
          "name": "stderr"
        }
      ]
    },
    {
      "cell_type": "code",
      "metadata": {
        "colab": {
          "base_uri": "https://localhost:8080/"
        },
        "id": "-7PwVum2n4en",
        "outputId": "5b99a003-c50e-4c3b-b818-318e26916f58"
      },
      "source": [
        "onto.aesler.hasWritten"
      ],
      "execution_count": 177,
      "outputs": [
        {
          "output_type": "execute_result",
          "data": {
            "text/plain": [
              "[Mag_with_data.Book085224,\n",
              " Mag_with_data.Book087608,\n",
              " Mag_with_data.Book110531,\n",
              " Mag_with_data.Book097015,\n",
              " Mag_with_data.Book062386,\n",
              " Mag_with_data.Cycle07463,\n",
              " Mag_with_data.Cycle09496,\n",
              " Mag_with_data.Book122185]"
            ]
          },
          "metadata": {
            "tags": []
          },
          "execution_count": 177
        }
      ]
    },
    {
      "cell_type": "code",
      "metadata": {
        "id": "_66AxAvnswjD"
      },
      "source": [
        "onto.save(file = \"test.rdf\", format = \"rdfxml\")"
      ],
      "execution_count": 174,
      "outputs": []
    },
    {
      "cell_type": "markdown",
      "metadata": {
        "id": "WG0ON-6app_U"
      },
      "source": [
        "# SPARQL\n"
      ]
    },
    {
      "cell_type": "code",
      "metadata": {
        "id": "IISxigNPMixG"
      },
      "source": [
        "import pandas as pd"
      ],
      "execution_count": null,
      "outputs": []
    },
    {
      "cell_type": "code",
      "metadata": {
        "colab": {
          "base_uri": "https://localhost:8080/",
          "height": 399
        },
        "id": "ofrpWJmpr-Qw",
        "outputId": "c953380a-bc29-4915-f98d-cfefea6dc2af"
      },
      "source": [
        "tag = 'реалрпг'\n",
        "year = '2019'\n",
        "# Запрос для получения tagID\n",
        "results = graph.query(\"\"\"\n",
        "PREFIX rdf: <http://www.w3.org/1999/02/22-rdf-syntax-ns#>\n",
        "PREFIX mont: <http://www.semanticweb.org/samit/ontologies/2021/4/authortoday#>\n",
        "SELECT *\n",
        "WHERE {\n",
        "?tag rdf:type mont:Tags;\n",
        "    mont:hasName ?tagName;\n",
        "    FILTER(?tagName = \"%s\"^^xsd:string).\n",
        "}\n",
        "\"\"\" % (tag) )\n",
        "tagID = ''\n",
        "for i in results:\n",
        "    tagID = i[1]\n",
        "\n",
        "# Запрос на получение результата\n",
        "results = graph.query(\"\"\"\n",
        "PREFIX rdf: <http://www.w3.org/1999/02/22-rdf-syntax-ns#>\n",
        "PREFIX mont: <http://www.semanticweb.org/samit/ontologies/2021/4/authortoday#>\n",
        "SELECT *\n",
        "WHERE {\n",
        "?Book rdf:type mont:Book;\n",
        "    mont:isEnded ?Status;\n",
        "    mont:hasName ?BookName;\n",
        "    mont:publicationDate ?date\n",
        "    FILTER (?date >= \"%s-01-01T00:00:01\"^^xsd:dateTime \n",
        "    && ?date <= \"%s-12-31T23:59:59\"^^xsd:dateTime \n",
        "    && ?Status = true\n",
        "    ).\n",
        "?Book mont:hasTags mont:%s.\n",
        "}\n",
        "\"\"\" % (year, year, tagID[-8:]) )\n",
        "pd.DataFrame(results, columns=results.vars)"
      ],
      "execution_count": 96,
      "outputs": [
        {
          "output_type": "execute_result",
          "data": {
            "text/html": [
              "<div>\n",
              "<style scoped>\n",
              "    .dataframe tbody tr th:only-of-type {\n",
              "        vertical-align: middle;\n",
              "    }\n",
              "\n",
              "    .dataframe tbody tr th {\n",
              "        vertical-align: top;\n",
              "    }\n",
              "\n",
              "    .dataframe thead th {\n",
              "        text-align: right;\n",
              "    }\n",
              "</style>\n",
              "<table border=\"1\" class=\"dataframe\">\n",
              "  <thead>\n",
              "    <tr style=\"text-align: right;\">\n",
              "      <th></th>\n",
              "      <th>Status</th>\n",
              "      <th>BookName</th>\n",
              "      <th>date</th>\n",
              "      <th>Book</th>\n",
              "    </tr>\n",
              "  </thead>\n",
              "  <tbody>\n",
              "    <tr>\n",
              "      <th>0</th>\n",
              "      <td>true</td>\n",
              "      <td>Виват, квартерон! Квест мага</td>\n",
              "      <td>2019-11-23T06:33:25</td>\n",
              "      <td>http://www.semanticweb.org/samit/ontologies/20...</td>\n",
              "    </tr>\n",
              "    <tr>\n",
              "      <th>1</th>\n",
              "      <td>true</td>\n",
              "      <td>Игра Хаоса. Судья Богов. Книга четвертая.</td>\n",
              "      <td>2019-04-18T04:27:58</td>\n",
              "      <td>http://www.semanticweb.org/samit/ontologies/20...</td>\n",
              "    </tr>\n",
              "    <tr>\n",
              "      <th>2</th>\n",
              "      <td>true</td>\n",
              "      <td>Покинутый Полис.</td>\n",
              "      <td>2019-12-23T07:13:02</td>\n",
              "      <td>http://www.semanticweb.org/samit/ontologies/20...</td>\n",
              "    </tr>\n",
              "    <tr>\n",
              "      <th>3</th>\n",
              "      <td>true</td>\n",
              "      <td>Воля грешных богов. Том 1</td>\n",
              "      <td>2019-01-24T15:47:59</td>\n",
              "      <td>http://www.semanticweb.org/samit/ontologies/20...</td>\n",
              "    </tr>\n",
              "    <tr>\n",
              "      <th>4</th>\n",
              "      <td>true</td>\n",
              "      <td>Излом 2.0</td>\n",
              "      <td>2019-03-19T15:33:04</td>\n",
              "      <td>http://www.semanticweb.org/samit/ontologies/20...</td>\n",
              "    </tr>\n",
              "    <tr>\n",
              "      <th>...</th>\n",
              "      <td>...</td>\n",
              "      <td>...</td>\n",
              "      <td>...</td>\n",
              "      <td>...</td>\n",
              "    </tr>\n",
              "    <tr>\n",
              "      <th>85</th>\n",
              "      <td>true</td>\n",
              "      <td>Real-RPG. Ледяной клинок</td>\n",
              "      <td>2019-09-01T16:39:18</td>\n",
              "      <td>http://www.semanticweb.org/samit/ontologies/20...</td>\n",
              "    </tr>\n",
              "    <tr>\n",
              "      <th>86</th>\n",
              "      <td>true</td>\n",
              "      <td>Анархия упадка 8. Ро'Кха-кан</td>\n",
              "      <td>2019-09-15T17:42:54</td>\n",
              "      <td>http://www.semanticweb.org/samit/ontologies/20...</td>\n",
              "    </tr>\n",
              "    <tr>\n",
              "      <th>87</th>\n",
              "      <td>true</td>\n",
              "      <td>Книга 2 Князь Верд</td>\n",
              "      <td>2019-11-16T04:03:59</td>\n",
              "      <td>http://www.semanticweb.org/samit/ontologies/20...</td>\n",
              "    </tr>\n",
              "    <tr>\n",
              "      <th>88</th>\n",
              "      <td>true</td>\n",
              "      <td>Система возрождения. Лишний игрок</td>\n",
              "      <td>2019-12-10T16:01:59</td>\n",
              "      <td>http://www.semanticweb.org/samit/ontologies/20...</td>\n",
              "    </tr>\n",
              "    <tr>\n",
              "      <th>89</th>\n",
              "      <td>true</td>\n",
              "      <td>Ты в игре! LitRPG истории из лучших игровых миров</td>\n",
              "      <td>2019-08-21T06:12:28</td>\n",
              "      <td>http://www.semanticweb.org/samit/ontologies/20...</td>\n",
              "    </tr>\n",
              "  </tbody>\n",
              "</table>\n",
              "<p>90 rows × 4 columns</p>\n",
              "</div>"
            ],
            "text/plain": [
              "   Status  ...                                               Book\n",
              "0    true  ...  http://www.semanticweb.org/samit/ontologies/20...\n",
              "1    true  ...  http://www.semanticweb.org/samit/ontologies/20...\n",
              "2    true  ...  http://www.semanticweb.org/samit/ontologies/20...\n",
              "3    true  ...  http://www.semanticweb.org/samit/ontologies/20...\n",
              "4    true  ...  http://www.semanticweb.org/samit/ontologies/20...\n",
              "..    ...  ...                                                ...\n",
              "85   true  ...  http://www.semanticweb.org/samit/ontologies/20...\n",
              "86   true  ...  http://www.semanticweb.org/samit/ontologies/20...\n",
              "87   true  ...  http://www.semanticweb.org/samit/ontologies/20...\n",
              "88   true  ...  http://www.semanticweb.org/samit/ontologies/20...\n",
              "89   true  ...  http://www.semanticweb.org/samit/ontologies/20...\n",
              "\n",
              "[90 rows x 4 columns]"
            ]
          },
          "metadata": {
            "tags": []
          },
          "execution_count": 96
        }
      ]
    },
    {
      "cell_type": "code",
      "metadata": {
        "id": "cX7X7P_oAvrc",
        "colab": {
          "base_uri": "https://localhost:8080/",
          "height": 402
        },
        "outputId": "c3a975d4-cd25-4ed8-d93d-fe21b91d02c4"
      },
      "source": [
        "#uri = 'http://www.semanticweb.org/samit/ontologies/2021/4/authortoday#Cycle00245'\n",
        "# Серия каких книг, написанных в X году является законченной?\n",
        "\n",
        "year = '2019'\n",
        "\n",
        "results = graph.query(\"\"\"\n",
        "PREFIX rdf: <http://www.w3.org/1999/02/22-rdf-syntax-ns#>\n",
        "PREFIX mont: <http://www.semanticweb.org/samit/ontologies/2021/4/authortoday#>\n",
        "SELECT ?BookName ?Cycle\n",
        "WHERE {\n",
        "?Book rdf:type mont:Book;\n",
        "    mont:isEnded ?Status;\n",
        "    mont:hasName ?BookName;\n",
        "    mont:publicationDate ?date\n",
        "    FILTER (?date >= \"%s-01-01T00:00:01\"^^xsd:dateTime \n",
        "    && ?date <= \"%s-12-31T23:59:59\"^^xsd:dateTime).\n",
        "?Cycle rdf:type mont:BookCycles;\n",
        "    mont:isEnded ?CycleStatus;\n",
        "    FILTER(?CycleStatus = true)\n",
        "?Book mont:hasCycles ?Cycle\n",
        "}\n",
        "\"\"\" % (year, year) )\n",
        "pd.DataFrame(results, columns=results.vars)"
      ],
      "execution_count": null,
      "outputs": [
        {
          "output_type": "execute_result",
          "data": {
            "text/html": [
              "<div>\n",
              "<style scoped>\n",
              "    .dataframe tbody tr th:only-of-type {\n",
              "        vertical-align: middle;\n",
              "    }\n",
              "\n",
              "    .dataframe tbody tr th {\n",
              "        vertical-align: top;\n",
              "    }\n",
              "\n",
              "    .dataframe thead th {\n",
              "        text-align: right;\n",
              "    }\n",
              "</style>\n",
              "<table border=\"1\" class=\"dataframe\">\n",
              "  <thead>\n",
              "    <tr style=\"text-align: right;\">\n",
              "      <th></th>\n",
              "      <th>BookName</th>\n",
              "      <th>Cycle</th>\n",
              "    </tr>\n",
              "  </thead>\n",
              "  <tbody>\n",
              "    <tr>\n",
              "      <th>0</th>\n",
              "      <td>Акедия: Первый шаг. Том I.</td>\n",
              "      <td>http://www.semanticweb.org/samit/ontologies/20...</td>\n",
              "    </tr>\n",
              "    <tr>\n",
              "      <th>1</th>\n",
              "      <td>Черный маг</td>\n",
              "      <td>http://www.semanticweb.org/samit/ontologies/20...</td>\n",
              "    </tr>\n",
              "    <tr>\n",
              "      <th>2</th>\n",
              "      <td>Мир, где мне не очень рады.</td>\n",
              "      <td>http://www.semanticweb.org/samit/ontologies/20...</td>\n",
              "    </tr>\n",
              "    <tr>\n",
              "      <th>3</th>\n",
              "      <td>Пятно</td>\n",
              "      <td>http://www.semanticweb.org/samit/ontologies/20...</td>\n",
              "    </tr>\n",
              "    <tr>\n",
              "      <th>4</th>\n",
              "      <td>Лабиринт II</td>\n",
              "      <td>http://www.semanticweb.org/samit/ontologies/20...</td>\n",
              "    </tr>\n",
              "    <tr>\n",
              "      <th>...</th>\n",
              "      <td>...</td>\n",
              "      <td>...</td>\n",
              "    </tr>\n",
              "    <tr>\n",
              "      <th>505</th>\n",
              "      <td>Пандора. Карантин</td>\n",
              "      <td>http://www.semanticweb.org/samit/ontologies/20...</td>\n",
              "    </tr>\n",
              "    <tr>\n",
              "      <th>506</th>\n",
              "      <td>Галактиона. Книга третья: Чек на миллиард</td>\n",
              "      <td>http://www.semanticweb.org/samit/ontologies/20...</td>\n",
              "    </tr>\n",
              "    <tr>\n",
              "      <th>507</th>\n",
              "      <td>Безграничный мир. Спидранер.</td>\n",
              "      <td>http://www.semanticweb.org/samit/ontologies/20...</td>\n",
              "    </tr>\n",
              "    <tr>\n",
              "      <th>508</th>\n",
              "      <td>Дикари Ойкумены (космический марш). Книга 1: В...</td>\n",
              "      <td>http://www.semanticweb.org/samit/ontologies/20...</td>\n",
              "    </tr>\n",
              "    <tr>\n",
              "      <th>509</th>\n",
              "      <td>Академик Странник-5</td>\n",
              "      <td>http://www.semanticweb.org/samit/ontologies/20...</td>\n",
              "    </tr>\n",
              "  </tbody>\n",
              "</table>\n",
              "<p>510 rows × 2 columns</p>\n",
              "</div>"
            ],
            "text/plain": [
              "                                              BookName                                              Cycle\n",
              "0                           Акедия: Первый шаг. Том I.  http://www.semanticweb.org/samit/ontologies/20...\n",
              "1                                           Черный маг  http://www.semanticweb.org/samit/ontologies/20...\n",
              "2                          Мир, где мне не очень рады.  http://www.semanticweb.org/samit/ontologies/20...\n",
              "3                                                Пятно  http://www.semanticweb.org/samit/ontologies/20...\n",
              "4                                          Лабиринт II  http://www.semanticweb.org/samit/ontologies/20...\n",
              "..                                                 ...                                                ...\n",
              "505                                  Пандора. Карантин  http://www.semanticweb.org/samit/ontologies/20...\n",
              "506          Галактиона. Книга третья: Чек на миллиард  http://www.semanticweb.org/samit/ontologies/20...\n",
              "507                       Безграничный мир. Спидранер.  http://www.semanticweb.org/samit/ontologies/20...\n",
              "508  Дикари Ойкумены (космический марш). Книга 1: В...  http://www.semanticweb.org/samit/ontologies/20...\n",
              "509                                Академик Странник-5  http://www.semanticweb.org/samit/ontologies/20...\n",
              "\n",
              "[510 rows x 2 columns]"
            ]
          },
          "metadata": {
            "tags": []
          },
          "execution_count": 76
        }
      ]
    },
    {
      "cell_type": "code",
      "metadata": {
        "id": "t3hhPRXRRsI5",
        "colab": {
          "base_uri": "https://localhost:8080/",
          "height": 417
        },
        "outputId": "872f765a-d85d-4856-b69f-264b267a8238"
      },
      "source": [
        "#Найти все книги с тегом X, рейтинг автора которых не меньше Y\n",
        "tag = 'попаданцы'\n",
        "author_rating = '2000000'\n",
        "# Запрос для получения tagID\n",
        "results = graph.query(\"\"\"\n",
        "PREFIX rdf: <http://www.w3.org/1999/02/22-rdf-syntax-ns#>\n",
        "PREFIX mont: <http://www.semanticweb.org/samit/ontologies/2021/4/authortoday#>\n",
        "SELECT *\n",
        "WHERE {\n",
        "?tag rdf:type mont:Tags;\n",
        "    mont:hasName ?tagName;\n",
        "    FILTER(?tagName = \"%s\"^^xsd:string).\n",
        "}\n",
        "\"\"\" % (tag) )\n",
        "tagID = ''\n",
        "for i in results:\n",
        "    tagID = i[1][-8:]\n",
        "print(tagID)\n",
        "# Запрос на получение результата\n",
        "results = graph.query(\"\"\"\n",
        "PREFIX rdf: <http://www.w3.org/1999/02/22-rdf-syntax-ns#>\n",
        "PREFIX mont: <http://www.semanticweb.org/samit/ontologies/2021/4/authortoday#>\n",
        "SELECT ?Author ?BookName ?Book\n",
        "WHERE {\n",
        "?Book rdf:type mont:Book;\n",
        "    mont:hasName ?BookName.\n",
        "?Author rdf:type mont:Author;\n",
        "    mont:authorRating ?Author_rating;\n",
        "    FILTER(?Author_rating >= \"%s\"^^xsd:int).\n",
        "?Book mont:hasAuthor ?Author.\n",
        "?Book mont:hasTags mont:%s.\n",
        "}\n",
        "ORDER BY DESC(?Author_rating)\n",
        "\"\"\" % (author_rating, tagID))\n",
        "pd.DataFrame(results, columns=results.vars)"
      ],
      "execution_count": 130,
      "outputs": [
        {
          "output_type": "stream",
          "text": [
            "Tag00011\n"
          ],
          "name": "stdout"
        },
        {
          "output_type": "execute_result",
          "data": {
            "text/html": [
              "<div>\n",
              "<style scoped>\n",
              "    .dataframe tbody tr th:only-of-type {\n",
              "        vertical-align: middle;\n",
              "    }\n",
              "\n",
              "    .dataframe tbody tr th {\n",
              "        vertical-align: top;\n",
              "    }\n",
              "\n",
              "    .dataframe thead th {\n",
              "        text-align: right;\n",
              "    }\n",
              "</style>\n",
              "<table border=\"1\" class=\"dataframe\">\n",
              "  <thead>\n",
              "    <tr style=\"text-align: right;\">\n",
              "      <th></th>\n",
              "      <th>Author</th>\n",
              "      <th>BookName</th>\n",
              "      <th>Book</th>\n",
              "    </tr>\n",
              "  </thead>\n",
              "  <tbody>\n",
              "    <tr>\n",
              "      <th>0</th>\n",
              "      <td>http://www.semanticweb.org/samit/ontologies/20...</td>\n",
              "      <td>Книга седьмая - Осколки маски.</td>\n",
              "      <td>http://www.semanticweb.org/samit/ontologies/20...</td>\n",
              "    </tr>\n",
              "    <tr>\n",
              "      <th>1</th>\n",
              "      <td>http://www.semanticweb.org/samit/ontologies/20...</td>\n",
              "      <td>переКРЕСТок одиночества 2</td>\n",
              "      <td>http://www.semanticweb.org/samit/ontologies/20...</td>\n",
              "    </tr>\n",
              "    <tr>\n",
              "      <th>2</th>\n",
              "      <td>http://www.semanticweb.org/samit/ontologies/20...</td>\n",
              "      <td>Алхимик 4. Сила зверя</td>\n",
              "      <td>http://www.semanticweb.org/samit/ontologies/20...</td>\n",
              "    </tr>\n",
              "    <tr>\n",
              "      <th>3</th>\n",
              "      <td>http://www.semanticweb.org/samit/ontologies/20...</td>\n",
              "      <td>Империя 4: Охотник</td>\n",
              "      <td>http://www.semanticweb.org/samit/ontologies/20...</td>\n",
              "    </tr>\n",
              "    <tr>\n",
              "      <th>4</th>\n",
              "      <td>http://www.semanticweb.org/samit/ontologies/20...</td>\n",
              "      <td>Империя 1: Страж</td>\n",
              "      <td>http://www.semanticweb.org/samit/ontologies/20...</td>\n",
              "    </tr>\n",
              "    <tr>\n",
              "      <th>...</th>\n",
              "      <td>...</td>\n",
              "      <td>...</td>\n",
              "      <td>...</td>\n",
              "    </tr>\n",
              "    <tr>\n",
              "      <th>171</th>\n",
              "      <td>http://www.semanticweb.org/samit/ontologies/20...</td>\n",
              "      <td>Чернокнижник. Неистовый маг 1</td>\n",
              "      <td>http://www.semanticweb.org/samit/ontologies/20...</td>\n",
              "    </tr>\n",
              "    <tr>\n",
              "      <th>172</th>\n",
              "      <td>http://www.semanticweb.org/samit/ontologies/20...</td>\n",
              "      <td>Чернокнижник. Неистовый маг 2</td>\n",
              "      <td>http://www.semanticweb.org/samit/ontologies/20...</td>\n",
              "    </tr>\n",
              "    <tr>\n",
              "      <th>173</th>\n",
              "      <td>http://www.semanticweb.org/samit/ontologies/20...</td>\n",
              "      <td>Целитель чудовищ - 1</td>\n",
              "      <td>http://www.semanticweb.org/samit/ontologies/20...</td>\n",
              "    </tr>\n",
              "    <tr>\n",
              "      <th>174</th>\n",
              "      <td>http://www.semanticweb.org/samit/ontologies/20...</td>\n",
              "      <td>Метаморф. Алчущий силы - 1</td>\n",
              "      <td>http://www.semanticweb.org/samit/ontologies/20...</td>\n",
              "    </tr>\n",
              "    <tr>\n",
              "      <th>175</th>\n",
              "      <td>http://www.semanticweb.org/samit/ontologies/20...</td>\n",
              "      <td>Целитель</td>\n",
              "      <td>http://www.semanticweb.org/samit/ontologies/20...</td>\n",
              "    </tr>\n",
              "  </tbody>\n",
              "</table>\n",
              "<p>176 rows × 3 columns</p>\n",
              "</div>"
            ],
            "text/plain": [
              "                                                Author  ...                                               Book\n",
              "0    http://www.semanticweb.org/samit/ontologies/20...  ...  http://www.semanticweb.org/samit/ontologies/20...\n",
              "1    http://www.semanticweb.org/samit/ontologies/20...  ...  http://www.semanticweb.org/samit/ontologies/20...\n",
              "2    http://www.semanticweb.org/samit/ontologies/20...  ...  http://www.semanticweb.org/samit/ontologies/20...\n",
              "3    http://www.semanticweb.org/samit/ontologies/20...  ...  http://www.semanticweb.org/samit/ontologies/20...\n",
              "4    http://www.semanticweb.org/samit/ontologies/20...  ...  http://www.semanticweb.org/samit/ontologies/20...\n",
              "..                                                 ...  ...                                                ...\n",
              "171  http://www.semanticweb.org/samit/ontologies/20...  ...  http://www.semanticweb.org/samit/ontologies/20...\n",
              "172  http://www.semanticweb.org/samit/ontologies/20...  ...  http://www.semanticweb.org/samit/ontologies/20...\n",
              "173  http://www.semanticweb.org/samit/ontologies/20...  ...  http://www.semanticweb.org/samit/ontologies/20...\n",
              "174  http://www.semanticweb.org/samit/ontologies/20...  ...  http://www.semanticweb.org/samit/ontologies/20...\n",
              "175  http://www.semanticweb.org/samit/ontologies/20...  ...  http://www.semanticweb.org/samit/ontologies/20...\n",
              "\n",
              "[176 rows x 3 columns]"
            ]
          },
          "metadata": {
            "tags": []
          },
          "execution_count": 130
        }
      ]
    },
    {
      "cell_type": "code",
      "metadata": {
        "id": "oE7XrKSTRl3M",
        "colab": {
          "base_uri": "https://localhost:8080/",
          "height": 505
        },
        "outputId": "784c2e08-920c-4788-9106-e1dd02d4ea29"
      },
      "source": [
        "#Найти топ X книг с наибольшим количеством наград, написанных в жанре Y.\n",
        "genre = 'Юмор'\n",
        "books_count = '15'\n",
        "# Запрос для получения genreID\n",
        "results = graph.query(\"\"\"\n",
        "PREFIX rdf: <http://www.w3.org/1999/02/22-rdf-syntax-ns#>\n",
        "PREFIX mont: <http://www.semanticweb.org/samit/ontologies/2021/4/authortoday#>\n",
        "SELECT *\n",
        "WHERE {\n",
        "?genre rdf:type mont:Genre;\n",
        "    mont:hasName ?genreName;\n",
        "    FILTER(?genreName = \"%s\"^^xsd:string).\n",
        "}\n",
        "\"\"\" % (genre) )\n",
        "genreID = ''\n",
        "for i in results:\n",
        "    genreID = i[0][63:]\n",
        "print(genreID)\n",
        "\n",
        "# Запрос на получение результата\n",
        "results = graph.query(\"\"\"\n",
        "PREFIX rdf: <http://www.w3.org/1999/02/22-rdf-syntax-ns#>\n",
        "PREFIX mont: <http://www.semanticweb.org/samit/ontologies/2021/4/authortoday#>\n",
        "SELECT ?BookName ?BookRewards ?Book\n",
        "WHERE {\n",
        "?Book rdf:type mont:Book;\n",
        "    mont:hasName ?BookName;\n",
        "    mont:hasRewards ?BookRewards.\n",
        "?Book mont:hasGenre mont:%s.\n",
        "}\n",
        "ORDER BY DESC(?BookRewards)\n",
        "LIMIT %s\n",
        "\"\"\" % (genreID, books_count))\n",
        "pd.DataFrame(results, columns=results.vars)"
      ],
      "execution_count": 129,
      "outputs": [
        {
          "output_type": "stream",
          "text": [
            "Genre15\n"
          ],
          "name": "stdout"
        },
        {
          "output_type": "execute_result",
          "data": {
            "text/html": [
              "<div>\n",
              "<style scoped>\n",
              "    .dataframe tbody tr th:only-of-type {\n",
              "        vertical-align: middle;\n",
              "    }\n",
              "\n",
              "    .dataframe tbody tr th {\n",
              "        vertical-align: top;\n",
              "    }\n",
              "\n",
              "    .dataframe thead th {\n",
              "        text-align: right;\n",
              "    }\n",
              "</style>\n",
              "<table border=\"1\" class=\"dataframe\">\n",
              "  <thead>\n",
              "    <tr style=\"text-align: right;\">\n",
              "      <th></th>\n",
              "      <th>BookName</th>\n",
              "      <th>BookRewards</th>\n",
              "      <th>Book</th>\n",
              "    </tr>\n",
              "  </thead>\n",
              "  <tbody>\n",
              "    <tr>\n",
              "      <th>0</th>\n",
              "      <td>Косплей Сергея Юркина. Айдол-ян. ( книга четвё...</td>\n",
              "      <td>3000</td>\n",
              "      <td>http://www.semanticweb.org/samit/ontologies/20...</td>\n",
              "    </tr>\n",
              "    <tr>\n",
              "      <th>1</th>\n",
              "      <td>Косплей Сергея Юркина. Смерть айдола. (книга ч...</td>\n",
              "      <td>2596</td>\n",
              "      <td>http://www.semanticweb.org/samit/ontologies/20...</td>\n",
              "    </tr>\n",
              "    <tr>\n",
              "      <th>2</th>\n",
              "      <td>Бессистемная отладка. Адаптация</td>\n",
              "      <td>2459</td>\n",
              "      <td>http://www.semanticweb.org/samit/ontologies/20...</td>\n",
              "    </tr>\n",
              "    <tr>\n",
              "      <th>3</th>\n",
              "      <td>Напряжение сходится</td>\n",
              "      <td>1851</td>\n",
              "      <td>http://www.semanticweb.org/samit/ontologies/20...</td>\n",
              "    </tr>\n",
              "    <tr>\n",
              "      <th>4</th>\n",
              "      <td>Косплей Сергея Юркина. Айдол-ян. (книга четвёр...</td>\n",
              "      <td>1725</td>\n",
              "      <td>http://www.semanticweb.org/samit/ontologies/20...</td>\n",
              "    </tr>\n",
              "    <tr>\n",
              "      <th>5</th>\n",
              "      <td>Напряжение: том 6. Замыкание</td>\n",
              "      <td>1711</td>\n",
              "      <td>http://www.semanticweb.org/samit/ontologies/20...</td>\n",
              "    </tr>\n",
              "    <tr>\n",
              "      <th>6</th>\n",
              "      <td>Напряжение на высоте</td>\n",
              "      <td>1699</td>\n",
              "      <td>http://www.semanticweb.org/samit/ontologies/20...</td>\n",
              "    </tr>\n",
              "    <tr>\n",
              "      <th>7</th>\n",
              "      <td>Бессистемная отладка. Утилизация</td>\n",
              "      <td>1506</td>\n",
              "      <td>http://www.semanticweb.org/samit/ontologies/20...</td>\n",
              "    </tr>\n",
              "    <tr>\n",
              "      <th>8</th>\n",
              "      <td>Напряжение: том 3. Коронный разряд</td>\n",
              "      <td>1244</td>\n",
              "      <td>http://www.semanticweb.org/samit/ontologies/20...</td>\n",
              "    </tr>\n",
              "    <tr>\n",
              "      <th>9</th>\n",
              "      <td>Напряжение</td>\n",
              "      <td>764</td>\n",
              "      <td>http://www.semanticweb.org/samit/ontologies/20...</td>\n",
              "    </tr>\n",
              "    <tr>\n",
              "      <th>10</th>\n",
              "      <td>Косплей Сергея Юркина. Айдол-ян. (книга четвёр...</td>\n",
              "      <td>747</td>\n",
              "      <td>http://www.semanticweb.org/samit/ontologies/20...</td>\n",
              "    </tr>\n",
              "    <tr>\n",
              "      <th>11</th>\n",
              "      <td>Напряжение растет</td>\n",
              "      <td>673</td>\n",
              "      <td>http://www.semanticweb.org/samit/ontologies/20...</td>\n",
              "    </tr>\n",
              "    <tr>\n",
              "      <th>12</th>\n",
              "      <td>Косплей Сергея Юркина. Файтин! (книга вторая)</td>\n",
              "      <td>658</td>\n",
              "      <td>http://www.semanticweb.org/samit/ontologies/20...</td>\n",
              "    </tr>\n",
              "    <tr>\n",
              "      <th>13</th>\n",
              "      <td>Косплей Сергея Юркина. Трени-ян (книга третья)</td>\n",
              "      <td>606</td>\n",
              "      <td>http://www.semanticweb.org/samit/ontologies/20...</td>\n",
              "    </tr>\n",
              "    <tr>\n",
              "      <th>14</th>\n",
              "      <td>Вы призвали не того... (книга 7, том 1)</td>\n",
              "      <td>584</td>\n",
              "      <td>http://www.semanticweb.org/samit/ontologies/20...</td>\n",
              "    </tr>\n",
              "  </tbody>\n",
              "</table>\n",
              "</div>"
            ],
            "text/plain": [
              "                                             BookName  ...                                               Book\n",
              "0   Косплей Сергея Юркина. Айдол-ян. ( книга четвё...  ...  http://www.semanticweb.org/samit/ontologies/20...\n",
              "1   Косплей Сергея Юркина. Смерть айдола. (книга ч...  ...  http://www.semanticweb.org/samit/ontologies/20...\n",
              "2                     Бессистемная отладка. Адаптация  ...  http://www.semanticweb.org/samit/ontologies/20...\n",
              "3                                 Напряжение сходится  ...  http://www.semanticweb.org/samit/ontologies/20...\n",
              "4   Косплей Сергея Юркина. Айдол-ян. (книга четвёр...  ...  http://www.semanticweb.org/samit/ontologies/20...\n",
              "5                        Напряжение: том 6. Замыкание  ...  http://www.semanticweb.org/samit/ontologies/20...\n",
              "6                                Напряжение на высоте  ...  http://www.semanticweb.org/samit/ontologies/20...\n",
              "7                    Бессистемная отладка. Утилизация  ...  http://www.semanticweb.org/samit/ontologies/20...\n",
              "8                  Напряжение: том 3. Коронный разряд  ...  http://www.semanticweb.org/samit/ontologies/20...\n",
              "9                                          Напряжение  ...  http://www.semanticweb.org/samit/ontologies/20...\n",
              "10  Косплей Сергея Юркина. Айдол-ян. (книга четвёр...  ...  http://www.semanticweb.org/samit/ontologies/20...\n",
              "11                                  Напряжение растет  ...  http://www.semanticweb.org/samit/ontologies/20...\n",
              "12      Косплей Сергея Юркина. Файтин! (книга вторая)  ...  http://www.semanticweb.org/samit/ontologies/20...\n",
              "13     Косплей Сергея Юркина. Трени-ян (книга третья)  ...  http://www.semanticweb.org/samit/ontologies/20...\n",
              "14            Вы призвали не того... (книга 7, том 1)  ...  http://www.semanticweb.org/samit/ontologies/20...\n",
              "\n",
              "[15 rows x 3 columns]"
            ]
          },
          "metadata": {
            "tags": []
          },
          "execution_count": 129
        }
      ]
    },
    {
      "cell_type": "markdown",
      "metadata": {
        "id": "EiYCVM9WRmF8"
      },
      "source": [
        "#PyLODE"
      ]
    },
    {
      "cell_type": "code",
      "metadata": {
        "id": "in6yzu2ELC95",
        "colab": {
          "base_uri": "https://localhost:8080/"
        },
        "outputId": "f99a8b4f-3e3a-4ee9-b2a5-2109f28224d5"
      },
      "source": [
        "!pip install pylode"
      ],
      "execution_count": 131,
      "outputs": [
        {
          "output_type": "stream",
          "text": [
            "Collecting pylode\n",
            "\u001b[?25l  Downloading https://files.pythonhosted.org/packages/4e/df/97be1bb7693bab6505004fe9fde0cabfaf9b38ec89f1eb60187cd34d88ff/pyLODE-2.9.2-py2.py3-none-any.whl (134kB)\n",
            "\u001b[K     |████████████████████████████████| 143kB 4.0MB/s \n",
            "\u001b[?25hRequirement already satisfied: markdown in /usr/local/lib/python3.7/dist-packages (from pylode) (3.3.4)\n",
            "Collecting rdflib-jsonld>=0.5.0\n",
            "\u001b[?25l  Downloading https://files.pythonhosted.org/packages/f5/17/45e137be0d93b70827fe5529c0400731344a978bc792193d7d9152e6dbe4/rdflib-jsonld-0.5.0.tar.gz (55kB)\n",
            "\u001b[K     |████████████████████████████████| 61kB 4.1MB/s \n",
            "\u001b[?25hRequirement already satisfied: rdflib>=5.0.0 in /usr/local/lib/python3.7/dist-packages (from pylode) (5.0.0)\n",
            "Requirement already satisfied: jinja2 in /usr/local/lib/python3.7/dist-packages (from pylode) (2.11.3)\n",
            "Requirement already satisfied: requests in /usr/local/lib/python3.7/dist-packages (from pylode) (2.23.0)\n",
            "Requirement already satisfied: importlib-metadata; python_version < \"3.8\" in /usr/local/lib/python3.7/dist-packages (from markdown->pylode) (4.0.1)\n",
            "Requirement already satisfied: six in /usr/local/lib/python3.7/dist-packages (from rdflib>=5.0.0->pylode) (1.15.0)\n",
            "Requirement already satisfied: isodate in /usr/local/lib/python3.7/dist-packages (from rdflib>=5.0.0->pylode) (0.6.0)\n",
            "Requirement already satisfied: pyparsing in /usr/local/lib/python3.7/dist-packages (from rdflib>=5.0.0->pylode) (2.4.7)\n",
            "Requirement already satisfied: MarkupSafe>=0.23 in /usr/local/lib/python3.7/dist-packages (from jinja2->pylode) (2.0.0)\n",
            "Requirement already satisfied: chardet<4,>=3.0.2 in /usr/local/lib/python3.7/dist-packages (from requests->pylode) (3.0.4)\n",
            "Requirement already satisfied: certifi>=2017.4.17 in /usr/local/lib/python3.7/dist-packages (from requests->pylode) (2020.12.5)\n",
            "Requirement already satisfied: urllib3!=1.25.0,!=1.25.1,<1.26,>=1.21.1 in /usr/local/lib/python3.7/dist-packages (from requests->pylode) (1.24.3)\n",
            "Requirement already satisfied: idna<3,>=2.5 in /usr/local/lib/python3.7/dist-packages (from requests->pylode) (2.10)\n",
            "Requirement already satisfied: typing-extensions>=3.6.4; python_version < \"3.8\" in /usr/local/lib/python3.7/dist-packages (from importlib-metadata; python_version < \"3.8\"->markdown->pylode) (3.7.4.3)\n",
            "Requirement already satisfied: zipp>=0.5 in /usr/local/lib/python3.7/dist-packages (from importlib-metadata; python_version < \"3.8\"->markdown->pylode) (3.4.1)\n",
            "Building wheels for collected packages: rdflib-jsonld\n",
            "  Building wheel for rdflib-jsonld (setup.py) ... \u001b[?25l\u001b[?25hdone\n",
            "  Created wheel for rdflib-jsonld: filename=rdflib_jsonld-0.5.0-py2.py3-none-any.whl size=15348 sha256=acd4d111670bf357052fa33a5eb0da6b92428e87c3df00a31a9837081878befe\n",
            "  Stored in directory: /root/.cache/pip/wheels/8d/e4/7f/9ebcb3e400c694e645c3adba40ef3e9bda78384ac3b9b0d13d\n",
            "Successfully built rdflib-jsonld\n",
            "Installing collected packages: rdflib-jsonld, pylode\n",
            "Successfully installed pylode-2.9.2 rdflib-jsonld-0.5.0\n"
          ],
          "name": "stdout"
        }
      ]
    },
    {
      "cell_type": "code",
      "metadata": {
        "id": "wj_NqKckQD5R"
      },
      "source": [
        "import pylode\n",
        "\n",
        "html = pylode.MakeDocco(\n",
        "    input_data_file='Mag_with_data.rdf',\n",
        "    outputformat=\"html\",\n",
        "    profile=\"ontdoc\"\n",
        ").document()"
      ],
      "execution_count": 132,
      "outputs": []
    },
    {
      "cell_type": "code",
      "metadata": {
        "id": "A4s_c0DjQLqv"
      },
      "source": [
        "with open('do_re_mi.html', 'w') as f:\n",
        "    f.write(html)"
      ],
      "execution_count": 133,
      "outputs": []
    }
  ]
}