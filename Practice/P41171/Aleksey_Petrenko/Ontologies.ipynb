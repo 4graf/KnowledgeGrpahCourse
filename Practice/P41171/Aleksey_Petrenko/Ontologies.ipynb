{
  "nbformat": 4,
  "nbformat_minor": 0,
  "metadata": {
    "colab": {
      "name": "Ontologies.ipynb",
      "provenance": [],
      "collapsed_sections": [],
      "toc_visible": true
    },
    "kernelspec": {
      "name": "python3",
      "display_name": "Python 3"
    },
    "language_info": {
      "name": "python"
    }
  },
  "cells": [
    {
      "cell_type": "code",
      "metadata": {
        "id": "qatkCl4yEdeC",
        "colab": {
          "base_uri": "https://localhost:8080/"
        },
        "outputId": "7ee7ec17-9b8c-4ce5-9fef-c195fe0cca6b"
      },
      "source": [
        "!pip install rdflib\n",
        "!pip install pylode\n",
        "!pip install owlready2"
      ],
      "execution_count": null,
      "outputs": [
        {
          "output_type": "stream",
          "text": [
            "Requirement already satisfied: rdflib in /usr/local/lib/python3.7/dist-packages (5.0.0)\n",
            "Requirement already satisfied: six in /usr/local/lib/python3.7/dist-packages (from rdflib) (1.15.0)\n",
            "Requirement already satisfied: pyparsing in /usr/local/lib/python3.7/dist-packages (from rdflib) (2.4.7)\n",
            "Requirement already satisfied: isodate in /usr/local/lib/python3.7/dist-packages (from rdflib) (0.6.0)\n",
            "Requirement already satisfied: pylode in /usr/local/lib/python3.7/dist-packages (2.9.2)\n",
            "Requirement already satisfied: requests in /usr/local/lib/python3.7/dist-packages (from pylode) (2.23.0)\n",
            "Requirement already satisfied: markdown in /usr/local/lib/python3.7/dist-packages (from pylode) (3.3.4)\n",
            "Requirement already satisfied: rdflib>=5.0.0 in /usr/local/lib/python3.7/dist-packages (from pylode) (5.0.0)\n",
            "Requirement already satisfied: jinja2 in /usr/local/lib/python3.7/dist-packages (from pylode) (2.11.3)\n",
            "Requirement already satisfied: rdflib-jsonld>=0.5.0 in /usr/local/lib/python3.7/dist-packages (from pylode) (0.5.0)\n",
            "Requirement already satisfied: idna<3,>=2.5 in /usr/local/lib/python3.7/dist-packages (from requests->pylode) (2.10)\n",
            "Requirement already satisfied: chardet<4,>=3.0.2 in /usr/local/lib/python3.7/dist-packages (from requests->pylode) (3.0.4)\n",
            "Requirement already satisfied: certifi>=2017.4.17 in /usr/local/lib/python3.7/dist-packages (from requests->pylode) (2020.12.5)\n",
            "Requirement already satisfied: urllib3!=1.25.0,!=1.25.1,<1.26,>=1.21.1 in /usr/local/lib/python3.7/dist-packages (from requests->pylode) (1.24.3)\n",
            "Requirement already satisfied: importlib-metadata; python_version < \"3.8\" in /usr/local/lib/python3.7/dist-packages (from markdown->pylode) (4.0.1)\n",
            "Requirement already satisfied: isodate in /usr/local/lib/python3.7/dist-packages (from rdflib>=5.0.0->pylode) (0.6.0)\n",
            "Requirement already satisfied: pyparsing in /usr/local/lib/python3.7/dist-packages (from rdflib>=5.0.0->pylode) (2.4.7)\n",
            "Requirement already satisfied: six in /usr/local/lib/python3.7/dist-packages (from rdflib>=5.0.0->pylode) (1.15.0)\n",
            "Requirement already satisfied: MarkupSafe>=0.23 in /usr/local/lib/python3.7/dist-packages (from jinja2->pylode) (2.0.0)\n",
            "Requirement already satisfied: zipp>=0.5 in /usr/local/lib/python3.7/dist-packages (from importlib-metadata; python_version < \"3.8\"->markdown->pylode) (3.4.1)\n",
            "Requirement already satisfied: typing-extensions>=3.6.4; python_version < \"3.8\" in /usr/local/lib/python3.7/dist-packages (from importlib-metadata; python_version < \"3.8\"->markdown->pylode) (3.7.4.3)\n",
            "Requirement already satisfied: owlready2 in /usr/local/lib/python3.7/dist-packages (0.31)\n"
          ],
          "name": "stdout"
        }
      ]
    },
    {
      "cell_type": "code",
      "metadata": {
        "id": "-3lT9TnzE2No"
      },
      "source": [
        "import csv\n",
        "from rdflib import URIRef, Graph, RDF, Literal, XSD\n",
        "from rdflib.void import generateVoID\n",
        "from rdflib.namespace import DCTERMS\n",
        "import pylode\n",
        "import os\n",
        "import re"
      ],
      "execution_count": null,
      "outputs": []
    },
    {
      "cell_type": "code",
      "metadata": {
        "id": "h8dq3s9TE8tR"
      },
      "source": [
        "base_iri = 'http://www.semanticweb.org/Scooters#'"
      ],
      "execution_count": null,
      "outputs": []
    },
    {
      "cell_type": "markdown",
      "metadata": {
        "id": "DN82S3tPFFOL"
      },
      "source": [
        "# Classes"
      ]
    },
    {
      "cell_type": "code",
      "metadata": {
        "id": "XYMacd0gFNXF"
      },
      "source": [
        "scooter_class = URIRef(base_iri + 'Scooter')\n",
        "brand_class = URIRef(base_iri + 'Brand')\n",
        "\n",
        "rental_class = URIRef(base_iri + 'Rental')\n",
        "availability_class = URIRef(base_iri + 'Availability')\n",
        "place_class = URIRef(base_iri + 'Place')\n",
        "\n",
        "configuration_class = URIRef(base_iri + 'Configuration')\n",
        "\n",
        "wheel_configuration_class = URIRef(base_iri + 'Wheel_configuration')\n",
        "two_wheel_class = URIRef(base_iri + 'Two_wheel')\n",
        "three_wheel_class = URIRef(base_iri + 'Three_wheel')\n",
        "\n",
        "engine_configuration_class = URIRef(base_iri + 'Engine_configuration')\n",
        "single_class = URIRef(base_iri + 'Single')\n",
        "double_class = URIRef(base_iri + 'Double')\n",
        "\n",
        "construction_configuration_class = URIRef(base_iri + 'Construction_configuration')\n",
        "folding_class = URIRef(base_iri + 'With_seat')\n",
        "with_seat_class = URIRef(base_iri + 'Folding')\n",
        "\n",
        "target_audience_class = URIRef(base_iri + 'Target_audience')\n",
        "children_class = URIRef(base_iri + 'Children')\n",
        "adult_class = URIRef(base_iri + 'Adult')\n",
        "\n",
        "rating_class = URIRef(base_iri + 'Rating')\n",
        "none_class = URIRef(base_iri + 'None')\n",
        "low_class = URIRef(base_iri + 'Low')\n",
        "medium_class = URIRef(base_iri + 'Medium')\n",
        "high_class = URIRef(base_iri + 'High')\n",
        "\n",
        "place_of_usage_class = URIRef(base_iri + 'Place_of_usage')\n",
        "countryside_class = URIRef(base_iri + 'Countryside')\n",
        "city_class = URIRef(base_iri + 'City')"
      ],
      "execution_count": null,
      "outputs": []
    },
    {
      "cell_type": "markdown",
      "metadata": {
        "id": "CEsTEa6LFqx7"
      },
      "source": [
        "# Object properties"
      ]
    },
    {
      "cell_type": "code",
      "metadata": {
        "id": "SqbqDE8FFuHi"
      },
      "source": [
        "availableAt = URIRef(base_iri + 'availableAtPlace')\n",
        "for_audience = URIRef(base_iri + 'for')\n",
        "hasBrand = URIRef(base_iri + 'hasBrand')\n",
        "hasConstruction = URIRef(base_iri + 'hasConstruction')\n",
        "hasEngine = URIRef(base_iri + 'hasEngine')\n",
        "hasRate = URIRef(base_iri + 'hasRate')\n",
        "hasWheels = URIRef(base_iri + 'hasWheels')\n",
        "isAvailable = URIRef(base_iri + 'isAvailable')\n",
        "isRental = URIRef(base_iri + 'isRental')\n",
        "useIn = URIRef(base_iri + 'useIn')"
      ],
      "execution_count": null,
      "outputs": []
    },
    {
      "cell_type": "markdown",
      "metadata": {
        "id": "kZV1svnwFxr5"
      },
      "source": [
        "# Data properties"
      ]
    },
    {
      "cell_type": "code",
      "metadata": {
        "id": "S7NTZoGDFzm4"
      },
      "source": [
        "hasName = URIRef(base_iri + 'hasName')\n",
        "hasCityName = URIRef(base_iri + 'hasCityName')\n",
        "hasBrandName = URIRef(base_iri + 'hasBrandName')\n",
        "hasMaxDistance = URIRef(base_iri + 'hasMaxDistance')\n",
        "hasAvailability = URIRef(base_iri + 'hasAvailability')\n",
        "hasMaxSpeed = URIRef(base_iri + 'hasMaxSpeed')\n",
        "hasPower = URIRef(base_iri + 'hasPower')\n",
        "hasWeight = URIRef(base_iri + 'hasWeight')\n",
        "hasRatingValue = URIRef(base_iri + 'hasRateValue')"
      ],
      "execution_count": null,
      "outputs": []
    },
    {
      "cell_type": "markdown",
      "metadata": {
        "id": "UULtc5_KsCVV"
      },
      "source": [
        "# Create graph"
      ]
    },
    {
      "cell_type": "code",
      "metadata": {
        "colab": {
          "base_uri": "https://localhost:8080/"
        },
        "id": "aZBeK2K0F94u",
        "outputId": "d2f27b86-ba15-4254-905c-896798e1ac4d"
      },
      "source": [
        "g = Graph()\n",
        "g.parse('Scooters.owl')\n",
        "\n",
        "g.serialize(format='n3')"
      ],
      "execution_count": null,
      "outputs": [
        {
          "output_type": "execute_result",
          "data": {
            "text/plain": [
              "b'@prefix : <http://www.semanticweb.org/Scooters#> .\\n@prefix owl: <http://www.w3.org/2002/07/owl#> .\\n@prefix rdf: <http://www.w3.org/1999/02/22-rdf-syntax-ns#> .\\n@prefix rdfs: <http://www.w3.org/2000/01/rdf-schema#> .\\n@prefix xsd: <http://www.w3.org/2001/XMLSchema#> .\\n\\n<http://www.semanticweb.org/Scooters> a owl:Ontology .\\n\\n:Adult a owl:Class ;\\n    rdfs:label \"Adult\" ;\\n    rdfs:subClassOf :Target_audience .\\n\\n:Children a owl:Class ;\\n    rdfs:label \"Children\" ;\\n    rdfs:subClassOf :Target_audience .\\n\\n:City a owl:Class ;\\n    rdfs:label \"City\" ;\\n    rdfs:subClassOf :Place_of_usage .\\n\\n:Countryside a owl:Class ;\\n    rdfs:label \"Countryside\" ;\\n    rdfs:subClassOf :Place_of_usage .\\n\\n:Double a owl:Class ;\\n    rdfs:label \"Double\" ;\\n    rdfs:subClassOf :Engine_configuration .\\n\\n:Folding a owl:Class ;\\n    rdfs:label \"Folding\" ;\\n    rdfs:subClassOf :Construction_configuration .\\n\\n:High a owl:Class ;\\n    rdfs:label \"High\" ;\\n    rdfs:subClassOf :Rating ;\\n    owl:equivalentClass [ a owl:Restriction ;\\n            owl:onProperty :hasRateValue ;\\n            owl:someValuesFrom [ a rdfs:Datatype ;\\n                    owl:onDatatype xsd:double ;\\n                    owl:withRestrictions ( [ xsd:minInclusive 4.7e+00 ] ) ] ] .\\n\\n:Low a owl:Class ;\\n    rdfs:label \"Low\" ;\\n    rdfs:subClassOf :Rating ;\\n    owl:equivalentClass [ a owl:Restriction ;\\n            owl:onProperty :hasRateValue ;\\n            owl:someValuesFrom [ a rdfs:Datatype ;\\n                    owl:onDatatype xsd:double ;\\n                    owl:withRestrictions ( [ xsd:minExclusive 0e+00 ] [ xsd:maxExclusive 3e+00 ] ) ] ] .\\n\\n:Medium a owl:Class ;\\n    rdfs:label \"Medium\" ;\\n    rdfs:subClassOf :Rating ;\\n    owl:equivalentClass [ a owl:Restriction ;\\n            owl:onProperty :hasRateValue ;\\n            owl:someValuesFrom [ a rdfs:Datatype ;\\n                    owl:onDatatype xsd:double ;\\n                    owl:withRestrictions ( [ xsd:minExclusive 3e+00 ] [ xsd:maxExclusive 4.7e+00 ] ) ] ] .\\n\\n:None a owl:Class ;\\n    rdfs:label \"None\" ;\\n    rdfs:subClassOf :Rating ;\\n    owl:equivalentClass [ a owl:Restriction ;\\n            owl:onProperty :hasRateValue ;\\n            owl:someValuesFrom [ a rdfs:Datatype ;\\n                    owl:onDatatype xsd:double ;\\n                    owl:withRestrictions ( [ xsd:maxInclusive 0e+00 ] ) ] ] .\\n\\n:Single a owl:Class ;\\n    rdfs:label \"Single\" ;\\n    rdfs:subClassOf :Engine_configuration .\\n\\n:Three_wheel a owl:Class ;\\n    rdfs:label \"Three_wheel\" ;\\n    rdfs:subClassOf :Wheel_configuration .\\n\\n:Two_wheel a owl:Class ;\\n    rdfs:label \"Two_wheel\" ;\\n    rdfs:subClassOf :Wheel_configuration .\\n\\n:With_seat a owl:Class ;\\n    rdfs:label \"With_seat\" ;\\n    rdfs:subClassOf :Construction_configuration .\\n\\n:availableAtPlace a owl:ObjectProperty ;\\n    rdfs:label \"availableAtPlace\" ;\\n    rdfs:domain :Availability ;\\n    rdfs:range :Place ;\\n    rdfs:subPropertyOf owl:topObjectProperty .\\n\\n:for a owl:ObjectProperty ;\\n    rdfs:label \"for\" ;\\n    rdfs:domain :Scooter ;\\n    rdfs:range :Target_audience ;\\n    rdfs:subPropertyOf owl:topObjectProperty .\\n\\n:hasAvailability a owl:DatatypeProperty ;\\n    rdfs:label \"hasAvailability\" ;\\n    rdfs:domain :Availability ;\\n    rdfs:range xsd:boolean ;\\n    rdfs:subPropertyOf owl:topDataProperty .\\n\\n:hasBrand a owl:ObjectProperty ;\\n    rdfs:label \"hasBrand\" ;\\n    rdfs:domain :Scooter ;\\n    rdfs:range :Brand ;\\n    rdfs:subPropertyOf owl:topObjectProperty .\\n\\n:hasBrandName a owl:DatatypeProperty ;\\n    rdfs:domain :Brand ;\\n    rdfs:range xsd:string ;\\n    rdfs:subPropertyOf owl:topDataProperty .\\n\\n:hasCityName a owl:DatatypeProperty ;\\n    rdfs:domain :Place ;\\n    rdfs:range xsd:string ;\\n    rdfs:subPropertyOf owl:topDataProperty .\\n\\n:hasConstruction a owl:ObjectProperty ;\\n    rdfs:label \"hasConstruction\" ;\\n    rdfs:domain :Scooter ;\\n    rdfs:range :Configuration ;\\n    rdfs:subPropertyOf owl:topObjectProperty .\\n\\n:hasEngine a owl:ObjectProperty ;\\n    rdfs:label \"hasEngine\" ;\\n    rdfs:domain :Scooter ;\\n    rdfs:range :Configuration ;\\n    rdfs:subPropertyOf owl:topObjectProperty .\\n\\n:hasMaxDistance a owl:DatatypeProperty ;\\n    rdfs:label \"hasMaxDistance\" ;\\n    rdfs:domain :Scooter ;\\n    rdfs:range xsd:integer ;\\n    rdfs:subPropertyOf owl:topDataProperty .\\n\\n:hasMaxSpeed a owl:DatatypeProperty ;\\n    rdfs:label \"hasMaxSpeed\" ;\\n    rdfs:domain :Scooter ;\\n    rdfs:range xsd:integer ;\\n    rdfs:subPropertyOf owl:topDataProperty .\\n\\n:hasName a owl:DatatypeProperty ;\\n    rdfs:label \"hasName\" ;\\n    rdfs:domain :Scooter ;\\n    rdfs:range xsd:string ;\\n    rdfs:subPropertyOf owl:topDataProperty .\\n\\n:hasPower a owl:DatatypeProperty ;\\n    rdfs:label \"hasPower\" ;\\n    rdfs:domain :Scooter ;\\n    rdfs:range xsd:integer ;\\n    rdfs:subPropertyOf owl:topDataProperty .\\n\\n:hasRate a owl:ObjectProperty ;\\n    rdfs:label \"hasRate\" ;\\n    rdfs:domain :Scooter ;\\n    rdfs:range :Rating ;\\n    rdfs:subPropertyOf owl:topObjectProperty .\\n\\n:hasWeight a owl:DatatypeProperty ;\\n    rdfs:label \"hasWeight\" ;\\n    rdfs:domain :Scooter ;\\n    rdfs:range xsd:integer ;\\n    rdfs:subPropertyOf owl:topDataProperty .\\n\\n:hasWheels a owl:ObjectProperty ;\\n    rdfs:label \"hasWheels\" ;\\n    rdfs:domain :Scooter ;\\n    rdfs:range :Configuration ;\\n    rdfs:subPropertyOf owl:topObjectProperty .\\n\\n:isAvailable a owl:ObjectProperty ;\\n    rdfs:label \"isAvailable\" ;\\n    rdfs:domain :Scooter ;\\n    rdfs:range :Availability ;\\n    rdfs:subPropertyOf owl:topObjectProperty .\\n\\n:isRental a owl:ObjectProperty ;\\n    rdfs:label \"isRental\" ;\\n    rdfs:domain :Scooter ;\\n    rdfs:range :Rental ;\\n    rdfs:subPropertyOf owl:topObjectProperty .\\n\\n:useIn a owl:ObjectProperty ;\\n    rdfs:label \"useIn\" ;\\n    rdfs:domain :Scooter ;\\n    rdfs:range :Place_of_usage ;\\n    rdfs:subPropertyOf owl:topObjectProperty .\\n\\n:Rental a owl:Class .\\n\\n:Brand a owl:Class .\\n\\n:Construction_configuration a owl:Class ;\\n    rdfs:label \"Construction_configuration\" ;\\n    rdfs:subClassOf :Configuration .\\n\\n:Engine_configuration a owl:Class ;\\n    rdfs:label \"Engine_configuration\" ;\\n    rdfs:subClassOf :Configuration .\\n\\n:Place a owl:Class .\\n\\n:Wheel_configuration a owl:Class ;\\n    rdfs:label \"Wheel_configuration\" ;\\n    rdfs:subClassOf :Configuration .\\n\\n:Availability a owl:Class .\\n\\n:Place_of_usage a owl:Class .\\n\\n:Target_audience a owl:Class .\\n\\n:hasRateValue a owl:DatatypeProperty ;\\n    rdfs:domain :Rating ;\\n    rdfs:range xsd:double ;\\n    rdfs:subPropertyOf owl:topDataProperty .\\n\\n:Configuration a owl:Class .\\n\\n:Rating a owl:Class .\\n\\n:Scooter a owl:Class .\\n\\n'"
            ]
          },
          "metadata": {
            "tags": []
          },
          "execution_count": 11
        }
      ]
    },
    {
      "cell_type": "markdown",
      "metadata": {
        "id": "DjQd-h7Xselr"
      },
      "source": [
        "# Functions for adding individuals"
      ]
    },
    {
      "cell_type": "code",
      "metadata": {
        "id": "h1w9BVY3GA1H"
      },
      "source": [
        "def add_scooter(name, max_speed, power, distance, weight):\n",
        "    scooter = URIRef(\n",
        "        base_iri + name\n",
        "    )\n",
        "    g.add((scooter, RDF.type, scooter_class))\n",
        "    g.add((scooter, hasName, Literal(name)))\n",
        "    g.add((scooter, hasMaxSpeed, Literal(max_speed, datatype=XSD.integer)))\n",
        "    g.add((scooter, hasPower, Literal(power, datatype=XSD.integer)))\n",
        "    g.add((scooter, hasMaxDistance, Literal(distance, datatype=XSD.integer)))\n",
        "    g.add((scooter, hasWeight, Literal(weight, datatype=XSD.integer)))\n",
        "\n",
        "    return scooter\n",
        "\n",
        "\n",
        "def add_brand(name):\n",
        "    brand = URIRef(\n",
        "        base_iri + name\n",
        "    )\n",
        "    g.add((brand, RDF.type, brand_class))\n",
        "    g.add((brand, hasBrandName, Literal(name)))\n",
        "\n",
        "    return brand\n",
        "\n",
        "\n",
        "def add_rental():\n",
        "    rental = URIRef(base_iri + 'rental')\n",
        "    g.add((rental, RDF.type, rental_class))\n",
        "\n",
        "    return rental\n",
        "\n",
        "\n",
        "def add_place(name):\n",
        "    place = URIRef(\n",
        "        base_iri + name\n",
        "    )\n",
        "    g.add((place, RDF.type, place_class))\n",
        "    g.add((place, hasCityName, Literal(name)))\n",
        "\n",
        "    return place\n",
        "\n",
        "\n",
        "def add_availability(is_available, scooter_name):\n",
        "    availability = URIRef(\n",
        "        base_iri + scooter_name + '/' + str(is_available)\n",
        "    )\n",
        "    g.add((availability, RDF.type, availability_class))\n",
        "    g.add((availability, hasAvailability, Literal(is_available, datatype=XSD.boolean)))\n",
        "\n",
        "    return availability\n",
        "\n",
        "\n",
        "def add_audience(specific_audience, auditory_type):\n",
        "    auditory = URIRef(base_iri + 'audit/' + str(auditory_type))\n",
        "    g.add((auditory, RDF.type, specific_audience))\n",
        "\n",
        "    return auditory\n",
        "\n",
        "\n",
        "def add_configuration(specific_configuration, type_config):\n",
        "    configuration = URIRef(base_iri + 'config/' + str(type_config))\n",
        "    g.add((configuration, RDF.type, specific_configuration))\n",
        "\n",
        "    return configuration\n",
        "\n",
        "\n",
        "def add_place_of_usage(specific_place, type_config):\n",
        "    place = URIRef(base_iri + 'usage/' + str(type_config))\n",
        "    g.add((place, RDF.type, specific_place))\n",
        "\n",
        "    return place\n",
        "\n",
        "\n",
        "def add_rating(scooter_name, rating_val):\n",
        "    rating = URIRef(base_iri + 'rating/' + scooter_name)\n",
        "    g.add((rating, RDF.type, rating_class))\n",
        "    g.add((rating, hasRatingValue, Literal(rating_val, datatype=XSD.double)))\n",
        "\n",
        "    return rating"
      ],
      "execution_count": null,
      "outputs": []
    },
    {
      "cell_type": "markdown",
      "metadata": {
        "id": "6iWx5F6EtJ_J"
      },
      "source": [
        "# Reading CSV data"
      ]
    },
    {
      "cell_type": "code",
      "metadata": {
        "id": "OyMWVUoJGLkg"
      },
      "source": [
        "rows = list()\n",
        "\n",
        "with open('scooter-data.csv', newline='') as tsvfile:\n",
        "    reader = csv.DictReader(tsvfile, delimiter=\"\\t\")\n",
        "    for row in reader:\n",
        "        rows.append(row)"
      ],
      "execution_count": null,
      "outputs": []
    },
    {
      "cell_type": "markdown",
      "metadata": {
        "id": "sJiS1n5Ztf_3"
      },
      "source": [
        "# Adding calsses and data properties to graph"
      ]
    },
    {
      "cell_type": "code",
      "metadata": {
        "id": "vHhwClKFGPdM"
      },
      "source": [
        "scooters = dict()\n",
        "configurations = dict()\n",
        "brands = dict()\n",
        "rentals = dict()\n",
        "places = dict()\n",
        "availabilities = dict()\n",
        "audiences = dict()\n",
        "places_of_usage = dict()\n",
        "ratings = dict()\n",
        "\n",
        "def preprocess_name(name):\n",
        "    name = re.sub(u'[\\u0401-\\u04f9]', '', name)\n",
        "    name = re.sub(r'([0-9]+[a-zA-Z]+)', '', name)\n",
        "    name = name.replace(' ', '_').replace('(', '').replace(')', '')\n",
        "    return name\n",
        "\n",
        "\n",
        "# Add all classes and data properties\n",
        "for row in rows:\n",
        "\n",
        "    scooters[preprocess_name(name=row['Name'])] = add_scooter(\n",
        "        name=preprocess_name(name=row['Name']),\n",
        "        max_speed=str(row['MaxSpeed']).split(' ')[0],\n",
        "        power=str(row['Power']).split(' ')[0],\n",
        "        distance=str(row['Distance']).split(' ')[0],\n",
        "        weight=str(row['Weight']).split(' ')[0]\n",
        "    )\n",
        "\n",
        "    brands[preprocess_name(name=row['Brand'])] = add_brand(\n",
        "        name=preprocess_name(name=row['Brand'])\n",
        "    )\n",
        "\n",
        "    configurations['With_seat'] = add_configuration(\n",
        "        specific_configuration=with_seat_class,\n",
        "        type_config=1\n",
        "    )\n",
        "\n",
        "    configurations['Folding'] = add_configuration(\n",
        "        specific_configuration=folding_class,\n",
        "        type_config=2\n",
        "    )\n",
        "\n",
        "    configurations['Two_wheel'] = add_configuration(\n",
        "        specific_configuration=two_wheel_class,\n",
        "        type_config=3\n",
        "    )\n",
        "\n",
        "    configurations['Three_wheel'] = add_configuration(\n",
        "        specific_configuration=three_wheel_class,\n",
        "        type_config=4\n",
        "    )\n",
        "\n",
        "    configurations['Single_engine'] = add_configuration(\n",
        "        specific_configuration=single_class,\n",
        "        type_config=5\n",
        "    )\n",
        "\n",
        "    configurations['Double_engine'] = add_configuration(\n",
        "        specific_configuration=double_class,\n",
        "        type_config=6\n",
        "    )\n",
        "\n",
        "    places_of_usage['City'] = add_place_of_usage(\n",
        "        specific_place=city_class,\n",
        "        type_config=1\n",
        "    )\n",
        "\n",
        "    places_of_usage['Countryside'] = add_place_of_usage(\n",
        "        specific_place=countryside_class,\n",
        "        type_config=2\n",
        "    )\n",
        "\n",
        "    availabilities[preprocess_name(name=row['Name'])] = add_availability(\n",
        "        scooter_name=preprocess_name(name=row['Name']),\n",
        "        is_available=row['Availability']\n",
        "    )\n",
        "\n",
        "    rentals['Rental'] = add_rental()\n",
        "\n",
        "    places[preprocess_name(name=row['For_city'])] = add_place(\n",
        "        name=preprocess_name(name=row['For_city'])\n",
        "    )\n",
        "\n",
        "    ratings[preprocess_name(name=row['Name'])] = add_rating(\n",
        "        rating_val=row['Rating'],\n",
        "        scooter_name=preprocess_name(name=row['Name'])\n",
        "    )\n",
        "\n",
        "    audiences['Children'] = add_audience(\n",
        "        specific_audience=children_class,\n",
        "        auditory_type=1\n",
        "    )\n",
        "\n",
        "    audiences['Adult'] = add_audience(\n",
        "        specific_audience=adult_class,\n",
        "        auditory_type=2\n",
        "    )"
      ],
      "execution_count": null,
      "outputs": []
    },
    {
      "cell_type": "markdown",
      "metadata": {
        "id": "orxV8S6btdj2"
      },
      "source": [
        "# Adding object properties to graph"
      ]
    },
    {
      "cell_type": "code",
      "metadata": {
        "id": "UODhtKCiGmda"
      },
      "source": [
        "# Add all object properties\n",
        "for row in rows:\n",
        "\n",
        "    # Scooter -> useIn -> Place_of_usage\n",
        "    if row['Child'] == 'true':\n",
        "        g.add((scooters[preprocess_name(name=row['Name'])], for_audience, audiences['Children']))\n",
        "    elif row['Adult'] == 'true':\n",
        "        g.add((scooters[preprocess_name(name=row['Name'])], for_audience, audiences['Adult']))\n",
        "\n",
        "    # Scooter -> hasConstruction -> Construction_configuration\n",
        "    if row['With seat'] == 'true' and row['Folding'] == 'false':\n",
        "        g.add((scooters[preprocess_name(name=row['Name'])], hasConstruction, configurations['With_seat']))\n",
        "    elif row['With seat'] == 'false' and row['Folding'] == 'true':\n",
        "        g.add((scooters[preprocess_name(name=row['Name'])], hasConstruction, configurations['Folding']))\n",
        "    elif row['With seat'] == 'true' and row['Folding'] == 'true':\n",
        "        g.add((scooters[preprocess_name(name=row['Name'])], hasConstruction, configurations['With_seat']))\n",
        "\n",
        "    # Scooter -> hasEngine -> Engine_configuration\n",
        "    if row['Double engine'] == 'true':\n",
        "        g.add((scooters[preprocess_name(name=row['Name'])], hasEngine, configurations['Double_engine']))\n",
        "    elif row['Double engine'] == 'false':\n",
        "        g.add((scooters[preprocess_name(name=row['Name'])], hasEngine, configurations['Single_engine']))\n",
        "\n",
        "    # Scooter -> hasWheels -> Wheel_configuration\n",
        "    if row['Three-wheel'] == 'true':\n",
        "        g.add((scooters[preprocess_name(name=row['Name'])], hasWheels, configurations['Three_wheel']))\n",
        "    elif row['Three-wheel'] == 'false':\n",
        "        g.add((scooters[preprocess_name(name=row['Name'])], hasWheels, configurations['Two_wheel']))\n",
        "\n",
        "    # Scooter -> hasRating -> Rating\n",
        "    g.add((scooters[preprocess_name(name=row['Name'])], hasRate, ratings[preprocess_name(name=row['Name'])]))\n",
        "\n",
        "    # Scooter -> isRental -> Rental\n",
        "    if row['Rental'] == 'true':\n",
        "        g.add((scooters[preprocess_name(name=row['Name'])], isRental, rentals['Rental']))\n",
        "\n",
        "    # Scooter -> hasBrand -> Brand\n",
        "    g.add((scooters[preprocess_name(name=row['Name'])], hasBrand, brands[preprocess_name(name=row['Brand'])]))\n",
        "\n",
        "    # Scooter -> isAvailable -> Availability\n",
        "    g.add((scooters[preprocess_name(name=row['Name'])], isAvailable, availabilities[preprocess_name(name=row['Name'])]))\n",
        "\n",
        "    # Availability -> availableAtPlace -> Place\n",
        "    if row['Availability'] == 'true':\n",
        "        g.add((availabilities[preprocess_name(name=row['Name'])], availableAt, places[preprocess_name(name=row['For_city'])]))\n",
        "\n",
        "    # Scooter -> useIn -> Place_of_usage\n",
        "    if row['City'] == 'true':\n",
        "        g.add((scooters[preprocess_name(name=row['Name'])], useIn, places_of_usage['City']))\n",
        "    elif row['Countryside'] == 'true':\n",
        "        g.add((scooters[preprocess_name(name=row['Name'])], useIn, places_of_usage['Countryside']))"
      ],
      "execution_count": null,
      "outputs": []
    },
    {
      "cell_type": "markdown",
      "metadata": {
        "id": "IKrVekcbuD_X"
      },
      "source": [
        "# SPARQL"
      ]
    },
    {
      "cell_type": "code",
      "metadata": {
        "colab": {
          "base_uri": "https://localhost:8080/"
        },
        "id": "nROGmCQxrUEA",
        "outputId": "8517cdb1-88dc-4423-f920-48967bbaed51"
      },
      "source": [
        "# Найти самые популярные детские трехколесные самокаты\n",
        "query_1 = g.query(\n",
        "    \"\"\"\n",
        "    PREFIX scooters: <http://www.semanticweb.org/Scooters#>\n",
        "    SELECT ?name WHERE {\n",
        "        ?scooter rdf:type scooters:Scooter .\n",
        "        ?scooter scooters:for ?a .\n",
        "        ?a rdf:type scooters:Children .\n",
        "        ?scooter scooters:hasWheels ?w .\n",
        "        ?w rdf:type scooters:Three_wheel .\n",
        "        ?scooter scooters:hasRate ?r .\n",
        "        ?r scooters:hasRateValue ?v .\n",
        "        ?scooter scooters:hasName ?name \n",
        "        FILTER (?v > 4.75)\n",
        "       }\n",
        "       \"\"\")\n",
        "\n",
        "for row in query_1:\n",
        "    print(\"%s\" % row)"
      ],
      "execution_count": null,
      "outputs": [
        {
          "output_type": "stream",
          "text": [
            "Halten_Kiddy\n"
          ],
          "name": "stdout"
        }
      ]
    },
    {
      "cell_type": "code",
      "metadata": {
        "id": "BjJhYB55r-2c",
        "colab": {
          "base_uri": "https://localhost:8080/"
        },
        "outputId": "32f0722f-e927-4f8d-a27c-9dc59fc113c9"
      },
      "source": [
        "# Найти самокаты производителя X доступные в городе Y (для покупки)\n",
        "query_2 = g.query(\n",
        "    \"\"\"\n",
        "    PREFIX scooters: <http://www.semanticweb.org/Scooters#>\n",
        "    SELECT ?name WHERE {\n",
        "        ?scooter rdf:type scooters:Scooter .\n",
        "        ?scooter scooters:hasBrand ?b .\n",
        "        ?b scooters:hasBrandName \"Xiaomi\" .\n",
        "        ?scooter scooters:isAvailable ?av .\n",
        "        ?av scooters:hasAvailability true .\n",
        "        ?av scooters:availableAtPlace ?pl .\n",
        "        ?pl scooters:hasCityName \"Saint-Petersburg\" .\n",
        "        ?scooter scooters:hasName ?name\n",
        "       }\n",
        "       \"\"\")\n",
        "\n",
        "for row in query_2:\n",
        "    print(\"%s\" % row)"
      ],
      "execution_count": null,
      "outputs": [
        {
          "output_type": "stream",
          "text": [
            "Xiaomi_Mijia_m365_\n",
            "Xiaomi_Mijia_m365_EURO_\n",
            "Xiaomi_Mijia_Electric_Scooter__\n"
          ],
          "name": "stdout"
        }
      ]
    },
    {
      "cell_type": "code",
      "metadata": {
        "id": "5jDNkjyWsTBs",
        "colab": {
          "base_uri": "https://localhost:8080/"
        },
        "outputId": "22270a9f-3153-4454-80cc-aaacd6f1c2ee"
      },
      "source": [
        "# Найти самые популярные городские самокаты, которые используется в прокате\n",
        "query_3 = g.query(\n",
        "    \"\"\"\n",
        "    PREFIX scooters: <http://www.semanticweb.org/Scooters#>\n",
        "    SELECT ?name WHERE {\n",
        "        ?scooter rdf:type scooters:Scooter .\n",
        "        ?scooter scooters:useIn ?p .\n",
        "        ?p rdf:type scooters:City .\n",
        "        ?scooter scooters:isRental ?r.\n",
        "        ?scooter scooters:hasRate ?rt .\n",
        "        ?rt scooters:hasRateValue ?v .\n",
        "        ?scooter scooters:hasName ?name .\n",
        "        FILTER (?v > 4.75)\n",
        "       }\n",
        "       \"\"\")\n",
        "\n",
        "for row in query_3:\n",
        "    print(\"%s\" % row)"
      ],
      "execution_count": null,
      "outputs": [
        {
          "output_type": "stream",
          "text": [
            "Ninebot_Kickscooter_E22\n",
            "Ninebot_ES2_V1.7\n",
            "Ninebot_eKickScooter_Zing_E10\n",
            "Xiaomi_Mijia_m365_\n",
            "Ninebot_KickScooter_E25\n",
            "Xiaomi_Mijia_m365_EURO_\n",
            "Xiaomi_Mi_Electric_Scooter_Pro_2\n",
            "Ninebot_KickScooter_Max\n",
            "Ninebot_by_Segway_KickScooter_ES\n",
            "Xiaomi_Mijia_Electric_Scooter__\n"
          ],
          "name": "stdout"
        }
      ]
    },
    {
      "cell_type": "code",
      "metadata": {
        "id": "zYLKDES7sYNo",
        "colab": {
          "base_uri": "https://localhost:8080/"
        },
        "outputId": "6b52c0f4-0bc6-4812-9c67-94d42aa52fdf"
      },
      "source": [
        "# Найти самые популярные детские самокаты доступные в городе X (для покупки)\n",
        "query_4 = g.query(\n",
        "    \"\"\"\n",
        "    PREFIX scooters: <http://www.semanticweb.org/Scooters#>\n",
        "    SELECT ?name WHERE {\n",
        "        ?scooter rdf:type scooters:Scooter .\n",
        "        ?scooter scooters:for ?a .\n",
        "        ?a rdf:type scooters:Children .\n",
        "        ?scooter scooters:isAvailable ?av .\n",
        "        ?av scooters:hasAvailability true .\n",
        "        ?av scooters:availableAtPlace ?pl .\n",
        "        ?pl scooters:hasCityName \"Saint-Petersburg\" .\n",
        "        ?scooter scooters:hasRate ?r .\n",
        "        ?r scooters:hasRateValue ?v .\n",
        "        ?scooter scooters:hasName ?name \n",
        "        FILTER (?v > 4.75)\n",
        "       }\n",
        "       \"\"\")\n",
        "\n",
        "for row in query_4:\n",
        "    print(\"%s\" % row)"
      ],
      "execution_count": null,
      "outputs": [
        {
          "output_type": "stream",
          "text": [
            "Razor_E_-\n",
            "Halten_Kiddy\n",
            "Razor_Power_Core_E100_\n"
          ],
          "name": "stdout"
        }
      ]
    },
    {
      "cell_type": "markdown",
      "metadata": {
        "id": "IcUDPHEsu0Zq"
      },
      "source": [
        "# Write populated ontology to new file"
      ]
    },
    {
      "cell_type": "code",
      "metadata": {
        "id": "zEPqGUeRIEyE"
      },
      "source": [
        "g.serialize(destination='Scooters-populated.rdf')"
      ],
      "execution_count": null,
      "outputs": []
    },
    {
      "cell_type": "markdown",
      "metadata": {
        "id": "lli0XDXgUbXE"
      },
      "source": [
        "# Provide Java"
      ]
    },
    {
      "cell_type": "code",
      "metadata": {
        "colab": {
          "base_uri": "https://localhost:8080/"
        },
        "id": "m4vVYPSUUjB7",
        "outputId": "fb79afd2-cd6e-4561-b014-ba05eed69c4f"
      },
      "source": [
        "!apt-get install -y openjdk8-jdk-headless -qq > /dev/null\n",
        "os.environ[\"JAVA_HOME\"] = 'usr/lib/jvm/java8-openjdk-amd64'\n",
        "!java -version"
      ],
      "execution_count": null,
      "outputs": [
        {
          "output_type": "stream",
          "text": [
            "E: Unable to locate package openjdk8-jdk-headless\n",
            "openjdk version \"11.0.11\" 2021-04-20\n",
            "OpenJDK Runtime Environment (build 11.0.11+9-Ubuntu-0ubuntu2.18.04)\n",
            "OpenJDK 64-Bit Server VM (build 11.0.11+9-Ubuntu-0ubuntu2.18.04, mixed mode, sharing)\n"
          ],
          "name": "stdout"
        }
      ]
    },
    {
      "cell_type": "markdown",
      "metadata": {
        "id": "3ppm2ZWQfhJp"
      },
      "source": [
        "# Reasoner"
      ]
    },
    {
      "cell_type": "code",
      "metadata": {
        "id": "CKU244dIflGO",
        "colab": {
          "base_uri": "https://localhost:8080/"
        },
        "outputId": "7a2d6d4b-92da-4541-8782-62097b2f7f63"
      },
      "source": [
        "from owlready2 import *\n",
        "import owlready2\n",
        "\n",
        "ontology = get_ontology('Scooters-populated.rdf').load()\n",
        "\n",
        "with ontology:\n",
        "  sync_reasoner()\n",
        "  ontology.save('Scooters-reasoning.rdf', format='rdfxml')"
      ],
      "execution_count": null,
      "outputs": [
        {
          "output_type": "stream",
          "text": [
            "* Owlready2 * Running HermiT...\n",
            "    java -Xmx2000M -cp /usr/local/lib/python3.7/dist-packages/owlready2/hermit:/usr/local/lib/python3.7/dist-packages/owlready2/hermit/HermiT.jar org.semanticweb.HermiT.cli.CommandLine -c -O -D -I file:////tmp/tmpty_z1b3_\n",
            "* Owlready2 * HermiT took 217.69979333877563 seconds\n",
            "* Owlready * (NB: only changes on entities loaded in Python are shown, other changes are done but not listed)\n"
          ],
          "name": "stderr"
        }
      ]
    },
    {
      "cell_type": "markdown",
      "metadata": {
        "id": "Dl_SdYjz7oHl"
      },
      "source": [
        "# SPARQL for graph after reasoning"
      ]
    },
    {
      "cell_type": "code",
      "metadata": {
        "colab": {
          "base_uri": "https://localhost:8080/"
        },
        "id": "a650BHBU7-dZ",
        "outputId": "aec3e5a3-9c4e-44e7-cb9a-2f14b27af81e"
      },
      "source": [
        "import rdflib\n",
        "\n",
        "graph_r = rdflib.Graph()\n",
        "g.parse('Scooters-reasoning.rdf')"
      ],
      "execution_count": null,
      "outputs": [
        {
          "output_type": "execute_result",
          "data": {
            "text/plain": [
              "<Graph identifier=N83b4379fadc241a58b247cbce84e2055 (<class 'rdflib.graph.Graph'>)>"
            ]
          },
          "metadata": {
            "tags": []
          },
          "execution_count": 26
        }
      ]
    },
    {
      "cell_type": "code",
      "metadata": {
        "colab": {
          "base_uri": "https://localhost:8080/"
        },
        "id": "KY_REmIz8rPB",
        "outputId": "821b8753-68a5-4de5-a975-a70973f84b3b"
      },
      "source": [
        "# Найти самые популярные детские трехколесные самокаты\n",
        "query_1 = g.query(\n",
        "    \"\"\"\n",
        "    PREFIX scooters: <http://www.semanticweb.org/Scooters#>\n",
        "    SELECT ?name WHERE {\n",
        "        ?scooter rdf:type scooters:Scooter .\n",
        "        ?scooter scooters:for ?a .\n",
        "        ?a rdf:type scooters:Children .\n",
        "        ?scooter scooters:hasWheels ?w .\n",
        "        ?w rdf:type scooters:Three_wheel .\n",
        "        ?scooter scooters:hasRate ?r .\n",
        "        ?r rdf:type scooters:High .\n",
        "        ?scooter scooters:hasName ?name \n",
        "       }\n",
        "       \"\"\")\n",
        "\n",
        "for row in query_1:\n",
        "    print(\"%s\" % row)"
      ],
      "execution_count": null,
      "outputs": [
        {
          "output_type": "stream",
          "text": [
            "Halten_Kiddy\n"
          ],
          "name": "stdout"
        }
      ]
    },
    {
      "cell_type": "code",
      "metadata": {
        "colab": {
          "base_uri": "https://localhost:8080/"
        },
        "id": "fSC4CSrg8_dP",
        "outputId": "2fda996c-f38e-4762-cedb-0c907c0cfb67"
      },
      "source": [
        "# Найти самые популярные городские самокаты, которые используется в прокате\n",
        "query_3 = g.query(\n",
        "    \"\"\"\n",
        "    PREFIX scooters: <http://www.semanticweb.org/Scooters#>\n",
        "    SELECT ?name WHERE {\n",
        "        ?scooter rdf:type scooters:Scooter .\n",
        "        ?scooter scooters:useIn ?p .\n",
        "        ?p rdf:type scooters:City .\n",
        "        ?scooter scooters:isRental ?r.\n",
        "        ?scooter scooters:hasRate ?rt .\n",
        "        ?rt rdf:type scooters:High .\n",
        "        ?scooter scooters:hasName ?name .\n",
        "       }\n",
        "       \"\"\")\n",
        "\n",
        "for row in query_3:\n",
        "    print(\"%s\" % row)"
      ],
      "execution_count": null,
      "outputs": [
        {
          "output_type": "stream",
          "text": [
            "Ninebot_Kickscooter_E22\n",
            "Ninebot_ES2_V1.7\n",
            "Ninebot_eKickScooter_Zing_E10\n",
            "Xiaomi_Mijia_m365_\n",
            "Ninebot_KickScooter_E25\n",
            "Xiaomi_Mijia_m365_EURO_\n",
            "Xiaomi_Mi_Electric_Scooter_Pro_2\n",
            "Ninebot_KickScooter_Max\n",
            "Ninebot_by_Segway_KickScooter_ES\n",
            "Xiaomi_Mijia_Electric_Scooter__\n"
          ],
          "name": "stdout"
        }
      ]
    },
    {
      "cell_type": "markdown",
      "metadata": {
        "id": "g6KZ3ggovA4d"
      },
      "source": [
        "# Generate VoID"
      ]
    },
    {
      "cell_type": "code",
      "metadata": {
        "colab": {
          "base_uri": "https://localhost:8080/"
        },
        "id": "nD-NZin-vEk2",
        "outputId": "85756228-7c32-4985-c1bc-595fbe9017bf"
      },
      "source": [
        "prefix = dict(g.namespaces())['']\n",
        "\n",
        "g.add((prefix, DCTERMS.title, Literal('Electric scooters catalog')))\n",
        "g.add((prefix, DCTERMS.publisher, Literal('Aleksey Petrenko')))\n",
        "\n",
        "void_g, _ = generateVoID(g=g)\n",
        "print(void_g.serialize(format='turtle').decode('utf-8'))"
      ],
      "execution_count": null,
      "outputs": [
        {
          "output_type": "stream",
          "text": [
            "@prefix ns1: <http://rdfs.org/ns/void#> .\n",
            "@prefix rdf: <http://www.w3.org/1999/02/22-rdf-syntax-ns#> .\n",
            "@prefix rdfs: <http://www.w3.org/2000/01/rdf-schema#> .\n",
            "@prefix xsd: <http://www.w3.org/2001/XMLSchema#> .\n",
            "\n",
            "<http://example.org/Dataset> a ns1:Dataset ;\n",
            "    ns1:classPartition <http://example.org/Dataset_class0>,\n",
            "        <http://example.org/Dataset_class1>,\n",
            "        <http://example.org/Dataset_class10>,\n",
            "        <http://example.org/Dataset_class11>,\n",
            "        <http://example.org/Dataset_class12>,\n",
            "        <http://example.org/Dataset_class13>,\n",
            "        <http://example.org/Dataset_class14>,\n",
            "        <http://example.org/Dataset_class15>,\n",
            "        <http://example.org/Dataset_class16>,\n",
            "        <http://example.org/Dataset_class17>,\n",
            "        <http://example.org/Dataset_class18>,\n",
            "        <http://example.org/Dataset_class19>,\n",
            "        <http://example.org/Dataset_class2>,\n",
            "        <http://example.org/Dataset_class20>,\n",
            "        <http://example.org/Dataset_class21>,\n",
            "        <http://example.org/Dataset_class22>,\n",
            "        <http://example.org/Dataset_class23>,\n",
            "        <http://example.org/Dataset_class24>,\n",
            "        <http://example.org/Dataset_class25>,\n",
            "        <http://example.org/Dataset_class3>,\n",
            "        <http://example.org/Dataset_class4>,\n",
            "        <http://example.org/Dataset_class5>,\n",
            "        <http://example.org/Dataset_class6>,\n",
            "        <http://example.org/Dataset_class7>,\n",
            "        <http://example.org/Dataset_class8>,\n",
            "        <http://example.org/Dataset_class9> ;\n",
            "    ns1:classes 26 ;\n",
            "    ns1:distinctObjects 1687 ;\n",
            "    ns1:distinctSubjects 1505 ;\n",
            "    ns1:properties 38 ;\n",
            "    ns1:propertyPartition <http://example.org/Dataset_property0>,\n",
            "        <http://example.org/Dataset_property1>,\n",
            "        <http://example.org/Dataset_property10>,\n",
            "        <http://example.org/Dataset_property11>,\n",
            "        <http://example.org/Dataset_property12>,\n",
            "        <http://example.org/Dataset_property13>,\n",
            "        <http://example.org/Dataset_property14>,\n",
            "        <http://example.org/Dataset_property15>,\n",
            "        <http://example.org/Dataset_property16>,\n",
            "        <http://example.org/Dataset_property17>,\n",
            "        <http://example.org/Dataset_property18>,\n",
            "        <http://example.org/Dataset_property19>,\n",
            "        <http://example.org/Dataset_property2>,\n",
            "        <http://example.org/Dataset_property20>,\n",
            "        <http://example.org/Dataset_property21>,\n",
            "        <http://example.org/Dataset_property22>,\n",
            "        <http://example.org/Dataset_property23>,\n",
            "        <http://example.org/Dataset_property24>,\n",
            "        <http://example.org/Dataset_property25>,\n",
            "        <http://example.org/Dataset_property26>,\n",
            "        <http://example.org/Dataset_property27>,\n",
            "        <http://example.org/Dataset_property28>,\n",
            "        <http://example.org/Dataset_property29>,\n",
            "        <http://example.org/Dataset_property3>,\n",
            "        <http://example.org/Dataset_property30>,\n",
            "        <http://example.org/Dataset_property31>,\n",
            "        <http://example.org/Dataset_property32>,\n",
            "        <http://example.org/Dataset_property33>,\n",
            "        <http://example.org/Dataset_property34>,\n",
            "        <http://example.org/Dataset_property35>,\n",
            "        <http://example.org/Dataset_property36>,\n",
            "        <http://example.org/Dataset_property37>,\n",
            "        <http://example.org/Dataset_property4>,\n",
            "        <http://example.org/Dataset_property5>,\n",
            "        <http://example.org/Dataset_property6>,\n",
            "        <http://example.org/Dataset_property7>,\n",
            "        <http://example.org/Dataset_property8>,\n",
            "        <http://example.org/Dataset_property9> ;\n",
            "    ns1:triples 9117 .\n",
            "\n",
            "<http://example.org/Dataset_class0> a ns1:Dataset ;\n",
            "    ns1:class <http://www.semanticweb.org/Scooters#None> ;\n",
            "    ns1:classes 1 ;\n",
            "    ns1:distinctObjects 8 ;\n",
            "    ns1:distinctSubjects 232 ;\n",
            "    ns1:entities 232 ;\n",
            "    ns1:properties 2 ;\n",
            "    ns1:triples 729 .\n",
            "\n",
            "<http://example.org/Dataset_class1> a ns1:Dataset ;\n",
            "    ns1:class <http://www.semanticweb.org/Scooters#Availability> ;\n",
            "    ns1:classes 1 ;\n",
            "    ns1:distinctObjects 4 ;\n",
            "    ns1:distinctSubjects 467 ;\n",
            "    ns1:entities 467 ;\n",
            "    ns1:properties 3 ;\n",
            "    ns1:triples 1156 .\n",
            "\n",
            "<http://example.org/Dataset_class10> a ns1:Dataset ;\n",
            "    ns1:class <http://www.semanticweb.org/Scooters#Medium> ;\n",
            "    ns1:classes 1 ;\n",
            "    ns1:distinctObjects 13 ;\n",
            "    ns1:distinctSubjects 19 ;\n",
            "    ns1:entities 19 ;\n",
            "    ns1:properties 2 ;\n",
            "    ns1:triples 66 .\n",
            "\n",
            "<http://example.org/Dataset_class11> a ns1:Dataset ;\n",
            "    ns1:class <http://www.w3.org/2002/07/owl#Class> ;\n",
            "    ns1:classes 1 ;\n",
            "    ns1:distinctObjects 34 ;\n",
            "    ns1:distinctSubjects 26 ;\n",
            "    ns1:entities 26 ;\n",
            "    ns1:properties 5 ;\n",
            "    ns1:triples 71 .\n",
            "\n",
            "<http://example.org/Dataset_class12> a ns1:Dataset ;\n",
            "    ns1:class <http://www.semanticweb.org/Scooters#Folding> ;\n",
            "    ns1:classes 1 ;\n",
            "    ns1:distinctObjects 1 ;\n",
            "    ns1:distinctSubjects 1 ;\n",
            "    ns1:entities 1 ;\n",
            "    ns1:properties 1 ;\n",
            "    ns1:triples 1 .\n",
            "\n",
            "<http://example.org/Dataset_class13> a ns1:Dataset ;\n",
            "    ns1:class <http://www.semanticweb.org/Scooters#Brand> ;\n",
            "    ns1:classes 1 ;\n",
            "    ns1:distinctObjects 90 ;\n",
            "    ns1:distinctSubjects 60 ;\n",
            "    ns1:entities 60 ;\n",
            "    ns1:properties 15 ;\n",
            "    ns1:triples 162 .\n",
            "\n",
            "<http://example.org/Dataset_class14> a ns1:Dataset ;\n",
            "    ns1:class rdfs:Datatype ;\n",
            "    ns1:classes 1 ;\n",
            "    ns1:distinctObjects 10 ;\n",
            "    ns1:distinctSubjects 8 ;\n",
            "    ns1:entities 8 ;\n",
            "    ns1:properties 3 ;\n",
            "    ns1:triples 24 .\n",
            "\n",
            "<http://example.org/Dataset_class15> a ns1:Dataset ;\n",
            "    ns1:class <http://www.semanticweb.org/Scooters#Three_wheel> ;\n",
            "    ns1:classes 1 ;\n",
            "    ns1:distinctObjects 1 ;\n",
            "    ns1:distinctSubjects 1 ;\n",
            "    ns1:entities 1 ;\n",
            "    ns1:properties 1 ;\n",
            "    ns1:triples 1 .\n",
            "\n",
            "<http://example.org/Dataset_class16> a ns1:Dataset ;\n",
            "    ns1:class <http://www.semanticweb.org/Scooters#Two_wheel> ;\n",
            "    ns1:classes 1 ;\n",
            "    ns1:distinctObjects 1 ;\n",
            "    ns1:distinctSubjects 1 ;\n",
            "    ns1:entities 1 ;\n",
            "    ns1:properties 1 ;\n",
            "    ns1:triples 1 .\n",
            "\n",
            "<http://example.org/Dataset_class17> a ns1:Dataset ;\n",
            "    ns1:class <http://www.semanticweb.org/Scooters#Children> ;\n",
            "    ns1:classes 1 ;\n",
            "    ns1:distinctObjects 1 ;\n",
            "    ns1:distinctSubjects 1 ;\n",
            "    ns1:entities 1 ;\n",
            "    ns1:properties 1 ;\n",
            "    ns1:triples 1 .\n",
            "\n",
            "<http://example.org/Dataset_class18> a ns1:Dataset ;\n",
            "    ns1:class <http://www.semanticweb.org/Scooters#Low> ;\n",
            "    ns1:classes 1 ;\n",
            "    ns1:distinctObjects 3 ;\n",
            "    ns1:distinctSubjects 2 ;\n",
            "    ns1:entities 2 ;\n",
            "    ns1:properties 2 ;\n",
            "    ns1:triples 6 .\n",
            "\n",
            "<http://example.org/Dataset_class19> a ns1:Dataset ;\n",
            "    ns1:class <http://www.semanticweb.org/Scooters#Countryside> ;\n",
            "    ns1:classes 1 ;\n",
            "    ns1:distinctObjects 1 ;\n",
            "    ns1:distinctSubjects 1 ;\n",
            "    ns1:entities 1 ;\n",
            "    ns1:properties 1 ;\n",
            "    ns1:triples 1 .\n",
            "\n",
            "<http://example.org/Dataset_class2> a ns1:Dataset ;\n",
            "    ns1:class <http://www.semanticweb.org/Scooters#Scooter> ;\n",
            "    ns1:classes 1 ;\n",
            "    ns1:distinctObjects 1495 ;\n",
            "    ns1:distinctSubjects 441 ;\n",
            "    ns1:entities 441 ;\n",
            "    ns1:properties 16 ;\n",
            "    ns1:triples 6227 .\n",
            "\n",
            "<http://example.org/Dataset_class20> a ns1:Dataset ;\n",
            "    ns1:class <http://www.semanticweb.org/Scooters#City> ;\n",
            "    ns1:classes 1 ;\n",
            "    ns1:distinctObjects 1 ;\n",
            "    ns1:distinctSubjects 1 ;\n",
            "    ns1:entities 1 ;\n",
            "    ns1:properties 1 ;\n",
            "    ns1:triples 1 .\n",
            "\n",
            "<http://example.org/Dataset_class21> a ns1:Dataset ;\n",
            "    ns1:class <http://www.semanticweb.org/Scooters#Adult> ;\n",
            "    ns1:classes 1 ;\n",
            "    ns1:distinctObjects 1 ;\n",
            "    ns1:distinctSubjects 1 ;\n",
            "    ns1:entities 1 ;\n",
            "    ns1:properties 1 ;\n",
            "    ns1:triples 1 .\n",
            "\n",
            "<http://example.org/Dataset_class22> a ns1:Dataset ;\n",
            "    ns1:class <http://www.semanticweb.org/Scooters#Rental> ;\n",
            "    ns1:classes 1 ;\n",
            "    ns1:distinctObjects 1 ;\n",
            "    ns1:distinctSubjects 1 ;\n",
            "    ns1:entities 1 ;\n",
            "    ns1:properties 1 ;\n",
            "    ns1:triples 1 .\n",
            "\n",
            "<http://example.org/Dataset_class23> a ns1:Dataset ;\n",
            "    ns1:class <http://www.semanticweb.org/Scooters#Double> ;\n",
            "    ns1:classes 1 ;\n",
            "    ns1:distinctObjects 1 ;\n",
            "    ns1:distinctSubjects 1 ;\n",
            "    ns1:entities 1 ;\n",
            "    ns1:properties 1 ;\n",
            "    ns1:triples 1 .\n",
            "\n",
            "<http://example.org/Dataset_class24> a ns1:Dataset ;\n",
            "    ns1:class <http://www.semanticweb.org/Scooters#Single> ;\n",
            "    ns1:classes 1 ;\n",
            "    ns1:distinctObjects 1 ;\n",
            "    ns1:distinctSubjects 1 ;\n",
            "    ns1:entities 1 ;\n",
            "    ns1:properties 1 ;\n",
            "    ns1:triples 1 .\n",
            "\n",
            "<http://example.org/Dataset_class25> a ns1:Dataset ;\n",
            "    ns1:class <http://www.w3.org/2002/07/owl#Ontology> ;\n",
            "    ns1:classes 1 ;\n",
            "    ns1:distinctObjects 1 ;\n",
            "    ns1:distinctSubjects 1 ;\n",
            "    ns1:entities 1 ;\n",
            "    ns1:properties 1 ;\n",
            "    ns1:triples 1 .\n",
            "\n",
            "<http://example.org/Dataset_class3> a ns1:Dataset ;\n",
            "    ns1:class <http://www.semanticweb.org/Scooters#Rating> ;\n",
            "    ns1:classes 1 ;\n",
            "    ns1:distinctObjects 27 ;\n",
            "    ns1:distinctSubjects 442 ;\n",
            "    ns1:entities 442 ;\n",
            "    ns1:properties 6 ;\n",
            "    ns1:triples 1365 .\n",
            "\n",
            "<http://example.org/Dataset_class4> a ns1:Dataset ;\n",
            "    ns1:class <http://www.semanticweb.org/Scooters#With_seat> ;\n",
            "    ns1:classes 1 ;\n",
            "    ns1:distinctObjects 1 ;\n",
            "    ns1:distinctSubjects 1 ;\n",
            "    ns1:entities 1 ;\n",
            "    ns1:properties 1 ;\n",
            "    ns1:triples 1 .\n",
            "\n",
            "<http://example.org/Dataset_class5> a ns1:Dataset ;\n",
            "    ns1:class <http://www.w3.org/2002/07/owl#Restriction> ;\n",
            "    ns1:classes 1 ;\n",
            "    ns1:distinctObjects 10 ;\n",
            "    ns1:distinctSubjects 8 ;\n",
            "    ns1:entities 8 ;\n",
            "    ns1:properties 3 ;\n",
            "    ns1:triples 24 .\n",
            "\n",
            "<http://example.org/Dataset_class6> a ns1:Dataset ;\n",
            "    ns1:class <http://www.w3.org/2002/07/owl#DatatypeProperty> ;\n",
            "    ns1:classes 1 ;\n",
            "    ns1:distinctObjects 17 ;\n",
            "    ns1:distinctSubjects 9 ;\n",
            "    ns1:entities 9 ;\n",
            "    ns1:properties 5 ;\n",
            "    ns1:triples 42 .\n",
            "\n",
            "<http://example.org/Dataset_class7> a ns1:Dataset ;\n",
            "    ns1:class <http://www.semanticweb.org/Scooters#High> ;\n",
            "    ns1:classes 1 ;\n",
            "    ns1:distinctObjects 16 ;\n",
            "    ns1:distinctSubjects 201 ;\n",
            "    ns1:entities 201 ;\n",
            "    ns1:properties 2 ;\n",
            "    ns1:triples 642 .\n",
            "\n",
            "<http://example.org/Dataset_class8> a ns1:Dataset ;\n",
            "    ns1:class <http://www.w3.org/2002/07/owl#ObjectProperty> ;\n",
            "    ns1:classes 1 ;\n",
            "    ns1:distinctObjects 21 ;\n",
            "    ns1:distinctSubjects 10 ;\n",
            "    ns1:entities 10 ;\n",
            "    ns1:properties 5 ;\n",
            "    ns1:triples 50 .\n",
            "\n",
            "<http://example.org/Dataset_class9> a ns1:Dataset ;\n",
            "    ns1:class <http://www.semanticweb.org/Scooters#Place> ;\n",
            "    ns1:classes 1 ;\n",
            "    ns1:distinctObjects 7 ;\n",
            "    ns1:distinctSubjects 2 ;\n",
            "    ns1:entities 2 ;\n",
            "    ns1:properties 5 ;\n",
            "    ns1:triples 10 .\n",
            "\n",
            "<http://example.org/Dataset_property0> a ns1:Dataset ;\n",
            "    ns1:classes 0 ;\n",
            "    ns1:distinctObjects 12 ;\n",
            "    ns1:distinctSubjects 12 ;\n",
            "    ns1:entities 0 ;\n",
            "    ns1:properties 1 ;\n",
            "    ns1:property rdf:first ;\n",
            "    ns1:triples 12 .\n",
            "\n",
            "<http://example.org/Dataset_property1> a ns1:Dataset ;\n",
            "    ns1:classes 2 ;\n",
            "    ns1:distinctObjects 50 ;\n",
            "    ns1:distinctSubjects 441 ;\n",
            "    ns1:entities 441 ;\n",
            "    ns1:properties 1 ;\n",
            "    ns1:property <http://www.semanticweb.org/Scooters#hasWeight> ;\n",
            "    ns1:triples 450 .\n",
            "\n",
            "<http://example.org/Dataset_property10> a ns1:Dataset ;\n",
            "    ns1:classes 2 ;\n",
            "    ns1:distinctObjects 438 ;\n",
            "    ns1:distinctSubjects 441 ;\n",
            "    ns1:entities 441 ;\n",
            "    ns1:properties 1 ;\n",
            "    ns1:property <http://www.semanticweb.org/Scooters#hasName> ;\n",
            "    ns1:triples 441 .\n",
            "\n",
            "<http://example.org/Dataset_property11> a ns1:Dataset ;\n",
            "    ns1:classes 1 ;\n",
            "    ns1:distinctObjects 1 ;\n",
            "    ns1:distinctSubjects 14 ;\n",
            "    ns1:entities 14 ;\n",
            "    ns1:properties 1 ;\n",
            "    ns1:property <http://www.semanticweb.org/Scooters#isRental> ;\n",
            "    ns1:triples 14 .\n",
            "\n",
            "<http://example.org/Dataset_property12> a ns1:Dataset ;\n",
            "    ns1:classes 2 ;\n",
            "    ns1:distinctObjects 12 ;\n",
            "    ns1:distinctSubjects 19 ;\n",
            "    ns1:entities 19 ;\n",
            "    ns1:properties 1 ;\n",
            "    ns1:property rdfs:range ;\n",
            "    ns1:triples 19 .\n",
            "\n",
            "<http://example.org/Dataset_property13> a ns1:Dataset ;\n",
            "    ns1:classes 0 ;\n",
            "    ns1:distinctObjects 1 ;\n",
            "    ns1:distinctSubjects 2 ;\n",
            "    ns1:entities 0 ;\n",
            "    ns1:properties 1 ;\n",
            "    ns1:property xsd:maxInclusive ;\n",
            "    ns1:triples 2 .\n",
            "\n",
            "<http://example.org/Dataset_property14> a ns1:Dataset ;\n",
            "    ns1:classes 2 ;\n",
            "    ns1:distinctObjects 2 ;\n",
            "    ns1:distinctSubjects 441 ;\n",
            "    ns1:entities 441 ;\n",
            "    ns1:properties 1 ;\n",
            "    ns1:property <http://www.semanticweb.org/Scooters#useIn> ;\n",
            "    ns1:triples 443 .\n",
            "\n",
            "<http://example.org/Dataset_property15> a ns1:Dataset ;\n",
            "    ns1:classes 2 ;\n",
            "    ns1:distinctObjects 2 ;\n",
            "    ns1:distinctSubjects 428 ;\n",
            "    ns1:entities 428 ;\n",
            "    ns1:properties 1 ;\n",
            "    ns1:property <http://www.semanticweb.org/Scooters#hasConstruction> ;\n",
            "    ns1:triples 431 .\n",
            "\n",
            "<http://example.org/Dataset_property16> a ns1:Dataset ;\n",
            "    ns1:classes 1 ;\n",
            "    ns1:distinctObjects 1 ;\n",
            "    ns1:distinctSubjects 8 ;\n",
            "    ns1:entities 8 ;\n",
            "    ns1:properties 1 ;\n",
            "    ns1:property <http://www.w3.org/2002/07/owl#onDatatype> ;\n",
            "    ns1:triples 8 .\n",
            "\n",
            "<http://example.org/Dataset_property17> a ns1:Dataset ;\n",
            "    ns1:classes 0 ;\n",
            "    ns1:distinctObjects 1 ;\n",
            "    ns1:distinctSubjects 2 ;\n",
            "    ns1:entities 0 ;\n",
            "    ns1:properties 1 ;\n",
            "    ns1:property xsd:minInclusive ;\n",
            "    ns1:triples 2 .\n",
            "\n",
            "<http://example.org/Dataset_property18> a ns1:Dataset ;\n",
            "    ns1:classes 2 ;\n",
            "    ns1:distinctObjects 37 ;\n",
            "    ns1:distinctSubjects 441 ;\n",
            "    ns1:entities 441 ;\n",
            "    ns1:properties 1 ;\n",
            "    ns1:property <http://www.semanticweb.org/Scooters#hasMaxDistance> ;\n",
            "    ns1:triples 456 .\n",
            "\n",
            "<http://example.org/Dataset_property19> a ns1:Dataset ;\n",
            "    ns1:classes 3 ;\n",
            "    ns1:distinctObjects 2 ;\n",
            "    ns1:distinctSubjects 2 ;\n",
            "    ns1:entities 2 ;\n",
            "    ns1:properties 1 ;\n",
            "    ns1:property <http://www.semanticweb.org/Scooters#hasCityName> ;\n",
            "    ns1:triples 2 .\n",
            "\n",
            "<http://example.org/Dataset_property2> a ns1:Dataset ;\n",
            "    ns1:classes 1 ;\n",
            "    ns1:distinctObjects 2 ;\n",
            "    ns1:distinctSubjects 467 ;\n",
            "    ns1:entities 467 ;\n",
            "    ns1:properties 1 ;\n",
            "    ns1:property <http://www.semanticweb.org/Scooters#hasAvailability> ;\n",
            "    ns1:triples 467 .\n",
            "\n",
            "<http://example.org/Dataset_property20> a ns1:Dataset ;\n",
            "    ns1:classes 5 ;\n",
            "    ns1:distinctObjects 17 ;\n",
            "    ns1:distinctSubjects 441 ;\n",
            "    ns1:entities 441 ;\n",
            "    ns1:properties 1 ;\n",
            "    ns1:property <http://www.semanticweb.org/Scooters#hasRateValue> ;\n",
            "    ns1:triples 462 .\n",
            "\n",
            "<http://example.org/Dataset_property21> a ns1:Dataset ;\n",
            "    ns1:classes 2 ;\n",
            "    ns1:distinctObjects 441 ;\n",
            "    ns1:distinctSubjects 441 ;\n",
            "    ns1:entities 441 ;\n",
            "    ns1:properties 1 ;\n",
            "    ns1:property <http://www.semanticweb.org/Scooters#hasRate> ;\n",
            "    ns1:triples 441 .\n",
            "\n",
            "<http://example.org/Dataset_property22> a ns1:Dataset ;\n",
            "    ns1:classes 2 ;\n",
            "    ns1:distinctObjects 36 ;\n",
            "    ns1:distinctSubjects 441 ;\n",
            "    ns1:entities 441 ;\n",
            "    ns1:properties 1 ;\n",
            "    ns1:property <http://www.semanticweb.org/Scooters#hasMaxSpeed> ;\n",
            "    ns1:triples 451 .\n",
            "\n",
            "<http://example.org/Dataset_property23> a ns1:Dataset ;\n",
            "    ns1:classes 2 ;\n",
            "    ns1:distinctObjects 438 ;\n",
            "    ns1:distinctSubjects 441 ;\n",
            "    ns1:entities 441 ;\n",
            "    ns1:properties 1 ;\n",
            "    ns1:property <http://www.semanticweb.org/Scooters#isAvailable> ;\n",
            "    ns1:triples 441 .\n",
            "\n",
            "<http://example.org/Dataset_property24> a ns1:Dataset ;\n",
            "    ns1:classes 1 ;\n",
            "    ns1:distinctObjects 1 ;\n",
            "    ns1:distinctSubjects 8 ;\n",
            "    ns1:entities 8 ;\n",
            "    ns1:properties 1 ;\n",
            "    ns1:property <http://www.w3.org/2002/07/owl#onProperty> ;\n",
            "    ns1:triples 8 .\n",
            "\n",
            "<http://example.org/Dataset_property25> a ns1:Dataset ;\n",
            "    ns1:classes 5 ;\n",
            "    ns1:distinctObjects 33 ;\n",
            "    ns1:distinctSubjects 33 ;\n",
            "    ns1:entities 33 ;\n",
            "    ns1:properties 1 ;\n",
            "    ns1:property rdfs:label ;\n",
            "    ns1:triples 33 .\n",
            "\n",
            "<http://example.org/Dataset_property26> a ns1:Dataset ;\n",
            "    ns1:classes 1 ;\n",
            "    ns1:distinctObjects 8 ;\n",
            "    ns1:distinctSubjects 8 ;\n",
            "    ns1:entities 8 ;\n",
            "    ns1:properties 1 ;\n",
            "    ns1:property <http://www.w3.org/2002/07/owl#someValuesFrom> ;\n",
            "    ns1:triples 8 .\n",
            "\n",
            "<http://example.org/Dataset_property27> a ns1:Dataset ;\n",
            "    ns1:classes 2 ;\n",
            "    ns1:distinctObjects 2 ;\n",
            "    ns1:distinctSubjects 441 ;\n",
            "    ns1:entities 441 ;\n",
            "    ns1:properties 1 ;\n",
            "    ns1:property <http://www.semanticweb.org/Scooters#hasWheels> ;\n",
            "    ns1:triples 441 .\n",
            "\n",
            "<http://example.org/Dataset_property28> a ns1:Dataset ;\n",
            "    ns1:classes 2 ;\n",
            "    ns1:distinctObjects 42 ;\n",
            "    ns1:distinctSubjects 441 ;\n",
            "    ns1:entities 441 ;\n",
            "    ns1:properties 1 ;\n",
            "    ns1:property <http://www.semanticweb.org/Scooters#hasPower> ;\n",
            "    ns1:triples 447 .\n",
            "\n",
            "<http://example.org/Dataset_property29> a ns1:Dataset ;\n",
            "    ns1:classes 2 ;\n",
            "    ns1:distinctObjects 2 ;\n",
            "    ns1:distinctSubjects 441 ;\n",
            "    ns1:entities 441 ;\n",
            "    ns1:properties 1 ;\n",
            "    ns1:property <http://www.semanticweb.org/Scooters#for> ;\n",
            "    ns1:triples 441 .\n",
            "\n",
            "<http://example.org/Dataset_property3> a ns1:Dataset ;\n",
            "    ns1:classes 2 ;\n",
            "    ns1:distinctObjects 2 ;\n",
            "    ns1:distinctSubjects 441 ;\n",
            "    ns1:entities 441 ;\n",
            "    ns1:properties 1 ;\n",
            "    ns1:property <http://www.semanticweb.org/Scooters#hasEngine> ;\n",
            "    ns1:triples 441 .\n",
            "\n",
            "<http://example.org/Dataset_property30> a ns1:Dataset ;\n",
            "    ns1:classes 1 ;\n",
            "    ns1:distinctObjects 8 ;\n",
            "    ns1:distinctSubjects 8 ;\n",
            "    ns1:entities 8 ;\n",
            "    ns1:properties 1 ;\n",
            "    ns1:property <http://www.w3.org/2002/07/owl#withRestrictions> ;\n",
            "    ns1:triples 8 .\n",
            "\n",
            "<http://example.org/Dataset_property31> a ns1:Dataset ;\n",
            "    ns1:classes 0 ;\n",
            "    ns1:distinctObjects 1 ;\n",
            "    ns1:distinctSubjects 1 ;\n",
            "    ns1:entities 1 ;\n",
            "    ns1:properties 1 ;\n",
            "    ns1:property <http://purl.org/dc/terms/publisher> ;\n",
            "    ns1:triples 1 .\n",
            "\n",
            "<http://example.org/Dataset_property32> a ns1:Dataset ;\n",
            "    ns1:classes 1 ;\n",
            "    ns1:distinctObjects 1 ;\n",
            "    ns1:distinctSubjects 222 ;\n",
            "    ns1:entities 222 ;\n",
            "    ns1:properties 1 ;\n",
            "    ns1:property <http://www.semanticweb.org/Scooters#availableAtPlace> ;\n",
            "    ns1:triples 222 .\n",
            "\n",
            "<http://example.org/Dataset_property33> a ns1:Dataset ;\n",
            "    ns1:classes 2 ;\n",
            "    ns1:distinctObjects 2 ;\n",
            "    ns1:distinctSubjects 19 ;\n",
            "    ns1:entities 19 ;\n",
            "    ns1:properties 1 ;\n",
            "    ns1:property rdfs:subPropertyOf ;\n",
            "    ns1:triples 19 .\n",
            "\n",
            "<http://example.org/Dataset_property34> a ns1:Dataset ;\n",
            "    ns1:classes 3 ;\n",
            "    ns1:distinctObjects 8 ;\n",
            "    ns1:distinctSubjects 4 ;\n",
            "    ns1:entities 4 ;\n",
            "    ns1:properties 1 ;\n",
            "    ns1:property <http://www.w3.org/2002/07/owl#equivalentClass> ;\n",
            "    ns1:triples 8 .\n",
            "\n",
            "<http://example.org/Dataset_property35> a ns1:Dataset ;\n",
            "    ns1:classes 2 ;\n",
            "    ns1:distinctObjects 60 ;\n",
            "    ns1:distinctSubjects 60 ;\n",
            "    ns1:entities 60 ;\n",
            "    ns1:properties 1 ;\n",
            "    ns1:property <http://www.semanticweb.org/Scooters#hasBrandName> ;\n",
            "    ns1:triples 60 .\n",
            "\n",
            "<http://example.org/Dataset_property36> a ns1:Dataset ;\n",
            "    ns1:classes 26 ;\n",
            "    ns1:distinctObjects 26 ;\n",
            "    ns1:distinctSubjects 1480 ;\n",
            "    ns1:entities 1480 ;\n",
            "    ns1:properties 1 ;\n",
            "    ns1:property rdf:type ;\n",
            "    ns1:triples 1939 .\n",
            "\n",
            "<http://example.org/Dataset_property37> a ns1:Dataset ;\n",
            "    ns1:classes 2 ;\n",
            "    ns1:distinctObjects 60 ;\n",
            "    ns1:distinctSubjects 441 ;\n",
            "    ns1:entities 441 ;\n",
            "    ns1:properties 1 ;\n",
            "    ns1:property <http://www.semanticweb.org/Scooters#hasBrand> ;\n",
            "    ns1:triples 442 .\n",
            "\n",
            "<http://example.org/Dataset_property4> a ns1:Dataset ;\n",
            "    ns1:classes 0 ;\n",
            "    ns1:distinctObjects 2 ;\n",
            "    ns1:distinctSubjects 4 ;\n",
            "    ns1:entities 0 ;\n",
            "    ns1:properties 1 ;\n",
            "    ns1:property xsd:maxExclusive ;\n",
            "    ns1:triples 4 .\n",
            "\n",
            "<http://example.org/Dataset_property5> a ns1:Dataset ;\n",
            "    ns1:classes 2 ;\n",
            "    ns1:distinctObjects 5 ;\n",
            "    ns1:distinctSubjects 19 ;\n",
            "    ns1:entities 19 ;\n",
            "    ns1:properties 1 ;\n",
            "    ns1:property rdfs:domain ;\n",
            "    ns1:triples 19 .\n",
            "\n",
            "<http://example.org/Dataset_property6> a ns1:Dataset ;\n",
            "    ns1:classes 0 ;\n",
            "    ns1:distinctObjects 2 ;\n",
            "    ns1:distinctSubjects 4 ;\n",
            "    ns1:entities 0 ;\n",
            "    ns1:properties 1 ;\n",
            "    ns1:property xsd:minExclusive ;\n",
            "    ns1:triples 4 .\n",
            "\n",
            "<http://example.org/Dataset_property7> a ns1:Dataset ;\n",
            "    ns1:classes 0 ;\n",
            "    ns1:distinctObjects 1 ;\n",
            "    ns1:distinctSubjects 1 ;\n",
            "    ns1:entities 0 ;\n",
            "    ns1:properties 1 ;\n",
            "    ns1:property <http://purl.org/dc/terms/title> ;\n",
            "    ns1:triples 1 .\n",
            "\n",
            "<http://example.org/Dataset_property8> a ns1:Dataset ;\n",
            "    ns1:classes 3 ;\n",
            "    ns1:distinctObjects 7 ;\n",
            "    ns1:distinctSubjects 17 ;\n",
            "    ns1:entities 17 ;\n",
            "    ns1:properties 1 ;\n",
            "    ns1:property rdfs:subClassOf ;\n",
            "    ns1:triples 17 .\n",
            "\n",
            "<http://example.org/Dataset_property9> a ns1:Dataset ;\n",
            "    ns1:classes 0 ;\n",
            "    ns1:distinctObjects 5 ;\n",
            "    ns1:distinctSubjects 12 ;\n",
            "    ns1:entities 12 ;\n",
            "    ns1:properties 1 ;\n",
            "    ns1:property rdf:rest ;\n",
            "    ns1:triples 12 .\n",
            "\n",
            "\n"
          ],
          "name": "stdout"
        }
      ]
    },
    {
      "cell_type": "markdown",
      "metadata": {
        "id": "VqCiet7UvP8M"
      },
      "source": [
        "# Generate documentation"
      ]
    },
    {
      "cell_type": "code",
      "metadata": {
        "id": "YxxHddrgvX-4"
      },
      "source": [
        "html = pylode.MakeDocco(\n",
        "    input_data_file='Scooters-populated.rdf',\n",
        "    outputformat=\"html\"\n",
        ").document()\n",
        "\n",
        "f = open('doc.html', 'w')\n",
        "f.write(html)\n",
        "f.close()"
      ],
      "execution_count": null,
      "outputs": []
    }
  ]
}