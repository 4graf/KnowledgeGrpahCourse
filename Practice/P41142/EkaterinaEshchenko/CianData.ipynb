{
  "nbformat": 4,
  "nbformat_minor": 0,
  "metadata": {
    "colab": {
      "name": "CianData.ipynb",
      "provenance": [],
      "collapsed_sections": []
    },
    "kernelspec": {
      "name": "python3",
      "display_name": "Python 3"
    },
    "language_info": {
      "name": "python"
    }
  },
  "cells": [
    {
      "cell_type": "code",
      "metadata": {
        "id": "2vMYf5GuXRVt"
      },
      "source": [
        "import pandas as pd\n",
        "import re"
      ],
      "execution_count": null,
      "outputs": []
    },
    {
      "cell_type": "markdown",
      "metadata": {
        "id": "O8DkG0BooeD6"
      },
      "source": [
        "Сохраняем таблички в DataFrame, объединяем в один"
      ]
    },
    {
      "cell_type": "code",
      "metadata": {
        "id": "2m5TB4zEZbX-"
      },
      "source": [
        "df0 = pd.DataFrame(pd.read_excel(\"offers_0.xlsx\")) # студии\n",
        "df1 = pd.DataFrame(pd.read_excel(\"offers_1.xlsx\")) # однушки\n",
        "df2 = pd.DataFrame(pd.read_excel(\"offers_2.xlsx\")) # двушки\n",
        "df3 = pd.DataFrame(pd.read_excel(\"offers_3.xlsx\")) # трешки\n",
        "df4 = pd.DataFrame(pd.read_excel(\"offers_4.xlsx\")) # 4 комнаты\n",
        "df56 = pd.DataFrame(pd.read_excel(\"offers_56+.xlsx\")) # 5+ комнат"
      ],
      "execution_count": null,
      "outputs": []
    },
    {
      "cell_type": "code",
      "metadata": {
        "id": "npYuyDYO9Qct"
      },
      "source": [
        "df2['Количество комнат'] = df3['Количество комнат'].str.extract(r'([0-9])')\n",
        "df3['Количество комнат'] = df3['Количество комнат'].str.extract(r'([0-9])')\n",
        "df4['Количество комнат'] = df4['Количество комнат'].str.extract(r'([0-9])')\n",
        "df56['Количество комнат'] = df56['Количество комнат'].str.extract(r'([0-9])')"
      ],
      "execution_count": null,
      "outputs": []
    },
    {
      "cell_type": "code",
      "metadata": {
        "id": "QBSIynHBFZB3"
      },
      "source": [
        "df = pd.concat([df0, df1, df2, df3, df4, df56])\n",
        "#df[1000:1080]"
      ],
      "execution_count": null,
      "outputs": []
    },
    {
      "cell_type": "markdown",
      "metadata": {
        "id": "tU3HEI5GnrNm"
      },
      "source": [
        "Рахбиваем \"Метро\" на \"Метро\", \"Время до метро, мин\", \"Способ до метро\"\n",
        "\n",
        "\n"
      ]
    },
    {
      "cell_type": "code",
      "metadata": {
        "id": "TU8xY9x_l87H"
      },
      "source": [
        "df.insert(4, \"Время до метро, мин\", df[\"Метро\"].str.extract(r'(\\d{1,2})'), True)\n",
        "df.insert(5, \"Способ до метро\", df[\"Метро\"].str.extract(r'(пешком|на машине)'), True)\n",
        "df['Метро']  = df[\"Метро\"].str.extract(r'(\\b[м]{1}\\. (?:[а-яА-Я])+)')\n",
        "#df[:2]\n"
      ],
      "execution_count": null,
      "outputs": []
    },
    {
      "cell_type": "markdown",
      "metadata": {
        "id": "lnqvUyPVpSBa"
      },
      "source": [
        "Разбиваем \"Адрес\" на \"Город\", \"Улица\", \"Номер дома\" "
      ]
    },
    {
      "cell_type": "code",
      "metadata": {
        "id": "iEN92N2MuZio"
      },
      "source": [
        "df.insert(6, \"Город\", df['Адрес'].str.extract(r'(\\b[а-яА-Я-]+)'), True)\n",
        "df.insert(7, \"Улица\",  df['Адрес'].str.extract(r'(улица [\\w]+ ?[\\w]+|[\\w]+?[\\w-]+?[\\w]+ ?[\\w]+ ?[\\w]+ ?[\\w]+ улица|[\\w]+ ?[\\w]+ переулок|переулок [\\w]+ ?[\\w]+|[\\w]+ ?[\\w]+ бульвар|бульвар [\\w]+ ?[\\w]+|[\\w]+ ?[\\w]+ проезд|[\\w]+ ?[\\w]+ шоссе|шоссе [\\w]+ ?[\\w]+|набережная [\\w]+ ?[\\w]+|[\\w]+ ?[\\w]+ набережная|[\\w]+ ?[\\w]+ проспект|проспект [\\w]+ ?[\\w]+ ?[\\w]+|[\\w]+?[\\w-]+?[\\w]+ ?[\\w]+ ?[\\w]+ аллея|[\\w]+?[\\w-]+?[\\w]+ ?[\\w]+ ?[\\w]+ ?[\\w]+ линия)'), True)\n",
        "df.insert(8, \"Номер дома\", df['Адрес'].str.extract(r'([\\d]?[\\w+]?[\\d])'), True)\n",
        "#df[:2]"
      ],
      "execution_count": null,
      "outputs": []
    },
    {
      "cell_type": "code",
      "metadata": {
        "id": "N_3LtMvmufAT"
      },
      "source": [
        "#df.drop(['Адрес'], axis='columns', inplace=True)"
      ],
      "execution_count": null,
      "outputs": []
    },
    {
      "cell_type": "markdown",
      "metadata": {
        "id": "6xft4SIbr1Is"
      },
      "source": [
        "\"Площадь, м2\" оставляем площадь квартиры"
      ]
    },
    {
      "cell_type": "code",
      "metadata": {
        "id": "EfdCqoQeHVYd"
      },
      "source": [
        "df['Площадь, м2'] = df['Площадь, м2'].str.extract(r'([0-9]*[.]?[0-9]*)')\n",
        "#df[:2]"
      ],
      "execution_count": null,
      "outputs": []
    },
    {
      "cell_type": "markdown",
      "metadata": {
        "id": "p7vyYw1nsJGj"
      },
      "source": [
        "Разбиваем \"Дом\" на \"Этаж\", \"Кол-во этажей\", \"Тип дома\"."
      ]
    },
    {
      "cell_type": "code",
      "metadata": {
        "id": "rBQwQrRpNyWo"
      },
      "source": [
        "df.insert(12, \"Этаж\", df['Дом'].str.extract(r'([0-9]*)'), True)\n",
        "df.insert(13, \"Кол-во этажей\", df['Дом'].str.extract(r'/(.[0-9]*)'), True)\n",
        "df.insert(14, \"Тип дома\", df['Дом'].str.extract(r'([а-яА-Я-]+)'), True)\n",
        "#df[:3]"
      ],
      "execution_count": null,
      "outputs": []
    },
    {
      "cell_type": "code",
      "metadata": {
        "id": "L9FLIy2JJ5Kb"
      },
      "source": [
        "df.drop(['Дом'], axis='columns', inplace=True)\n",
        "#df[:3]"
      ],
      "execution_count": null,
      "outputs": []
    },
    {
      "cell_type": "markdown",
      "metadata": {
        "id": "yXwFr-tOtVTy"
      },
      "source": [
        "Разбиваем \"Цена\" на \"Цена аренды, руб/мес\", \"Ком платежи\", \"Залог\", \"Срок аренды\""
      ]
    },
    {
      "cell_type": "code",
      "metadata": {
        "id": "leLYCsW2PAYv"
      },
      "source": [
        "df.insert(16, \"Цена аренды, руб/мес\", df['Цена'].str.extract(r'([0-9]*[.]?[0-9]*)'), True)\n",
        "df.insert(17, \"Ком платежи\", df['Цена'].str.extract(r'платежей - (.[0-9]*[.]?[0-9]*)'), True)\n",
        "df.insert(18, \"Залог\", df['Цена'].str.extract(r'Залог - (.[0-9]*[.]?[0-9]*)'), True)\n",
        "df.insert(19, \"Срок аренды\", df['Цена'].str.extract(r'Срок аренды - (.[а-яА-Я]+ ?[а-яА-Я]+ ?[а-яА-Я]+)'), True)\n",
        "#df[:2]"
      ],
      "execution_count": null,
      "outputs": []
    },
    {
      "cell_type": "code",
      "metadata": {
        "id": "pzjZs5UPuVMi"
      },
      "source": [
        "df.drop(['Цена'], axis='columns', inplace=True)\n",
        "df.drop(['Площадь комнат, м2'], axis='columns', inplace=True)\n",
        "df.drop(['Серия дома'], axis='columns', inplace=True)\n",
        "df.drop(['Санузел'], axis='columns', inplace=True)\n",
        "df['Телефоны']  = df[\"Телефоны\"].str.extract(r'([+0-9]+)')\n",
        "df = df.replace(\"Да\", True)\n",
        "df = df.replace(\"Нет\", False)"
      ],
      "execution_count": null,
      "outputs": []
    },
    {
      "cell_type": "markdown",
      "metadata": {
        "id": "UjCyfehmxYwt"
      },
      "source": [
        "Разделяем \"Можно с детьми/животными\" на \"Можно с детьми\", \"Можно с животными\""
      ]
    },
    {
      "cell_type": "code",
      "metadata": {
        "id": "j8OJl9EguXrt"
      },
      "source": [
        "df.insert(26, \"Можно с детьми\", df['Можно с детьми/животными'].str.extract(r'(Можно с детьми)'), True)\n",
        "df.insert(26, \"Можно с животными\", df['Можно с детьми/животными'].str.extract(r'(Можно с животными)'), True)\n",
        "df = df.replace(\"Можно с детьми\", True)\n",
        "df = df.replace(\"Можно с животными\", True)"
      ],
      "execution_count": null,
      "outputs": []
    },
    {
      "cell_type": "code",
      "metadata": {
        "id": "uUkMP_D1wzRQ"
      },
      "source": [
        "df.drop(['Можно с детьми/животными'], axis='columns', inplace=True)\n",
        "#df[:2]"
      ],
      "execution_count": null,
      "outputs": []
    },
    {
      "cell_type": "markdown",
      "metadata": {
        "id": "UNs0DtON0TB7"
      },
      "source": [
        "Разделяем \"Балкон\" на \"Балкон\", \"Лоджия\" (в значение количество)"
      ]
    },
    {
      "cell_type": "code",
      "metadata": {
        "id": "-bpogLhXTeYg"
      },
      "source": [
        "df.insert(23, \"Лоджия\", df['Балкон'].str.extract(r'Лоджия .([0-9]*)'), True)\n",
        "df['Балкон']  = df['Балкон'].str.extract(r'Балкон .([0-9]*)')\n",
        "#df[:2]"
      ],
      "execution_count": null,
      "outputs": []
    },
    {
      "cell_type": "markdown",
      "metadata": {
        "id": "0Q14Nhy16U7N"
      },
      "source": [
        "Форматируем ЖК"
      ]
    },
    {
      "cell_type": "code",
      "metadata": {
        "id": "vOBbktnn6YNI"
      },
      "source": [
        "df[\"Название ЖК\"] = df[\"Название ЖК\"].str.extract(r'([a-zA-ZYE’SSа-яА-я]+ ?[a-zA-Zа-яА-я]+ ?[a-zA-Zа-яА-я]+ ?[a-zA-Zа-яА-я]+ ?[a-zA-Zа-яА-я]+ ?[a-zA-Zа-яА-я]+)')"
      ],
      "execution_count": null,
      "outputs": []
    },
    {
      "cell_type": "markdown",
      "metadata": {
        "id": "bnfHfAo95t6c"
      },
      "source": [
        "Разделяем \"Лифт\" на \"Лифт пасс\", \"Лифт груз\"."
      ]
    },
    {
      "cell_type": "code",
      "metadata": {
        "id": "aMBglOvC52kQ"
      },
      "source": [
        "df.insert(31, \"Лифт пасс\", df['Лифт'].str.extract(r'Пасс .([0-9]*)'), True)\n",
        "df.insert(32, \"Лифт груз\", df['Лифт'].str.extract(r'Груз .([0-9]*)'), True)\n",
        "#df[:2]"
      ],
      "execution_count": null,
      "outputs": []
    },
    {
      "cell_type": "code",
      "metadata": {
        "id": "7K2qlbRv6IQQ"
      },
      "source": [
        "df.drop(['Лифт'], axis='columns', inplace=True)"
      ],
      "execution_count": null,
      "outputs": []
    },
    {
      "cell_type": "markdown",
      "metadata": {
        "id": "KB5F5HnL60PA"
      },
      "source": [
        "Разделяем \"Дополнительно\" на отдельные характеристики (true если есть)"
      ]
    },
    {
      "cell_type": "code",
      "metadata": {
        "id": "6HWwqomghTaR"
      },
      "source": [
        "df.insert(26, \"Мебель на кухне\", df['Дополнительно'].str.extract(r'(Мебель на кухне)'), True)\n",
        "df.insert(27, \"Мебель в комнатах\", df['Дополнительно'].str.extract(r'(Мебель в комнатах)'), True)\n",
        "df.insert(28, \"Ванна,\", df['Дополнительно'].str.extract(r'(Ванна)'), True)\n",
        "df.insert(29, \"Душевая кабина\", df['Дополнительно'].str.extract(r'(Душевая кабина)'), True)\n",
        "df.insert(30, \"Стиральная машина\", df['Дополнительно'].str.extract(r'(Стиральная машина)'), True)\n",
        "df.insert(31, \"Кондиционер\", df['Дополнительно'].str.extract(r'(Кондиционер)'), True)\n",
        "df.insert(32, \"Посудомоечная машина\", df['Дополнительно'].str.extract(r'(Посудомоечная машина)'), True)\n",
        "df.insert(33, \"Телевизор\", df['Дополнительно'].str.extract(r'(Телевизор)'), True)\n",
        "df.insert(34, \"Холодильник\", df['Дополнительно'].str.extract(r'(Холодильник)'), True)\n",
        "df.insert(35, \"Интернет\", df['Дополнительно'].str.extract(r'(Интернет)'), True)\n"
      ],
      "execution_count": null,
      "outputs": []
    },
    {
      "cell_type": "code",
      "metadata": {
        "id": "Cz9-g1jHdtoR"
      },
      "source": [
        "df = df.replace(\"Мебель на кухне\", True)\n",
        "df = df.replace(\"Мебель в комнатах\", True)\n",
        "df = df.replace(\"Ванна\", True)\n",
        "df = df.replace(\"Душевая кабина\", True)\n",
        "df = df.replace(\"Стиральная машина\", True)\n",
        "df = df.replace(\"Кондиционер\", True)\n",
        "df = df.replace(\"Посудомоечная машина\", True)\n",
        "df = df.replace(\"Телевизор\", True)\n",
        "df = df.replace(\"Холодильник\", True)\n",
        "df = df.replace(\"Интернет\", True)\n",
        "#df[:30]"
      ],
      "execution_count": null,
      "outputs": []
    },
    {
      "cell_type": "code",
      "metadata": {
        "id": "oqXyv3qETey1"
      },
      "source": [
        "df.drop(['Дополнительно'], axis='columns', inplace=True)\n",
        "#df[:2]"
      ],
      "execution_count": null,
      "outputs": []
    },
    {
      "cell_type": "code",
      "metadata": {
        "colab": {
          "base_uri": "https://localhost:8080/",
          "height": 202
        },
        "id": "JYI41_UhJBu-",
        "outputId": "747d099a-a179-4b4b-c755-27828da6bdb3"
      },
      "source": [
        "df[:1]"
      ],
      "execution_count": null,
      "outputs": [
        {
          "output_type": "execute_result",
          "data": {
            "text/html": [
              "<div>\n",
              "<style scoped>\n",
              "    .dataframe tbody tr th:only-of-type {\n",
              "        vertical-align: middle;\n",
              "    }\n",
              "\n",
              "    .dataframe tbody tr th {\n",
              "        vertical-align: top;\n",
              "    }\n",
              "\n",
              "    .dataframe thead th {\n",
              "        text-align: right;\n",
              "    }\n",
              "</style>\n",
              "<table border=\"1\" class=\"dataframe\">\n",
              "  <thead>\n",
              "    <tr style=\"text-align: right;\">\n",
              "      <th></th>\n",
              "      <th>ID  объявления</th>\n",
              "      <th>Количество комнат</th>\n",
              "      <th>Тип</th>\n",
              "      <th>Метро</th>\n",
              "      <th>Время до метро, мин</th>\n",
              "      <th>Способ до метро</th>\n",
              "      <th>Город</th>\n",
              "      <th>Улица</th>\n",
              "      <th>Номер дома</th>\n",
              "      <th>Адрес</th>\n",
              "      <th>Площадь, м2</th>\n",
              "      <th>Этаж</th>\n",
              "      <th>Кол-во этажей</th>\n",
              "      <th>Тип дома</th>\n",
              "      <th>Парковка</th>\n",
              "      <th>Цена аренды, руб/мес</th>\n",
              "      <th>Ком платежи</th>\n",
              "      <th>Залог</th>\n",
              "      <th>Срок аренды</th>\n",
              "      <th>Телефоны</th>\n",
              "      <th>Описание</th>\n",
              "      <th>Ремонт</th>\n",
              "      <th>Балкон</th>\n",
              "      <th>Лоджия</th>\n",
              "      <th>Окна</th>\n",
              "      <th>Мебель на кухне</th>\n",
              "      <th>Мебель в комнатах</th>\n",
              "      <th>Ванна,</th>\n",
              "      <th>Душевая кабина</th>\n",
              "      <th>Стиральная машина</th>\n",
              "      <th>Кондиционер</th>\n",
              "      <th>Посудомоечная машина</th>\n",
              "      <th>Телевизор</th>\n",
              "      <th>Холодильник</th>\n",
              "      <th>Интернет</th>\n",
              "      <th>Можно с животными</th>\n",
              "      <th>Можно с детьми</th>\n",
              "      <th>Название ЖК</th>\n",
              "      <th>Высота потолков, м</th>\n",
              "      <th>Лифт пасс</th>\n",
              "      <th>Лифт груз</th>\n",
              "      <th>Мусоропровод</th>\n",
              "      <th>Ссылка на объявление</th>\n",
              "    </tr>\n",
              "  </thead>\n",
              "  <tbody>\n",
              "    <tr>\n",
              "      <th>0</th>\n",
              "      <td>245898592</td>\n",
              "      <td>0</td>\n",
              "      <td>Квартира</td>\n",
              "      <td>м. Лиговский</td>\n",
              "      <td>7.0</td>\n",
              "      <td>пешком</td>\n",
              "      <td>Санкт-Петербург</td>\n",
              "      <td>Социалистическая улица</td>\n",
              "      <td>21</td>\n",
              "      <td>Санкт-Петербург, Социалистическая улица, 21</td>\n",
              "      <td>20.0</td>\n",
              "      <td>3</td>\n",
              "      <td>10</td>\n",
              "      <td>Монолитно-кирпичный</td>\n",
              "      <td>подземная</td>\n",
              "      <td>32200</td>\n",
              "      <td>4800.0</td>\n",
              "      <td>30000.0</td>\n",
              "      <td>Длительный</td>\n",
              "      <td>+79587702101</td>\n",
              "      <td>Комфортные апартаменты STUDIO 19 м.кв.\\nАпарта...</td>\n",
              "      <td>Евроремонт</td>\n",
              "      <td>NaN</td>\n",
              "      <td>NaN</td>\n",
              "      <td>На улицу и двор</td>\n",
              "      <td>True</td>\n",
              "      <td>True</td>\n",
              "      <td>NaN</td>\n",
              "      <td>True</td>\n",
              "      <td>True</td>\n",
              "      <td>NaN</td>\n",
              "      <td>NaN</td>\n",
              "      <td>True</td>\n",
              "      <td>True</td>\n",
              "      <td>True</td>\n",
              "      <td>True</td>\n",
              "      <td>True</td>\n",
              "      <td>YE’S Marata</td>\n",
              "      <td>2.9</td>\n",
              "      <td>3</td>\n",
              "      <td>3</td>\n",
              "      <td>True</td>\n",
              "      <td>https://www.cian.ru/rent/flat/245898592</td>\n",
              "    </tr>\n",
              "  </tbody>\n",
              "</table>\n",
              "</div>"
            ],
            "text/plain": [
              "   ID  объявления  ...                     Ссылка на объявление\n",
              "0       245898592  ...  https://www.cian.ru/rent/flat/245898592\n",
              "\n",
              "[1 rows x 43 columns]"
            ]
          },
          "metadata": {
            "tags": []
          },
          "execution_count": 206
        }
      ]
    },
    {
      "cell_type": "markdown",
      "metadata": {
        "id": "Muht0Vs073H5"
      },
      "source": [
        "Сохраняем в .csv"
      ]
    },
    {
      "cell_type": "code",
      "metadata": {
        "id": "_pdl4tlrRCoV"
      },
      "source": [
        "df.to_csv('offers.csv')"
      ],
      "execution_count": null,
      "outputs": []
    },
    {
      "cell_type": "code",
      "metadata": {
        "colab": {
          "base_uri": "https://localhost:8080/",
          "height": 932
        },
        "id": "s-hBT8GknUAl",
        "outputId": "d4615cf9-6012-4127-9404-679f369ccd74"
      },
      "source": [
        "pd.read_csv('offers.csv', delimiter=',')"
      ],
      "execution_count": null,
      "outputs": [
        {
          "output_type": "execute_result",
          "data": {
            "text/html": [
              "<div>\n",
              "<style scoped>\n",
              "    .dataframe tbody tr th:only-of-type {\n",
              "        vertical-align: middle;\n",
              "    }\n",
              "\n",
              "    .dataframe tbody tr th {\n",
              "        vertical-align: top;\n",
              "    }\n",
              "\n",
              "    .dataframe thead th {\n",
              "        text-align: right;\n",
              "    }\n",
              "</style>\n",
              "<table border=\"1\" class=\"dataframe\">\n",
              "  <thead>\n",
              "    <tr style=\"text-align: right;\">\n",
              "      <th></th>\n",
              "      <th>Unnamed: 0</th>\n",
              "      <th>ID  объявления</th>\n",
              "      <th>Количество комнат</th>\n",
              "      <th>Тип</th>\n",
              "      <th>Метро</th>\n",
              "      <th>Время до метро, мин</th>\n",
              "      <th>Способ до метро</th>\n",
              "      <th>Город</th>\n",
              "      <th>Улица</th>\n",
              "      <th>Номер дома</th>\n",
              "      <th>Адрес</th>\n",
              "      <th>Площадь, м2</th>\n",
              "      <th>Этаж</th>\n",
              "      <th>Кол-во этажей</th>\n",
              "      <th>Тип дома</th>\n",
              "      <th>Парковка</th>\n",
              "      <th>Цена аренды, руб/мес</th>\n",
              "      <th>Ком платежи</th>\n",
              "      <th>Залог</th>\n",
              "      <th>Срок аренды</th>\n",
              "      <th>Телефоны</th>\n",
              "      <th>Описание</th>\n",
              "      <th>Ремонт</th>\n",
              "      <th>Балкон</th>\n",
              "      <th>Лоджия</th>\n",
              "      <th>Окна</th>\n",
              "      <th>Мебель на кухне</th>\n",
              "      <th>Мебель в комнатах</th>\n",
              "      <th>Ванна,</th>\n",
              "      <th>Душевая кабина</th>\n",
              "      <th>Стиральная машина</th>\n",
              "      <th>Кондиционер</th>\n",
              "      <th>Посудомоечная машина</th>\n",
              "      <th>Телевизор</th>\n",
              "      <th>Холодильник</th>\n",
              "      <th>Интернет</th>\n",
              "      <th>Можно с животными</th>\n",
              "      <th>Можно с детьми</th>\n",
              "      <th>Название ЖК</th>\n",
              "      <th>Высота потолков, м</th>\n",
              "      <th>Лифт пасс</th>\n",
              "      <th>Лифт груз</th>\n",
              "      <th>Мусоропровод</th>\n",
              "      <th>Ссылка на объявление</th>\n",
              "    </tr>\n",
              "  </thead>\n",
              "  <tbody>\n",
              "    <tr>\n",
              "      <th>0</th>\n",
              "      <td>0</td>\n",
              "      <td>245898592</td>\n",
              "      <td>0</td>\n",
              "      <td>Квартира</td>\n",
              "      <td>м. Лиговский</td>\n",
              "      <td>7.0</td>\n",
              "      <td>пешком</td>\n",
              "      <td>Санкт-Петербург</td>\n",
              "      <td>Социалистическая улица</td>\n",
              "      <td>21</td>\n",
              "      <td>Санкт-Петербург, Социалистическая улица, 21</td>\n",
              "      <td>20.0</td>\n",
              "      <td>3</td>\n",
              "      <td>10</td>\n",
              "      <td>Монолитно-кирпичный</td>\n",
              "      <td>подземная</td>\n",
              "      <td>32200.0</td>\n",
              "      <td>4800.0</td>\n",
              "      <td>30000.0</td>\n",
              "      <td>Длительный</td>\n",
              "      <td>79587702101</td>\n",
              "      <td>Комфортные апартаменты STUDIO 19 м.кв.\\nАпарта...</td>\n",
              "      <td>Евроремонт</td>\n",
              "      <td>NaN</td>\n",
              "      <td>NaN</td>\n",
              "      <td>На улицу и двор</td>\n",
              "      <td>True</td>\n",
              "      <td>True</td>\n",
              "      <td>NaN</td>\n",
              "      <td>True</td>\n",
              "      <td>True</td>\n",
              "      <td>NaN</td>\n",
              "      <td>NaN</td>\n",
              "      <td>True</td>\n",
              "      <td>True</td>\n",
              "      <td>True</td>\n",
              "      <td>True</td>\n",
              "      <td>True</td>\n",
              "      <td>YE’S Marata</td>\n",
              "      <td>2.9</td>\n",
              "      <td>3.0</td>\n",
              "      <td>3.0</td>\n",
              "      <td>True</td>\n",
              "      <td>https://www.cian.ru/rent/flat/245898592</td>\n",
              "    </tr>\n",
              "    <tr>\n",
              "      <th>1</th>\n",
              "      <td>1</td>\n",
              "      <td>251716893</td>\n",
              "      <td>0</td>\n",
              "      <td>Квартира</td>\n",
              "      <td>м. Бухарестская</td>\n",
              "      <td>1.0</td>\n",
              "      <td>пешком</td>\n",
              "      <td>Санкт-Петербург</td>\n",
              "      <td>улица Салова</td>\n",
              "      <td>61</td>\n",
              "      <td>Санкт-Петербург, улица Салова, 61</td>\n",
              "      <td>25.1</td>\n",
              "      <td>16</td>\n",
              "      <td>18</td>\n",
              "      <td>Монолитный</td>\n",
              "      <td>наземная</td>\n",
              "      <td>29600.0</td>\n",
              "      <td>NaN</td>\n",
              "      <td>29600.0</td>\n",
              "      <td>Длительный</td>\n",
              "      <td>79587736901</td>\n",
              "      <td>Студия VALO\\n                Апартаменты без к...</td>\n",
              "      <td>NaN</td>\n",
              "      <td>1.0</td>\n",
              "      <td>1.0</td>\n",
              "      <td>NaN</td>\n",
              "      <td>True</td>\n",
              "      <td>True</td>\n",
              "      <td>True</td>\n",
              "      <td>True</td>\n",
              "      <td>True</td>\n",
              "      <td>True</td>\n",
              "      <td>True</td>\n",
              "      <td>True</td>\n",
              "      <td>True</td>\n",
              "      <td>True</td>\n",
              "      <td>True</td>\n",
              "      <td>True</td>\n",
              "      <td>Доходные апартаменты VALO</td>\n",
              "      <td>2.5</td>\n",
              "      <td>1.0</td>\n",
              "      <td>1.0</td>\n",
              "      <td>NaN</td>\n",
              "      <td>https://www.cian.ru/rent/flat/251716893</td>\n",
              "    </tr>\n",
              "    <tr>\n",
              "      <th>2</th>\n",
              "      <td>2</td>\n",
              "      <td>254788472</td>\n",
              "      <td>0</td>\n",
              "      <td>Квартира</td>\n",
              "      <td>м. Бухарестская</td>\n",
              "      <td>1.0</td>\n",
              "      <td>пешком</td>\n",
              "      <td>Санкт-Петербург</td>\n",
              "      <td>улица Салова</td>\n",
              "      <td>61</td>\n",
              "      <td>Санкт-Петербург, улица Салова, 61</td>\n",
              "      <td>24.5</td>\n",
              "      <td>5</td>\n",
              "      <td>18</td>\n",
              "      <td>Монолитный</td>\n",
              "      <td>наземная</td>\n",
              "      <td>29600.0</td>\n",
              "      <td>NaN</td>\n",
              "      <td>29600.0</td>\n",
              "      <td>Длительный</td>\n",
              "      <td>79587736901</td>\n",
              "      <td>Студия VALO\\n                Апартаменты без к...</td>\n",
              "      <td>NaN</td>\n",
              "      <td>1.0</td>\n",
              "      <td>1.0</td>\n",
              "      <td>NaN</td>\n",
              "      <td>True</td>\n",
              "      <td>True</td>\n",
              "      <td>True</td>\n",
              "      <td>True</td>\n",
              "      <td>True</td>\n",
              "      <td>True</td>\n",
              "      <td>True</td>\n",
              "      <td>True</td>\n",
              "      <td>True</td>\n",
              "      <td>True</td>\n",
              "      <td>True</td>\n",
              "      <td>True</td>\n",
              "      <td>Доходные апартаменты VALO</td>\n",
              "      <td>2.5</td>\n",
              "      <td>1.0</td>\n",
              "      <td>1.0</td>\n",
              "      <td>NaN</td>\n",
              "      <td>https://www.cian.ru/rent/flat/254788472</td>\n",
              "    </tr>\n",
              "    <tr>\n",
              "      <th>3</th>\n",
              "      <td>3</td>\n",
              "      <td>229664813</td>\n",
              "      <td>0</td>\n",
              "      <td>Квартира</td>\n",
              "      <td>м. Бухарестская</td>\n",
              "      <td>1.0</td>\n",
              "      <td>пешком</td>\n",
              "      <td>Санкт-Петербург</td>\n",
              "      <td>улица Салова</td>\n",
              "      <td>61</td>\n",
              "      <td>Санкт-Петербург, улица Салова, 61</td>\n",
              "      <td>28.9</td>\n",
              "      <td>7</td>\n",
              "      <td>18</td>\n",
              "      <td>Монолитный</td>\n",
              "      <td>наземная</td>\n",
              "      <td>31200.0</td>\n",
              "      <td>NaN</td>\n",
              "      <td>31200.0</td>\n",
              "      <td>Длительный</td>\n",
              "      <td>79587736901</td>\n",
              "      <td>Большая студия VALO Апартаменты без комиссии! ...</td>\n",
              "      <td>NaN</td>\n",
              "      <td>1.0</td>\n",
              "      <td>1.0</td>\n",
              "      <td>NaN</td>\n",
              "      <td>True</td>\n",
              "      <td>True</td>\n",
              "      <td>True</td>\n",
              "      <td>True</td>\n",
              "      <td>True</td>\n",
              "      <td>True</td>\n",
              "      <td>True</td>\n",
              "      <td>True</td>\n",
              "      <td>True</td>\n",
              "      <td>True</td>\n",
              "      <td>True</td>\n",
              "      <td>True</td>\n",
              "      <td>Доходные апартаменты VALO</td>\n",
              "      <td>2.5</td>\n",
              "      <td>1.0</td>\n",
              "      <td>1.0</td>\n",
              "      <td>NaN</td>\n",
              "      <td>https://www.cian.ru/rent/flat/229664813</td>\n",
              "    </tr>\n",
              "    <tr>\n",
              "      <th>4</th>\n",
              "      <td>4</td>\n",
              "      <td>251716895</td>\n",
              "      <td>0</td>\n",
              "      <td>Квартира</td>\n",
              "      <td>м. Бухарестская</td>\n",
              "      <td>1.0</td>\n",
              "      <td>пешком</td>\n",
              "      <td>Санкт-Петербург</td>\n",
              "      <td>улица Салова</td>\n",
              "      <td>61</td>\n",
              "      <td>Санкт-Петербург, улица Салова, 61</td>\n",
              "      <td>24.8</td>\n",
              "      <td>13</td>\n",
              "      <td>18</td>\n",
              "      <td>Монолитный</td>\n",
              "      <td>наземная</td>\n",
              "      <td>29600.0</td>\n",
              "      <td>NaN</td>\n",
              "      <td>29600.0</td>\n",
              "      <td>Длительный</td>\n",
              "      <td>79587736901</td>\n",
              "      <td>Студия VALO\\n                Апартаменты без к...</td>\n",
              "      <td>NaN</td>\n",
              "      <td>1.0</td>\n",
              "      <td>1.0</td>\n",
              "      <td>NaN</td>\n",
              "      <td>True</td>\n",
              "      <td>True</td>\n",
              "      <td>True</td>\n",
              "      <td>True</td>\n",
              "      <td>True</td>\n",
              "      <td>True</td>\n",
              "      <td>True</td>\n",
              "      <td>True</td>\n",
              "      <td>True</td>\n",
              "      <td>True</td>\n",
              "      <td>True</td>\n",
              "      <td>True</td>\n",
              "      <td>Доходные апартаменты VALO</td>\n",
              "      <td>2.5</td>\n",
              "      <td>1.0</td>\n",
              "      <td>1.0</td>\n",
              "      <td>NaN</td>\n",
              "      <td>https://www.cian.ru/rent/flat/251716895</td>\n",
              "    </tr>\n",
              "    <tr>\n",
              "      <th>...</th>\n",
              "      <td>...</td>\n",
              "      <td>...</td>\n",
              "      <td>...</td>\n",
              "      <td>...</td>\n",
              "      <td>...</td>\n",
              "      <td>...</td>\n",
              "      <td>...</td>\n",
              "      <td>...</td>\n",
              "      <td>...</td>\n",
              "      <td>...</td>\n",
              "      <td>...</td>\n",
              "      <td>...</td>\n",
              "      <td>...</td>\n",
              "      <td>...</td>\n",
              "      <td>...</td>\n",
              "      <td>...</td>\n",
              "      <td>...</td>\n",
              "      <td>...</td>\n",
              "      <td>...</td>\n",
              "      <td>...</td>\n",
              "      <td>...</td>\n",
              "      <td>...</td>\n",
              "      <td>...</td>\n",
              "      <td>...</td>\n",
              "      <td>...</td>\n",
              "      <td>...</td>\n",
              "      <td>...</td>\n",
              "      <td>...</td>\n",
              "      <td>...</td>\n",
              "      <td>...</td>\n",
              "      <td>...</td>\n",
              "      <td>...</td>\n",
              "      <td>...</td>\n",
              "      <td>...</td>\n",
              "      <td>...</td>\n",
              "      <td>...</td>\n",
              "      <td>...</td>\n",
              "      <td>...</td>\n",
              "      <td>...</td>\n",
              "      <td>...</td>\n",
              "      <td>...</td>\n",
              "      <td>...</td>\n",
              "      <td>...</td>\n",
              "      <td>...</td>\n",
              "    </tr>\n",
              "    <tr>\n",
              "      <th>1080</th>\n",
              "      <td>80</td>\n",
              "      <td>252108909</td>\n",
              "      <td>5</td>\n",
              "      <td>Квартира</td>\n",
              "      <td>м. Проспект</td>\n",
              "      <td>13.0</td>\n",
              "      <td>на машине</td>\n",
              "      <td>Санкт-Петербург</td>\n",
              "      <td>улица Тихоокеанская</td>\n",
              "      <td>14</td>\n",
              "      <td>Санкт-Петербург, пос. Парголово, улица Тихооке...</td>\n",
              "      <td>120.0</td>\n",
              "      <td>4</td>\n",
              "      <td>14</td>\n",
              "      <td>Монолитный</td>\n",
              "      <td>NaN</td>\n",
              "      <td>30000.0</td>\n",
              "      <td>10000.0</td>\n",
              "      <td>10000.0</td>\n",
              "      <td>Длительный</td>\n",
              "      <td>79587767173</td>\n",
              "      <td>Вместе с КУ 40000т.р.,Замечательная квартира, ...</td>\n",
              "      <td>Косметический</td>\n",
              "      <td>2.0</td>\n",
              "      <td>NaN</td>\n",
              "      <td>На улицу и двор</td>\n",
              "      <td>NaN</td>\n",
              "      <td>NaN</td>\n",
              "      <td>NaN</td>\n",
              "      <td>NaN</td>\n",
              "      <td>NaN</td>\n",
              "      <td>NaN</td>\n",
              "      <td>NaN</td>\n",
              "      <td>NaN</td>\n",
              "      <td>NaN</td>\n",
              "      <td>NaN</td>\n",
              "      <td>True</td>\n",
              "      <td>True</td>\n",
              "      <td>в Парголово</td>\n",
              "      <td>NaN</td>\n",
              "      <td>NaN</td>\n",
              "      <td>NaN</td>\n",
              "      <td>NaN</td>\n",
              "      <td>https://www.cian.ru/rent/flat/252108909</td>\n",
              "    </tr>\n",
              "    <tr>\n",
              "      <th>1081</th>\n",
              "      <td>81</td>\n",
              "      <td>249902575</td>\n",
              "      <td>5</td>\n",
              "      <td>Квартира</td>\n",
              "      <td>м. Горьковская</td>\n",
              "      <td>3.0</td>\n",
              "      <td>пешком</td>\n",
              "      <td>Санкт-Петербург</td>\n",
              "      <td>Каменноостровский проспект</td>\n",
              "      <td>6</td>\n",
              "      <td>Санкт-Петербург, Каменноостровский проспект, 6</td>\n",
              "      <td>135.0</td>\n",
              "      <td>2</td>\n",
              "      <td>5</td>\n",
              "      <td>Кирпичный</td>\n",
              "      <td>NaN</td>\n",
              "      <td>85000.0</td>\n",
              "      <td>8000.0</td>\n",
              "      <td>80000.0</td>\n",
              "      <td>Длительный</td>\n",
              "      <td>79219157309</td>\n",
              "      <td>Предлагается к долгосрочной аренде квартира в ...</td>\n",
              "      <td>Евроремонт</td>\n",
              "      <td>NaN</td>\n",
              "      <td>NaN</td>\n",
              "      <td>На улицу и двор</td>\n",
              "      <td>True</td>\n",
              "      <td>True</td>\n",
              "      <td>True</td>\n",
              "      <td>True</td>\n",
              "      <td>True</td>\n",
              "      <td>NaN</td>\n",
              "      <td>True</td>\n",
              "      <td>True</td>\n",
              "      <td>True</td>\n",
              "      <td>True</td>\n",
              "      <td>NaN</td>\n",
              "      <td>True</td>\n",
              "      <td>NaN</td>\n",
              "      <td>NaN</td>\n",
              "      <td>1.0</td>\n",
              "      <td>NaN</td>\n",
              "      <td>NaN</td>\n",
              "      <td>https://www.cian.ru/rent/flat/249902575</td>\n",
              "    </tr>\n",
              "    <tr>\n",
              "      <th>1082</th>\n",
              "      <td>82</td>\n",
              "      <td>250301252</td>\n",
              "      <td>6</td>\n",
              "      <td>Квартира</td>\n",
              "      <td>м. Невский</td>\n",
              "      <td>3.0</td>\n",
              "      <td>пешком</td>\n",
              "      <td>Санкт-Петербург</td>\n",
              "      <td>Малая Конюшенная улица</td>\n",
              "      <td>5</td>\n",
              "      <td>Санкт-Петербург, Малая Конюшенная улица, 5</td>\n",
              "      <td>235.0</td>\n",
              "      <td>5</td>\n",
              "      <td>6</td>\n",
              "      <td>NaN</td>\n",
              "      <td>NaN</td>\n",
              "      <td>190000.0</td>\n",
              "      <td>10000.0</td>\n",
              "      <td>190000.0</td>\n",
              "      <td>На несколько месяцев</td>\n",
              "      <td>79522454243</td>\n",
              "      <td>5/6 этаж, квартира в отличном состоянии.Сдаётс...</td>\n",
              "      <td>Косметический</td>\n",
              "      <td>NaN</td>\n",
              "      <td>NaN</td>\n",
              "      <td>NaN</td>\n",
              "      <td>NaN</td>\n",
              "      <td>NaN</td>\n",
              "      <td>NaN</td>\n",
              "      <td>NaN</td>\n",
              "      <td>NaN</td>\n",
              "      <td>NaN</td>\n",
              "      <td>NaN</td>\n",
              "      <td>NaN</td>\n",
              "      <td>NaN</td>\n",
              "      <td>NaN</td>\n",
              "      <td>NaN</td>\n",
              "      <td>NaN</td>\n",
              "      <td>NaN</td>\n",
              "      <td>NaN</td>\n",
              "      <td>NaN</td>\n",
              "      <td>NaN</td>\n",
              "      <td>False</td>\n",
              "      <td>https://www.cian.ru/rent/flat/250301252</td>\n",
              "    </tr>\n",
              "    <tr>\n",
              "      <th>1083</th>\n",
              "      <td>83</td>\n",
              "      <td>251569788</td>\n",
              "      <td>5</td>\n",
              "      <td>Квартира</td>\n",
              "      <td>м. Старая</td>\n",
              "      <td>29.0</td>\n",
              "      <td>пешком</td>\n",
              "      <td>Санкт-Петербург</td>\n",
              "      <td>Кемская улица</td>\n",
              "      <td>14</td>\n",
              "      <td>Санкт-Петербург, Кемская улица, 14</td>\n",
              "      <td>208.2</td>\n",
              "      <td>7</td>\n",
              "      <td>7</td>\n",
              "      <td>Кирпичный</td>\n",
              "      <td>подземная</td>\n",
              "      <td>190000.0</td>\n",
              "      <td>25000.0</td>\n",
              "      <td>190000.0</td>\n",
              "      <td>Длительный</td>\n",
              "      <td>79587744426</td>\n",
              "      <td>Уютная двухуровневая квартира в тихом доме на ...</td>\n",
              "      <td>Евроремонт</td>\n",
              "      <td>3.0</td>\n",
              "      <td>2.0</td>\n",
              "      <td>На улицу и двор</td>\n",
              "      <td>True</td>\n",
              "      <td>True</td>\n",
              "      <td>NaN</td>\n",
              "      <td>NaN</td>\n",
              "      <td>True</td>\n",
              "      <td>NaN</td>\n",
              "      <td>NaN</td>\n",
              "      <td>NaN</td>\n",
              "      <td>True</td>\n",
              "      <td>NaN</td>\n",
              "      <td>NaN</td>\n",
              "      <td>True</td>\n",
              "      <td>NaN</td>\n",
              "      <td>6.5</td>\n",
              "      <td>1.0</td>\n",
              "      <td>NaN</td>\n",
              "      <td>False</td>\n",
              "      <td>https://www.cian.ru/rent/flat/251569788</td>\n",
              "    </tr>\n",
              "    <tr>\n",
              "      <th>1084</th>\n",
              "      <td>84</td>\n",
              "      <td>210367969</td>\n",
              "      <td>6</td>\n",
              "      <td>Квартира</td>\n",
              "      <td>м. Чернышевская</td>\n",
              "      <td>20.0</td>\n",
              "      <td>пешком</td>\n",
              "      <td>Санкт-Петербург</td>\n",
              "      <td>набережная Воскресенская</td>\n",
              "      <td>4</td>\n",
              "      <td>Санкт-Петербург, набережная Воскресенская, 4</td>\n",
              "      <td>329.0</td>\n",
              "      <td>4</td>\n",
              "      <td>13</td>\n",
              "      <td>Монолитный</td>\n",
              "      <td>подземная</td>\n",
              "      <td>400000.0</td>\n",
              "      <td>NaN</td>\n",
              "      <td>400000.0</td>\n",
              "      <td>Длительный</td>\n",
              "      <td>79052232497</td>\n",
              "      <td>Предлагается квартира с панорамным видом на на...</td>\n",
              "      <td>Дизайнерский</td>\n",
              "      <td>NaN</td>\n",
              "      <td>NaN</td>\n",
              "      <td>На улицу и двор</td>\n",
              "      <td>True</td>\n",
              "      <td>True</td>\n",
              "      <td>True</td>\n",
              "      <td>True</td>\n",
              "      <td>True</td>\n",
              "      <td>True</td>\n",
              "      <td>True</td>\n",
              "      <td>True</td>\n",
              "      <td>True</td>\n",
              "      <td>True</td>\n",
              "      <td>NaN</td>\n",
              "      <td>True</td>\n",
              "      <td>NaN</td>\n",
              "      <td>NaN</td>\n",
              "      <td>1.0</td>\n",
              "      <td>NaN</td>\n",
              "      <td>True</td>\n",
              "      <td>https://www.cian.ru/rent/flat/210367969</td>\n",
              "    </tr>\n",
              "  </tbody>\n",
              "</table>\n",
              "<p>1085 rows × 44 columns</p>\n",
              "</div>"
            ],
            "text/plain": [
              "      Unnamed: 0  ...                     Ссылка на объявление\n",
              "0              0  ...  https://www.cian.ru/rent/flat/245898592\n",
              "1              1  ...  https://www.cian.ru/rent/flat/251716893\n",
              "2              2  ...  https://www.cian.ru/rent/flat/254788472\n",
              "3              3  ...  https://www.cian.ru/rent/flat/229664813\n",
              "4              4  ...  https://www.cian.ru/rent/flat/251716895\n",
              "...          ...  ...                                      ...\n",
              "1080          80  ...  https://www.cian.ru/rent/flat/252108909\n",
              "1081          81  ...  https://www.cian.ru/rent/flat/249902575\n",
              "1082          82  ...  https://www.cian.ru/rent/flat/250301252\n",
              "1083          83  ...  https://www.cian.ru/rent/flat/251569788\n",
              "1084          84  ...  https://www.cian.ru/rent/flat/210367969\n",
              "\n",
              "[1085 rows x 44 columns]"
            ]
          },
          "metadata": {
            "tags": []
          },
          "execution_count": 254
        }
      ]
    },
    {
      "cell_type": "code",
      "metadata": {
        "id": "sX4Ft8WxduSN"
      },
      "source": [
        "#/content/offers.csv"
      ],
      "execution_count": null,
      "outputs": []
    }
  ]
}