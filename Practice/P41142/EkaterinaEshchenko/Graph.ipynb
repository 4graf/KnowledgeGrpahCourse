{
  "nbformat": 4,
  "nbformat_minor": 0,
  "metadata": {
    "colab": {
      "name": "Graph.ipynb",
      "provenance": [],
      "collapsed_sections": []
    },
    "kernelspec": {
      "display_name": "Python 3",
      "name": "python3"
    },
    "language_info": {
      "name": "python"
    }
  },
  "cells": [
    {
      "cell_type": "code",
      "metadata": {
        "id": "L-ofKoc5mxsa"
      },
      "source": [
        "!pip install rdflib\n",
        "!pip install PyDrive"
      ],
      "execution_count": null,
      "outputs": []
    },
    {
      "cell_type": "code",
      "metadata": {
        "id": "Ip_knn6_nCc4"
      },
      "source": [
        "from rdflib import URIRef, BNode, Literal, Namespace, Graph\n",
        "from rdflib.namespace import Namespace, NamespaceManager\n",
        "from rdflib.plugins import sparql\n",
        "from rdflib.namespace import RDF, RDFS, OWL, XSD, FOAF, DCTERMS, VOID\n",
        "from rdflib.serializer import Serializer"
      ],
      "execution_count": 2,
      "outputs": []
    },
    {
      "cell_type": "code",
      "metadata": {
        "id": "B0gESxdWoASM"
      },
      "source": [
        "import collections\n",
        "import pandas as pd"
      ],
      "execution_count": 3,
      "outputs": []
    },
    {
      "cell_type": "code",
      "metadata": {
        "id": "LMP71epPnEXb"
      },
      "source": [
        "df = pd.DataFrame(pd.read_csv(\"apart.csv\"))\n",
        "df.drop(['Unnamed: 0'], axis='columns', inplace=True)\n",
        "dt = df[570:580]"
      ],
      "execution_count": 4,
      "outputs": []
    },
    {
      "cell_type": "code",
      "metadata": {
        "colab": {
          "base_uri": "https://localhost:8080/"
        },
        "id": "IA4e8fNioKvJ",
        "outputId": "a46b6280-97b9-46cf-cbeb-61fa1274ae7a"
      },
      "source": [
        "g = Graph()\n",
        "g.parse(\"ofkop.owl\",  format='turtle')\n",
        "g\n"
      ],
      "execution_count": 54,
      "outputs": [
        {
          "output_type": "execute_result",
          "data": {
            "text/plain": [
              "<Graph identifier=N62296876afc54932a9bb67c677be0acb (<class 'rdflib.graph.Graph'>)>"
            ]
          },
          "metadata": {
            "tags": []
          },
          "execution_count": 54
        }
      ]
    },
    {
      "cell_type": "code",
      "metadata": {
        "colab": {
          "base_uri": "https://localhost:8080/",
          "height": 34
        },
        "id": "HxGkOdlyny8O",
        "outputId": "b248fbb4-4e8b-4472-ca2a-1f508d767460"
      },
      "source": [
        "prefix = dict(g.namespaces())['']\n",
        "ns = Namespace(prefix)\n",
        "ns"
      ],
      "execution_count": 49,
      "outputs": [
        {
          "output_type": "execute_result",
          "data": {
            "application/vnd.google.colaboratory.intrinsic+json": {
              "type": "string"
            },
            "text/plain": [
              "Namespace('http://www.semanticweb.org/asususer/ontologies/2021/3/untitled-ontology-15#')"
            ]
          },
          "metadata": {
            "tags": []
          },
          "execution_count": 49
        }
      ]
    },
    {
      "cell_type": "markdown",
      "metadata": {
        "id": "Go8lchmCrvXt"
      },
      "source": [
        "Заполняем граф значениями классов и триплетов "
      ]
    },
    {
      "cell_type": "code",
      "metadata": {
        "id": "IAc41QorxOQN"
      },
      "source": [
        "for index, row in df.iterrows():    \n",
        "    \n",
        "    apart = URIRef(ns + str(row[0])) # id кв\n",
        "    g.add((apart, RDF.type, OWL.NamedIndividual))\n",
        "    g.add((apart, RDF.type, ns.Apartment))\n",
        "    \n",
        "    discription = Literal(row['Описание'], datatype=XSD.Literal) # \n",
        "    link = Literal(row['Ссылка на объявление'], datatype=XSD.Literal) \n",
        "    g.add((apart, RDFS.comment, discription))\n",
        "    g.add((apart, RDFS.seeAlso, link))\n",
        "    \n",
        "    contacts = URIRef(ns + \"Contacts\")\n",
        "    phone = URIRef(ns + Literal(row['Телефоны'], datatype=XSD.Literal))\n",
        "    g.add((contacts, RDF.type, ns.Contacts))\n",
        "    g.add((phone, RDF.type, ns.Phone))\n",
        "    g.add((apart, ns.contactBy, phone))\n",
        "    g.add((contacts, ns.contactBy, phone))\n",
        "\n",
        "    metro = URIRef(ns + (str(row['Метро']).replace(\" \", \"_\")))\n",
        "    timeToMetro = Literal(row['Время до метро, мин'], datatype=XSD.int)\n",
        "    wayToMetro = Literal(str(row['Способ до метро']), datatype=XSD.string)\n",
        "    g.add((metro, RDF.type, OWL.NamedIndividual))\n",
        "    g.add((metro, RDF.type, ns.Metro))\n",
        "    g.add((apart, ns.nextToMetro, metro)) # метро\n",
        "    g.add((apart, ns.TimeToMetro, timeToMetro)) # время до метро\n",
        "    g.add((apart, ns.WayToMetro, wayToMetro)) # путь до метро\n",
        "\n",
        "    address = URIRef(ns + (str(row['Адрес'].replace(\",\", \"\").replace(\" \", \"_\"))))\n",
        "    city = URIRef(ns + Literal(row['Город'], datatype=XSD.string))\n",
        "    street = URIRef(ns + Literal(row['Улица'], datatype=XSD.string).replace(\" \", \"_\"))\n",
        "    numHouse = URIRef(ns + Literal(row['Номер дома'], datatype=XSD.string))\n",
        "    g.add((address, RDF.type, OWL.NamedIndividual))\n",
        "    g.add((address, RDF.type, ns.Address))\n",
        "    g.add((city, RDF.type, ns.City))\n",
        "    g.add((street, RDF.type, ns.Street))\n",
        "    g.add((numHouse, RDF.type, ns.HouseNumber))\n",
        "    g.add((address, ns.consistsCity, city))\n",
        "    g.add((address, ns.consistsStreet, street))\n",
        "    g.add((address, ns.consistsNum, numHouse))\n",
        "    g.add((apart, ns.hasAddress, address)) \n",
        "   \n",
        "    rub = \"http://www.ontologyrepository.com/CommonCoreOntologies/RussianRouble\"\n",
        "    price = URIRef(ns + str(\"Price_\" + str(row[0])))\n",
        "    rental = Literal(row['Цена аренды, руб/мес'], datatype=XSD.float)\n",
        "    bills = Literal(row['Ком платежи'], datatype=XSD.float)\n",
        "    deposit =  Literal(row['Залог'], datatype=XSD.float)\n",
        "    currency = URIRef(ns + Literal(rub))\n",
        "    g.add((price, RDF.type, OWL.NamedIndividual))\n",
        "    g.add((price, RDF.type, ns.Price))\n",
        "    g.add((currency, RDF.type, ns.Currency))\n",
        "    g.add((price, ns.Rental, rental))\n",
        "    g.add((price, ns.Bills, bills))\n",
        "    g.add((price, ns.Deposit, deposit))\n",
        "    g.add((price, ns.hasCurrency, currency))\n",
        "    g.add((apart, ns.hasPrice, price))\n",
        "\n",
        "    appliances = URIRef(ns + str(\"Appliances_\" + str(row[0])))\n",
        "    washer = URIRef(ns + (str(row['Стиральная машина'])))\n",
        "    dishwasher = URIRef(ns + (str(row['Посудомоечная машина'])))\n",
        "    tv = URIRef(ns + (str(row['Телевизор'])))\n",
        "    fridge = URIRef(ns + (str(row['Холодильник'])))\n",
        "    router = URIRef(ns + (str(row['Интернет'])))\n",
        "    g.add((appliances, RDF.type, OWL.NamedIndividual))\n",
        "    g.add((appliances, RDF.type, ns.Appliances))\n",
        "    g.add((washer, RDF.type, ns.Washer))\n",
        "    g.add((dishwasher, RDF.type, ns.Dishwasher))\n",
        "    g.add((tv, RDF.type, ns.TV))\n",
        "    g.add((fridge, RDF.type, ns.Fridge))\n",
        "    g.add((router, RDF.type, ns.Router))\n",
        "    g.add((apart, ns.hasAppliances, appliances)) \n",
        "    g.add((appliances, ns.hasWasher, washer)) \n",
        "    g.add((appliances, ns.hasDishwasher, dishwasher)) \n",
        "    g.add((appliances, ns.hasTV, tv))\n",
        "    g.add((appliances, ns.hasFridge, fridge)) \n",
        "    g.add((appliances, ns.hasRouter, router))\n",
        "\n",
        "    fur = URIRef(ns + \"Furniture\")\n",
        "    furBath = URIRef(ns + (str(row['Ванна,'])))\n",
        "    furKit = URIRef(ns + (str(row['Мебель на кухне'])))\n",
        "    furRoom = URIRef(ns + (str(row['Мебель в комнатах'])))\n",
        "    furSh = URIRef(ns + (str(row['Душевая кабина'])))\n",
        "    g.add((fur, RDF.type, ns.Furniture))\n",
        "    g.add((furBath, RDF.type, ns.Bathroom))\n",
        "    g.add((furKit, RDF.type, ns.Kitchen))\n",
        "    g.add((furRoom, RDF.type, ns.Rooms))\n",
        "    g.add((furSh, RDF.type, ns.ShowerRoom))\n",
        "    g.add((apart, ns.hasFurnitureBathroom, furBath))\n",
        "    g.add((apart, ns.hasFurnitureKitchen, furKit))\n",
        "    g.add((apart, ns.hasFurnitureRooms, furRoom))\n",
        "    g.add((apart, ns.hasFurnitureShower, furSh))\n",
        "\n",
        "    repair = URIRef(ns + (str(row['Ремонт']).replace(\" \", \"_\")))\n",
        "    windows = URIRef(ns + (str(row['Окна']).replace(\" \", \"_\")))\n",
        "    child = Literal(row['Можно с детьми'], datatype=XSD.bool)  \n",
        "    aminal = Literal(row['Можно с животными'], datatype=XSD.bool)  \n",
        "    numBalcony = Literal(row['Балкон'], datatype=XSD.int)\n",
        "    numLoggia = Literal(row['Лоджия'], datatype=XSD.int)\n",
        "    numRoom = Literal(row['Количество комнат'], datatype=XSD.int)\n",
        "    floor = Literal(row['Этаж'], datatype=XSD.int)\n",
        "    square = Literal(float(row['Площадь, м2']), datatype=XSD.float)\n",
        "    g.add((repair, RDF.type, ns.Repair))\n",
        "    g.add((windows, RDF.type, ns.Windows))\n",
        "    g.add((apart, ns.PossibleChild, child)) \n",
        "    g.add((apart, ns.PossibleAnimal, aminal))\n",
        "    g.add((apart, ns.NumBalcony, numBalcony))\n",
        "    g.add((apart, ns.NumLoggia, numLoggia))\n",
        "    g.add((apart, ns.NumRoom, numRoom))\n",
        "    g.add((apart, ns.Floor, floor))\n",
        "    g.add((apart, ns.Square, square))\n",
        "\n",
        "    nameGK = URIRef(ns + (str(row['Название ЖК']).replace(\" \", \"_\")))\n",
        "    park = URIRef(ns + (str(row['Парковка'])))\n",
        "    numFreLift = Literal(row['Лифт груз'], datatype=XSD.int)\n",
        "    numPassLift = Literal(row['Лифт пасс'], datatype=XSD.int)\n",
        "    g.add((nameGK, RDF.type, ns.NameOfComplex))\n",
        "    g.add((park, RDF.type, ns.Parking))\n",
        "    g.add((apart, ns.NumFreLift, numFreLift))\n",
        "    g.add((apart, ns.NumPassLift, numPassLift))\n",
        "    g.add((apart, ns.hasPark, park))\n",
        "    g.add((apart, ns.hasComplex, nameGK))\n",
        "    \n",
        "   # distance = Literal(float(row['Дист до а1']), datatype=XSD.float)   \n",
        "   # address1 = Literal(str(\"Кронверкский проспект, 49, Санкт-Петербург\"), datatype=XSD.Literal)\n",
        "   # g.add((distance, RDFS.comment, address1)) \n",
        "   # g.add((apart, ns.Distance, distance))\n",
        "\n"
      ],
      "execution_count": 55,
      "outputs": []
    },
    {
      "cell_type": "code",
      "metadata": {
        "id": "ga-HRoM_2WRE"
      },
      "source": [
        "g.serialize(destination='hehe.owl', format='turtle')"
      ],
      "execution_count": 57,
      "outputs": []
    },
    {
      "cell_type": "code",
      "metadata": {
        "id": "7UBqeNH23btC"
      },
      "source": [
        "print(g.serialize(format=\"turtle\").decode(\"utf-8\"))"
      ],
      "execution_count": null,
      "outputs": []
    },
    {
      "cell_type": "markdown",
      "metadata": {
        "id": "KT-ISO7--Y9F"
      },
      "source": [
        "SPARQL"
      ]
    },
    {
      "cell_type": "markdown",
      "metadata": {
        "id": "azhAxK7SKOY1"
      },
      "source": [
        "Где в Санкт-Петербурге больше шансав снять квартиру квартиранту с кошкой?"
      ]
    },
    {
      "cell_type": "code",
      "metadata": {
        "id": "hjeU4LUA1tFU"
      },
      "source": [
        "q = g.query(\n",
        "    \"\"\"PREFIX : <http://www.semanticweb.org/asususer/ontologies/2021/3/untitled-ontology-15#>\n",
        "    SELECT ?metro (count(?metro) as ?metrocount)\n",
        "    WHERE {\n",
        "        ?apart a :Apartment;\n",
        "            :nextToMetro ?metro;\n",
        "            :PossibleAnimal ?animal;\n",
        "          FILTER ( ?animal = \"true\"^^xsd:bool )    \n",
        "    } GROUP BY ?metro\n",
        "      ORDER BY DESC(?metrocount)\n",
        "      LIMIT 10\n",
        "    \"\"\")\n",
        "for row in q:\n",
        "   print(row[1] + \" предложения на \" +row[0].split('#')[1])"
      ],
      "execution_count": null,
      "outputs": []
    },
    {
      "cell_type": "markdown",
      "metadata": {
        "id": "WG4XpyFvKX5m"
      },
      "source": [
        "Какое изменение цены однокомнатной квартиры в зависимости от района? "
      ]
    },
    {
      "cell_type": "code",
      "metadata": {
        "id": "qjEcD0uu1s1t"
      },
      "source": [
        "q = g.query(\n",
        "    \"\"\"PREFIX : <http://www.semanticweb.org/asususer/ontologies/2021/3/untitled-ontology-15#>\n",
        "    SELECT  ?metro ?rental (AVG(?rental) AS ?average_rental) ?currency\n",
        "    WHERE {\n",
        "      ?apart a :Apartment;\n",
        "      :nextToMetro ?metro;\n",
        "      :NumRoom ?numRoom;\n",
        "      :hasPrice ?price;\n",
        "          {\n",
        "            SELECT ?rental ?currency\n",
        "            WHERE {\n",
        "              ?price a :Price;\n",
        "              :Rental ?rental;\n",
        "              :hasCurrency ?currency;\n",
        "                  }\n",
        "          }              \n",
        "    FILTER ( ?numRoom = \"1\"^^xsd:int )   \n",
        "    } GROUP BY ?metro\n",
        "      ORDER BY DESC(?average_rental)\n",
        "      LIMIT 15\n",
        "    \"\"\"\n",
        "    )\n",
        "for row in q:\n",
        "  #print(row)\n",
        "  print(\"Средняя цена 1 комнт. кв. \" + row[0].split('#')[1] + \"  \" + row[2])"
      ],
      "execution_count": null,
      "outputs": []
    },
    {
      "cell_type": "markdown",
      "metadata": {
        "id": "U5-Gd7QrK09o"
      },
      "source": [
        "Какие станции самые популярные по добавлению объявлений?"
      ]
    },
    {
      "cell_type": "code",
      "metadata": {
        "id": "mz55lQlyzdGi"
      },
      "source": [
        "q = g.query(\n",
        "    \"\"\"PREFIX : <http://www.semanticweb.org/asususer/ontologies/2021/3/untitled-ontology-15#>\n",
        "    SELECT ?metro (count(?metro) as ?metrocount)\n",
        "    WHERE {\n",
        "        ?apart a :Apartment;\n",
        "            :nextToMetro ?metro;  \n",
        "    } GROUP BY ?metro\n",
        "      ORDER BY DESC(?metrocount)\n",
        "      LIMIT 15\n",
        "    \"\"\")\n",
        "for row in q:\n",
        "   print(row[1] + \" предложения на \" +row[0].split('#')[1])"
      ],
      "execution_count": null,
      "outputs": []
    },
    {
      "cell_type": "markdown",
      "metadata": {
        "id": "6H_N7yfMK2oK"
      },
      "source": [
        "Какие предложения наиболее подходяшие для молодой семьи с двумя детьми?"
      ]
    },
    {
      "cell_type": "code",
      "metadata": {
        "id": "i9gDokgNerci"
      },
      "source": [
        "q = g.query(\n",
        "    \"\"\"PREFIX : <http://www.semanticweb.org/asususer/ontologies/2021/3/untitled-ontology-15#>\n",
        "    SELECT ?apart ?sum_price ?rental ?bills\n",
        "    WHERE {\n",
        "        ?apart rdf:type :Apartment;\n",
        "        :PossibleChild ?child;\n",
        "        :NumRoom ?numRoom;\n",
        "        :Square ?square;\n",
        "        :WayToMetro ?wayToMetro;\n",
        "        :TimeToMetro ?timeToMetro;\n",
        "        :hasPrice ?price;\n",
        "        {\n",
        "            SELECT ?sum_price ?rental ?bills\n",
        "            WHERE {\n",
        "              ?price a :Price;\n",
        "              :Rental ?rental;\n",
        "              :Bills ?bills;\n",
        "              BIND( ?rental + ?bills AS ?sum_price) \n",
        "              FILTER (?rental < 100000)\n",
        "                  }\n",
        "          }\n",
        "         FILTER (?sum_price < 100000)\n",
        "         FILTER (?numRoom >= \"1\"^^xsd:int \n",
        "         && ?square > \"100\"^^xsd:float\n",
        "         && ?child = \"true\"^^xsd:bool\n",
        "         && ?timeToMetro <= \"7\"^^xsd:int\n",
        "         && ?wayToMetro = \"пешком\"^^xsd:string)              \n",
        "    }\n",
        "        LIMIT 10\n",
        "    \"\"\")\n",
        "for row in q:\n",
        "    print(\"https://spb.cian.ru/rent/flat/\" + row[0].split('#')[1] + \" \" +  row[1] + \" : аренда \" +  row[2] + \", ку \" +  row[3])\n",
        "    print(str(g.comment(row[0]))+'\\n')"
      ],
      "execution_count": null,
      "outputs": []
    },
    {
      "cell_type": "markdown",
      "metadata": {
        "id": "n14rXxIiPybq"
      },
      "source": [
        "Какие квартиры в диапазоне N расположенны максимально близко (расстояние в км) к локации M? \n",
        "\n"
      ]
    },
    {
      "cell_type": "code",
      "metadata": {
        "id": "-rlpcx-tQOc6"
      },
      "source": [
        "# Кронверкский проспект, 49, Санкт-Петербург\n",
        "q = g.query(\n",
        "    \"\"\"PREFIX : <http://www.semanticweb.org/asususer/ontologies/2021/3/untitled-ontology-15#>\n",
        "    SELECT ?apart ?distance ?metro ?rental   \n",
        "    WHERE {\n",
        "        ?apart a :Apartment;\n",
        "        :Distance ?distance;\n",
        "        :nextToMetro ?metro; \n",
        "        :hasPrice ?price;\n",
        "        {\n",
        "          SELECT ?rental\n",
        "          WHERE {\n",
        "            ?price a :Price;\n",
        "            :Rental ?rental;\n",
        "            FILTER (?rental < 100000)\n",
        "                }\n",
        "          }\n",
        "    FILTER (?distance < 2 )\n",
        "    }\n",
        "    ORDER BY ?distance\n",
        "    LIMIT 15\n",
        "    \"\"\"\n",
        "    )\n",
        "for row in q:\n",
        "    #print(row)\n",
        "    print(\"https://spb.cian.ru/rent/flat/\" + row[0].split('#')[1] + \"\\n\" + row[1] + \" \" +  row[2].split('#')[1] + \" \" +  row[3])\n",
        "    #print(str(g.comment(row[0]))+'\\n')"
      ],
      "execution_count": null,
      "outputs": []
    },
    {
      "cell_type": "markdown",
      "metadata": {
        "id": "5neMIigjlJ5h"
      },
      "source": [
        "VoID"
      ]
    },
    {
      "cell_type": "code",
      "metadata": {
        "colab": {
          "base_uri": "https://localhost:8080/"
        },
        "id": "CjLOpVlKNlPP",
        "outputId": "1d4ed0ef-e897-49b5-9592-2cd2219be536"
      },
      "source": [
        "g = Graph()\n",
        "g.parse(\"ofkop.owl\",  format='turtle')\n",
        "g"
      ],
      "execution_count": 51,
      "outputs": [
        {
          "output_type": "execute_result",
          "data": {
            "text/plain": [
              "<Graph identifier=N07659576c87a489f9ba35899faf56411 (<class 'rdflib.graph.Graph'>)>"
            ]
          },
          "metadata": {
            "tags": []
          },
          "execution_count": 51
        }
      ]
    },
    {
      "cell_type": "code",
      "metadata": {
        "id": "fPucRA_9lJdE"
      },
      "source": [
        "g.add((prefix, DCTERMS.title, Literal('Residential property rental')))\n",
        "g.add((prefix, DCTERMS.publisher, Literal('Ekaterina', datatype=FOAF.Person)))\n",
        "g.add((prefix, DCTERMS.publisher, Literal('trfnthbyf997@gmail.com', datatype=FOAF.mbox)))\n",
        "g.add((prefix, DCTERMS.issued, Literal('2021-04-23', datatype=XSD.data)))\n",
        "g.add((prefix, VOID.triples, Literal(int(47820))))\n",
        "g.add((prefix, VOID.classes, Literal(int(31))))\n",
        "g.add((prefix, VOID.properties, Literal(int(45))))\n",
        "g.add((prefix, VOID.distinctObjects, Literal(int(6842))))\n",
        "g.add((prefix, VOID.distinctSubjects, Literal(int(5227))))"
      ],
      "execution_count": 56,
      "outputs": []
    },
    {
      "cell_type": "code",
      "metadata": {
        "id": "Lx-UYZaAlJGd"
      },
      "source": [
        "print(g.serialize(format=\"turtle\").decode(\"utf-8\"))"
      ],
      "execution_count": null,
      "outputs": []
    },
    {
      "cell_type": "code",
      "metadata": {
        "id": "R2NXMxfXhuQn"
      },
      "source": [
        "distinctForPartitions = True\n",
        "res = Graph()"
      ],
      "execution_count": 43,
      "outputs": []
    },
    {
      "cell_type": "code",
      "metadata": {
        "id": "VVeeY_nrZ-eb"
      },
      "source": [
        "def generateVoID(g):\n",
        "    typeMap = collections.defaultdict(set)\n",
        "    classes = collections.defaultdict(set)\n",
        "    for e, c in g.subject_objects(RDF.type):\n",
        "        classes[c].add(e)\n",
        "        typeMap[e].add(c)\n",
        "\n",
        "    triples = 0\n",
        "    subjects = set()\n",
        "    objects = set()\n",
        "    properties = set()\n",
        "    classCount = collections.defaultdict(int)\n",
        "    propCount = collections.defaultdict(int)\n",
        "\n",
        "    classProps = collections.defaultdict(set)\n",
        "    classObjects = collections.defaultdict(set)\n",
        "    propSubjects = collections.defaultdict(set)\n",
        "    propObjects = collections.defaultdict(set)\n",
        "\n",
        "    for s, p, o in g:\n",
        "\n",
        "        triples += 1\n",
        "        subjects.add(s)\n",
        "        properties.add(p)\n",
        "        objects.add(o)\n",
        "\n",
        "        # class partitions\n",
        "        if s in typeMap:\n",
        "            for c in typeMap[s]:\n",
        "                classCount[c] += 1\n",
        "                if distinctForPartitions:\n",
        "                    classObjects[c].add(o)\n",
        "                    classProps[c].add(p)\n",
        "\n",
        "        # property partitions\n",
        "        propCount[p] += 1\n",
        "        if distinctForPartitions:\n",
        "            propObjects[p].add(o)\n",
        "            propSubjects[p].add(s)\n",
        "\n",
        "    dataset = URIRef(\"http://www.semanticweb.org/asususer/ontologies/2021/3/untitled-ontology-15\")\n",
        "\n",
        "\n",
        "    res.add((dataset, RDF.type, VOID.Dataset))\n",
        "\n",
        "    # basic stats\n",
        "    res.add((dataset, VOID.triples, Literal(triples)))\n",
        "    res.add((dataset, VOID.classes, Literal(len(classes))))\n",
        "\n",
        "    res.add((dataset, VOID.distinctObjects, Literal(len(objects))))\n",
        "    res.add((dataset, VOID.distinctSubjects, Literal(len(subjects))))\n",
        "    res.add((dataset, VOID.properties, Literal(len(properties))))\n",
        "\n",
        "    for i, c in enumerate(classes):\n",
        "        part = URIRef(dataset + \"_class%d\" % i)\n",
        "        res.add((dataset, VOID.classPartition, part))\n",
        "        res.add((part, RDF.type, VOID.Dataset))\n",
        "\n",
        "        res.add((part, VOID.triples, Literal(classCount[c])))\n",
        "        res.add((part, VOID.classes, Literal(1)))\n",
        "\n",
        "        res.add((part, VOID[\"class\"], c))\n",
        "\n",
        "        res.add((part, VOID.entities, Literal(len(classes[c]))))\n",
        "        res.add((part, VOID.distinctSubjects, Literal(len(classes[c]))))\n",
        "\n",
        "        if distinctForPartitions:\n",
        "            res.add(\n",
        "                (part, VOID.properties, Literal(len(classProps[c]))))\n",
        "            res.add((part, VOID.distinctObjects,\n",
        "                    Literal(len(classObjects[c]))))\n",
        "\n",
        "    for i, p in enumerate(properties):\n",
        "        part = URIRef(dataset + \"_property%d\" % i)\n",
        "        res.add((dataset, VOID.propertyPartition, part))\n",
        "        res.add((part, RDF.type, VOID.Dataset))\n",
        "\n",
        "        res.add((part, VOID.triples, Literal(propCount[p])))\n",
        "        res.add((part, VOID.properties, Literal(1)))\n",
        "\n",
        "        res.add((part, VOID.property, p))\n",
        "\n",
        "        if distinctForPartitions:\n",
        "\n",
        "            entities = 0\n",
        "            propClasses = set()\n",
        "            for s in propSubjects[p]:\n",
        "                if s in typeMap:\n",
        "                    entities += 1\n",
        "                for c in typeMap[s]:\n",
        "                    propClasses.add(c)\n",
        "\n",
        "            res.add((part, VOID.entities, Literal(entities)))\n",
        "            res.add((part, VOID.classes, Literal(len(propClasses))))\n",
        "\n",
        "            res.add((part, VOID.distinctSubjects,\n",
        "                    Literal(len(propSubjects[p]))))\n",
        "            res.add((part, VOID.distinctObjects,\n",
        "                    Literal(len(propObjects[p]))))\n",
        "    \n",
        "    return res"
      ],
      "execution_count": 44,
      "outputs": []
    },
    {
      "cell_type": "code",
      "metadata": {
        "id": "HmLlbexHaOEa"
      },
      "source": [
        "generateVoID(g)\n",
        "print(res.serialize(format=\"turtle\").decode(\"utf-8\"))"
      ],
      "execution_count": null,
      "outputs": []
    }
  ]
}