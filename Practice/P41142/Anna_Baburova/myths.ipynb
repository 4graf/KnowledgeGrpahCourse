{
  "nbformat": 4,
  "nbformat_minor": 0,
  "metadata": {
    "colab": {
      "name": "myths.ipynb\"",
      "provenance": [],
      "collapsed_sections": []
    },
    "kernelspec": {
      "display_name": "Python 3",
      "language": "python",
      "name": "python3"
    },
    "language_info": {
      "codemirror_mode": {
        "name": "ipython",
        "version": 3
      },
      "file_extension": ".py",
      "mimetype": "text/x-python",
      "name": "python",
      "nbconvert_exporter": "python",
      "pygments_lexer": "ipython3",
      "version": "3.7.7"
    }
  },
  "cells": [
    {
      "cell_type": "code",
      "metadata": {
        "id": "-oUmXmTC6Yrd",
        "colab": {
          "base_uri": "https://localhost:8080/"
        },
        "outputId": "d3a3b050-e734-4297-9b9a-69bec40b849b"
      },
      "source": [
        "import pandas as pd\n",
        "\n",
        "# read data from table1 (Name, Category, Gender, Description, Father, Mother)\n",
        "table1 = pd.read_excel('tables.xlsx', sheet_name='Лист1')\n",
        "\n",
        "# read data from table2 (Name, Category, Location, Fauna, Flora, Character1 - Character9)\n",
        "table2 = pd.read_excel('tables.xlsx', sheet_name='Лист2')\n",
        "\n",
        "# read data from table3 (Character, Cause_of_death, Enemy)\n",
        "table3 = pd.read_excel('tables.xlsx', sheet_name='Лист3')\n",
        "\n",
        "# read data from table4 (Artifact, Description, User1 - User3)\n",
        "table4 = pd.read_excel('tables.xlsx', sheet_name='Лист4')\n",
        "\n",
        "# read data from table5 (Achievement, Character, Description)\n",
        "table5 = pd.read_excel('tables.xlsx', sheet_name='Лист5')\n",
        "\n",
        "# read data from table6 (Cause_of_death, Description)\n",
        "table6 = pd.read_excel('tables.xlsx', sheet_name='Лист6')\n",
        "\n",
        "# read data from table7 (Location, Description)\n",
        "table7 = pd.read_excel('tables.xlsx', sheet_name='Лист7')\n",
        "\n",
        "print(table1[['Name', 'Category', 'Father', 'Mother']][:15])"
      ],
      "execution_count": 6,
      "outputs": [
        {
          "output_type": "stream",
          "text": [
            "          Name Category    Father      Mother\n",
            "0       Adonis     Hero    Kineer      Myrrha\n",
            "1        Hades      God    Kronos        Rhea\n",
            "2       Acasta  Goddess   Oceanus      Tefida\n",
            "3      Actaeon     Hero  Aristeus     Autonoe\n",
            "4    Alcyoneus    Giant    Uranus        Gaia\n",
            "5      Alpheus      God   Oceanus      Tefida\n",
            "6   Amphitrite  Goddess    Nereus      Dorida\n",
            "7       Apollo      God      Zeus        Leto\n",
            "8      Arachne     Hero     Idmon         NaN\n",
            "9          Arg  Cyclops    Uranus        Gaia\n",
            "10        Ares      God      Zeus        Hera\n",
            "11     Artemis  Goddess      Zeus        Leto\n",
            "12   Asclepius      God    Apollo     Coronis\n",
            "13       Atlas    Titan   Iapetus     Klymene\n",
            "14      Atreus     Hero    Pelops  Hippodamia\n"
          ],
          "name": "stdout"
        }
      ]
    },
    {
      "cell_type": "code",
      "metadata": {
        "colab": {
          "base_uri": "https://localhost:8080/"
        },
        "id": "PZ9sNMRn7wbE",
        "outputId": "23b21d2f-f3ac-4af7-bc70-73999300e7be"
      },
      "source": [
        "print(table1.loc[0]['Category'])"
      ],
      "execution_count": 7,
      "outputs": [
        {
          "output_type": "stream",
          "text": [
            "Hero\n"
          ],
          "name": "stdout"
        }
      ]
    },
    {
      "cell_type": "code",
      "metadata": {
        "id": "peWgbOwHXsUr"
      },
      "source": [
        "#!pip install rdflib\n",
        "#!pip install PyDrive"
      ],
      "execution_count": 8,
      "outputs": []
    },
    {
      "cell_type": "code",
      "metadata": {
        "id": "Yg2eyNDtlZVm"
      },
      "source": [
        "from rdflib import URIRef, BNode, Literal, Namespace, Graph\n",
        "from rdflib.namespace import Namespace, NamespaceManager\n",
        "from rdflib.plugins import sparql\n",
        "from rdflib.namespace import RDF, RDFS\n",
        "from rdflib.serializer import Serializer"
      ],
      "execution_count": 9,
      "outputs": []
    },
    {
      "cell_type": "code",
      "metadata": {
        "colab": {
          "base_uri": "https://localhost:8080/"
        },
        "id": "tSs1UtOlldvN",
        "outputId": "32ea3a89-7aa7-4433-c2e7-fc92f45d1041"
      },
      "source": [
        "graph = Graph()\n",
        "graph.parse(\"AncientGreekMyths.owl\", format=\"turtle\")\n",
        "print(graph.serialize(format='n3'))"
      ],
      "execution_count": 10,
      "outputs": [
        {
          "output_type": "stream",
          "text": [
            "b'@prefix AncientGreeceMyths: <http://www.semanticweb.org/\\xd0\\xb0\\xd0\\xbd\\xd0\\xbd\\xd0\\xb0\\xd0\\xb1\\xd0\\xb0\\xd0\\xb1\\xd1\\x83\\xd1\\x80\\xd0\\xbe\\xd0\\xb2\\xd0\\xb0/ontologies/2021/3/AncientGreeceMyths.owl#> .\\n@prefix owl: <http://www.w3.org/2002/07/owl#> .\\n@prefix rdfs: <http://www.w3.org/2000/01/rdf-schema#> .\\n@prefix xsd: <http://www.w3.org/2001/XMLSchema#> .\\n\\n<http://www.semanticweb.org/\\xd0\\xb0\\xd0\\xbd\\xd0\\xbd\\xd0\\xb0\\xd0\\xb1\\xd0\\xb0\\xd0\\xb1\\xd1\\x83\\xd1\\x80\\xd0\\xbe\\xd0\\xb2\\xd0\\xb0/ontologies/2021/3/AncientGreeceMyths.owl> a owl:Ontology .\\n\\nAncientGreeceMyths:Amazon a owl:Class ;\\n    rdfs:subClassOf AncientGreeceMyths:MythCharacter .\\n\\nAncientGreeceMyths:Argonauts a owl:Class ;\\n    rdfs:subClassOf AncientGreeceMyths:Myth .\\n\\nAncientGreeceMyths:Centaur a owl:Class ;\\n    rdfs:subClassOf AncientGreeceMyths:MythCharacter .\\n\\nAncientGreeceMyths:Creature a owl:Class ;\\n    rdfs:subClassOf AncientGreeceMyths:MythCharacter .\\n\\nAncientGreeceMyths:Cyclops a owl:Class ;\\n    rdfs:subClassOf AncientGreeceMyths:MythCharacter .\\n\\nAncientGreeceMyths:Giant a owl:Class ;\\n    rdfs:subClassOf AncientGreeceMyths:MythCharacter .\\n\\nAncientGreeceMyths:God a owl:Class ;\\n    rdfs:subClassOf AncientGreeceMyths:MythCharacter .\\n\\nAncientGreeceMyths:Goddess a owl:Class ;\\n    rdfs:subClassOf AncientGreeceMyths:MythCharacter .\\n\\nAncientGreeceMyths:Hecatoncheir a owl:Class ;\\n    rdfs:subClassOf AncientGreeceMyths:MythCharacter .\\n\\nAncientGreeceMyths:Hero a owl:Class ;\\n    rdfs:subClassOf AncientGreeceMyths:MythCharacter .\\n\\nAncientGreeceMyths:Human a owl:Class ;\\n    rdfs:subClassOf AncientGreeceMyths:MythCharacter .\\n\\nAncientGreeceMyths:Muse a owl:Class ;\\n    rdfs:subClassOf AncientGreeceMyths:MythCharacter .\\n\\nAncientGreeceMyths:Nymph a owl:Class ;\\n    rdfs:subClassOf AncientGreeceMyths:MythCharacter .\\n\\nAncientGreeceMyths:Oceanida a owl:Class ;\\n    rdfs:subClassOf AncientGreeceMyths:MythCharacter .\\n\\nAncientGreeceMyths:TheLegendOfGod a owl:Class ;\\n    rdfs:subClassOf AncientGreeceMyths:Myth .\\n\\nAncientGreeceMyths:TheLegendOfHero a owl:Class ;\\n    rdfs:subClassOf AncientGreeceMyths:Myth .\\n\\nAncientGreeceMyths:Titan a owl:Class ;\\n    rdfs:subClassOf AncientGreeceMyths:MythCharacter .\\n\\nAncientGreeceMyths:Titanide a owl:Class ;\\n    rdfs:subClassOf AncientGreeceMyths:MythCharacter .\\n\\nAncientGreeceMyths:achievementDescription a owl:DatatypeProperty ;\\n    rdfs:domain AncientGreeceMyths:Achievement ;\\n    rdfs:range xsd:string .\\n\\nAncientGreeceMyths:achievementName a owl:DatatypeProperty ;\\n    rdfs:domain AncientGreeceMyths:Achievement ;\\n    rdfs:range xsd:string .\\n\\nAncientGreeceMyths:affectsDeath a owl:ObjectProperty ;\\n    rdfs:domain AncientGreeceMyths:CauseOfDeath ;\\n    rdfs:range AncientGreeceMyths:MythCharacter ;\\n    owl:inverseOf AncientGreeceMyths:diesBecauseOf .\\n\\nAncientGreeceMyths:artifactDescription a owl:DatatypeProperty ;\\n    rdfs:domain AncientGreeceMyths:Artifact ;\\n    rdfs:range xsd:string .\\n\\nAncientGreeceMyths:artifactName a owl:DatatypeProperty ;\\n    rdfs:domain AncientGreeceMyths:Artifact ;\\n    rdfs:range xsd:string .\\n\\nAncientGreeceMyths:causeOfDeathDescription a owl:DatatypeProperty ;\\n    rdfs:domain AncientGreeceMyths:CauseOfDeath ;\\n    rdfs:range xsd:string .\\n\\nAncientGreeceMyths:causeOfDeathName a owl:DatatypeProperty ;\\n    rdfs:domain AncientGreeceMyths:CauseOfDeath ;\\n    rdfs:range xsd:string .\\n\\nAncientGreeceMyths:characterDescription a owl:DatatypeProperty ;\\n    rdfs:domain AncientGreeceMyths:MythCharacter ;\\n    rdfs:range xsd:string .\\n\\nAncientGreeceMyths:characterName a owl:DatatypeProperty ;\\n    rdfs:domain AncientGreeceMyths:MythCharacter ;\\n    rdfs:range xsd:string .\\n\\nAncientGreeceMyths:fauna a owl:DatatypeProperty ;\\n    rdfs:domain AncientGreeceMyths:Myth ;\\n    rdfs:range xsd:string .\\n\\nAncientGreeceMyths:fightsAgainst a owl:ObjectProperty,\\n        owl:SymmetricProperty ;\\n    rdfs:domain AncientGreeceMyths:MythCharacter ;\\n    rdfs:range AncientGreeceMyths:MythCharacter .\\n\\nAncientGreeceMyths:flora a owl:DatatypeProperty ;\\n    rdfs:domain AncientGreeceMyths:Myth ;\\n    rdfs:range xsd:string .\\n\\nAncientGreeceMyths:gender a owl:DatatypeProperty ;\\n    rdfs:domain AncientGreeceMyths:MythCharacter ;\\n    rdfs:range xsd:string .\\n\\nAncientGreeceMyths:hasCharacter a owl:ObjectProperty ;\\n    rdfs:domain AncientGreeceMyths:Myth ;\\n    rdfs:range AncientGreeceMyths:MythCharacter ;\\n    owl:inverseOf AncientGreeceMyths:isCharacter .\\n\\nAncientGreeceMyths:isChild a owl:ObjectProperty ;\\n    rdfs:domain AncientGreeceMyths:MythCharacter ;\\n    rdfs:range AncientGreeceMyths:MythCharacter ;\\n    rdfs:subPropertyOf AncientGreeceMyths:isDescendant ;\\n    owl:inverseOf AncientGreeceMyths:isParent .\\n\\nAncientGreeceMyths:isPerformed a owl:ObjectProperty ;\\n    rdfs:domain AncientGreeceMyths:Achievement ;\\n    rdfs:range AncientGreeceMyths:MythCharacter ;\\n    owl:inverseOf AncientGreeceMyths:performs .\\n\\nAncientGreeceMyths:isPlaceOfAction a owl:ObjectProperty ;\\n    rdfs:domain AncientGreeceMyths:Location ;\\n    rdfs:range AncientGreeceMyths:Myth ;\\n    owl:inverseOf AncientGreeceMyths:takesPlace .\\n\\nAncientGreeceMyths:isUsed a owl:ObjectProperty ;\\n    rdfs:domain AncientGreeceMyths:Artifact ;\\n    rdfs:range AncientGreeceMyths:MythCharacter ;\\n    owl:inverseOf AncientGreeceMyths:uses .\\n\\nAncientGreeceMyths:locationDescription a owl:DatatypeProperty ;\\n    rdfs:domain AncientGreeceMyths:Location ;\\n    rdfs:range xsd:string .\\n\\nAncientGreeceMyths:locationName a owl:DatatypeProperty ;\\n    rdfs:domain AncientGreeceMyths:Location ;\\n    rdfs:range xsd:string .\\n\\nAncientGreeceMyths:mythName a owl:DatatypeProperty ;\\n    rdfs:domain AncientGreeceMyths:Myth ;\\n    rdfs:range xsd:string .\\n\\nAncientGreeceMyths:diesBecauseOf a owl:ObjectProperty ;\\n    rdfs:domain AncientGreeceMyths:MythCharacter ;\\n    rdfs:range AncientGreeceMyths:CauseOfDeath .\\n\\nAncientGreeceMyths:isAncestor a owl:ObjectProperty,\\n        owl:TransitiveProperty ;\\n    rdfs:domain AncientGreeceMyths:MythCharacter ;\\n    rdfs:range AncientGreeceMyths:MythCharacter ;\\n    rdfs:subPropertyOf AncientGreeceMyths:related ;\\n    owl:inverseOf AncientGreeceMyths:isDescendant .\\n\\nAncientGreeceMyths:isCharacter a owl:ObjectProperty ;\\n    rdfs:domain AncientGreeceMyths:MythCharacter ;\\n    rdfs:range AncientGreeceMyths:Myth .\\n\\nAncientGreeceMyths:isParent a owl:ObjectProperty ;\\n    rdfs:domain AncientGreeceMyths:MythCharacter ;\\n    rdfs:range AncientGreeceMyths:MythCharacter ;\\n    rdfs:subPropertyOf AncientGreeceMyths:isAncestor .\\n\\nAncientGreeceMyths:performs a owl:ObjectProperty ;\\n    rdfs:domain AncientGreeceMyths:MythCharacter ;\\n    rdfs:range AncientGreeceMyths:Achievement .\\n\\nAncientGreeceMyths:takesPlace a owl:ObjectProperty ;\\n    rdfs:domain AncientGreeceMyths:Myth ;\\n    rdfs:range AncientGreeceMyths:Location .\\n\\nAncientGreeceMyths:uses a owl:ObjectProperty ;\\n    rdfs:domain AncientGreeceMyths:MythCharacter ;\\n    rdfs:range AncientGreeceMyths:Artifact .\\n\\nAncientGreeceMyths:isDescendant a owl:ObjectProperty,\\n        owl:TransitiveProperty ;\\n    rdfs:domain AncientGreeceMyths:MythCharacter ;\\n    rdfs:range AncientGreeceMyths:MythCharacter ;\\n    rdfs:subPropertyOf AncientGreeceMyths:related .\\n\\nAncientGreeceMyths:related a owl:ObjectProperty ;\\n    rdfs:domain AncientGreeceMyths:MythCharacter ;\\n    rdfs:range AncientGreeceMyths:MythCharacter .\\n\\nAncientGreeceMyths:Achievement a owl:Class .\\n\\nAncientGreeceMyths:Artifact a owl:Class .\\n\\nAncientGreeceMyths:CauseOfDeath a owl:Class .\\n\\nAncientGreeceMyths:Location a owl:Class .\\n\\nAncientGreeceMyths:Myth a owl:Class .\\n\\nAncientGreeceMyths:MythCharacter a owl:Class .\\n\\n'\n"
          ],
          "name": "stdout"
        }
      ]
    },
    {
      "cell_type": "code",
      "metadata": {
        "id": "FSwhVptFlj9X"
      },
      "source": [
        "path = \"http://www.semanticweb.org/аннабабурова/ontologies/2021/3/AncientGreeceMyths.owl#\"\n",
        "\n",
        "# classes\n",
        "Artifact_class = URIRef(path + \"Artifact\")\n",
        "Location_class = URIRef(path + \"Location\")\n",
        "Argonauts_class = URIRef(path + \"Argonauts\")\n",
        "TheLegendOfGod_class = URIRef(path + \"TheLegendOfGod\")\n",
        "TheLegendOfHero_class = URIRef(path + \"TheLegendOfHero\")\n",
        "\n",
        "Oceanida_class = URIRef(path + \"Oceanida\")\n",
        "Creature_class = URIRef(path + \"Creature\")\n",
        "Centaur_class = URIRef(path + \"Centaur\")\n",
        "Amazon_class = URIRef(path + \"Amazon\")\n",
        "Cyclops_class = URIRef(path + \"Cyclops\")\n",
        "Giant_class = URIRef(path + \"Giant\")\n",
        "God_class = URIRef(path + \"God\")\n",
        "Goddess_class = URIRef(path + \"Goddess\")\n",
        "Hecatoncheir_class = URIRef(path + \"Hecatoncheir\")\n",
        "Hero_class = URIRef(path + \"Hero\")\n",
        "Human_class = URIRef(path + \"Human\")\n",
        "Muse_class = URIRef(path + \"Muse\")\n",
        "Nymph_class = URIRef(path + \"Nymph\")\n",
        "Titan_class = URIRef(path + \"Titan\")\n",
        "Titanide_class = URIRef(path + \"Titanide\")\n",
        "\n",
        "Achievement_class = URIRef(path + \"Achievement\")\n",
        "CauseOfDeath_class = URIRef(path + \"CauseOfDeath\")\n",
        "\n",
        "# object properties\n",
        "hasCharacter_object_property = URIRef(path + \"hasCharacter\")\n",
        "takesPlace_object_property = URIRef(path + \"takesPlace\")\n",
        "diesBecauseOf_object_property = URIRef(path + \"diesBecauseOf\")\n",
        "isUsed_object_property = URIRef(path + \"isUsed\")\n",
        "isPerformed_object_property = URIRef(path + \"isPerformed\")\n",
        "isChild_object_property = URIRef(path + \"isChild\")\n",
        "fightsAgainst_object_property = URIRef(path + \"fightsAgainst\")\n",
        "\n",
        "# data properties\n",
        "fauna_data_property = URIRef(path + \"fauna\")\n",
        "flora_data_property = URIRef(path + \"flora\")\n",
        "gender_data_property = URIRef(path + \"gender\")\n",
        "causeOfDeathDescription_data_property = URIRef(path + \"causeOfDeathDescription\")\n",
        "achievementDescription_data_property = URIRef(path + \"achievementDescription\")\n",
        "characterDescription_data_property = URIRef(path + \"characterDescription\")\n",
        "locationDescription_data_property = URIRef(path + \"locationDescription\")\n",
        "artifactDescription_data_property = URIRef(path + \"artifactDescription\")\n",
        "\n",
        "mythName_data_property = URIRef(path + \"mythName\")\n",
        "characterName_data_property = URIRef(path + \"characterName\")\n",
        "artifactName_data_property = URIRef(path + \"artifactName\")\n",
        "locationName_data_property = URIRef(path + \"locationName\")\n",
        "achievementName_data_property = URIRef(path + \"achievementName\")\n",
        "causeOfDeathName_data_property = URIRef(path + \"causeOfDeathName\")"
      ],
      "execution_count": 11,
      "outputs": []
    },
    {
      "cell_type": "code",
      "metadata": {
        "id": "rWGUAv9QlxsB"
      },
      "source": [
        "myths = {}\n",
        "mythCharacters = {}\n",
        "artifacts = {}\n",
        "locations = {}\n",
        "achievements = {}\n",
        "causesOfDeath = {}"
      ],
      "execution_count": 12,
      "outputs": []
    },
    {
      "cell_type": "code",
      "metadata": {
        "id": "vCV76rH_l2GO"
      },
      "source": [
        "def add_myth(myth_name, myth_category, myth_fauna, myth_flora, myth_name1):\n",
        "    myth = URIRef(path + myth_name)\n",
        "    graph.add((myth, RDF.type, myth_category))\n",
        "    # if not pd.isnull(myth_fauna):\n",
        "    graph.add((myth, fauna_data_property, Literal(myth_fauna)))\n",
        "    # if not pd.isnull(myth_flora):\n",
        "    graph.add((myth, flora_data_property, Literal(myth_flora)))\n",
        "    graph.add((myth, mythName_data_property, Literal(myth_name1)))\n",
        "\n",
        "    return myth\n",
        "\n",
        "\n",
        "def add_character(character_name, character_category, character_gender, character_description, character_name1):\n",
        "    character = URIRef(path + character_name)\n",
        "    graph.add((character, RDF.type, character_category))\n",
        "    graph.add((character, gender_data_property, Literal(character_gender)))\n",
        "    graph.add((character, characterDescription_data_property, Literal(character_description)))\n",
        "    graph.add((character, characterName_data_property, Literal(character_name1)))\n",
        "\n",
        "    return character\n",
        "\n",
        "\n",
        "def add_artifact(artifact_name, artifact_description, artifact_name1):\n",
        "    artifact = URIRef(path + artifact_name)\n",
        "    graph.add((artifact, RDF.type, Artifact_class))\n",
        "    graph.add((artifact, artifactDescription_data_property, Literal(artifact_description)))\n",
        "    graph.add((artifact, artifactName_data_property, Literal(artifact_name1)))\n",
        "\n",
        "    return artifact\n",
        "\n",
        "\n",
        "def add_location(location_name, location_description, location_name1):\n",
        "    location = URIRef(path + location_name)\n",
        "    graph.add((location, RDF.type, Location_class))\n",
        "    graph.add((location, locationDescription_data_property, Literal(location_description)))\n",
        "    graph.add((location, locationName_data_property, Literal(location_name1)))\n",
        "\n",
        "    return location\n",
        "\n",
        "\n",
        "def add_achievement(achievement_name, achievement_description, achievement_name1):\n",
        "    achievement = URIRef(path + achievement_name)\n",
        "    graph.add((achievement, RDF.type, Achievement_class))\n",
        "    graph.add((achievement, achievementDescription_data_property, Literal(achievement_description)))\n",
        "    graph.add((achievement, achievementName_data_property, Literal(achievement_name1)))\n",
        "\n",
        "    return achievement\n",
        "\n",
        "\n",
        "def add_cause_of_death(cause_of_death_name, cause_of_death_description, cause_of_death_name1):\n",
        "    cause_of_death = URIRef(path + cause_of_death_name)\n",
        "    graph.add((cause_of_death, RDF.type, CauseOfDeath_class))\n",
        "    graph.add((cause_of_death, causeOfDeathDescription_data_property, Literal(cause_of_death_description)))\n",
        "    graph.add((cause_of_death, causeOfDeathName_data_property, Literal(cause_of_death_name1)))\n",
        "\n",
        "    return cause_of_death"
      ],
      "execution_count": 13,
      "outputs": []
    },
    {
      "cell_type": "code",
      "metadata": {
        "id": "WVqNEzQdl-_c"
      },
      "source": [
        "# add myths\n",
        "for i in range(table2.shape[0]):\n",
        "    mythCategory = None\n",
        "    if table2.loc[i]['Category'] == 'Argonauts':\n",
        "        mythCategory = Argonauts_class\n",
        "    elif table2.loc[i]['Category'] == 'The Legend Of God':\n",
        "        mythCategory = TheLegendOfGod_class\n",
        "    elif table2.loc[i]['Category'] == 'The Legend Of Hero':\n",
        "        mythCategory = TheLegendOfHero_class\n",
        "    added_myth = add_myth(table2.loc[i]['Name'], mythCategory,\n",
        "                          table2.loc[i]['Fauna'], table2.loc[i]['Flora'], table2.loc[i]['Name1'])\n",
        "    myths[table2.loc[i]['Name']] = added_myth"
      ],
      "execution_count": 14,
      "outputs": []
    },
    {
      "cell_type": "code",
      "metadata": {
        "id": "h62pjOhcmHEM"
      },
      "source": [
        "# add characters\n",
        "for i in range(table1.shape[0]):\n",
        "    characterCategory = None\n",
        "    if table1.loc[i]['Category'] == 'Oceanida':\n",
        "        characterCategory = Oceanida_class\n",
        "    elif table1.loc[i]['Category'] == 'Creature':\n",
        "        characterCategory = Creature_class\n",
        "    elif table1.loc[i]['Category'] == 'Centaur':\n",
        "        characterCategory = Centaur_class\n",
        "    elif table1.loc[i]['Category'] == 'Amazon':\n",
        "        characterCategory = Amazon_class\n",
        "    elif table1.loc[i]['Category'] == 'Cyclops':\n",
        "        characterCategory = Cyclops_class\n",
        "    elif table1.loc[i]['Category'] == 'Giant':\n",
        "        characterCategory = Giant_class\n",
        "    elif table1.loc[i]['Category'] == 'God':\n",
        "        characterCategory = God_class\n",
        "    elif table1.loc[i]['Category'] == 'Goddess':\n",
        "        characterCategory = Goddess_class\n",
        "    elif table1.loc[i]['Category'] == 'Hecatoncheir':\n",
        "        characterCategory = Hecatoncheir_class\n",
        "    elif table1.loc[i]['Category'] == 'Hero':\n",
        "        characterCategory = Hero_class\n",
        "    elif table1.loc[i]['Category'] == 'Human':\n",
        "        characterCategory = Human_class\n",
        "    elif table1.loc[i]['Category'] == 'Muse':\n",
        "        characterCategory = Muse_class\n",
        "    elif table1.loc[i]['Category'] == 'Nymph':\n",
        "        characterCategory = Nymph_class\n",
        "    elif table1.loc[i]['Category'] == 'Titan':\n",
        "        characterCategory = Titan_class\n",
        "    elif table1.loc[i]['Category'] == 'Titanide':\n",
        "        characterCategory = Titanide_class\n",
        "    added_character = add_character(table1.loc[i]['Name'], characterCategory,\n",
        "                                    table1.loc[i]['Gender'], table1.loc[i]['Description'], table1.loc[i]['Name1'])\n",
        "    mythCharacters[table1.loc[i]['Name']] = added_character\n",
        "    #print(table1.loc[i]['Name'])"
      ],
      "execution_count": 15,
      "outputs": []
    },
    {
      "cell_type": "code",
      "metadata": {
        "id": "UCG18k13oOmO"
      },
      "source": [
        "# add artifacts\n",
        "for i in range(table4.shape[0]):\n",
        "    added_artifact = add_artifact(table4.loc[i]['Artifact'], table4.loc[i]['Description'], table4.loc[i]['Artifact1'])\n",
        "    artifacts[table4.loc[i]['Artifact']] = added_artifact"
      ],
      "execution_count": 16,
      "outputs": []
    },
    {
      "cell_type": "code",
      "metadata": {
        "id": "Yr_3SCteoSUY"
      },
      "source": [
        "# add locations\n",
        "for i in range(table7.shape[0]):\n",
        "    added_location = add_location(table7.loc[i]['Location'], table7.loc[i]['Description'], table7.loc[i]['Location1'])\n",
        "    locations[table7.loc[i]['Location']] = added_location"
      ],
      "execution_count": 17,
      "outputs": []
    },
    {
      "cell_type": "code",
      "metadata": {
        "id": "thONvw47oXCQ"
      },
      "source": [
        "# add achievements\n",
        "for i in range(table5.shape[0]):\n",
        "    added_achievement = add_achievement(table5.loc[i]['Achievement'], table5.loc[i]['Description'], table5.loc[i]['Achievement1'])\n",
        "    achievements[table5.loc[i]['Achievement']] = added_achievement"
      ],
      "execution_count": 18,
      "outputs": []
    },
    {
      "cell_type": "code",
      "metadata": {
        "id": "BILAC6Yjobtr"
      },
      "source": [
        "# add causes of death\n",
        "for i in range(table6.shape[0]):\n",
        "    added_cause_of_death = add_cause_of_death(table6.loc[i]['Cause_of_death'], table6.loc[i]['Description'], table6.loc[i]['Cause_of_death1'])\n",
        "    causesOfDeath[table6.loc[i]['Cause_of_death']] = added_cause_of_death"
      ],
      "execution_count": 19,
      "outputs": []
    },
    {
      "cell_type": "code",
      "metadata": {
        "id": "eLVOatO7ogw6"
      },
      "source": [
        "# add child-father, child-mother\n",
        "for i in range(table1.shape[0]):\n",
        "    if not pd.isnull(table1.loc[i]['Father']):\n",
        "        graph.add((mythCharacters.get(table1.loc[i]['Name']), isChild_object_property,\n",
        "                   mythCharacters.get(table1.loc[i]['Father'])))\n",
        "    if not pd.isnull(table1.loc[i]['Mother']):\n",
        "        graph.add((mythCharacters.get(table1.loc[i]['Name']), isChild_object_property,\n",
        "                   mythCharacters.get(table1.loc[i]['Mother'])))"
      ],
      "execution_count": 20,
      "outputs": []
    },
    {
      "cell_type": "code",
      "metadata": {
        "id": "mplb4Pmiomw8"
      },
      "source": [
        "# add myth-character\n",
        "for i in range(table2.shape[0]):\n",
        "    # print(myths.get(table2.loc[i]['Name']))\n",
        "    if not pd.isnull(table2.loc[i]['Character1']):\n",
        "        graph.add((myths.get(table2.loc[i]['Name']), hasCharacter_object_property,\n",
        "                   mythCharacters.get(table2.loc[i]['Character1'])))\n",
        "    if not pd.isnull(table2.loc[i]['Character2']):\n",
        "        graph.add((myths.get(table2.loc[i]['Name']), hasCharacter_object_property,\n",
        "                   mythCharacters.get(table2.loc[i]['Character2'])))\n",
        "    if not pd.isnull(table2.loc[i]['Character3']):\n",
        "        graph.add((myths.get(table2.loc[i]['Name']), hasCharacter_object_property,\n",
        "                   mythCharacters.get(table2.loc[i]['Character3'])))\n",
        "    if not pd.isnull(table2.loc[i]['Character4']):\n",
        "        graph.add((myths.get(table2.loc[i]['Name']), hasCharacter_object_property,\n",
        "                   mythCharacters.get(table2.loc[i]['Character4'])))\n",
        "    if not pd.isnull(table2.loc[i]['Character5']):\n",
        "        graph.add((myths.get(table2.loc[i]['Name']), hasCharacter_object_property,\n",
        "                   mythCharacters.get(table2.loc[i]['Character5'])))\n",
        "    if not pd.isnull(table2.loc[i]['Character6']):\n",
        "        graph.add((myths.get(table2.loc[i]['Name']), hasCharacter_object_property,\n",
        "                   mythCharacters.get(table2.loc[i]['Character6'])))\n",
        "    if not pd.isnull(table2.loc[i]['Character7']):\n",
        "        graph.add((myths.get(table2.loc[i]['Name']), hasCharacter_object_property,\n",
        "                   mythCharacters.get(table2.loc[i]['Character7'])))\n",
        "    if not pd.isnull(table2.loc[i]['Character8']):\n",
        "        graph.add((myths.get(table2.loc[i]['Name']), hasCharacter_object_property,\n",
        "                   mythCharacters.get(table2.loc[i]['Character8'])))\n",
        "    if not pd.isnull(table2.loc[i]['Character9']):\n",
        "        graph.add((myths.get(table2.loc[i]['Name']), hasCharacter_object_property,\n",
        "                   mythCharacters.get(table2.loc[i]['Character9'])))"
      ],
      "execution_count": 21,
      "outputs": []
    },
    {
      "cell_type": "code",
      "metadata": {
        "id": "QsYxAM7Vr2ir"
      },
      "source": [
        "# add myth-location\n",
        "for i in range(table2.shape[0]):\n",
        "    if not pd.isnull(table2.loc[i]['Location']):\n",
        "        graph.add((myths.get(table2.loc[i]['Name']), takesPlace_object_property,\n",
        "                   locations.get(table2.loc[i]['Location'])))"
      ],
      "execution_count": 22,
      "outputs": []
    },
    {
      "cell_type": "code",
      "metadata": {
        "id": "IEpI_LCrr7BO"
      },
      "source": [
        "# add character-causeOfDeath\n",
        "for i in range(table3.shape[0]):\n",
        "    # print(table3.loc[i]['Character'])\n",
        "    graph.add((mythCharacters.get(table3.loc[i]['Character']), diesBecauseOf_object_property,\n",
        "               causesOfDeath.get(table3.loc[i]['Cause_of_death'])))"
      ],
      "execution_count": 23,
      "outputs": []
    },
    {
      "cell_type": "code",
      "metadata": {
        "id": "z9ThceXTsllv"
      },
      "source": [
        "# add character fights against character\n",
        "for i in range(table3.shape[0]):\n",
        "    if not pd.isnull(table3.loc[i]['Enemy']):\n",
        "        graph.add((mythCharacters.get(table3.loc[i]['Character']), fightsAgainst_object_property,\n",
        "                   mythCharacters.get(table3.loc[i]['Enemy'])))"
      ],
      "execution_count": 24,
      "outputs": []
    },
    {
      "cell_type": "code",
      "metadata": {
        "id": "WJ2oiO2isroC"
      },
      "source": [
        "# add artifact-user\n",
        "for i in range(table4.shape[0]):\n",
        "    # print(table4.loc[i]['Artifact'])\n",
        "    if not pd.isnull(table4.loc[i]['User1']):\n",
        "        graph.add((artifacts.get(table4.loc[i]['Artifact']), isUsed_object_property,\n",
        "                   mythCharacters.get(table4.loc[i]['User1'])))\n",
        "    if not pd.isnull(table4.loc[i]['User2']):\n",
        "        graph.add((artifacts.get(table4.loc[i]['Artifact']), isUsed_object_property,\n",
        "                   mythCharacters.get(table4.loc[i]['User2'])))\n",
        "    if not pd.isnull(table4.loc[i]['User3']):\n",
        "        graph.add((artifacts.get(table4.loc[i]['Artifact']), isUsed_object_property,\n",
        "                   mythCharacters.get(table4.loc[i]['User3'])))"
      ],
      "execution_count": 25,
      "outputs": []
    },
    {
      "cell_type": "code",
      "metadata": {
        "id": "Ut_bHQayyGDU"
      },
      "source": [
        "# add achievement-character\n",
        "for i in range(table5.shape[0]):\n",
        "    graph.add((achievements.get(table5.loc[i]['Achievement']), isPerformed_object_property,\n",
        "               mythCharacters.get(table5.loc[i]['Character'])))"
      ],
      "execution_count": 26,
      "outputs": []
    },
    {
      "cell_type": "code",
      "metadata": {
        "colab": {
          "base_uri": "https://localhost:8080/"
        },
        "id": "r1vQU5hCyM4l",
        "outputId": "bf8ee0f4-4c11-4bd1-b0a7-b24b49ea52d8"
      },
      "source": [
        "# Вопрос: Какие герои были убиты Гераклом в битве с помощью стрел?\n",
        "qres = graph.query(\n",
        "    \"\"\"SELECT DISTINCT ?xname\n",
        "       WHERE {\n",
        "          ?x AncientGreeceMyths:fightsAgainst AncientGreeceMyths:Heracles .\n",
        "          ?x AncientGreeceMyths:diesBecauseOf AncientGreeceMyths:Arrow .\n",
        "          ?x AncientGreeceMyths:characterName ?xname\n",
        "       }\"\"\")\n",
        "\n",
        "for row in qres:\n",
        "    print(\"%s\" % row)"
      ],
      "execution_count": 27,
      "outputs": [
        {
          "output_type": "stream",
          "text": [
            "Ephialtes\n",
            "Augeas\n",
            "Porphyrion\n",
            "Laomedont\n",
            "Ness\n",
            "Protoya\n"
          ],
          "name": "stdout"
        }
      ]
    },
    {
      "cell_type": "code",
      "metadata": {
        "colab": {
          "base_uri": "https://localhost:8080/"
        },
        "id": "PRdl81qdPBX5",
        "outputId": "39257f23-0883-4933-a8c6-581b01a6bb82"
      },
      "source": [
        "# Вопрос: Кто из детей Зевса использовал артефакт Эгида?\n",
        "qres1 = graph.query(\n",
        "    \"\"\"SELECT DISTINCT ?xname\n",
        "       WHERE {\n",
        "          ?x AncientGreeceMyths:isChild AncientGreeceMyths:Zeus .\n",
        "          AncientGreeceMyths:Aegis AncientGreeceMyths:isUsed ?x .\n",
        "          ?x AncientGreeceMyths:characterName ?xname\n",
        "       }\"\"\")\n",
        "\n",
        "for row in qres1:\n",
        "    print(\"%s\" % row)"
      ],
      "execution_count": 28,
      "outputs": [
        {
          "output_type": "stream",
          "text": [
            "Athena\n",
            "Perseus\n"
          ],
          "name": "stdout"
        }
      ]
    },
    {
      "cell_type": "code",
      "metadata": {
        "colab": {
          "base_uri": "https://localhost:8080/"
        },
        "id": "b43j4pOLSq5d",
        "outputId": "40d5b2ed-f9d9-4808-8bfa-291fc153fba6"
      },
      "source": [
        "# Вопрос: Вывести всех героев мифа \"Зевс свергает Крона\", которые являются Титанами\n",
        "qres3 = graph.query(\n",
        "    \"\"\"SELECT DISTINCT ?xname\n",
        "       WHERE {\n",
        "          AncientGreeceMyths:Zeus_overthrows_Crohn._Olympians_fighting_titans AncientGreeceMyths:hasCharacter ?x .\n",
        "          ?x rdf:type AncientGreeceMyths:Titan .\n",
        "          ?x AncientGreeceMyths:characterName ?xname\n",
        "       }\"\"\")\n",
        "\n",
        "for row in qres3:\n",
        "    print(\"%s\" % row)"
      ],
      "execution_count": 29,
      "outputs": [
        {
          "output_type": "stream",
          "text": [
            "Oceanus\n",
            "Kronos\n"
          ],
          "name": "stdout"
        }
      ]
    },
    {
      "cell_type": "code",
      "metadata": {
        "id": "tgSdqNv95KsA"
      },
      "source": [
        "graph.serialize(destination = 'myths_result.rdf', format = 'n3')"
      ],
      "execution_count": 30,
      "outputs": []
    }
  ]
}